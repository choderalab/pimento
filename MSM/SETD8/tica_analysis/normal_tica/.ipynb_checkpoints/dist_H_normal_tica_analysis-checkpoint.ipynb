{
 "cells": [
  {
   "cell_type": "code",
   "execution_count": 1,
   "metadata": {
    "collapsed": true
   },
   "outputs": [],
   "source": [
    "import numpy as np\n",
    "import matplotlib\n",
    "matplotlib.use('Agg')\n",
    "import matplotlib.pyplot as plt"
   ]
  },
  {
   "cell_type": "code",
   "execution_count": 2,
   "metadata": {
    "collapsed": true
   },
   "outputs": [],
   "source": [
    "eigenv = np.transpose(np.load('../normal_tica_eigenv.npy'))"
   ]
  },
  {
   "cell_type": "code",
   "execution_count": 3,
   "metadata": {
    "collapsed": true
   },
   "outputs": [],
   "source": [
    "for i in range(50):\n",
    "    plt.figure()\n",
    "    plt.plot(eigenv[i])\n",
    "    plt.xlabel('Distance index')\n",
    "    plt.ylabel('tic%s eiqenvector' % i)\n",
    "    plt.savefig('tica/eigenv/tic%s.png' % i, dpi=300)\n",
    "    plt.close()"
   ]
  },
  {
   "cell_type": "code",
   "execution_count": 4,
   "metadata": {
    "collapsed": true
   },
   "outputs": [],
   "source": [
    "distances = np.load('../respairs_that_changed.npy')\n",
    "\n",
    "distances_matrix = np.zeros((162, 162))\n",
    "\n",
    "for x in distances:\n",
    "    distances_matrix[x[0], x[1]] = 1\n",
    "    distances_matrix[x[1], x[0]] = 1"
   ]
  },
  {
   "cell_type": "code",
   "execution_count": 6,
   "metadata": {
    "collapsed": true
   },
   "outputs": [],
   "source": [
    "# also here plot the distances used"
   ]
  },
  {
   "cell_type": "code",
   "execution_count": 23,
   "metadata": {
    "collapsed": false
   },
   "outputs": [
    {
     "name": "stderr",
     "output_type": "stream",
     "text": [
      "/Users/rafalpwiewiora/anaconda3/lib/python3.5/site-packages/ipykernel/__main__.py:2: RuntimeWarning: divide by zero encountered in log\n",
      "  from ipykernel import kernelapp as app\n"
     ]
    }
   ],
   "source": [
    "plt.figure()\n",
    "plt.imshow(np.log(distances_matrix), cmap='gray')\n",
    "plt.xticks(np.arange(0, 180, 20))\n",
    "plt.yticks(np.arange(0, 180, 20))\n",
    "plt.savefig('tica/1000dist.png', dpi=300)\n",
    "plt.close()"
   ]
  },
  {
   "cell_type": "code",
   "execution_count": 7,
   "metadata": {
    "collapsed": false
   },
   "outputs": [
    {
     "name": "stderr",
     "output_type": "stream",
     "text": [
      "/Users/rafalpwiewiora/anaconda3/lib/python3.5/site-packages/ipykernel/__main__.py:28: RuntimeWarning: divide by zero encountered in log10\n"
     ]
    }
   ],
   "source": [
    "for j in range(50):\n",
    "    tic = j\n",
    "    \n",
    "    distances_matrix_by_tic0 = np.zeros((162, 162))\n",
    "    distances_matrix_ = distances_matrix_by_tic0\n",
    "\n",
    "    for i in range(1000):\n",
    "        x = distances[i]\n",
    "        distances_matrix_[x[0], x[1]] = eigenv[tic, i]\n",
    "        distances_matrix_[x[1], x[0]] = eigenv[tic, i]\n",
    "        \n",
    "    if np.abs(np.max(distances_matrix_)) > np.abs(np.min(distances_matrix_)):\n",
    "        vmin = -np.max(distances_matrix_)\n",
    "        vmax = np.max(distances_matrix_)\n",
    "    else:\n",
    "        vmin = np.min(distances_matrix_)\n",
    "        vmax = -np.min(distances_matrix_)\n",
    "    \n",
    "    plt.figure()\n",
    "    plt.imshow(distances_matrix_by_tic0, cmap='seismic', vmin=vmin, vmax=vmax)\n",
    "    plt.colorbar()\n",
    "    plt.xticks(np.arange(0, 180, 20))\n",
    "    plt.yticks(np.arange(0, 180, 20))\n",
    "    plt.savefig('tica/tica_eig_dist/1000dist_by_tic%d.png' % j, dpi=300)\n",
    "    plt.close()\n",
    "    \n",
    "    plt.figure()\n",
    "    plt.imshow(np.log10(np.absolute(distances_matrix_by_tic0)), cmap='Blues')\n",
    "    plt.colorbar()\n",
    "    plt.xticks(np.arange(0, 180, 20))\n",
    "    plt.yticks(np.arange(0, 180, 20))\n",
    "    plt.savefig('tica/tica_eig_dist/abs/1000dist_by_tic%d_abs_log10.png' % j, dpi=300)\n",
    "    plt.close()"
   ]
  },
  {
   "cell_type": "code",
   "execution_count": null,
   "metadata": {
    "collapsed": true
   },
   "outputs": [],
   "source": [
    "# now look at projections"
   ]
  },
  {
   "cell_type": "code",
   "execution_count": 8,
   "metadata": {
    "collapsed": true
   },
   "outputs": [],
   "source": [
    "tica_proj = np.load('../normal_tica_Y.npy', encoding='bytes')"
   ]
  },
  {
   "cell_type": "code",
   "execution_count": 9,
   "metadata": {
    "collapsed": true
   },
   "outputs": [],
   "source": [
    "tic0_ = [x[:,0] for x in tica_proj]\n",
    "tic1_ = [x[:,1] for x in tica_proj]\n",
    "\n",
    "tic0 = []\n",
    "tic1 = []\n",
    "\n",
    "for x in tic0_:\n",
    "    for y in x:\n",
    "        tic0.append(y)\n",
    "for x in tic1_:\n",
    "    for y in x:\n",
    "        tic1.append(y)        \n",
    "\n",
    "plt.figure()\n",
    "plt.hist2d(tic0, tic1, cmap='Blues', bins=100, weights=[1/len(tic0)]*len(tic0))\n",
    "plt.xlabel('tIC0')\n",
    "plt.ylabel('tIC1')\n",
    "plt.colorbar()\n",
    "plt.savefig('tica/tics_0_1_normed_to_sum_1.png', dpi=300)\n",
    "plt.close()"
   ]
  },
  {
   "cell_type": "code",
   "execution_count": 10,
   "metadata": {
    "collapsed": true
   },
   "outputs": [],
   "source": [
    "tic0_ = [x[:,0] for x in tica_proj]\n",
    "tic1_ = [x[:,1] for x in tica_proj]\n",
    "\n",
    "tic0 = []\n",
    "tic1 = []\n",
    "\n",
    "for x in tic0_:\n",
    "    for y in x:\n",
    "        tic0.append(y)\n",
    "for x in tic1_:\n",
    "    for y in x:\n",
    "        tic1.append(y)        \n",
    "\n",
    "plt.figure()\n",
    "plt.hist2d(tic0, tic1, cmap='Blues', bins=100, norm=matplotlib.colors.LogNorm(), weights=[1/len(tic0)]*len(tic0))\n",
    "plt.xlabel('tIC0')\n",
    "plt.ylabel('tIC1')\n",
    "plt.colorbar()\n",
    "plt.savefig('tica/tics_0_1_normed_to_sum_1_log10.png', dpi=300)\n",
    "plt.close()"
   ]
  },
  {
   "cell_type": "code",
   "execution_count": 11,
   "metadata": {
    "collapsed": true
   },
   "outputs": [],
   "source": [
    "tic0_ = [x[:,0] for x in tica_proj]\n",
    "tic1_ = [x[:,1] for x in tica_proj]\n",
    "\n",
    "tic0 = []\n",
    "tic1 = []\n",
    "\n",
    "for x in tic0_:\n",
    "    for y in x:\n",
    "        tic0.append(y)\n",
    "for x in tic1_:\n",
    "    for y in x:\n",
    "        tic1.append(y)        \n",
    "\n",
    "plt.figure()\n",
    "plt.hist2d(tic0, tic1, cmap='Blues', bins=500, norm=matplotlib.colors.LogNorm(), weights=[1/len(tic0)]*len(tic0))\n",
    "plt.xlabel('tIC0')\n",
    "plt.ylabel('tIC1')\n",
    "plt.colorbar()\n",
    "plt.savefig('tica/tics_0_1_normed_to_sum_1_log10_500bins.png', dpi=300)\n",
    "plt.close()"
   ]
  },
  {
   "cell_type": "code",
   "execution_count": 12,
   "metadata": {
    "collapsed": true
   },
   "outputs": [],
   "source": [
    "tic0_ = [x[:,0] for x in tica_proj]\n",
    "tic1_ = [x[:,1] for x in tica_proj]\n",
    "\n",
    "tic0 = []\n",
    "tic1 = []\n",
    "\n",
    "for x in tic0_:\n",
    "    for y in x:\n",
    "        tic0.append(y)\n",
    "for x in tic1_:\n",
    "    for y in x:\n",
    "        tic1.append(y)        \n",
    "\n",
    "plt.figure()\n",
    "plt.hist2d(tic0, tic1, cmap='Blues', bins=1000, norm=matplotlib.colors.LogNorm(), weights=[1/len(tic0)]*len(tic0))\n",
    "plt.xlabel('tIC0')\n",
    "plt.ylabel('tIC1')\n",
    "plt.colorbar()\n",
    "plt.savefig('tica/tics_0_1_normed_to_sum_1_log10_1000bins.png', dpi=300)\n",
    "plt.close()"
   ]
  },
  {
   "cell_type": "code",
   "execution_count": 14,
   "metadata": {
    "collapsed": false
   },
   "outputs": [],
   "source": [
    "initial_conformations_tica = np.load('../start_conf_Y_normal_tica_H_modeller.npy')\n",
    "initial_conformations_tica = initial_conformations_tica[0]"
   ]
  },
  {
   "cell_type": "code",
   "execution_count": 15,
   "metadata": {
    "collapsed": true
   },
   "outputs": [],
   "source": [
    "import itertools"
   ]
  },
  {
   "cell_type": "code",
   "execution_count": 16,
   "metadata": {
    "collapsed": true
   },
   "outputs": [],
   "source": [
    "combinations = itertools.combinations(range(10),2)"
   ]
  },
  {
   "cell_type": "code",
   "execution_count": 17,
   "metadata": {
    "collapsed": true
   },
   "outputs": [],
   "source": [
    "combinations = itertools.combinations(range(10),2)\n",
    "\n",
    "for (i,j) in combinations:\n",
    "    tic0_ = [x[:,i] for x in tica_proj]\n",
    "    tic1_ = [x[:,j] for x in tica_proj]\n",
    "\n",
    "    tic0 = []\n",
    "    tic1 = []\n",
    "\n",
    "    for x in tic0_:\n",
    "        for y in x:\n",
    "            tic0.append(y)\n",
    "    for x in tic1_:\n",
    "        for y in x:\n",
    "            tic1.append(y) \n",
    "\n",
    "    plt.figure()\n",
    "    plt.hist2d(tic0, tic1, cmap='Blues', bins=100, norm=matplotlib.colors.LogNorm(), weights=[1/len(tic0)]*len(tic0))\n",
    "    plt.xlabel('tIC%d' % i)\n",
    "    plt.ylabel('tIC%d' % j)\n",
    "    plt.colorbar()\n",
    "    plt.scatter(initial_conformations_tica[0,i], initial_conformations_tica[0,j], marker='o', c='red')\n",
    "    plt.scatter(initial_conformations_tica[1,i], initial_conformations_tica[1,j], marker='x', c='red')\n",
    "    plt.scatter(initial_conformations_tica[2,i], initial_conformations_tica[2,j], marker='*', c='red')\n",
    "    plt.scatter(initial_conformations_tica[3,i], initial_conformations_tica[3,j], marker='s', c='red')\n",
    "    plt.scatter(initial_conformations_tica[4,i], initial_conformations_tica[4,j], marker='^', c='red')\n",
    "    plt.scatter(initial_conformations_tica[5,i], initial_conformations_tica[5,j], marker='+', c = 'red')\n",
    "    plt.scatter(initial_conformations_tica[6,i], initial_conformations_tica[6,j], marker='8', c = 'red')\n",
    "    plt.scatter(initial_conformations_tica[7,i], initial_conformations_tica[7,j], marker='p', c = 'red')\n",
    "    plt.scatter(initial_conformations_tica[8,i], initial_conformations_tica[8,j], marker='D', c = 'red')\n",
    "    plt.savefig('tica/2d_tics_initial_conf/tic%d-tic%d.png' % (i,j), dpi=300)\n",
    "    plt.close()"
   ]
  },
  {
   "cell_type": "code",
   "execution_count": 18,
   "metadata": {
    "collapsed": true
   },
   "outputs": [],
   "source": [
    "# now also do - 'no H landmarks' - tics are calculated for starting structure models without H's\n",
    "# want to see if any difference - do the H's matter?"
   ]
  },
  {
   "cell_type": "code",
   "execution_count": 19,
   "metadata": {
    "collapsed": true
   },
   "outputs": [],
   "source": [
    "initial_conformations_tica = np.load('../start_conf_Y_normal_tica_noH_models.npy')\n",
    "initial_conformations_tica = initial_conformations_tica[0]"
   ]
  },
  {
   "cell_type": "code",
   "execution_count": 21,
   "metadata": {
    "collapsed": false
   },
   "outputs": [],
   "source": [
    "combinations = itertools.combinations(range(10),2)\n",
    "\n",
    "for (i,j) in combinations:\n",
    "    tic0_ = [x[:,i] for x in tica_proj]\n",
    "    tic1_ = [x[:,j] for x in tica_proj]\n",
    "\n",
    "    tic0 = []\n",
    "    tic1 = []\n",
    "\n",
    "    for x in tic0_:\n",
    "        for y in x:\n",
    "            tic0.append(y)\n",
    "    for x in tic1_:\n",
    "        for y in x:\n",
    "            tic1.append(y) \n",
    "\n",
    "    plt.figure()\n",
    "    plt.hist2d(tic0, tic1, cmap='Blues', bins=100, norm=matplotlib.colors.LogNorm(), weights=[1/len(tic0)]*len(tic0))\n",
    "    plt.xlabel('tIC%d' % i)\n",
    "    plt.ylabel('tIC%d' % j)\n",
    "    plt.colorbar()\n",
    "    plt.scatter(initial_conformations_tica[0,i], initial_conformations_tica[0,j], marker='o', c='red')\n",
    "    plt.scatter(initial_conformations_tica[1,i], initial_conformations_tica[1,j], marker='x', c='red')\n",
    "    plt.scatter(initial_conformations_tica[2,i], initial_conformations_tica[2,j], marker='*', c='red')\n",
    "    plt.scatter(initial_conformations_tica[3,i], initial_conformations_tica[3,j], marker='s', c='red')\n",
    "    plt.scatter(initial_conformations_tica[4,i], initial_conformations_tica[4,j], marker='^', c='red')\n",
    "    plt.scatter(initial_conformations_tica[5,i], initial_conformations_tica[5,j], marker='+', c = 'red')\n",
    "    plt.scatter(initial_conformations_tica[6,i], initial_conformations_tica[6,j], marker='8', c = 'red')\n",
    "    plt.scatter(initial_conformations_tica[7,i], initial_conformations_tica[7,j], marker='p', c = 'red')\n",
    "    plt.scatter(initial_conformations_tica[8,i], initial_conformations_tica[8,j], marker='D', c = 'red')\n",
    "    plt.savefig('tica/2d_tics_initial_conf/no_h_landmarks/tic%d-tic%d.png' % (i,j), dpi=300)\n",
    "    plt.close()"
   ]
  },
  {
   "cell_type": "code",
   "execution_count": 22,
   "metadata": {
    "collapsed": true
   },
   "outputs": [],
   "source": [
    "# not really seeing differences in tic0-tic1 - let's just use the models with H only"
   ]
  },
  {
   "cell_type": "code",
   "execution_count": null,
   "metadata": {
    "collapsed": true
   },
   "outputs": [],
   "source": []
  }
 ],
 "metadata": {
  "kernelspec": {
   "display_name": "Python [conda root]",
   "language": "python",
   "name": "conda-root-py"
  },
  "language_info": {
   "codemirror_mode": {
    "name": "ipython",
    "version": 3
   },
   "file_extension": ".py",
   "mimetype": "text/x-python",
   "name": "python",
   "nbconvert_exporter": "python",
   "pygments_lexer": "ipython3",
   "version": "3.5.2"
  }
 },
 "nbformat": 4,
 "nbformat_minor": 1
}
