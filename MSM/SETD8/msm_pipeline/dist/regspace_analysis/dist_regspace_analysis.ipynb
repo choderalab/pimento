{
 "cells": [
  {
   "cell_type": "code",
   "execution_count": 1,
   "metadata": {
    "collapsed": false
   },
   "outputs": [
    {
     "data": {
      "text/plain": [
       "'/Users/rafalpwiewiora/repos/MSM/11707_11709_SET8_apo/msm_pipeline/dist/regspace_analysis'"
      ]
     },
     "execution_count": 1,
     "metadata": {},
     "output_type": "execute_result"
    }
   ],
   "source": [
    "pwd"
   ]
  },
  {
   "cell_type": "code",
   "execution_count": 1,
   "metadata": {
    "collapsed": true
   },
   "outputs": [],
   "source": [
    "import numpy as np\n",
    "import glob\n",
    "import matplotlib\n",
    "matplotlib.use('Agg')\n",
    "import matplotlib.pyplot as plt\n",
    "import pyemma\n",
    "import msmbuilder\n",
    "from msmbuilder.msm import MarkovStateModel\n",
    "from msmbuilder.lumping import PCCAPlus\n",
    "\n",
    "import mdtraj as md\n",
    "\n",
    "import glob\n",
    "from msmbuilder.cluster import RegularSpatial"
   ]
  },
  {
   "cell_type": "code",
   "execution_count": 3,
   "metadata": {
    "collapsed": true
   },
   "outputs": [],
   "source": [
    "samples_200_p3_20_100per = glob.glob('../macro_sample/200_p3_20_100per/*.pdb')"
   ]
  },
  {
   "cell_type": "code",
   "execution_count": 4,
   "metadata": {
    "collapsed": true
   },
   "outputs": [],
   "source": [
    "samples_200_p3_50_100per = glob.glob('../macro_sample/200_p3_50_100per/*.pdb')"
   ]
  },
  {
   "cell_type": "code",
   "execution_count": 4,
   "metadata": {
    "collapsed": false
   },
   "outputs": [
    {
     "data": {
      "text/plain": [
       "20"
      ]
     },
     "execution_count": 4,
     "metadata": {},
     "output_type": "execute_result"
    }
   ],
   "source": [
    "len(samples_200_p3_20_100per)"
   ]
  },
  {
   "cell_type": "code",
   "execution_count": 6,
   "metadata": {
    "collapsed": false
   },
   "outputs": [
    {
     "data": {
      "text/plain": [
       "50"
      ]
     },
     "execution_count": 6,
     "metadata": {},
     "output_type": "execute_result"
    }
   ],
   "source": [
    "len(samples_200_p3_50_100per)"
   ]
  },
  {
   "cell_type": "code",
   "execution_count": 7,
   "metadata": {
    "collapsed": true
   },
   "outputs": [],
   "source": [
    "# samples_200_p3_20_100per"
   ]
  },
  {
   "cell_type": "code",
   "execution_count": null,
   "metadata": {
    "collapsed": false
   },
   "outputs": [],
   "source": [
    "samples_md = [md.load(x) for x in samples_200_p3_20_100per]\n",
    "\n",
    "data = samples_md[0][0]\n",
    "\n",
    "allatoms_data_selection = data.top.select('not element H and resid > 24')\n",
    "samples_md_noNflank_allatoms = []\n",
    "\n",
    "for x in samples_md:\n",
    "    samples_md_noNflank_allatoms.append(x.atom_slice(allatoms_data_selection))\n",
    "    \n",
    "regspace_objects_noNflank_allatoms_5 = []\n",
    "\n",
    "for x in samples_md_noNflank_allatoms:\n",
    "    regspace_objects_noNflank_allatoms_5.append(RegularSpatial(0.5, metric='rmsd'))\n",
    "    regspace_objects_noNflank_allatoms_5[-1].fit(x)\n",
    "    \n",
    "regspace_objects_noNflank_allatoms_3 = []\n",
    "\n",
    "for x in samples_md_noNflank_allatoms:\n",
    "    regspace_objects_noNflank_allatoms_3.append(RegularSpatial(0.3, metric='rmsd'))\n",
    "    regspace_objects_noNflank_allatoms_3[-1].fit(x)    "
   ]
  },
  {
   "cell_type": "code",
   "execution_count": null,
   "metadata": {
    "collapsed": false
   },
   "outputs": [],
   "source": [
    "total = 0\n",
    "for x in regspace_objects_noNflank_allatoms_5:\n",
    "    print(x.n_clusters_)\n",
    "    total += x.n_clusters_\n",
    "print('Total: %f' % total)    "
   ]
  },
  {
   "cell_type": "code",
   "execution_count": null,
   "metadata": {
    "collapsed": false
   },
   "outputs": [],
   "source": [
    "total = 0\n",
    "for x in regspace_objects_noNflank_allatoms_3:\n",
    "    print(x.n_clusters_)\n",
    "    total += x.n_clusters_\n",
    "print('Total: %f' % total)    "
   ]
  },
  {
   "cell_type": "code",
   "execution_count": 4,
   "metadata": {
    "collapsed": true
   },
   "outputs": [],
   "source": [
    "# save _5 centers to make .pse"
   ]
  },
  {
   "cell_type": "code",
   "execution_count": null,
   "metadata": {
    "collapsed": true
   },
   "outputs": [],
   "source": [
    "centers_5 = []\n",
    "\n",
    "for x in regspace_objects_noNflank_allatoms_5:\n",
    "    centers_5.append(x.cluster_center_indices_)\n",
    "    \n",
    "centers_5_ = []\n",
    "\n",
    "for x in centers_5:\n",
    "    centers_5_.append([])\n",
    "    for y in x:\n",
    "        centers_5_[-1].append(y[0])\n",
    "        \n",
    "centers_5_md = []\n",
    "\n",
    "for i in range(len(centers_5_)):\n",
    "    traj = samples_md[i][centers_5_[i][0]]\n",
    "    if len(centers_5_[i]) > 1:\n",
    "        for x in centers_5_[i][1:]:\n",
    "            traj += samples_md[i][x]\n",
    "    centers_5_md.append(traj)            "
   ]
  },
  {
   "cell_type": "code",
   "execution_count": null,
   "metadata": {
    "collapsed": true
   },
   "outputs": [],
   "source": [
    "for i in range(len(centers_5_md)):\n",
    "    traj = centers_5_md[i]\n",
    "    traj.save('../macro_sample/200_p3_20_100per/centers/%s.pdb' % i)  "
   ]
  },
  {
   "cell_type": "code",
   "execution_count": 4,
   "metadata": {
    "collapsed": true
   },
   "outputs": [],
   "source": [
    "from collections import Counter\n",
    "\n",
    "glob_output = np.load('../glob_output.npy')\n",
    "glob_output = [x.decode('UTF-8') for x in glob_output]\n",
    "\n",
    "samples = np.load('../macro_sample/200_p3_20_100per/samples_200_p3_20_100per.npy')\n",
    "\n",
    "run_results = []\n",
    "\n",
    "for macrostate in samples:\n",
    "    macrostate_results = []\n",
    "    for frame in macrostate:\n",
    "        x = glob_output[frame[0]]\n",
    "        y = int(x.split('-')[0][9:])\n",
    "        if x[:5] == '11707':\n",
    "            if y <= 19:\n",
    "                macrostate_results.append('1zkk')\n",
    "            elif y in [20,21] or (y >= 42 and y <= 59):\n",
    "                macrostate_results.append('4ij8')\n",
    "            elif y in [22,25,26,27,28,31,32,33,34,35] or (y >= 60 and y <= 69):\n",
    "                macrostate_results.append('Apo')\n",
    "            elif y in [23,24,29,30,36,37,38,39,40,41] or y >= 70:\n",
    "                macrostate_results.append('Inhibitor')\n",
    "        elif x[:5] == '11709':\n",
    "            if y in [0,2]:\n",
    "                macrostate_results.append('1zkk_apo')\n",
    "            elif y in [1,3]:\n",
    "                macrostate_results.append('4ij8_apo')\n",
    "    \n",
    "    run_results.append(macrostate_results)\n",
    "    \n",
    "run_results_counters = []\n",
    "\n",
    "for x in run_results:\n",
    "    run_results_counters.append(Counter(x))    "
   ]
  },
  {
   "cell_type": "code",
   "execution_count": 8,
   "metadata": {
    "collapsed": false
   },
   "outputs": [
    {
     "data": {
      "text/plain": [
       "[Counter({'1zkk': 41, '4ij8': 29, 'Apo': 29, 'Inhibitor': 1}),\n",
       " Counter({'1zkk': 31, '4ij8': 34, 'Apo': 35}),\n",
       " Counter({'1zkk': 10,\n",
       "          '1zkk_apo': 6,\n",
       "          '4ij8': 20,\n",
       "          '4ij8_apo': 39,\n",
       "          'Apo': 7,\n",
       "          'Inhibitor': 18}),\n",
       " Counter({'1zkk': 12,\n",
       "          '1zkk_apo': 23,\n",
       "          '4ij8': 4,\n",
       "          '4ij8_apo': 29,\n",
       "          'Apo': 15,\n",
       "          'Inhibitor': 17}),\n",
       " Counter({'1zkk': 6,\n",
       "          '1zkk_apo': 1,\n",
       "          '4ij8': 12,\n",
       "          '4ij8_apo': 19,\n",
       "          'Apo': 1,\n",
       "          'Inhibitor': 61}),\n",
       " Counter({'1zkk': 7, 'Apo': 18, 'Inhibitor': 75}),\n",
       " Counter({'1zkk': 24,\n",
       "          '1zkk_apo': 26,\n",
       "          '4ij8': 16,\n",
       "          '4ij8_apo': 13,\n",
       "          'Apo': 7,\n",
       "          'Inhibitor': 14}),\n",
       " Counter({'1zkk': 53,\n",
       "          '1zkk_apo': 9,\n",
       "          '4ij8': 23,\n",
       "          '4ij8_apo': 2,\n",
       "          'Apo': 9,\n",
       "          'Inhibitor': 4}),\n",
       " Counter({'1zkk': 6,\n",
       "          '1zkk_apo': 25,\n",
       "          '4ij8': 4,\n",
       "          '4ij8_apo': 30,\n",
       "          'Apo': 17,\n",
       "          'Inhibitor': 18}),\n",
       " Counter({'1zkk': 41,\n",
       "          '1zkk_apo': 5,\n",
       "          '4ij8': 16,\n",
       "          '4ij8_apo': 1,\n",
       "          'Apo': 23,\n",
       "          'Inhibitor': 14}),\n",
       " Counter({'1zkk': 15,\n",
       "          '1zkk_apo': 14,\n",
       "          '4ij8': 6,\n",
       "          '4ij8_apo': 12,\n",
       "          'Apo': 22,\n",
       "          'Inhibitor': 31}),\n",
       " Counter({'1zkk': 22, '4ij8': 1, 'Apo': 39, 'Inhibitor': 38}),\n",
       " Counter({'1zkk': 23,\n",
       "          '1zkk_apo': 13,\n",
       "          '4ij8': 17,\n",
       "          '4ij8_apo': 21,\n",
       "          'Apo': 8,\n",
       "          'Inhibitor': 18}),\n",
       " Counter({'1zkk': 24,\n",
       "          '1zkk_apo': 2,\n",
       "          '4ij8': 12,\n",
       "          '4ij8_apo': 2,\n",
       "          'Apo': 22,\n",
       "          'Inhibitor': 38}),\n",
       " Counter({'1zkk': 15,\n",
       "          '1zkk_apo': 7,\n",
       "          '4ij8': 11,\n",
       "          '4ij8_apo': 37,\n",
       "          'Apo': 17,\n",
       "          'Inhibitor': 13}),\n",
       " Counter({'1zkk': 26, '4ij8': 42, 'Apo': 16, 'Inhibitor': 16}),\n",
       " Counter({'1zkk': 19,\n",
       "          '1zkk_apo': 19,\n",
       "          '4ij8': 26,\n",
       "          '4ij8_apo': 7,\n",
       "          'Apo': 16,\n",
       "          'Inhibitor': 13}),\n",
       " Counter({'1zkk': 21,\n",
       "          '1zkk_apo': 16,\n",
       "          '4ij8': 13,\n",
       "          '4ij8_apo': 19,\n",
       "          'Apo': 22,\n",
       "          'Inhibitor': 9}),\n",
       " Counter({'1zkk': 25,\n",
       "          '1zkk_apo': 1,\n",
       "          '4ij8': 41,\n",
       "          '4ij8_apo': 3,\n",
       "          'Apo': 13,\n",
       "          'Inhibitor': 17}),\n",
       " Counter({'1zkk': 16,\n",
       "          '1zkk_apo': 26,\n",
       "          '4ij8': 19,\n",
       "          '4ij8_apo': 17,\n",
       "          'Apo': 8,\n",
       "          'Inhibitor': 14})]"
      ]
     },
     "execution_count": 8,
     "metadata": {},
     "output_type": "execute_result"
    }
   ],
   "source": [
    "run_results_counters"
   ]
  },
  {
   "cell_type": "code",
   "execution_count": 5,
   "metadata": {
    "collapsed": true
   },
   "outputs": [],
   "source": [
    "regspace_5_cluster_center_run_of_origin = []\n",
    "\n",
    "i = 0\n",
    "for macrostate in regspace_objects_noNflank_allatoms_5:\n",
    "    regspace_5_cluster_center_run_of_origin.append([])\n",
    "    for center in macrostate.cluster_center_indices_:\n",
    "        regspace_5_cluster_center_run_of_origin[-1].append(run_results[i][center[0]])\n",
    "    i += 1    "
   ]
  },
  {
   "cell_type": "code",
   "execution_count": 6,
   "metadata": {
    "collapsed": false
   },
   "outputs": [
    {
     "data": {
      "text/plain": [
       "[['1zkk', 'Apo', '1zkk', '1zkk'],\n",
       " ['1zkk', 'Apo'],\n",
       " ['4ij8', '1zkk_apo', 'Apo', '1zkk', 'Inhibitor', '4ij8_apo'],\n",
       " ['1zkk_apo', '1zkk', '4ij8_apo', '1zkk_apo', '1zkk_apo'],\n",
       " ['1zkk', '1zkk', 'Inhibitor'],\n",
       " ['Apo',\n",
       "  'Inhibitor',\n",
       "  'Inhibitor',\n",
       "  'Inhibitor',\n",
       "  'Inhibitor',\n",
       "  '1zkk',\n",
       "  'Apo',\n",
       "  'Inhibitor',\n",
       "  '1zkk',\n",
       "  'Inhibitor',\n",
       "  'Inhibitor',\n",
       "  'Inhibitor'],\n",
       " ['1zkk_apo',\n",
       "  '4ij8',\n",
       "  '1zkk',\n",
       "  'Apo',\n",
       "  '1zkk_apo',\n",
       "  'Inhibitor',\n",
       "  '4ij8',\n",
       "  'Inhibitor',\n",
       "  'Apo'],\n",
       " ['Apo', '1zkk'],\n",
       " ['Apo', '1zkk_apo', '1zkk', 'Inhibitor', '4ij8_apo', '1zkk'],\n",
       " ['4ij8', '1zkk_apo', '1zkk', 'Apo', '1zkk', 'Apo', '1zkk'],\n",
       " ['Apo', 'Inhibitor', '1zkk', 'Inhibitor', '1zkk_apo'],\n",
       " ['Apo', 'Apo', 'Apo', 'Inhibitor', 'Apo', '1zkk'],\n",
       " ['4ij8_apo', '4ij8_apo', '1zkk', 'Apo', 'Inhibitor', '1zkk_apo'],\n",
       " ['Apo',\n",
       "  'Apo',\n",
       "  'Inhibitor',\n",
       "  '1zkk',\n",
       "  '1zkk',\n",
       "  'Inhibitor',\n",
       "  '4ij8_apo',\n",
       "  'Inhibitor',\n",
       "  '4ij8',\n",
       "  '1zkk_apo',\n",
       "  '1zkk'],\n",
       " ['Inhibitor',\n",
       "  '4ij8',\n",
       "  'Inhibitor',\n",
       "  'Apo',\n",
       "  '1zkk',\n",
       "  '4ij8_apo',\n",
       "  '1zkk',\n",
       "  'Inhibitor',\n",
       "  '4ij8_apo',\n",
       "  '1zkk'],\n",
       " ['Inhibitor',\n",
       "  '4ij8',\n",
       "  'Apo',\n",
       "  '4ij8',\n",
       "  'Inhibitor',\n",
       "  'Apo',\n",
       "  '4ij8',\n",
       "  '1zkk',\n",
       "  '4ij8',\n",
       "  '4ij8',\n",
       "  '4ij8'],\n",
       " ['1zkk_apo',\n",
       "  '1zkk_apo',\n",
       "  '4ij8',\n",
       "  '1zkk',\n",
       "  '1zkk',\n",
       "  'Inhibitor',\n",
       "  '4ij8',\n",
       "  '1zkk',\n",
       "  '4ij8_apo',\n",
       "  'Inhibitor'],\n",
       " ['1zkk', 'Apo', 'Apo', 'Apo', '1zkk'],\n",
       " ['1zkk', '4ij8', '4ij8', '4ij8', '4ij8', '4ij8', '4ij8_apo'],\n",
       " ['Inhibitor',\n",
       "  'Apo',\n",
       "  '1zkk',\n",
       "  '1zkk',\n",
       "  'Inhibitor',\n",
       "  '4ij8',\n",
       "  '4ij8',\n",
       "  'Inhibitor',\n",
       "  'Inhibitor',\n",
       "  '4ij8_apo',\n",
       "  'Apo']]"
      ]
     },
     "execution_count": 6,
     "metadata": {},
     "output_type": "execute_result"
    }
   ],
   "source": [
    "regspace_5_cluster_center_run_of_origin"
   ]
  },
  {
   "cell_type": "code",
   "execution_count": 5,
   "metadata": {
    "collapsed": true
   },
   "outputs": [],
   "source": [
    "regspace_dtrajs = []\n",
    "\n",
    "for i in range(len(samples_md_noNflank_allatoms)):\n",
    "    samples = samples_md_noNflank_allatoms[i]\n",
    "    regspace_dtrajs.append(regspace_objects_noNflank_allatoms_5[i].transform(samples))\n",
    "    \n",
    "regspace_frames = []\n",
    "\n",
    "for x in regspace_dtrajs:\n",
    "    regspace_frames.append([])\n",
    "    for y in x:\n",
    "        regspace_frames[-1].append(y[0])\n",
    "        \n",
    "regspace_5_by_cluster_runs_of_origin = []\n",
    "\n",
    "for i in range(len(regspace_frames)):\n",
    "    clusters = regspace_frames[i]\n",
    "    runs = run_results[i]\n",
    "    \n",
    "    regspace_5_by_cluster_runs_of_origin.append(dict())\n",
    "    for j in range(len(clusters)):\n",
    "        if clusters[j] not in regspace_5_by_cluster_runs_of_origin[-1]:\n",
    "            regspace_5_by_cluster_runs_of_origin[-1][clusters[j]] = [runs[j]]\n",
    "        else:\n",
    "            regspace_5_by_cluster_runs_of_origin[-1][clusters[j]].append(runs[j])\n",
    "            \n",
    "regspace_5_by_cluster_runs_of_origin_counters = []\n",
    "\n",
    "for macrostate in regspace_5_by_cluster_runs_of_origin:\n",
    "    regspace_5_by_cluster_runs_of_origin_counters.append(dict())\n",
    "    for cluster in macrostate:\n",
    "        regspace_5_by_cluster_runs_of_origin_counters[-1][cluster] = Counter(macrostate[cluster])            "
   ]
  },
  {
   "cell_type": "code",
   "execution_count": 6,
   "metadata": {
    "collapsed": false
   },
   "outputs": [
    {
     "data": {
      "text/plain": [
       "[{0: Counter({'1zkk': 11, '4ij8': 24, 'Apo': 18, 'Inhibitor': 1}),\n",
       "  1: Counter({'1zkk': 2, '4ij8': 2, 'Apo': 9}),\n",
       "  2: Counter({'1zkk': 18}),\n",
       "  3: Counter({'1zkk': 10, '4ij8': 3, 'Apo': 2})},\n",
       " {0: Counter({'1zkk': 31}), 1: Counter({'4ij8': 34, 'Apo': 35})},\n",
       " {0: Counter({'1zkk': 3, '4ij8': 18, '4ij8_apo': 7, 'Apo': 1, 'Inhibitor': 6}),\n",
       "  1: Counter({'1zkk_apo': 5,\n",
       "           '4ij8': 2,\n",
       "           '4ij8_apo': 29,\n",
       "           'Apo': 4,\n",
       "           'Inhibitor': 9}),\n",
       "  2: Counter({'Apo': 2}),\n",
       "  3: Counter({'1zkk': 7}),\n",
       "  4: Counter({'Inhibitor': 3}),\n",
       "  5: Counter({'1zkk_apo': 1, '4ij8_apo': 3})},\n",
       " {0: Counter({'1zkk': 2,\n",
       "           '1zkk_apo': 10,\n",
       "           '4ij8_apo': 8,\n",
       "           'Apo': 5,\n",
       "           'Inhibitor': 5}),\n",
       "  1: Counter({'1zkk': 9,\n",
       "           '1zkk_apo': 6,\n",
       "           '4ij8': 2,\n",
       "           '4ij8_apo': 15,\n",
       "           'Apo': 5,\n",
       "           'Inhibitor': 9}),\n",
       "  2: Counter({'1zkk_apo': 2, '4ij8': 1, '4ij8_apo': 3, 'Inhibitor': 2}),\n",
       "  3: Counter({'1zkk': 1,\n",
       "           '1zkk_apo': 1,\n",
       "           '4ij8_apo': 2,\n",
       "           'Apo': 2,\n",
       "           'Inhibitor': 1}),\n",
       "  4: Counter({'1zkk_apo': 4, '4ij8': 1, '4ij8_apo': 1, 'Apo': 3})},\n",
       " {0: Counter({'1zkk': 2,\n",
       "           '1zkk_apo': 1,\n",
       "           '4ij8': 12,\n",
       "           '4ij8_apo': 19,\n",
       "           'Apo': 1,\n",
       "           'Inhibitor': 51}),\n",
       "  1: Counter({'1zkk': 4}),\n",
       "  2: Counter({'Inhibitor': 10})},\n",
       " {0: Counter({'1zkk': 2, 'Apo': 9, 'Inhibitor': 16}),\n",
       "  1: Counter({'Inhibitor': 4}),\n",
       "  2: Counter({'1zkk': 1, 'Apo': 2, 'Inhibitor': 24}),\n",
       "  3: Counter({'Apo': 1, 'Inhibitor': 7}),\n",
       "  4: Counter({'Inhibitor': 3}),\n",
       "  5: Counter({'1zkk': 1, 'Apo': 2, 'Inhibitor': 6}),\n",
       "  6: Counter({'Apo': 4}),\n",
       "  7: Counter({'Inhibitor': 1}),\n",
       "  8: Counter({'1zkk': 3, 'Inhibitor': 2}),\n",
       "  9: Counter({'Inhibitor': 4}),\n",
       "  10: Counter({'Inhibitor': 1}),\n",
       "  11: Counter({'Inhibitor': 7})},\n",
       " {0: Counter({'1zkk': 2, '1zkk_apo': 6, '4ij8': 2}),\n",
       "  1: Counter({'1zkk': 9,\n",
       "           '1zkk_apo': 8,\n",
       "           '4ij8': 6,\n",
       "           '4ij8_apo': 8,\n",
       "           'Apo': 1,\n",
       "           'Inhibitor': 5}),\n",
       "  2: Counter({'1zkk': 2}),\n",
       "  3: Counter({'1zkk': 7,\n",
       "           '1zkk_apo': 10,\n",
       "           '4ij8': 6,\n",
       "           '4ij8_apo': 4,\n",
       "           'Apo': 5,\n",
       "           'Inhibitor': 4}),\n",
       "  4: Counter({'1zkk_apo': 1}),\n",
       "  5: Counter({'1zkk': 1,\n",
       "           '1zkk_apo': 1,\n",
       "           '4ij8': 1,\n",
       "           '4ij8_apo': 1,\n",
       "           'Inhibitor': 3}),\n",
       "  6: Counter({'1zkk': 3, '4ij8': 1}),\n",
       "  7: Counter({'Inhibitor': 2}),\n",
       "  8: Counter({'Apo': 1})},\n",
       " {0: Counter({'1zkk': 15,\n",
       "           '1zkk_apo': 7,\n",
       "           '4ij8': 23,\n",
       "           '4ij8_apo': 2,\n",
       "           'Apo': 9,\n",
       "           'Inhibitor': 4}),\n",
       "  1: Counter({'1zkk': 38, '1zkk_apo': 2})},\n",
       " {0: Counter({'1zkk': 1, '1zkk_apo': 1, 'Apo': 3, 'Inhibitor': 2}),\n",
       "  1: Counter({'1zkk': 2,\n",
       "           '1zkk_apo': 19,\n",
       "           '4ij8': 3,\n",
       "           '4ij8_apo': 21,\n",
       "           'Apo': 11,\n",
       "           'Inhibitor': 13}),\n",
       "  2: Counter({'1zkk': 1,\n",
       "           '1zkk_apo': 1,\n",
       "           '4ij8_apo': 3,\n",
       "           'Apo': 1,\n",
       "           'Inhibitor': 1}),\n",
       "  3: Counter({'1zkk': 1,\n",
       "           '1zkk_apo': 2,\n",
       "           '4ij8': 1,\n",
       "           '4ij8_apo': 3,\n",
       "           'Apo': 2,\n",
       "           'Inhibitor': 1}),\n",
       "  4: Counter({'1zkk_apo': 1, '4ij8_apo': 1}),\n",
       "  5: Counter({'1zkk': 1, '1zkk_apo': 1, '4ij8_apo': 2, 'Inhibitor': 1})},\n",
       " {0: Counter({'1zkk': 8, '4ij8': 10, 'Inhibitor': 8}),\n",
       "  1: Counter({'1zkk_apo': 5}),\n",
       "  2: Counter({'1zkk': 18, '4ij8': 4, '4ij8_apo': 1}),\n",
       "  3: Counter({'1zkk': 3, '4ij8': 2, 'Apo': 20, 'Inhibitor': 6}),\n",
       "  4: Counter({'1zkk': 6}),\n",
       "  5: Counter({'Apo': 3}),\n",
       "  6: Counter({'1zkk': 6})},\n",
       " {0: Counter({'1zkk': 3,\n",
       "           '1zkk_apo': 7,\n",
       "           '4ij8': 2,\n",
       "           '4ij8_apo': 4,\n",
       "           'Apo': 9,\n",
       "           'Inhibitor': 15}),\n",
       "  1: Counter({'4ij8_apo': 1, 'Apo': 5, 'Inhibitor': 5}),\n",
       "  2: Counter({'1zkk': 9, '4ij8': 4, '4ij8_apo': 4, 'Apo': 6, 'Inhibitor': 6}),\n",
       "  3: Counter({'Apo': 2, 'Inhibitor': 5}),\n",
       "  4: Counter({'1zkk': 3, '1zkk_apo': 7, '4ij8_apo': 3})},\n",
       " {0: Counter({'1zkk': 10, '4ij8': 1, 'Apo': 12, 'Inhibitor': 16}),\n",
       "  1: Counter({'1zkk': 2, 'Apo': 12, 'Inhibitor': 8}),\n",
       "  2: Counter({'1zkk': 5, 'Apo': 9, 'Inhibitor': 3}),\n",
       "  3: Counter({'Apo': 2, 'Inhibitor': 8}),\n",
       "  4: Counter({'Apo': 2}),\n",
       "  5: Counter({'1zkk': 5, 'Apo': 2, 'Inhibitor': 3})},\n",
       " {0: Counter({'4ij8': 7, '4ij8_apo': 17}),\n",
       "  1: Counter({'4ij8_apo': 4}),\n",
       "  2: Counter({'1zkk': 23, '1zkk_apo': 8, '4ij8': 7, 'Inhibitor': 16}),\n",
       "  3: Counter({'1zkk_apo': 1, '4ij8': 3, 'Apo': 8, 'Inhibitor': 1}),\n",
       "  4: Counter({'Inhibitor': 1}),\n",
       "  5: Counter({'1zkk_apo': 4})},\n",
       " {0: Counter({'1zkk': 1, '4ij8': 1, 'Apo': 2, 'Inhibitor': 1}),\n",
       "  1: Counter({'1zkk': 8, '4ij8': 4, 'Apo': 11, 'Inhibitor': 19}),\n",
       "  2: Counter({'1zkk': 7, '1zkk_apo': 1, '4ij8': 4, 'Apo': 6, 'Inhibitor': 7}),\n",
       "  3: Counter({'1zkk': 2, 'Inhibitor': 2}),\n",
       "  4: Counter({'1zkk': 2, '4ij8': 1, 'Apo': 1, 'Inhibitor': 3}),\n",
       "  5: Counter({'Inhibitor': 1}),\n",
       "  6: Counter({'1zkk': 1, '4ij8_apo': 1}),\n",
       "  7: Counter({'1zkk': 1, '4ij8': 1, '4ij8_apo': 1, 'Apo': 1, 'Inhibitor': 3}),\n",
       "  8: Counter({'1zkk': 1, '4ij8': 1, 'Apo': 1}),\n",
       "  9: Counter({'1zkk_apo': 1, 'Inhibitor': 2}),\n",
       "  10: Counter({'1zkk': 1})},\n",
       " {0: Counter({'1zkk': 6,\n",
       "           '1zkk_apo': 2,\n",
       "           '4ij8': 1,\n",
       "           '4ij8_apo': 10,\n",
       "           'Apo': 5,\n",
       "           'Inhibitor': 4}),\n",
       "  1: Counter({'4ij8': 1, '4ij8_apo': 2}),\n",
       "  2: Counter({'1zkk': 1, '4ij8_apo': 2, 'Inhibitor': 1}),\n",
       "  3: Counter({'1zkk': 2,\n",
       "           '1zkk_apo': 4,\n",
       "           '4ij8': 6,\n",
       "           '4ij8_apo': 14,\n",
       "           'Apo': 7,\n",
       "           'Inhibitor': 3}),\n",
       "  4: Counter({'1zkk': 1, '1zkk_apo': 1}),\n",
       "  5: Counter({'4ij8_apo': 1, 'Apo': 1}),\n",
       "  6: Counter({'1zkk': 1, 'Apo': 1}),\n",
       "  7: Counter({'Inhibitor': 1}),\n",
       "  8: Counter({'4ij8_apo': 1}),\n",
       "  9: Counter({'1zkk': 4, '4ij8': 3, '4ij8_apo': 7, 'Apo': 3, 'Inhibitor': 4})},\n",
       " {0: Counter({'1zkk': 2, '4ij8': 12, 'Apo': 1, 'Inhibitor': 4}),\n",
       "  1: Counter({'1zkk': 3, '4ij8': 3, 'Apo': 3, 'Inhibitor': 1}),\n",
       "  2: Counter({'1zkk': 1, 'Apo': 4}),\n",
       "  3: Counter({'1zkk': 2, '4ij8': 5, 'Apo': 1, 'Inhibitor': 5}),\n",
       "  4: Counter({'4ij8': 1, 'Inhibitor': 1}),\n",
       "  5: Counter({'1zkk': 11, '4ij8': 13, 'Apo': 6, 'Inhibitor': 4}),\n",
       "  6: Counter({'4ij8': 1}),\n",
       "  7: Counter({'1zkk': 4, '4ij8': 1, 'Apo': 1, 'Inhibitor': 1}),\n",
       "  8: Counter({'4ij8': 3}),\n",
       "  9: Counter({'1zkk': 2, '4ij8': 1}),\n",
       "  10: Counter({'1zkk': 1, '4ij8': 2})},\n",
       " {0: Counter({'1zkk': 7,\n",
       "           '1zkk_apo': 13,\n",
       "           '4ij8': 17,\n",
       "           '4ij8_apo': 5,\n",
       "           'Apo': 11,\n",
       "           'Inhibitor': 5}),\n",
       "  1: Counter({'1zkk': 6, '1zkk_apo': 6, '4ij8': 4, 'Apo': 3, 'Inhibitor': 4}),\n",
       "  2: Counter({'4ij8': 1, '4ij8_apo': 1}),\n",
       "  3: Counter({'1zkk': 2, 'Inhibitor': 1}),\n",
       "  4: Counter({'1zkk': 1}),\n",
       "  5: Counter({'4ij8': 1, 'Inhibitor': 1}),\n",
       "  6: Counter({'1zkk': 1, '4ij8': 1}),\n",
       "  7: Counter({'1zkk': 1, '4ij8': 1, 'Apo': 2}),\n",
       "  8: Counter({'4ij8_apo': 1}),\n",
       "  9: Counter({'1zkk': 1, '4ij8': 1, 'Inhibitor': 2})},\n",
       " {0: Counter({'1zkk': 11,\n",
       "           '1zkk_apo': 9,\n",
       "           '4ij8': 8,\n",
       "           '4ij8_apo': 14,\n",
       "           'Apo': 10,\n",
       "           'Inhibitor': 4}),\n",
       "  1: Counter({'1zkk': 1, '1zkk_apo': 1, '4ij8': 1, 'Apo': 3, 'Inhibitor': 1}),\n",
       "  2: Counter({'1zkk': 6,\n",
       "           '1zkk_apo': 6,\n",
       "           '4ij8': 2,\n",
       "           '4ij8_apo': 4,\n",
       "           'Apo': 7,\n",
       "           'Inhibitor': 4}),\n",
       "  3: Counter({'Apo': 1}),\n",
       "  4: Counter({'1zkk': 3, '4ij8': 2, '4ij8_apo': 1, 'Apo': 1})},\n",
       " {0: Counter({'1zkk': 12,\n",
       "           '4ij8': 18,\n",
       "           '4ij8_apo': 1,\n",
       "           'Apo': 5,\n",
       "           'Inhibitor': 9}),\n",
       "  1: Counter({'1zkk': 3,\n",
       "           '1zkk_apo': 1,\n",
       "           '4ij8': 6,\n",
       "           '4ij8_apo': 1,\n",
       "           'Apo': 2,\n",
       "           'Inhibitor': 8}),\n",
       "  2: Counter({'4ij8': 2}),\n",
       "  3: Counter({'1zkk': 7, '4ij8': 10, 'Apo': 4}),\n",
       "  4: Counter({'1zkk': 2, '4ij8': 4, 'Apo': 2}),\n",
       "  5: Counter({'1zkk': 1, '4ij8': 1}),\n",
       "  6: Counter({'4ij8_apo': 1})},\n",
       " {0: Counter({'1zkk': 6,\n",
       "           '1zkk_apo': 14,\n",
       "           '4ij8': 6,\n",
       "           '4ij8_apo': 6,\n",
       "           'Apo': 1,\n",
       "           'Inhibitor': 6}),\n",
       "  1: Counter({'1zkk': 2, '1zkk_apo': 1, '4ij8': 2, '4ij8_apo': 3, 'Apo': 2}),\n",
       "  2: Counter({'1zkk': 2, '1zkk_apo': 2, '4ij8': 3, 'Apo': 1}),\n",
       "  3: Counter({'1zkk': 2, '1zkk_apo': 2, '4ij8': 3, '4ij8_apo': 1, 'Apo': 1}),\n",
       "  4: Counter({'Inhibitor': 1}),\n",
       "  5: Counter({'1zkk_apo': 1, '4ij8': 2, '4ij8_apo': 1}),\n",
       "  6: Counter({'1zkk': 2,\n",
       "           '1zkk_apo': 4,\n",
       "           '4ij8': 3,\n",
       "           '4ij8_apo': 2,\n",
       "           'Apo': 1,\n",
       "           'Inhibitor': 2}),\n",
       "  7: Counter({'1zkk': 1, 'Apo': 1, 'Inhibitor': 1}),\n",
       "  8: Counter({'1zkk': 1, 'Inhibitor': 1}),\n",
       "  9: Counter({'1zkk_apo': 2, '4ij8_apo': 4, 'Inhibitor': 3}),\n",
       "  10: Counter({'Apo': 1})}]"
      ]
     },
     "execution_count": 6,
     "metadata": {},
     "output_type": "execute_result"
    }
   ],
   "source": [
    "regspace_5_by_cluster_runs_of_origin_counters"
   ]
  },
  {
   "cell_type": "code",
   "execution_count": null,
   "metadata": {
    "collapsed": true
   },
   "outputs": [],
   "source": [
    "# samples_200_p3_50_100per"
   ]
  },
  {
   "cell_type": "code",
   "execution_count": 11,
   "metadata": {
    "collapsed": true
   },
   "outputs": [],
   "source": [
    "samples_md = [md.load(x) for x in samples_200_p3_50_100per]\n",
    "\n",
    "data = samples_md[0][0]\n",
    "\n",
    "allatoms_data_selection = data.top.select('not element H and resid > 24')\n",
    "samples_md_noNflank_allatoms = []\n",
    "\n",
    "for x in samples_md:\n",
    "    samples_md_noNflank_allatoms.append(x.atom_slice(allatoms_data_selection))\n",
    "    \n",
    "regspace_objects_noNflank_allatoms_5 = []\n",
    "\n",
    "for x in samples_md_noNflank_allatoms:\n",
    "    regspace_objects_noNflank_allatoms_5.append(RegularSpatial(0.5, metric='rmsd'))\n",
    "    regspace_objects_noNflank_allatoms_5[-1].fit(x)\n",
    "    \n",
    "regspace_objects_noNflank_allatoms_3 = []\n",
    "\n",
    "for x in samples_md_noNflank_allatoms:\n",
    "    regspace_objects_noNflank_allatoms_3.append(RegularSpatial(0.3, metric='rmsd'))\n",
    "    regspace_objects_noNflank_allatoms_3[-1].fit(x)    "
   ]
  },
  {
   "cell_type": "code",
   "execution_count": 12,
   "metadata": {
    "collapsed": false
   },
   "outputs": [
    {
     "name": "stdout",
     "output_type": "stream",
     "text": [
      "4\n",
      "4\n",
      "4\n",
      "2\n",
      "2\n",
      "2\n",
      "3\n",
      "5\n",
      "4\n",
      "4\n",
      "1\n",
      "3\n",
      "2\n",
      "4\n",
      "3\n",
      "4\n",
      "3\n",
      "4\n",
      "5\n",
      "1\n",
      "1\n",
      "2\n",
      "2\n",
      "1\n",
      "2\n",
      "10\n",
      "4\n",
      "3\n",
      "4\n",
      "5\n",
      "4\n",
      "7\n",
      "6\n",
      "4\n",
      "4\n",
      "2\n",
      "3\n",
      "3\n",
      "4\n",
      "4\n",
      "4\n",
      "4\n",
      "5\n",
      "9\n",
      "9\n",
      "4\n",
      "4\n",
      "5\n",
      "6\n",
      "16\n",
      "Total: 205.000000\n"
     ]
    }
   ],
   "source": [
    "total = 0\n",
    "for x in regspace_objects_noNflank_allatoms_5:\n",
    "    print(x.n_clusters_)\n",
    "    total += x.n_clusters_\n",
    "print('Total: %f' % total)    "
   ]
  },
  {
   "cell_type": "code",
   "execution_count": 13,
   "metadata": {
    "collapsed": false
   },
   "outputs": [
    {
     "name": "stdout",
     "output_type": "stream",
     "text": [
      "18\n",
      "16\n",
      "24\n",
      "10\n",
      "10\n",
      "13\n",
      "21\n",
      "17\n",
      "13\n",
      "24\n",
      "13\n",
      "17\n",
      "7\n",
      "15\n",
      "19\n",
      "11\n",
      "21\n",
      "18\n",
      "25\n",
      "15\n",
      "13\n",
      "25\n",
      "8\n",
      "14\n",
      "14\n",
      "31\n",
      "23\n",
      "17\n",
      "24\n",
      "37\n",
      "30\n",
      "33\n",
      "30\n",
      "14\n",
      "20\n",
      "15\n",
      "21\n",
      "27\n",
      "14\n",
      "27\n",
      "10\n",
      "45\n",
      "32\n",
      "80\n",
      "58\n",
      "23\n",
      "40\n",
      "55\n",
      "60\n",
      "86\n",
      "Total: 1253.000000\n"
     ]
    }
   ],
   "source": [
    "total = 0\n",
    "for x in regspace_objects_noNflank_allatoms_3:\n",
    "    print(x.n_clusters_)\n",
    "    total += x.n_clusters_\n",
    "print('Total: %f' % total)"
   ]
  },
  {
   "cell_type": "code",
   "execution_count": 1,
   "metadata": {
    "collapsed": true
   },
   "outputs": [],
   "source": [
    "# now let's do unitime_2500"
   ]
  },
  {
   "cell_type": "code",
   "execution_count": 3,
   "metadata": {
    "collapsed": true
   },
   "outputs": [],
   "source": [
    "samples_unitime_2500_300_p1_20_100per = glob.glob('../macro_sample/unitime_2500_300_p1_20_100per/*.pdb')"
   ]
  },
  {
   "cell_type": "code",
   "execution_count": 4,
   "metadata": {
    "collapsed": true
   },
   "outputs": [],
   "source": [
    "samples_unitime_2500_300_p1_50_100per = glob.glob('../macro_sample/unitime_2500_300_p1_50_100per/*.pdb')"
   ]
  },
  {
   "cell_type": "code",
   "execution_count": 5,
   "metadata": {
    "collapsed": false
   },
   "outputs": [
    {
     "data": {
      "text/plain": [
       "20"
      ]
     },
     "execution_count": 5,
     "metadata": {},
     "output_type": "execute_result"
    }
   ],
   "source": [
    "len(samples_unitime_2500_300_p1_20_100per)"
   ]
  },
  {
   "cell_type": "code",
   "execution_count": 6,
   "metadata": {
    "collapsed": false
   },
   "outputs": [
    {
     "data": {
      "text/plain": [
       "50"
      ]
     },
     "execution_count": 6,
     "metadata": {},
     "output_type": "execute_result"
    }
   ],
   "source": [
    "len(samples_unitime_2500_300_p1_50_100per)"
   ]
  },
  {
   "cell_type": "code",
   "execution_count": 7,
   "metadata": {
    "collapsed": true
   },
   "outputs": [],
   "source": [
    "# samples_unitime_2500_300_p1_20_100per"
   ]
  },
  {
   "cell_type": "code",
   "execution_count": null,
   "metadata": {
    "collapsed": true
   },
   "outputs": [],
   "source": [
    "samples_md = [md.load(x) for x in samples_unitime_2500_300_p1_20_100per]\n",
    "\n",
    "data = samples_md[0][0]\n",
    "\n",
    "allatoms_data_selection = data.top.select('not element H and resid > 24')\n",
    "samples_md_noNflank_allatoms = []\n",
    "\n",
    "for x in samples_md:\n",
    "    samples_md_noNflank_allatoms.append(x.atom_slice(allatoms_data_selection))\n",
    "    \n",
    "regspace_objects_noNflank_allatoms_5 = []\n",
    "\n",
    "for x in samples_md_noNflank_allatoms:\n",
    "    regspace_objects_noNflank_allatoms_5.append(RegularSpatial(0.5, metric='rmsd'))\n",
    "    regspace_objects_noNflank_allatoms_5[-1].fit(x)\n",
    "    \n",
    "regspace_objects_noNflank_allatoms_3 = []\n",
    "\n",
    "for x in samples_md_noNflank_allatoms:\n",
    "    regspace_objects_noNflank_allatoms_3.append(RegularSpatial(0.3, metric='rmsd'))\n",
    "    regspace_objects_noNflank_allatoms_3[-1].fit(x)    "
   ]
  },
  {
   "cell_type": "code",
   "execution_count": null,
   "metadata": {
    "collapsed": false
   },
   "outputs": [],
   "source": [
    "total = 0\n",
    "for x in regspace_objects_noNflank_allatoms_5:\n",
    "    print(x.n_clusters_)\n",
    "    total += x.n_clusters_\n",
    "print('Total: %f' % total)    "
   ]
  },
  {
   "cell_type": "code",
   "execution_count": null,
   "metadata": {
    "collapsed": false
   },
   "outputs": [],
   "source": [
    "total = 0\n",
    "for x in regspace_objects_noNflank_allatoms_3:\n",
    "    print(x.n_clusters_)\n",
    "    total += x.n_clusters_\n",
    "print('Total: %f' % total)    "
   ]
  },
  {
   "cell_type": "code",
   "execution_count": null,
   "metadata": {
    "collapsed": true
   },
   "outputs": [],
   "source": [
    "centers_5 = []\n",
    "\n",
    "for x in regspace_objects_noNflank_allatoms_5:\n",
    "    centers_5.append(x.cluster_center_indices_)\n",
    "    \n",
    "centers_5_ = []\n",
    "\n",
    "for x in centers_5:\n",
    "    centers_5_.append([])\n",
    "    for y in x:\n",
    "        centers_5_[-1].append(y[0])\n",
    "        \n",
    "centers_5_md = []\n",
    "\n",
    "for i in range(len(centers_5_)):\n",
    "    traj = samples_md[i][centers_5_[i][0]]\n",
    "    if len(centers_5_[i]) > 1:\n",
    "        for x in centers_5_[i][1:]:\n",
    "            traj += samples_md[i][x]\n",
    "    centers_5_md.append(traj)            "
   ]
  },
  {
   "cell_type": "code",
   "execution_count": 10,
   "metadata": {
    "collapsed": true
   },
   "outputs": [],
   "source": [
    "for i in range(len(centers_5_md)):\n",
    "    traj = centers_5_md[i]\n",
    "    traj.save('../macro_sample/unitime_2500_300_p1_20_100per/centers/%s.pdb' % i)  "
   ]
  },
  {
   "cell_type": "code",
   "execution_count": null,
   "metadata": {
    "collapsed": false
   },
   "outputs": [],
   "source": [
    "from collections import Counter\n",
    "\n",
    "glob_output = np.load('../glob_output.npy')\n",
    "glob_output = [x.decode('UTF-8') for x in glob_output]\n",
    "\n",
    "samples = np.load('../macro_sample/unitime_2500_300_p1_20_100per/samples_300_p1_20_100per.npy')\n",
    "\n",
    "run_results = []\n",
    "\n",
    "for macrostate in samples:\n",
    "    macrostate_results = []\n",
    "    for frame in macrostate:\n",
    "        x = glob_output[frame[0]]\n",
    "        y = int(x.split('-')[0][9:])\n",
    "        if x[:5] == '11707':\n",
    "            if y <= 19:\n",
    "                macrostate_results.append('1zkk')\n",
    "            elif y in [20,21] or (y >= 42 and y <= 59):\n",
    "                macrostate_results.append('4ij8')\n",
    "            elif y in [22,25,26,27,28,31,32,33,34,35] or (y >= 60 and y <= 69):\n",
    "                macrostate_results.append('Apo')\n",
    "            elif y in [23,24,29,30,36,37,38,39,40,41] or y >= 70:\n",
    "                macrostate_results.append('Inhibitor')\n",
    "        elif x[:5] == '11709':\n",
    "            if y in [0,2]:\n",
    "                macrostate_results.append('1zkk_apo')\n",
    "            elif y in [1,3]:\n",
    "                macrostate_results.append('4ij8_apo')\n",
    "    \n",
    "    run_results.append(macrostate_results)\n",
    "    \n",
    "run_results_counters = []\n",
    "\n",
    "for x in run_results:\n",
    "    run_results_counters.append(Counter(x))    "
   ]
  },
  {
   "cell_type": "code",
   "execution_count": null,
   "metadata": {
    "collapsed": false
   },
   "outputs": [],
   "source": [
    "run_results_counters"
   ]
  },
  {
   "cell_type": "code",
   "execution_count": 10,
   "metadata": {
    "collapsed": true
   },
   "outputs": [],
   "source": [
    "regspace_5_cluster_center_run_of_origin = []\n",
    "\n",
    "i = 0\n",
    "for macrostate in regspace_objects_noNflank_allatoms_5:\n",
    "    regspace_5_cluster_center_run_of_origin.append([])\n",
    "    for center in macrostate.cluster_center_indices_:\n",
    "        regspace_5_cluster_center_run_of_origin[-1].append(run_results[i][center[0]])\n",
    "    i += 1    "
   ]
  },
  {
   "cell_type": "code",
   "execution_count": 11,
   "metadata": {
    "collapsed": false
   },
   "outputs": [
    {
     "data": {
      "text/plain": [
       "[['Inhibitor'],\n",
       " ['Inhibitor', 'Inhibitor', 'Inhibitor'],\n",
       " ['Apo'],\n",
       " ['Inhibitor', '4ij8_apo'],\n",
       " ['1zkk_apo', 'Inhibitor'],\n",
       " ['4ij8', '4ij8'],\n",
       " ['1zkk_apo', 'Inhibitor', '1zkk_apo'],\n",
       " ['Inhibitor', '1zkk', 'Inhibitor', 'Apo', '1zkk_apo', '4ij8', 'Inhibitor'],\n",
       " ['1zkk', '1zkk_apo', '1zkk'],\n",
       " ['Inhibitor', '1zkk_apo', 'Inhibitor'],\n",
       " ['Inhibitor', 'Inhibitor', 'Apo', '1zkk'],\n",
       " ['Inhibitor', '1zkk', '4ij8_apo', '1zkk', 'Inhibitor', 'Inhibitor', '1zkk'],\n",
       " ['Inhibitor', 'Inhibitor', '1zkk'],\n",
       " ['4ij8_apo', 'Apo', '1zkk', '4ij8_apo', '4ij8', '1zkk_apo'],\n",
       " ['Inhibitor', '4ij8_apo', 'Apo', '1zkk_apo', 'Apo', 'Apo', 'Inhibitor'],\n",
       " ['1zkk',\n",
       "  '1zkk',\n",
       "  '4ij8_apo',\n",
       "  '1zkk_apo',\n",
       "  'Inhibitor',\n",
       "  'Inhibitor',\n",
       "  'Inhibitor',\n",
       "  '4ij8_apo',\n",
       "  '4ij8_apo'],\n",
       " ['1zkk_apo',\n",
       "  'Inhibitor',\n",
       "  'Apo',\n",
       "  '4ij8_apo',\n",
       "  '1zkk',\n",
       "  '1zkk',\n",
       "  'Inhibitor',\n",
       "  '1zkk',\n",
       "  'Apo',\n",
       "  '1zkk',\n",
       "  '1zkk_apo',\n",
       "  '1zkk_apo'],\n",
       " ['1zkk_apo', 'Apo', 'Inhibitor', '1zkk'],\n",
       " ['4ij8',\n",
       "  'Inhibitor',\n",
       "  '1zkk',\n",
       "  'Inhibitor',\n",
       "  '4ij8',\n",
       "  '1zkk_apo',\n",
       "  'Inhibitor',\n",
       "  '4ij8',\n",
       "  '1zkk',\n",
       "  '1zkk',\n",
       "  '4ij8',\n",
       "  '1zkk_apo'],\n",
       " ['Apo',\n",
       "  '4ij8',\n",
       "  '1zkk_apo',\n",
       "  '4ij8',\n",
       "  '1zkk',\n",
       "  'Apo',\n",
       "  '1zkk_apo',\n",
       "  '4ij8',\n",
       "  'Apo',\n",
       "  '1zkk',\n",
       "  'Apo',\n",
       "  '1zkk',\n",
       "  '1zkk_apo']]"
      ]
     },
     "execution_count": 11,
     "metadata": {},
     "output_type": "execute_result"
    }
   ],
   "source": [
    "regspace_5_cluster_center_run_of_origin"
   ]
  },
  {
   "cell_type": "code",
   "execution_count": 10,
   "metadata": {
    "collapsed": true
   },
   "outputs": [],
   "source": [
    "regspace_dtrajs = []\n",
    "\n",
    "for i in range(len(samples_md_noNflank_allatoms)):\n",
    "    samples = samples_md_noNflank_allatoms[i]\n",
    "    regspace_dtrajs.append(regspace_objects_noNflank_allatoms_5[i].transform(samples))\n",
    "    \n",
    "regspace_frames = []\n",
    "\n",
    "for x in regspace_dtrajs:\n",
    "    regspace_frames.append([])\n",
    "    for y in x:\n",
    "        regspace_frames[-1].append(y[0])\n",
    "        \n",
    "regspace_5_by_cluster_runs_of_origin = []\n",
    "\n",
    "for i in range(len(regspace_frames)):\n",
    "    clusters = regspace_frames[i]\n",
    "    runs = run_results[i]\n",
    "    \n",
    "    regspace_5_by_cluster_runs_of_origin.append(dict())\n",
    "    for j in range(len(clusters)):\n",
    "        if clusters[j] not in regspace_5_by_cluster_runs_of_origin[-1]:\n",
    "            regspace_5_by_cluster_runs_of_origin[-1][clusters[j]] = [runs[j]]\n",
    "        else:\n",
    "            regspace_5_by_cluster_runs_of_origin[-1][clusters[j]].append(runs[j])\n",
    "            \n",
    "regspace_5_by_cluster_runs_of_origin_counters = []\n",
    "\n",
    "for macrostate in regspace_5_by_cluster_runs_of_origin:\n",
    "    regspace_5_by_cluster_runs_of_origin_counters.append(dict())\n",
    "    for cluster in macrostate:\n",
    "        regspace_5_by_cluster_runs_of_origin_counters[-1][cluster] = Counter(macrostate[cluster])            "
   ]
  },
  {
   "cell_type": "code",
   "execution_count": 11,
   "metadata": {
    "collapsed": false
   },
   "outputs": [
    {
     "data": {
      "text/plain": [
       "[{0: Counter({'Inhibitor': 100})},\n",
       " {0: Counter({'1zkk': 1, 'Inhibitor': 78}),\n",
       "  1: Counter({'Inhibitor': 19}),\n",
       "  2: Counter({'Inhibitor': 2})},\n",
       " {0: Counter({'4ij8': 3, 'Apo': 97})},\n",
       " {0: Counter({'4ij8': 3, 'Inhibitor': 95}), 1: Counter({'4ij8_apo': 2})},\n",
       " {0: Counter({'1zkk_apo': 97, 'Inhibitor': 1}), 1: Counter({'Inhibitor': 2})},\n",
       " {0: Counter({'4ij8': 76}), 1: Counter({'4ij8': 24})},\n",
       " {0: Counter({'1zkk_apo': 54}),\n",
       "  1: Counter({'1zkk_apo': 1, 'Inhibitor': 43}),\n",
       "  2: Counter({'1zkk_apo': 2})},\n",
       " {0: Counter({'Apo': 7, 'Inhibitor': 22}),\n",
       "  1: Counter({'1zkk': 13, 'Apo': 7, 'Inhibitor': 8}),\n",
       "  2: Counter({'1zkk': 6, '4ij8': 1, 'Apo': 1, 'Inhibitor': 5}),\n",
       "  3: Counter({'4ij8': 1, 'Apo': 8, 'Inhibitor': 2}),\n",
       "  4: Counter({'1zkk_apo': 1}),\n",
       "  5: Counter({'4ij8': 8, 'Inhibitor': 4}),\n",
       "  6: Counter({'1zkk': 2, 'Apo': 3, 'Inhibitor': 1})},\n",
       " {0: Counter({'1zkk': 57, '4ij8': 2}),\n",
       "  1: Counter({'1zkk': 4, '1zkk_apo': 29}),\n",
       "  2: Counter({'1zkk': 8})},\n",
       " {0: Counter({'Inhibitor': 13}),\n",
       "  1: Counter({'1zkk': 14,\n",
       "           '1zkk_apo': 6,\n",
       "           '4ij8': 18,\n",
       "           '4ij8_apo': 21,\n",
       "           'Apo': 17}),\n",
       "  2: Counter({'4ij8': 4, '4ij8_apo': 3, 'Inhibitor': 4})},\n",
       " {0: Counter({'1zkk': 8, '4ij8': 1, 'Apo': 16, 'Inhibitor': 17}),\n",
       "  1: Counter({'1zkk': 6, '4ij8': 4, 'Apo': 5, 'Inhibitor': 38}),\n",
       "  2: Counter({'Apo': 3}),\n",
       "  3: Counter({'1zkk': 2})},\n",
       " {0: Counter({'1zkk_apo': 7, 'Inhibitor': 9}),\n",
       "  1: Counter({'1zkk': 23, '4ij8': 3}),\n",
       "  2: Counter({'4ij8_apo': 30}),\n",
       "  3: Counter({'1zkk': 5}),\n",
       "  4: Counter({'Inhibitor': 13}),\n",
       "  5: Counter({'Inhibitor': 1}),\n",
       "  6: Counter({'1zkk': 8, '4ij8': 1})},\n",
       " {0: Counter({'1zkk': 1, '4ij8': 13, 'Inhibitor': 27}),\n",
       "  1: Counter({'Inhibitor': 58}),\n",
       "  2: Counter({'1zkk': 1})},\n",
       " {0: Counter({'4ij8_apo': 33, 'Apo': 2, 'Inhibitor': 7}),\n",
       "  1: Counter({'Apo': 5}),\n",
       "  2: Counter({'1zkk': 6, '1zkk_apo': 13, '4ij8_apo': 1, 'Apo': 1}),\n",
       "  3: Counter({'1zkk': 3, '4ij8_apo': 15, 'Inhibitor': 2}),\n",
       "  4: Counter({'4ij8': 8, '4ij8_apo': 2, 'Apo': 1}),\n",
       "  5: Counter({'1zkk_apo': 1})},\n",
       " {0: Counter({'1zkk': 5,\n",
       "           '1zkk_apo': 6,\n",
       "           '4ij8': 7,\n",
       "           '4ij8_apo': 13,\n",
       "           'Apo': 2,\n",
       "           'Inhibitor': 4}),\n",
       "  1: Counter({'1zkk': 4,\n",
       "           '1zkk_apo': 1,\n",
       "           '4ij8': 2,\n",
       "           '4ij8_apo': 3,\n",
       "           'Apo': 1,\n",
       "           'Inhibitor': 2}),\n",
       "  2: Counter({'1zkk': 7,\n",
       "           '1zkk_apo': 3,\n",
       "           '4ij8': 7,\n",
       "           '4ij8_apo': 13,\n",
       "           'Apo': 9,\n",
       "           'Inhibitor': 5}),\n",
       "  3: Counter({'1zkk_apo': 1, '4ij8': 1}),\n",
       "  4: Counter({'Apo': 2}),\n",
       "  5: Counter({'Apo': 1}),\n",
       "  6: Counter({'Inhibitor': 1})},\n",
       " {0: Counter({'1zkk': 9, '4ij8': 1, 'Apo': 8, 'Inhibitor': 8}),\n",
       "  1: Counter({'1zkk': 14,\n",
       "           '4ij8': 9,\n",
       "           '4ij8_apo': 1,\n",
       "           'Apo': 13,\n",
       "           'Inhibitor': 14}),\n",
       "  2: Counter({'1zkk_apo': 2, '4ij8': 1, '4ij8_apo': 2, 'Apo': 2}),\n",
       "  3: Counter({'1zkk_apo': 1}),\n",
       "  4: Counter({'1zkk': 1, '4ij8': 1, 'Apo': 2, 'Inhibitor': 1}),\n",
       "  5: Counter({'Apo': 1, 'Inhibitor': 2}),\n",
       "  6: Counter({'4ij8': 1, 'Inhibitor': 1}),\n",
       "  7: Counter({'4ij8_apo': 2}),\n",
       "  8: Counter({'4ij8_apo': 1, 'Apo': 1, 'Inhibitor': 1})},\n",
       " {0: Counter({'1zkk': 11,\n",
       "           '1zkk_apo': 14,\n",
       "           '4ij8': 9,\n",
       "           '4ij8_apo': 4,\n",
       "           'Apo': 9,\n",
       "           'Inhibitor': 7}),\n",
       "  1: Counter({'1zkk_apo': 1, '4ij8': 4, 'Apo': 2, 'Inhibitor': 3}),\n",
       "  2: Counter({'Apo': 2}),\n",
       "  3: Counter({'1zkk_apo': 1, '4ij8_apo': 1, 'Apo': 1}),\n",
       "  4: Counter({'1zkk': 2, 'Apo': 2}),\n",
       "  5: Counter({'1zkk': 1, '1zkk_apo': 3, '4ij8': 2, 'Apo': 2}),\n",
       "  6: Counter({'1zkk': 1, 'Inhibitor': 1}),\n",
       "  7: Counter({'1zkk': 2, '1zkk_apo': 2, '4ij8': 1, 'Apo': 1}),\n",
       "  8: Counter({'Apo': 2}),\n",
       "  9: Counter({'1zkk': 1}),\n",
       "  10: Counter({'1zkk': 2, '1zkk_apo': 2, '4ij8': 2, 'Apo': 1}),\n",
       "  11: Counter({'1zkk_apo': 1})},\n",
       " {0: Counter({'1zkk': 2,\n",
       "           '1zkk_apo': 7,\n",
       "           '4ij8': 1,\n",
       "           '4ij8_apo': 4,\n",
       "           'Apo': 5,\n",
       "           'Inhibitor': 3}),\n",
       "  1: Counter({'1zkk': 4,\n",
       "           '1zkk_apo': 10,\n",
       "           '4ij8': 4,\n",
       "           '4ij8_apo': 14,\n",
       "           'Apo': 11,\n",
       "           'Inhibitor': 11}),\n",
       "  2: Counter({'1zkk': 1,\n",
       "           '1zkk_apo': 2,\n",
       "           '4ij8': 3,\n",
       "           '4ij8_apo': 5,\n",
       "           'Apo': 5,\n",
       "           'Inhibitor': 3}),\n",
       "  3: Counter({'1zkk': 2, '4ij8_apo': 2, 'Apo': 1})},\n",
       " {0: Counter({'1zkk': 1, '4ij8': 4, '4ij8_apo': 1, 'Apo': 4}),\n",
       "  1: Counter({'1zkk': 1,\n",
       "           '1zkk_apo': 2,\n",
       "           '4ij8_apo': 5,\n",
       "           'Apo': 1,\n",
       "           'Inhibitor': 3}),\n",
       "  2: Counter({'1zkk': 5,\n",
       "           '1zkk_apo': 3,\n",
       "           '4ij8': 4,\n",
       "           '4ij8_apo': 2,\n",
       "           'Apo': 4,\n",
       "           'Inhibitor': 3}),\n",
       "  3: Counter({'1zkk': 1, '1zkk_apo': 2, '4ij8_apo': 1, 'Inhibitor': 2}),\n",
       "  4: Counter({'1zkk': 1, '1zkk_apo': 2, '4ij8': 2, 'Inhibitor': 1}),\n",
       "  5: Counter({'1zkk': 1,\n",
       "           '1zkk_apo': 3,\n",
       "           '4ij8': 2,\n",
       "           '4ij8_apo': 5,\n",
       "           'Inhibitor': 2}),\n",
       "  6: Counter({'Inhibitor': 1}),\n",
       "  7: Counter({'1zkk_apo': 1, '4ij8': 1, '4ij8_apo': 1}),\n",
       "  8: Counter({'1zkk': 1, '4ij8': 1, 'Apo': 1}),\n",
       "  9: Counter({'1zkk': 8,\n",
       "           '1zkk_apo': 2,\n",
       "           '4ij8': 4,\n",
       "           '4ij8_apo': 2,\n",
       "           'Apo': 2,\n",
       "           'Inhibitor': 3}),\n",
       "  10: Counter({'4ij8': 2, '4ij8_apo': 1}),\n",
       "  11: Counter({'1zkk_apo': 1})},\n",
       " {0: Counter({'1zkk': 5,\n",
       "           '1zkk_apo': 7,\n",
       "           '4ij8': 4,\n",
       "           '4ij8_apo': 4,\n",
       "           'Apo': 1,\n",
       "           'Inhibitor': 7}),\n",
       "  1: Counter({'1zkk': 4, '4ij8': 4, 'Inhibitor': 2}),\n",
       "  2: Counter({'1zkk': 4, '1zkk_apo': 6, '4ij8': 1, 'Apo': 6, 'Inhibitor': 1}),\n",
       "  3: Counter({'4ij8': 1}),\n",
       "  4: Counter({'1zkk': 3, '4ij8': 5, 'Inhibitor': 2}),\n",
       "  5: Counter({'4ij8': 1, '4ij8_apo': 1, 'Apo': 2}),\n",
       "  6: Counter({'1zkk_apo': 1, '4ij8': 1}),\n",
       "  7: Counter({'4ij8': 3, 'Inhibitor': 2}),\n",
       "  8: Counter({'1zkk': 1,\n",
       "           '1zkk_apo': 2,\n",
       "           '4ij8': 1,\n",
       "           '4ij8_apo': 2,\n",
       "           'Apo': 3,\n",
       "           'Inhibitor': 3}),\n",
       "  9: Counter({'1zkk': 1}),\n",
       "  10: Counter({'4ij8': 2, 'Apo': 1}),\n",
       "  11: Counter({'1zkk': 1, 'Inhibitor': 1}),\n",
       "  12: Counter({'1zkk': 3, '1zkk_apo': 1})}]"
      ]
     },
     "execution_count": 11,
     "metadata": {},
     "output_type": "execute_result"
    }
   ],
   "source": [
    "regspace_5_by_cluster_runs_of_origin_counters"
   ]
  },
  {
   "cell_type": "code",
   "execution_count": 11,
   "metadata": {
    "collapsed": true
   },
   "outputs": [],
   "source": [
    "# samples_unitime_2500_300_p1_50_100per"
   ]
  },
  {
   "cell_type": "code",
   "execution_count": 23,
   "metadata": {
    "collapsed": true
   },
   "outputs": [],
   "source": [
    "samples_md = [md.load(x) for x in samples_unitime_2500_300_p1_50_100per]\n",
    "\n",
    "data = samples_md[0][0]\n",
    "\n",
    "allatoms_data_selection = data.top.select('not element H and resid > 24')\n",
    "samples_md_noNflank_allatoms = []\n",
    "\n",
    "for x in samples_md:\n",
    "    samples_md_noNflank_allatoms.append(x.atom_slice(allatoms_data_selection))\n",
    "    \n",
    "regspace_objects_noNflank_allatoms_5 = []\n",
    "\n",
    "for x in samples_md_noNflank_allatoms:\n",
    "    regspace_objects_noNflank_allatoms_5.append(RegularSpatial(0.5, metric='rmsd'))\n",
    "    regspace_objects_noNflank_allatoms_5[-1].fit(x)\n",
    "    \n",
    "regspace_objects_noNflank_allatoms_3 = []\n",
    "\n",
    "for x in samples_md_noNflank_allatoms:\n",
    "    regspace_objects_noNflank_allatoms_3.append(RegularSpatial(0.3, metric='rmsd'))\n",
    "    regspace_objects_noNflank_allatoms_3[-1].fit(x)    "
   ]
  },
  {
   "cell_type": "code",
   "execution_count": 13,
   "metadata": {
    "collapsed": false
   },
   "outputs": [
    {
     "name": "stdout",
     "output_type": "stream",
     "text": [
      "1\n",
      "1\n",
      "1\n",
      "2\n",
      "1\n",
      "1\n",
      "2\n",
      "1\n",
      "3\n",
      "2\n",
      "1\n",
      "5\n",
      "2\n",
      "1\n",
      "1\n",
      "2\n",
      "2\n",
      "2\n",
      "1\n",
      "1\n",
      "1\n",
      "1\n",
      "3\n",
      "14\n",
      "5\n",
      "2\n",
      "4\n",
      "2\n",
      "1\n",
      "1\n",
      "3\n",
      "2\n",
      "1\n",
      "5\n",
      "5\n",
      "2\n",
      "8\n",
      "3\n",
      "1\n",
      "4\n",
      "4\n",
      "4\n",
      "7\n",
      "7\n",
      "9\n",
      "10\n",
      "9\n",
      "11\n",
      "19\n",
      "6\n",
      "Total: 187.000000\n"
     ]
    }
   ],
   "source": [
    "total = 0\n",
    "for x in regspace_objects_noNflank_allatoms_5:\n",
    "    print(x.n_clusters_)\n",
    "    total += x.n_clusters_\n",
    "print('Total: %f' % total)    "
   ]
  },
  {
   "cell_type": "code",
   "execution_count": 14,
   "metadata": {
    "collapsed": false
   },
   "outputs": [
    {
     "name": "stdout",
     "output_type": "stream",
     "text": [
      "1\n",
      "4\n",
      "6\n",
      "10\n",
      "4\n",
      "6\n",
      "5\n",
      "12\n",
      "11\n",
      "5\n",
      "4\n",
      "23\n",
      "6\n",
      "3\n",
      "3\n",
      "15\n",
      "15\n",
      "9\n",
      "5\n",
      "6\n",
      "6\n",
      "8\n",
      "7\n",
      "49\n",
      "21\n",
      "8\n",
      "23\n",
      "11\n",
      "5\n",
      "5\n",
      "19\n",
      "7\n",
      "15\n",
      "21\n",
      "20\n",
      "8\n",
      "37\n",
      "21\n",
      "12\n",
      "23\n",
      "13\n",
      "31\n",
      "26\n",
      "20\n",
      "54\n",
      "49\n",
      "76\n",
      "79\n",
      "94\n",
      "79\n",
      "Total: 1000.000000\n"
     ]
    }
   ],
   "source": [
    "total = 0\n",
    "for x in regspace_objects_noNflank_allatoms_3:\n",
    "    print(x.n_clusters_)\n",
    "    total += x.n_clusters_\n",
    "print('Total: %f' % total)    "
   ]
  },
  {
   "cell_type": "code",
   "execution_count": 24,
   "metadata": {
    "collapsed": true
   },
   "outputs": [],
   "source": [
    "centers_5 = []\n",
    "\n",
    "for x in regspace_objects_noNflank_allatoms_5:\n",
    "    centers_5.append(x.cluster_center_indices_)\n",
    "    \n",
    "centers_5_ = []\n",
    "\n",
    "for x in centers_5:\n",
    "    centers_5_.append([])\n",
    "    for y in x:\n",
    "        centers_5_[-1].append(y[0])\n",
    "        \n",
    "centers_5_md = []\n",
    "\n",
    "for i in range(len(centers_5_)):\n",
    "    traj = samples_md[i][centers_5_[i][0]]\n",
    "    if len(centers_5_[i]) > 1:\n",
    "        for x in centers_5_[i][1:]:\n",
    "            traj += samples_md[i][x]\n",
    "    centers_5_md.append(traj)            "
   ]
  },
  {
   "cell_type": "code",
   "execution_count": 25,
   "metadata": {
    "collapsed": true
   },
   "outputs": [],
   "source": [
    "for i in range(len(centers_5_md)):\n",
    "    traj = centers_5_md[i]\n",
    "    traj.save('../macro_sample/unitime_2500_300_p1_50_100per/centers/%s.pdb' % i)  "
   ]
  },
  {
   "cell_type": "code",
   "execution_count": 26,
   "metadata": {
    "collapsed": true
   },
   "outputs": [],
   "source": [
    "from collections import Counter\n",
    "\n",
    "glob_output = np.load('../glob_output.npy')\n",
    "glob_output = [x.decode('UTF-8') for x in glob_output]\n",
    "\n",
    "samples = np.load('../macro_sample/unitime_2500_300_p1_50_100per/samples_300_p1_50_100per.npy')\n",
    "\n",
    "run_results = []\n",
    "\n",
    "for macrostate in samples:\n",
    "    macrostate_results = []\n",
    "    for frame in macrostate:\n",
    "        x = glob_output[frame[0]]\n",
    "        y = int(x.split('-')[0][9:])\n",
    "        if x[:5] == '11707':\n",
    "            if y <= 19:\n",
    "                macrostate_results.append('1zkk')\n",
    "            elif y in [20,21] or (y >= 42 and y <= 59):\n",
    "                macrostate_results.append('4ij8')\n",
    "            elif y in [22,25,26,27,28,31,32,33,34,35] or (y >= 60 and y <= 69):\n",
    "                macrostate_results.append('Apo')\n",
    "            elif y in [23,24,29,30,36,37,38,39,40,41] or y >= 70:\n",
    "                macrostate_results.append('Inhibitor')\n",
    "        elif x[:5] == '11709':\n",
    "            if y in [0,2]:\n",
    "                macrostate_results.append('1zkk_apo')\n",
    "            elif y in [1,3]:\n",
    "                macrostate_results.append('4ij8_apo')\n",
    "    \n",
    "    run_results.append(macrostate_results)\n",
    "    \n",
    "run_results_counters = []\n",
    "\n",
    "for x in run_results:\n",
    "    run_results_counters.append(Counter(x))    "
   ]
  },
  {
   "cell_type": "code",
   "execution_count": 27,
   "metadata": {
    "collapsed": false
   },
   "outputs": [
    {
     "data": {
      "text/plain": [
       "[Counter({'4ij8_apo': 5, 'Apo': 95}),\n",
       " Counter({'Inhibitor': 100}),\n",
       " Counter({'1zkk': 100}),\n",
       " Counter({'4ij8': 98, 'Inhibitor': 2}),\n",
       " Counter({'4ij8': 94, '4ij8_apo': 6}),\n",
       " Counter({'1zkk': 97, 'Apo': 3}),\n",
       " Counter({'1zkk_apo': 1, '4ij8_apo': 95, 'Inhibitor': 4}),\n",
       " Counter({'Inhibitor': 100}),\n",
       " Counter({'1zkk_apo': 96, '4ij8_apo': 3, 'Apo': 1}),\n",
       " Counter({'Inhibitor': 100}),\n",
       " Counter({'4ij8': 1, 'Apo': 99}),\n",
       " Counter({'1zkk': 14, '1zkk_apo': 32, '4ij8': 22, 'Inhibitor': 32}),\n",
       " Counter({'1zkk': 1, 'Apo': 5, 'Inhibitor': 94}),\n",
       " Counter({'Inhibitor': 100}),\n",
       " Counter({'4ij8': 3, 'Inhibitor': 97}),\n",
       " Counter({'1zkk': 4,\n",
       "          '1zkk_apo': 2,\n",
       "          '4ij8': 56,\n",
       "          '4ij8_apo': 33,\n",
       "          'Apo': 3,\n",
       "          'Inhibitor': 2}),\n",
       " Counter({'1zkk': 12, 'Apo': 87, 'Inhibitor': 1}),\n",
       " Counter({'1zkk_apo': 98, 'Inhibitor': 2}),\n",
       " Counter({'4ij8': 99, 'Apo': 1}),\n",
       " Counter({'Inhibitor': 100}),\n",
       " Counter({'1zkk': 37, 'Apo': 62, 'Inhibitor': 1}),\n",
       " Counter({'1zkk': 9, 'Apo': 91}),\n",
       " Counter({'4ij8': 98, 'Apo': 2}),\n",
       " Counter({'1zkk': 20, '1zkk_apo': 2, '4ij8': 41, '4ij8_apo': 1, 'Apo': 36}),\n",
       " Counter({'1zkk': 5, '1zkk_apo': 90, '4ij8': 1, 'Inhibitor': 4}),\n",
       " Counter({'1zkk': 1, '1zkk_apo': 8, '4ij8': 91}),\n",
       " Counter({'1zkk_apo': 52, 'Inhibitor': 48}),\n",
       " Counter({'1zkk': 70, '1zkk_apo': 29, '4ij8_apo': 1}),\n",
       " Counter({'1zkk': 96, '4ij8': 2, 'Apo': 2}),\n",
       " Counter({'Inhibitor': 100}),\n",
       " Counter({'1zkk': 19,\n",
       "          '1zkk_apo': 24,\n",
       "          '4ij8': 26,\n",
       "          '4ij8_apo': 16,\n",
       "          'Inhibitor': 15}),\n",
       " Counter({'4ij8': 99, 'Inhibitor': 1}),\n",
       " Counter({'1zkk': 18, '1zkk_apo': 36, '4ij8': 19, 'Apo': 7, 'Inhibitor': 20}),\n",
       " Counter({'1zkk': 41, '4ij8': 14, '4ij8_apo': 45}),\n",
       " Counter({'1zkk': 24, '4ij8_apo': 66, 'Apo': 10}),\n",
       " Counter({'Apo': 100}),\n",
       " Counter({'1zkk': 23,\n",
       "          '1zkk_apo': 11,\n",
       "          '4ij8': 25,\n",
       "          '4ij8_apo': 9,\n",
       "          'Apo': 17,\n",
       "          'Inhibitor': 15}),\n",
       " Counter({'1zkk': 26, '4ij8': 2, '4ij8_apo': 72}),\n",
       " Counter({'1zkk': 1, '4ij8': 15, 'Inhibitor': 84}),\n",
       " Counter({'1zkk': 5, '1zkk_apo': 3, '4ij8': 90, '4ij8_apo': 2}),\n",
       " Counter({'1zkk': 91, '4ij8': 8, '4ij8_apo': 1}),\n",
       " Counter({'1zkk': 17, '4ij8': 63, 'Apo': 18, 'Inhibitor': 2}),\n",
       " Counter({'1zkk': 19, '4ij8': 20, '4ij8_apo': 22, 'Apo': 39}),\n",
       " Counter({'1zkk_apo': 1, '4ij8_apo': 31, 'Apo': 29, 'Inhibitor': 39}),\n",
       " Counter({'1zkk': 18,\n",
       "          '1zkk_apo': 12,\n",
       "          '4ij8': 17,\n",
       "          '4ij8_apo': 30,\n",
       "          'Apo': 10,\n",
       "          'Inhibitor': 13}),\n",
       " Counter({'1zkk': 17, '1zkk_apo': 7, '4ij8': 2, 'Apo': 46, 'Inhibitor': 28}),\n",
       " Counter({'1zkk': 20, '4ij8': 14, 'Apo': 36, 'Inhibitor': 30}),\n",
       " Counter({'1zkk': 17,\n",
       "          '1zkk_apo': 29,\n",
       "          '4ij8': 8,\n",
       "          '4ij8_apo': 12,\n",
       "          'Apo': 13,\n",
       "          'Inhibitor': 21}),\n",
       " Counter({'1zkk': 17,\n",
       "          '1zkk_apo': 17,\n",
       "          '4ij8': 30,\n",
       "          '4ij8_apo': 5,\n",
       "          'Apo': 10,\n",
       "          'Inhibitor': 21}),\n",
       " Counter({'1zkk': 12,\n",
       "          '1zkk_apo': 19,\n",
       "          '4ij8': 8,\n",
       "          '4ij8_apo': 24,\n",
       "          'Apo': 18,\n",
       "          'Inhibitor': 19})]"
      ]
     },
     "execution_count": 27,
     "metadata": {},
     "output_type": "execute_result"
    }
   ],
   "source": [
    "run_results_counters"
   ]
  },
  {
   "cell_type": "code",
   "execution_count": 1,
   "metadata": {
    "collapsed": true
   },
   "outputs": [],
   "source": [
    "# ok back here to correct Shi analysis heatmaps for 1000 and 2500"
   ]
  },
  {
   "cell_type": "code",
   "execution_count": 3,
   "metadata": {
    "collapsed": false
   },
   "outputs": [],
   "source": [
    "samples_200_p3_20_100per = glob.glob('../macro_sample/200_p3_20_100per/*.pdb')"
   ]
  },
  {
   "cell_type": "code",
   "execution_count": 4,
   "metadata": {
    "collapsed": false
   },
   "outputs": [],
   "source": [
    "samples_md = [md.load(x) for x in samples_200_p3_20_100per]"
   ]
  },
  {
   "cell_type": "code",
   "execution_count": 5,
   "metadata": {
    "collapsed": false
   },
   "outputs": [],
   "source": [
    "data = samples_md[0][0]"
   ]
  },
  {
   "cell_type": "code",
   "execution_count": 6,
   "metadata": {
    "collapsed": false
   },
   "outputs": [],
   "source": [
    "allatoms_data_selection = data.top.select('not element H and resid > 24')\n",
    "samples_md_noNflank_allatoms = []\n",
    "\n",
    "for x in samples_md:\n",
    "    samples_md_noNflank_allatoms.append(x.atom_slice(allatoms_data_selection))"
   ]
  },
  {
   "cell_type": "code",
   "execution_count": 7,
   "metadata": {
    "collapsed": false
   },
   "outputs": [],
   "source": [
    "regspace_objects_noNflank_allatoms_5 = []\n",
    "\n",
    "for x in samples_md_noNflank_allatoms:\n",
    "    regspace_objects_noNflank_allatoms_5.append(RegularSpatial(0.5, metric='rmsd'))\n",
    "    regspace_objects_noNflank_allatoms_5[-1].fit(x)"
   ]
  },
  {
   "cell_type": "code",
   "execution_count": 8,
   "metadata": {
    "collapsed": false
   },
   "outputs": [],
   "source": [
    "regspace_dtrajs = []\n",
    "\n",
    "for i in range(len(samples_md_noNflank_allatoms)):\n",
    "    samples = samples_md_noNflank_allatoms[i]\n",
    "    regspace_dtrajs.append(regspace_objects_noNflank_allatoms_5[i].transform(samples))"
   ]
  },
  {
   "cell_type": "code",
   "execution_count": 9,
   "metadata": {
    "collapsed": true
   },
   "outputs": [],
   "source": [
    "from collections import Counter"
   ]
  },
  {
   "cell_type": "code",
   "execution_count": 10,
   "metadata": {
    "collapsed": true
   },
   "outputs": [],
   "source": [
    "regspace_frames = []\n",
    "\n",
    "for x in regspace_dtrajs:\n",
    "    regspace_frames.append([])\n",
    "    for y in x:\n",
    "        regspace_frames[-1].append(y[0])"
   ]
  },
  {
   "cell_type": "code",
   "execution_count": 11,
   "metadata": {
    "collapsed": false
   },
   "outputs": [
    {
     "data": {
      "text/plain": [
       "20"
      ]
     },
     "execution_count": 11,
     "metadata": {},
     "output_type": "execute_result"
    }
   ],
   "source": [
    "len(regspace_frames)"
   ]
  },
  {
   "cell_type": "code",
   "execution_count": 12,
   "metadata": {
    "collapsed": true
   },
   "outputs": [],
   "source": [
    "regspace_counters = []\n",
    "\n",
    "for x in regspace_frames:\n",
    "    regspace_counters.append(Counter(x))"
   ]
  },
  {
   "cell_type": "code",
   "execution_count": 13,
   "metadata": {
    "collapsed": true
   },
   "outputs": [],
   "source": [
    "msm_populations = np.array([ 0.00937809,  0.00511237,  0.00532692,  0.03194538,  0.01459391,\n",
    "        0.01911732,  0.0277873 ,  0.00540315,  0.05325258,  0.01245424,\n",
    "        0.02232931,  0.01905987,  0.01439557,  0.17017188,  0.08234085,\n",
    "        0.04125468,  0.07237103,  0.21521267,  0.0586633 ,  0.11982958])"
   ]
  },
  {
   "cell_type": "code",
   "execution_count": 14,
   "metadata": {
    "collapsed": true
   },
   "outputs": [],
   "source": [
    "shi_data = np.array([\n",
    "[[],['2-1, 2-3, 2-5, 5-5, 13-5'],['5-12, 9-7'],['5-4'],[],['5-7, 6-9'],['6-1, 6-6'],['5-8, 5-10, 6-8, 13-7, 14-5']],\n",
    "[[],['2-6, 3-3, 3-5, 8-5, 11-1, 11-3, 11-5'],['2-2, 2-4, 5-1, 5-2, 8-2, 8-4, 9-2, 9-3, 10-2'],['3-1, 10-3, 13-8, 14-7'],['9-5'],['5-11, 6-3, 14-2'],['6-2'],['6-7, 14-8']],\n",
    "[[],['0-2, 3-4, 5-9, 8-1, 8-3, 10-4, 11-4, 13-1, 13-2, 13-10, 16-4'],['3-2, 5-6, 10-1, 16-6'],['0-1, 0-4, 13-9'],[],['0-3'],[],[]],\n",
    "[['5-3'],['8-6, 11-6, 13-11, 16-9'],['1-2, 9-4, 15-7'],['13-3, 13-4, 18-5'],[],['1-1, 6-4'],['14-1, 14-10'],['6-5, 14-4']],\n",
    "[[],['4-2, 4-3, 7-2, 9-1, 9-6, 10-5, 13-6, 14-9, 16-10, 18-3, 19-3'],['4-1, 16-1, 16-7, 18-1, 19-1, 19-10'],['11-2, 12-1, 12-2, 12-3, 12-4, 12-6, 14-3, 15-2, 15-6, 16-2, 16-5, 18-4, 18-6, 19-7, 19-9'],[],['7-1, 15-9, 15-10, 15-11, 17-5, 18-7, 19-6'],['17-1'],['14-6, 15-5, 17-2']],\n",
    "[[],['12-5, 15-4, 15-8, 16-8, 18-2, 19-2, 19-4, 19-8, 19-11'],[],['15-1, 15-3, 16-3, 17-4'],[],[],[],['17-3, 19-5']],\n",
    "[[],[],[],[],[],[],[],[]],\n",
    "])         "
   ]
  },
  {
   "cell_type": "code",
   "execution_count": 15,
   "metadata": {
    "collapsed": false
   },
   "outputs": [],
   "source": [
    "shi_data2 = np.empty((7,8)).tolist()\n",
    "\n",
    "for i in range(7):\n",
    "    for j in range(8):\n",
    "        if shi_data[i,j] == []:\n",
    "            shi_data2[i][j] = []\n",
    "        else:    \n",
    "            shi_data2[i][j] = shi_data[i,j][0].split(', ')\n",
    "            \n",
    "shi_data2 = np.asarray(shi_data2)            "
   ]
  },
  {
   "cell_type": "code",
   "execution_count": 16,
   "metadata": {
    "collapsed": true
   },
   "outputs": [],
   "source": [
    "shi_data = shi_data2"
   ]
  },
  {
   "cell_type": "code",
   "execution_count": 17,
   "metadata": {
    "collapsed": true
   },
   "outputs": [],
   "source": [
    "shi_data_corrected = np.zeros((7,8))"
   ]
  },
  {
   "cell_type": "code",
   "execution_count": 18,
   "metadata": {
    "collapsed": true
   },
   "outputs": [],
   "source": [
    "for i in range(7):\n",
    "    for j in range(8):\n",
    "        data = shi_data[i,j]\n",
    "        data_split = [x.split('-') for x in data]\n",
    "        result = 0\n",
    "        for y in data_split:\n",
    "            result += msm_populations[int(y[0])] * (regspace_counters[int(y[0])][int(y[1])-1] / np.sum(list(regspace_counters[int(y[0])].values())))\n",
    "        shi_data_corrected[i,j] = result"
   ]
  },
  {
   "cell_type": "code",
   "execution_count": 19,
   "metadata": {
    "collapsed": false
   },
   "outputs": [
    {
     "data": {
      "text/plain": [
       "1.0"
      ]
     },
     "execution_count": 19,
     "metadata": {},
     "output_type": "execute_result"
    }
   ],
   "source": [
    "np.sum(shi_data_corrected)"
   ]
  },
  {
   "cell_type": "code",
   "execution_count": null,
   "metadata": {
    "collapsed": true
   },
   "outputs": [],
   "source": [
    "# hmmm double check this - pretty low"
   ]
  },
  {
   "cell_type": "code",
   "execution_count": null,
   "metadata": {
    "collapsed": true
   },
   "outputs": [],
   "source": [
    "# double checking"
   ]
  },
  {
   "cell_type": "code",
   "execution_count": 84,
   "metadata": {
    "collapsed": false
   },
   "outputs": [
    {
     "data": {
      "text/plain": [
       "138"
      ]
     },
     "execution_count": 84,
     "metadata": {},
     "output_type": "execute_result"
    }
   ],
   "source": [
    "n = 0\n",
    "\n",
    "for x in shi_data:\n",
    "    for y in x:\n",
    "        n += len(y)\n",
    "        \n",
    "n        "
   ]
  },
  {
   "cell_type": "code",
   "execution_count": 86,
   "metadata": {
    "collapsed": false
   },
   "outputs": [
    {
     "data": {
      "text/plain": [
       "RegularSpatial(d_min=0.5, metric='rmsd')"
      ]
     },
     "execution_count": 86,
     "metadata": {},
     "output_type": "execute_result"
    }
   ],
   "source": [
    "regspace_objects_noNflank_allatoms_5[0]"
   ]
  },
  {
   "cell_type": "code",
   "execution_count": 88,
   "metadata": {
    "collapsed": false
   },
   "outputs": [
    {
     "data": {
      "text/plain": [
       "4"
      ]
     },
     "execution_count": 88,
     "metadata": {},
     "output_type": "execute_result"
    }
   ],
   "source": [
    "regspace_objects_noNflank_allatoms_5[0].n_clusters_"
   ]
  },
  {
   "cell_type": "code",
   "execution_count": 89,
   "metadata": {
    "collapsed": false
   },
   "outputs": [
    {
     "data": {
      "text/plain": [
       "138"
      ]
     },
     "execution_count": 89,
     "metadata": {},
     "output_type": "execute_result"
    }
   ],
   "source": [
    "n_clusters = 0\n",
    "\n",
    "for x in regspace_objects_noNflank_allatoms_5:\n",
    "    n_clusters += x.n_clusters_\n",
    "    \n",
    "n_clusters    "
   ]
  },
  {
   "cell_type": "code",
   "execution_count": 20,
   "metadata": {
    "collapsed": false
   },
   "outputs": [
    {
     "data": {
      "text/plain": [
       "array([[[], ['2-1', '2-3', '2-5', '5-5', '13-5'], ['5-12', '9-7'], ['5-4'],\n",
       "        [], ['5-7', '6-9'], ['6-1', '6-6'],\n",
       "        ['5-8', '5-10', '6-8', '13-7', '14-5']],\n",
       "       [[], ['2-6', '3-3', '3-5', '8-5', '11-1', '11-3', '11-5'],\n",
       "        ['2-2', '2-4', '5-1', '5-2', '8-2', '8-4', '9-2', '9-3', '10-2'],\n",
       "        ['3-1', '10-3', '13-8', '14-7'], ['9-5'], ['5-11', '6-3', '14-2'],\n",
       "        ['6-2'], ['6-7', '14-8']],\n",
       "       [[],\n",
       "        ['0-2', '3-4', '5-9', '8-1', '8-3', '10-4', '11-4', '13-1', '13-2', '13-10', '16-4'],\n",
       "        ['3-2', '5-6', '10-1', '16-6'], ['0-1', '0-4', '13-9'], [],\n",
       "        ['0-3'], [], []],\n",
       "       [['5-3'], ['8-6', '11-6', '13-11', '16-9'], ['1-2', '9-4', '15-7'],\n",
       "        ['13-3', '13-4', '18-5'], [], ['1-1', '6-4'], ['14-1', '14-10'],\n",
       "        ['6-5', '14-4']],\n",
       "       [[],\n",
       "        ['4-2', '4-3', '7-2', '9-1', '9-6', '10-5', '13-6', '14-9', '16-10', '18-3', '19-3'],\n",
       "        ['4-1', '16-1', '16-7', '18-1', '19-1', '19-10'],\n",
       "        ['11-2', '12-1', '12-2', '12-3', '12-4', '12-6', '14-3', '15-2', '15-6', '16-2', '16-5', '18-4', '18-6', '19-7', '19-9'],\n",
       "        [], ['7-1', '15-9', '15-10', '15-11', '17-5', '18-7', '19-6'],\n",
       "        ['17-1'], ['14-6', '15-5', '17-2']],\n",
       "       [[],\n",
       "        ['12-5', '15-4', '15-8', '16-8', '18-2', '19-2', '19-4', '19-8', '19-11'],\n",
       "        [], ['15-1', '15-3', '16-3', '17-4'], [], [], [], ['17-3', '19-5']],\n",
       "       [[], [], [], [], [], [], [], []]], dtype=object)"
      ]
     },
     "execution_count": 20,
     "metadata": {},
     "output_type": "execute_result"
    }
   ],
   "source": [
    "shi_data"
   ]
  },
  {
   "cell_type": "code",
   "execution_count": 97,
   "metadata": {
    "collapsed": true
   },
   "outputs": [],
   "source": [
    "# fixed! going back to dih to review numbers there - could have also made a mistake"
   ]
  },
  {
   "cell_type": "code",
   "execution_count": 98,
   "metadata": {
    "collapsed": true
   },
   "outputs": [],
   "source": [
    "plt.figure()\n",
    "plt.imshow(shi_data_corrected)\n",
    "plt.colorbar()\n",
    "plt.savefig('shi_data_corrected_1000_20.png', dpi=300)\n",
    "plt.close()"
   ]
  },
  {
   "cell_type": "code",
   "execution_count": 187,
   "metadata": {
    "collapsed": false
   },
   "outputs": [
    {
     "name": "stderr",
     "output_type": "stream",
     "text": [
      "/Users/rafalpwiewiora/anaconda3/lib/python3.5/site-packages/matplotlib/pyplot.py:524: RuntimeWarning: More than 20 figures have been opened. Figures created through the pyplot interface (`matplotlib.pyplot.figure`) are retained until explicitly closed and may consume too much memory. (To control this warning, see the rcParam `figure.max_open_warning`).\n",
      "  max_open_warning, RuntimeWarning)\n"
     ]
    }
   ],
   "source": [
    "plt.figure()\n",
    "plt.imshow(shi_data_corrected, cmap='Blues')\n",
    "plt.colorbar()\n",
    "plt.savefig('shi_data_corrected_1000_20_blue.png', dpi=300)\n",
    "plt.close()"
   ]
  },
  {
   "cell_type": "code",
   "execution_count": 188,
   "metadata": {
    "collapsed": false
   },
   "outputs": [
    {
     "name": "stderr",
     "output_type": "stream",
     "text": [
      "/Users/rafalpwiewiora/anaconda3/lib/python3.5/site-packages/matplotlib/pyplot.py:524: RuntimeWarning: More than 20 figures have been opened. Figures created through the pyplot interface (`matplotlib.pyplot.figure`) are retained until explicitly closed and may consume too much memory. (To control this warning, see the rcParam `figure.max_open_warning`).\n",
      "  max_open_warning, RuntimeWarning)\n"
     ]
    }
   ],
   "source": [
    "plt.figure()\n",
    "plt.imshow(shi_data_corrected, cmap='Reds')\n",
    "plt.colorbar()\n",
    "plt.savefig('shi_data_corrected_1000_20_red.png', dpi=300)\n",
    "plt.close()"
   ]
  },
  {
   "cell_type": "code",
   "execution_count": 21,
   "metadata": {
    "collapsed": true
   },
   "outputs": [],
   "source": [
    "plt.figure()\n",
    "plt.imshow(np.log10(shi_data_corrected), cmap='Reds')\n",
    "plt.colorbar()\n",
    "plt.savefig('shi_data_corrected_1000_20_red_log10.png', dpi=300)\n",
    "plt.close()"
   ]
  },
  {
   "cell_type": "code",
   "execution_count": 22,
   "metadata": {
    "collapsed": true
   },
   "outputs": [],
   "source": [
    "plt.figure()\n",
    "plt.imshow(np.log10(shi_data_corrected), cmap='Blues')\n",
    "plt.colorbar()\n",
    "plt.savefig('shi_data_corrected_1000_20_blue_log10.png', dpi=300)\n",
    "plt.close()"
   ]
  },
  {
   "cell_type": "code",
   "execution_count": 99,
   "metadata": {
    "collapsed": false
   },
   "outputs": [
    {
     "data": {
      "text/plain": [
       "array([[ 0.        ,  0.01461632,  0.00208547,  0.00152939,  0.        ,\n",
       "         0.00104257,  0.00472384,  0.00656187],\n",
       "       [ 0.        ,  0.01776357,  0.05692239,  0.02961796,  0.00074725,\n",
       "         0.00321714,  0.0102813 ,  0.0019349 ],\n",
       "       [ 0.        ,  0.10259267,  0.02679458,  0.01157604,  0.        ,\n",
       "         0.00168806,  0.        ,  0.        ],\n",
       "       [ 0.00516168,  0.00699405,  0.0078009 ,  0.05404291,  0.        ,\n",
       "         0.01158826,  0.04034702,  0.02992058],\n",
       "       [ 0.        ,  0.02689855,  0.13989006,  0.08992482,  0.        ,\n",
       "         0.02739951,  0.1205191 ,  0.0175368 ],\n",
       "       [ 0.        ,  0.05116983,  0.        ,  0.01350067,  0.        ,\n",
       "         0.        ,  0.        ,  0.06360997],\n",
       "       [ 0.        ,  0.        ,  0.        ,  0.        ,  0.        ,\n",
       "         0.        ,  0.        ,  0.        ]])"
      ]
     },
     "execution_count": 99,
     "metadata": {},
     "output_type": "execute_result"
    }
   ],
   "source": [
    "shi_data_corrected"
   ]
  },
  {
   "cell_type": "code",
   "execution_count": 23,
   "metadata": {
    "collapsed": true
   },
   "outputs": [],
   "source": [
    "# make a pie chart"
   ]
  },
  {
   "cell_type": "code",
   "execution_count": 24,
   "metadata": {
    "collapsed": true
   },
   "outputs": [],
   "source": [
    "shi_data_flatten = shi_data.flatten()\n",
    "\n",
    "regspace_counters_struct_macro = []\n",
    "\n",
    "for x in range(len(regspace_counters)):\n",
    "    new_dict = dict()\n",
    "    macrostate = regspace_counters[x]\n",
    "    for y in macrostate.keys():\n",
    "        for i in range(len(shi_data_flatten)):\n",
    "            data = shi_data_flatten[i]\n",
    "            if '%s-%s' % (x,y+1) in data:\n",
    "                new_key = i\n",
    "                break\n",
    "        if not new_key in new_dict:        \n",
    "            new_dict[new_key] = macrostate[y]\n",
    "        else:\n",
    "            new_dict[new_key] += macrostate[y]\n",
    "    regspace_counters_struct_macro.append(new_dict)    \n",
    "    \n",
    "regspace_counters_struct_macro = []\n",
    "\n",
    "for x in range(len(regspace_counters)):\n",
    "    new_dict = dict()\n",
    "    macrostate = regspace_counters[x]\n",
    "    for y in macrostate.keys():\n",
    "        for i in range(len(shi_data_flatten)):\n",
    "            data = shi_data_flatten[i]\n",
    "            if '%s-%s' % (x,y+1) in data:\n",
    "                new_key = i\n",
    "                break\n",
    "        if not new_key in new_dict:        \n",
    "            new_dict[new_key] = macrostate[y]\n",
    "        else:\n",
    "            new_dict[new_key] += macrostate[y]\n",
    "    regspace_counters_struct_macro.append(new_dict)        "
   ]
  },
  {
   "cell_type": "code",
   "execution_count": 25,
   "metadata": {
    "collapsed": false
   },
   "outputs": [
    {
     "data": {
      "text/plain": [
       "[{17: 13, 19: 69, 21: 18},\n",
       " {26: 69, 29: 31},\n",
       " {1: 40, 9: 4, 10: 56},\n",
       " {9: 17, 11: 30, 17: 7, 18: 46},\n",
       " {33: 14, 34: 86},\n",
       " {1: 3, 2: 7, 3: 8, 5: 4, 7: 5, 10: 31, 13: 1, 17: 5, 18: 9, 24: 27},\n",
       " {5: 1, 6: 17, 7: 2, 13: 2, 14: 37, 15: 4, 29: 36, 31: 1},\n",
       " {33: 40, 37: 60},\n",
       " {9: 2, 10: 79, 17: 14, 25: 5},\n",
       " {2: 6, 10: 28, 12: 6, 26: 31, 33: 29},\n",
       " {10: 11, 11: 29, 17: 7, 18: 40, 33: 13},\n",
       " {9: 58, 17: 10, 25: 10, 35: 22},\n",
       " {35: 99, 41: 1},\n",
       " {1: 7, 7: 2, 11: 7, 17: 50, 19: 3, 25: 1, 27: 29, 33: 1},\n",
       " {7: 2, 11: 2, 13: 3, 15: 1, 30: 49, 31: 36, 33: 1, 35: 4, 39: 2},\n",
       " {26: 1, 35: 44, 37: 9, 39: 2, 41: 20, 43: 24},\n",
       " {17: 3, 18: 2, 25: 1, 33: 4, 34: 60, 35: 24, 41: 4, 43: 2},\n",
       " {37: 7, 38: 56, 39: 7, 43: 1, 47: 29},\n",
       " {27: 8, 33: 2, 34: 45, 35: 23, 37: 1, 41: 21},\n",
       " {33: 8, 34: 48, 35: 16, 37: 4, 41: 23, 47: 1}]"
      ]
     },
     "execution_count": 25,
     "metadata": {},
     "output_type": "execute_result"
    }
   ],
   "source": [
    "regspace_counters_struct_macro"
   ]
  },
  {
   "cell_type": "code",
   "execution_count": 26,
   "metadata": {
    "collapsed": true
   },
   "outputs": [],
   "source": [
    "# so we're doing another change - let's have a palette of 56 colors so every structural macrostate has its own constant\n",
    "# color also between all models so we can do a direct comparison"
   ]
  },
  {
   "cell_type": "code",
   "execution_count": 27,
   "metadata": {
    "collapsed": true
   },
   "outputs": [],
   "source": [
    "colors = [\"#aa5f5d\",\n",
    "\"#4ecb5f\",\n",
    "\"#c45fe3\",\n",
    "\"#87bc2d\",\n",
    "\"#8b39b6\",\n",
    "\"#379f3b\",\n",
    "\"#9d5ee0\",\n",
    "\"#b9bd40\",\n",
    "\"#4c69db\",\n",
    "\"#d0b231\",\n",
    "\"#8163d6\",\n",
    "\"#86be59\",\n",
    "\"#ac36a2\",\n",
    "\"#678f24\",\n",
    "\"#c35ec4\",\n",
    "\"#58c086\",\n",
    "\"#d13f94\",\n",
    "\"#448136\",\n",
    "\"#ed77d7\",\n",
    "\"#958f24\",\n",
    "\"#c07de7\",\n",
    "\"#e4a231\",\n",
    "\"#704ca8\",\n",
    "\"#e6832c\",\n",
    "\"#4789dc\",\n",
    "\"#e1532f\",\n",
    "\"#48b1da\",\n",
    "\"#d93640\",\n",
    "\"#52bfb0\",\n",
    "\"#d3335a\",\n",
    "\"#37835d\",\n",
    "\"#e3427e\",\n",
    "\"#a1bb74\",\n",
    "\"#b4509d\",\n",
    "\"#b9a753\",\n",
    "\"#8f83de\",\n",
    "\"#c38734\",\n",
    "\"#5666a4\",\n",
    "\"#d56c35\",\n",
    "\"#96a0e0\",\n",
    "\"#a64219\",\n",
    "\"#c88acd\",\n",
    "\"#5a6322\",\n",
    "\"#895191\",\n",
    "\"#838948\",\n",
    "\"#ac5487\",\n",
    "\"#88671f\",\n",
    "\"#e488b1\",\n",
    "\"#d8af70\",\n",
    "\"#8e415d\",\n",
    "\"#eb9a6f\",\n",
    "\"#be506e\",\n",
    "\"#8e552f\",\n",
    "\"#e88280\",\n",
    "\"#b9744a\",\n",
    "\"#ba4846\"]"
   ]
  },
  {
   "cell_type": "code",
   "execution_count": 31,
   "metadata": {
    "collapsed": false
   },
   "outputs": [],
   "source": [
    "dictionary_of_colors = dict()\n",
    "\n",
    "for i in range(56):\n",
    "    dictionary_of_colors[i] = colors[i]\n",
    "\n",
    "colors2 = []\n",
    "\n",
    "i = 0\n",
    "for x in regspace_counters_struct_macro:\n",
    "    colors2.append([])\n",
    "    for key in x:\n",
    "        color_ = dictionary_of_colors[key]\n",
    "        colors2[-1].append(color_)    "
   ]
  },
  {
   "cell_type": "code",
   "execution_count": 35,
   "metadata": {
    "collapsed": true
   },
   "outputs": [],
   "source": [
    "import matplotlib.backends.backend_pdf\n",
    "pdf = matplotlib.backends.backend_pdf.PdfPages(\"piecharts/model4_piecharts_colorperstrmacro.pdf\")\n",
    "\n",
    "for i in range(len(regspace_counters_struct_macro)):\n",
    "    x = regspace_counters_struct_macro[i]\n",
    "    fig1, ax1 = plt.subplots()\n",
    "    ax1.pie(list(x.values()), labels=list(x.keys()), autopct='%1.1f%%', colors=colors2[i])\n",
    "    ax1.axis('equal')\n",
    "    pdf.savefig(fig1, dpi=300)\n",
    "    plt.close()\n",
    "    \n",
    "pdf.close()    "
   ]
  },
  {
   "cell_type": "code",
   "execution_count": 26,
   "metadata": {
    "collapsed": true
   },
   "outputs": [],
   "source": [
    "# runs of origin"
   ]
  },
  {
   "cell_type": "code",
   "execution_count": 27,
   "metadata": {
    "collapsed": true
   },
   "outputs": [],
   "source": [
    "from collections import Counter\n",
    "\n",
    "glob_output = np.load('../glob_output.npy')\n",
    "glob_output = [x.decode('UTF-8') for x in glob_output]\n",
    "\n",
    "samples = np.load('../macro_sample/200_p3_20_100per/samples_200_p3_20_100per.npy')\n",
    "\n",
    "run_results = []\n",
    "\n",
    "for macrostate in samples:\n",
    "    macrostate_results = []\n",
    "    for frame in macrostate:\n",
    "        x = glob_output[frame[0]]\n",
    "        y = int(x.split('-')[0][9:])\n",
    "        if x[:5] == '11707':\n",
    "            if y <= 19:\n",
    "                macrostate_results.append('1zkk')\n",
    "            elif y in [20,21] or (y >= 42 and y <= 59):\n",
    "                macrostate_results.append('4ij8')\n",
    "            elif y in [22,25,26,27,28,31,32,33,34,35] or (y >= 60 and y <= 69):\n",
    "                macrostate_results.append('Apo')\n",
    "            elif y in [23,24,29,30,36,37,38,39,40,41] or y >= 70:\n",
    "                macrostate_results.append('Inhibitor')\n",
    "        elif x[:5] == '11709':\n",
    "            if y in [0,2]:\n",
    "                macrostate_results.append('1zkk_apo')\n",
    "            elif y in [1,3]:\n",
    "                macrostate_results.append('4ij8_apo')\n",
    "    \n",
    "    run_results.append(macrostate_results)\n",
    "    \n",
    "run_results_counters = []\n",
    "\n",
    "for x in run_results:\n",
    "    run_results_counters.append(Counter(x))    "
   ]
  },
  {
   "cell_type": "code",
   "execution_count": 28,
   "metadata": {
    "collapsed": true
   },
   "outputs": [],
   "source": [
    "regspace_dtrajs = []\n",
    "\n",
    "for i in range(len(samples_md_noNflank_allatoms)):\n",
    "    samples = samples_md_noNflank_allatoms[i]\n",
    "    regspace_dtrajs.append(regspace_objects_noNflank_allatoms_5[i].transform(samples))\n",
    "    \n",
    "regspace_frames = []\n",
    "\n",
    "for x in regspace_dtrajs:\n",
    "    regspace_frames.append([])\n",
    "    for y in x:\n",
    "        regspace_frames[-1].append(y[0])\n",
    "        \n",
    "regspace_5_by_cluster_runs_of_origin = []\n",
    "\n",
    "for i in range(len(regspace_frames)):\n",
    "    clusters = regspace_frames[i]\n",
    "    runs = run_results[i]\n",
    "    \n",
    "    regspace_5_by_cluster_runs_of_origin.append(dict())\n",
    "    for j in range(len(clusters)):\n",
    "        if clusters[j] not in regspace_5_by_cluster_runs_of_origin[-1]:\n",
    "            regspace_5_by_cluster_runs_of_origin[-1][clusters[j]] = [runs[j]]\n",
    "        else:\n",
    "            regspace_5_by_cluster_runs_of_origin[-1][clusters[j]].append(runs[j])\n",
    "            \n",
    "regspace_5_by_cluster_runs_of_origin_counters = []\n",
    "\n",
    "for macrostate in regspace_5_by_cluster_runs_of_origin:\n",
    "    regspace_5_by_cluster_runs_of_origin_counters.append(dict())\n",
    "    for cluster in macrostate:\n",
    "        regspace_5_by_cluster_runs_of_origin_counters[-1][cluster] = Counter(macrostate[cluster])            "
   ]
  },
  {
   "cell_type": "code",
   "execution_count": 29,
   "metadata": {
    "collapsed": true
   },
   "outputs": [],
   "source": [
    "shi_data_runs_origin = [\n",
    "[dict(), dict(), dict(), dict(), dict(), dict(), dict(), dict()],\n",
    "[dict(), dict(), dict(), dict(), dict(), dict(), dict(), dict()],\n",
    "[dict(), dict(), dict(), dict(), dict(), dict(), dict(), dict()],\n",
    "[dict(), dict(), dict(), dict(), dict(), dict(), dict(), dict()],\n",
    "[dict(), dict(), dict(), dict(), dict(), dict(), dict(), dict()],\n",
    "[dict(), dict(), dict(), dict(), dict(), dict(), dict(), dict()],\n",
    "[dict(), dict(), dict(), dict(), dict(), dict(), dict(), dict()],\n",
    "]\n",
    "\n",
    "for i in range(7):\n",
    "    for j in range(8):\n",
    "        data = shi_data[i,j]\n",
    "        data_split = [x.split('-') for x in data]\n",
    "        output_dict = shi_data_runs_origin[i][j]\n",
    "        for y in data_split:\n",
    "            weight = msm_populations[int(y[0])] * (regspace_counters[int(y[0])][int(y[1])-1] / np.sum(list(regspace_counters[int(y[0])].values())))\n",
    "            weight = weight / np.sum([msm_populations[int(y[0])] * (regspace_counters[int(y[0])][int(y[1])-1] / np.sum(list(regspace_counters[int(y[0])].values()))) for y in data_split])\n",
    "            counter = regspace_5_by_cluster_runs_of_origin_counters[int(y[0])][int(y[1])-1]\n",
    "            temp_dict = dict()\n",
    "            for run_of_origin in counter:\n",
    "                temp_dict[run_of_origin] = counter[run_of_origin] / np.sum([counter[x] for x in counter])\n",
    "            \n",
    "            for x in temp_dict:\n",
    "                temp_dict[x] = temp_dict[x] * weight\n",
    "                if x not in output_dict:\n",
    "                    output_dict[x] = temp_dict[x]\n",
    "                else:\n",
    "                    output_dict[x] += temp_dict[x]"
   ]
  },
  {
   "cell_type": "code",
   "execution_count": 30,
   "metadata": {
    "collapsed": false
   },
   "outputs": [
    {
     "data": {
      "text/plain": [
       "[[{},\n",
       "  {'1zkk': 0.24378539844696334,\n",
       "   '4ij8': 0.18202697707915411,\n",
       "   '4ij8_apo': 0.025511511817558005,\n",
       "   'Apo': 0.12735945175581553,\n",
       "   'Inhibitor': 0.42131666090050912},\n",
       "  {'1zkk': 0.35831517432931559, 'Inhibitor': 0.64168482567068441},\n",
       "  {'Apo': 0.125, 'Inhibitor': 0.875},\n",
       "  {},\n",
       "  {'Apo': 1.0},\n",
       "  {'1zkk': 0.17647058823529413,\n",
       "   '1zkk_apo': 0.41176470588235298,\n",
       "   '4ij8': 0.17647058823529413,\n",
       "   '4ij8_apo': 0.058823529411764705,\n",
       "   'Inhibitor': 0.17647058823529413},\n",
       "  {'1zkk': 0.38481844480044741,\n",
       "   '1zkk_apo': 0.12548388289393142,\n",
       "   '4ij8_apo': 0.25933456190651599,\n",
       "   'Inhibitor': 0.23036311039910504}],\n",
       " [{},\n",
       "  {'1zkk': 0.16094630112478076,\n",
       "   '1zkk_apo': 0.14087923419167214,\n",
       "   '4ij8': 0.046697055382050615,\n",
       "   '4ij8_apo': 0.11090951121778035,\n",
       "   'Apo': 0.30073528135192834,\n",
       "   'Inhibitor': 0.23983261673178752},\n",
       "  {'1zkk': 0.080716412034104568,\n",
       "   '1zkk_apo': 0.21207997367798689,\n",
       "   '4ij8': 0.048044557029777349,\n",
       "   '4ij8_apo': 0.25777660591326607,\n",
       "   'Apo': 0.17520233807313576,\n",
       "   'Inhibitor': 0.22618011327172943},\n",
       "  {'1zkk': 0.17468024007390784,\n",
       "   '1zkk_apo': 0.10785812832331056,\n",
       "   '4ij8': 0.087612076624109442,\n",
       "   '4ij8_apo': 0.17389857928275787,\n",
       "   'Apo': 0.1844203462679109,\n",
       "   'Inhibitor': 0.27153062942800338},\n",
       "  {'1zkk': 1.0},\n",
       "  {'1zkk': 0.17274510531030829,\n",
       "   '4ij8': 0.25594388092024578,\n",
       "   '4ij8_apo': 0.51188776184049156,\n",
       "   'Inhibitor': 0.059423251928954278},\n",
       "  {'1zkk': 0.24324324324324326,\n",
       "   '1zkk_apo': 0.21621621621621623,\n",
       "   '4ij8': 0.16216216216216217,\n",
       "   '4ij8_apo': 0.21621621621621623,\n",
       "   'Apo': 0.027027027027027029,\n",
       "   'Inhibitor': 0.13513513513513514},\n",
       "  {'1zkk': 0.43083300665848201,\n",
       "   '4ij8': 0.14361100221949399,\n",
       "   'Inhibitor': 0.42555599112202408}],\n",
       " [{},\n",
       "  {'1zkk': 0.18430632035506017,\n",
       "   '1zkk_apo': 0.030082308486593747,\n",
       "   '4ij8': 0.084763913594832624,\n",
       "   '4ij8_apo': 0.021799657878270678,\n",
       "   'Apo': 0.25891877235188426,\n",
       "   'Inhibitor': 0.42012902733335855},\n",
       "  {'1zkk': 0.1394362946157518,\n",
       "   '1zkk_apo': 0.12986860528373612,\n",
       "   '4ij8': 0.06752127562881359,\n",
       "   '4ij8_apo': 0.21216902007436717,\n",
       "   'Apo': 0.14888285496503917,\n",
       "   'Inhibitor': 0.30212194943229226},\n",
       "  {'1zkk': 0.31713074382052198,\n",
       "   '4ij8': 0.36573851235895594,\n",
       "   'Apo': 0.30902944906411633,\n",
       "   'Inhibitor': 0.0081012947564056571},\n",
       "  {},\n",
       "  {'1zkk': 1.0},\n",
       "  {},\n",
       "  {}],\n",
       " [{'1zkk': 0.037037037037037035,\n",
       "   'Apo': 0.07407407407407407,\n",
       "   'Inhibitor': 0.88888888888888884},\n",
       "  {'1zkk': 0.45570739885563505,\n",
       "   '1zkk_apo': 0.076139886487148908,\n",
       "   '4ij8_apo': 0.25575498505149763,\n",
       "   'Apo': 0.054503137247427814,\n",
       "   'Inhibitor': 0.15789459235829062},\n",
       "  {'1zkk': 0.047895418174052178,\n",
       "   '4ij8': 0.30763610310686729,\n",
       "   'Apo': 0.54867764237097616,\n",
       "   'Inhibitor': 0.095790836348104355},\n",
       "  {'1zkk': 0.30510450758635327,\n",
       "   '1zkk_apo': 0.031488290049344718,\n",
       "   '4ij8': 0.1693729544818805,\n",
       "   'Apo': 0.21063963743831909,\n",
       "   'Inhibitor': 0.28339461044410247},\n",
       "  {},\n",
       "  {'1zkk': 0.30461388314919713,\n",
       "   '1zkk_apo': 0.23978831615544927,\n",
       "   '4ij8': 0.14387298969326956,\n",
       "   '4ij8_apo': 0.095915326462179706,\n",
       "   'Apo': 0.11989415807772463,\n",
       "   'Inhibitor': 0.095915326462179706},\n",
       "  {'1zkk': 0.20408163265306123,\n",
       "   '1zkk_apo': 0.040816326530612249,\n",
       "   '4ij8': 0.081632653061224483,\n",
       "   '4ij8_apo': 0.34693877551020413,\n",
       "   'Apo': 0.16326530612244899,\n",
       "   'Inhibitor': 0.16326530612244899},\n",
       "  {'1zkk': 0.055039610028936932,\n",
       "   '1zkk_apo': 0.11936623953700895,\n",
       "   '4ij8': 0.1651188300868108,\n",
       "   '4ij8_apo': 0.38527727020255859,\n",
       "   'Apo': 0.19263863510127929,\n",
       "   'Inhibitor': 0.082559415043405401}],\n",
       " [{},\n",
       "  {'1zkk': 0.27598046351066641,\n",
       "   '1zkk_apo': 0.15122400918277068,\n",
       "   '4ij8': 0.25047030976935775,\n",
       "   '4ij8_apo': 0.055515553809703383,\n",
       "   'Apo': 0.058438953222018128,\n",
       "   'Inhibitor': 0.2083707105054837},\n",
       "  {'1zkk': 0.14519209455790943,\n",
       "   '1zkk_apo': 0.20535343954092411,\n",
       "   '4ij8': 0.23251989791069083,\n",
       "   '4ij8_apo': 0.13554204535927586,\n",
       "   'Apo': 0.087484506404972406,\n",
       "   'Inhibitor': 0.1939080162262275},\n",
       "  {'1zkk': 0.26294371511871589,\n",
       "   '1zkk_apo': 0.12240079387472411,\n",
       "   '4ij8': 0.24454525250698339,\n",
       "   '4ij8_apo': 0.078582069611285804,\n",
       "   'Apo': 0.14309408904568935,\n",
       "   'Inhibitor': 0.14843407984260151},\n",
       "  {},\n",
       "  {'1zkk': 0.31038845823628336,\n",
       "   '1zkk_apo': 0.057538111177394116,\n",
       "   '4ij8': 0.3802567514855546,\n",
       "   '4ij8_apo': 0.14763467905706634,\n",
       "   'Apo': 0.096294050000733045,\n",
       "   'Inhibitor': 0.0078879500429684616},\n",
       "  {'1zkk': 0.19642857142857142,\n",
       "   '1zkk_apo': 0.16071428571428573,\n",
       "   '4ij8': 0.14285714285714285,\n",
       "   '4ij8_apo': 0.25,\n",
       "   'Apo': 0.17857142857142858,\n",
       "   'Inhibitor': 0.071428571428571425},\n",
       "  {'1zkk': 0.12272062216604829,\n",
       "   '1zkk_apo': 0.12272062216604829,\n",
       "   '4ij8': 0.14624525943234506,\n",
       "   '4ij8_apo': 0.046953185152534264,\n",
       "   'Apo': 0.41511505165067913,\n",
       "   'Inhibitor': 0.14624525943234506}],\n",
       " [{},\n",
       "  {'1zkk': 0.21400050087718386,\n",
       "   '1zkk_apo': 0.08171847467937518,\n",
       "   '4ij8': 0.24839379520853705,\n",
       "   '4ij8_apo': 0.10513648909123877,\n",
       "   'Apo': 0.18443014817717987,\n",
       "   'Inhibitor': 0.16632059196648519},\n",
       "  {},\n",
       "  {'1zkk': 0.091672513598491268,\n",
       "   '4ij8': 0.42029556235743992,\n",
       "   '4ij8_apo': 0.053605507963474852,\n",
       "   'Apo': 0.31219639794927223,\n",
       "   'Inhibitor': 0.12223001813132169},\n",
       "  {},\n",
       "  {},\n",
       "  {},\n",
       "  {'1zkk': 0.20299899810831698,\n",
       "   '1zkk_apo': 0.20299899810831698,\n",
       "   '4ij8': 0.067666332702772336,\n",
       "   '4ij8_apo': 0.13533266540554467,\n",
       "   'Apo': 0.23683216445970318,\n",
       "   'Inhibitor': 0.15417084121534591}],\n",
       " [{}, {}, {}, {}, {}, {}, {}, {}]]"
      ]
     },
     "execution_count": 30,
     "metadata": {},
     "output_type": "execute_result"
    }
   ],
   "source": [
    "shi_data_runs_origin"
   ]
  },
  {
   "cell_type": "code",
   "execution_count": 45,
   "metadata": {
    "collapsed": true
   },
   "outputs": [],
   "source": [
    "# now 2500"
   ]
  },
  {
   "cell_type": "code",
   "execution_count": 3,
   "metadata": {
    "collapsed": true
   },
   "outputs": [],
   "source": [
    "samples_unitime_2500_300_p1_20_100per = glob.glob('../macro_sample/unitime_2500_300_p1_20_100per/*.pdb')"
   ]
  },
  {
   "cell_type": "code",
   "execution_count": 4,
   "metadata": {
    "collapsed": true
   },
   "outputs": [],
   "source": [
    "samples_md = [md.load(x) for x in samples_unitime_2500_300_p1_20_100per]"
   ]
  },
  {
   "cell_type": "code",
   "execution_count": 5,
   "metadata": {
    "collapsed": true
   },
   "outputs": [],
   "source": [
    "data = samples_md[0][0]"
   ]
  },
  {
   "cell_type": "code",
   "execution_count": null,
   "metadata": {
    "collapsed": true
   },
   "outputs": [],
   "source": [
    "allatoms_data_selection = data.top.select('not element H and resid > 24')\n",
    "samples_md_noNflank_allatoms = []\n",
    "\n",
    "for x in samples_md:\n",
    "    samples_md_noNflank_allatoms.append(x.atom_slice(allatoms_data_selection))"
   ]
  },
  {
   "cell_type": "code",
   "execution_count": null,
   "metadata": {
    "collapsed": true
   },
   "outputs": [],
   "source": [
    "regspace_objects_noNflank_allatoms_5 = []\n",
    "\n",
    "for x in samples_md_noNflank_allatoms:\n",
    "    regspace_objects_noNflank_allatoms_5.append(RegularSpatial(0.5, metric='rmsd'))\n",
    "    regspace_objects_noNflank_allatoms_5[-1].fit(x)"
   ]
  },
  {
   "cell_type": "code",
   "execution_count": null,
   "metadata": {
    "collapsed": true
   },
   "outputs": [],
   "source": [
    "regspace_dtrajs = []\n",
    "\n",
    "for i in range(len(samples_md_noNflank_allatoms)):\n",
    "    samples = samples_md_noNflank_allatoms[i]\n",
    "    regspace_dtrajs.append(regspace_objects_noNflank_allatoms_5[i].transform(samples))"
   ]
  },
  {
   "cell_type": "code",
   "execution_count": null,
   "metadata": {
    "collapsed": true
   },
   "outputs": [],
   "source": [
    "from collections import Counter"
   ]
  },
  {
   "cell_type": "code",
   "execution_count": null,
   "metadata": {
    "collapsed": true
   },
   "outputs": [],
   "source": [
    "regspace_frames = []\n",
    "\n",
    "for x in regspace_dtrajs:\n",
    "    regspace_frames.append([])\n",
    "    for y in x:\n",
    "        regspace_frames[-1].append(y[0])"
   ]
  },
  {
   "cell_type": "code",
   "execution_count": null,
   "metadata": {
    "collapsed": false
   },
   "outputs": [],
   "source": [
    "len(regspace_frames)"
   ]
  },
  {
   "cell_type": "code",
   "execution_count": null,
   "metadata": {
    "collapsed": true
   },
   "outputs": [],
   "source": [
    "regspace_counters = []\n",
    "\n",
    "for x in regspace_frames:\n",
    "    regspace_counters.append(Counter(x))"
   ]
  },
  {
   "cell_type": "code",
   "execution_count": null,
   "metadata": {
    "collapsed": true
   },
   "outputs": [],
   "source": [
    "msm_populations = np.array([ 0.00118174,  0.00377706,  0.00210663,  0.00714451,  0.01740405,\n",
    "        0.00055486,  0.00384246,  0.00736303,  0.00332306,  0.00149088,\n",
    "        0.00713653,  0.00396535,  0.00236742,  0.00253077,  0.08525878,\n",
    "        0.14827181,  0.09523633,  0.19014794,  0.12703765,  0.28985913])"
   ]
  },
  {
   "cell_type": "code",
   "execution_count": null,
   "metadata": {
    "collapsed": true
   },
   "outputs": [],
   "source": [
    "shi_data = np.array([\n",
    "[[],['2-1, 4-2, 6-1, 10-1, 11-2, 11-4, 11-5, 11-6, 11-7, 17-1'],['10-4, 17-4'],['15-8'],[],[],['14-4'],['13-3, 14-7']],\n",
    "[[],['3-1, 3-2, 6-2, 6-3, 7-7, 10-2, 11-1, 12-3, 15-1, 17-3'],['7-1, 7-2, 11-3, 15-2, 17-2'],['15-6'],[],['14-5'],['14-2'],['13-1, 14-1']],\n",
    "[[],['4-1, 7-3, 7-6, 10-3, 15-4, 15-9'],['12-1'],['14-6'],[],['13-2'],[],['9-1, 9-3']],\n",
    "[['15-7'],['12-2, 19-10'],['7-5'],['16-2, 16-9'],['16-3'],['16-12, 19-9'],['14-3, 15-3, 16-7, 19-3'],['5-1, 9-2, 13-4']],\n",
    "[[],['0-1, 1-1, 7-4, 13-6, 16-4, 16-5, 16-6, 19-5, 19-8, 19-12'],['1-2, 1-3, 16-1, 18-3, 18-6, 18-10, 19-2, 19-13'],['15-5, 16-11, 18-2, 18-4, 19-7, 19-11'],['18-7'],['8-1, 8-2, 8-3, 18-9, 19-6'],['13-5'],['5-2']],\n",
    "[['16-10, 19-4'],['18-1, 18-8, 18-11, 19-1'],[],['16-8, 18-12'],[],['18-5'],[],[]],\n",
    "[[],[],[],[],[],[],[],[]],\n",
    "])         "
   ]
  },
  {
   "cell_type": "code",
   "execution_count": 14,
   "metadata": {
    "collapsed": true
   },
   "outputs": [],
   "source": [
    "shi_data2 = np.empty((7,8)).tolist()\n",
    "\n",
    "for i in range(7):\n",
    "    for j in range(8):\n",
    "        if shi_data[i,j] == []:\n",
    "            shi_data2[i][j] = []\n",
    "        else:    \n",
    "            shi_data2[i][j] = shi_data[i,j][0].split(', ')\n",
    "            \n",
    "shi_data2 = np.asarray(shi_data2)            "
   ]
  },
  {
   "cell_type": "code",
   "execution_count": 15,
   "metadata": {
    "collapsed": true
   },
   "outputs": [],
   "source": [
    "shi_data = shi_data2"
   ]
  },
  {
   "cell_type": "code",
   "execution_count": 16,
   "metadata": {
    "collapsed": true
   },
   "outputs": [],
   "source": [
    "shi_data_corrected = np.zeros((7,8))"
   ]
  },
  {
   "cell_type": "code",
   "execution_count": 17,
   "metadata": {
    "collapsed": true
   },
   "outputs": [],
   "source": [
    "for i in range(7):\n",
    "    for j in range(8):\n",
    "        data = shi_data[i,j]\n",
    "        data_split = [x.split('-') for x in data]\n",
    "        result = 0\n",
    "        for y in data_split:\n",
    "            result += msm_populations[int(y[0])] * (regspace_counters[int(y[0])][int(y[1])-1] / np.sum(list(regspace_counters[int(y[0])].values())))\n",
    "        shi_data_corrected[i,j] = result"
   ]
  },
  {
   "cell_type": "code",
   "execution_count": 18,
   "metadata": {
    "collapsed": false
   },
   "outputs": [
    {
     "data": {
      "text/plain": [
       "0.99999999000000006"
      ]
     },
     "execution_count": 18,
     "metadata": {},
     "output_type": "execute_result"
    }
   ],
   "source": [
    "np.sum(shi_data_corrected)"
   ]
  },
  {
   "cell_type": "code",
   "execution_count": 65,
   "metadata": {
    "collapsed": true
   },
   "outputs": [],
   "source": [
    "plt.figure()\n",
    "plt.imshow(shi_data_corrected)\n",
    "plt.colorbar()\n",
    "plt.savefig('shi_data_corrected_2500_20.png', dpi=300)\n",
    "plt.close()"
   ]
  },
  {
   "cell_type": "code",
   "execution_count": 64,
   "metadata": {
    "collapsed": false
   },
   "outputs": [
    {
     "data": {
      "text/plain": [
       "array([[  0.00000000e+00,   5.15008178e-02,   9.65012760e-03,\n",
       "          2.96543620e-03,   0.00000000e+00,   0.00000000e+00,\n",
       "          1.70517560e-03,   1.38404950e-03],\n",
       "       [  0.00000000e+00,   8.84730937e-02,   1.83685043e-01,\n",
       "          4.44815430e-03,   0.00000000e+00,   1.70517560e-03,\n",
       "          1.10836414e-02,   3.26086720e-02],\n",
       "       [  0.00000000e+00,   2.50416948e-02,   9.70642200e-04,\n",
       "          8.52587800e-04,   0.00000000e+00,   1.26538500e-04,\n",
       "          0.00000000e+00,   3.57811200e-04],\n",
       "       [  2.96543620e-03,   4.27169490e-03,   7.36303000e-05,\n",
       "          1.14283596e-02,   1.90472660e-03,   3.57354589e-02,\n",
       "          1.01972260e-01,   2.06091640e-03],\n",
       "       [  0.00000000e+00,   6.85623600e-02,   1.62671787e-01,\n",
       "          5.14398671e-02,   1.27037650e-03,   1.87285547e-02,\n",
       "          2.78384700e-04,   1.33166400e-04],\n",
       "       [  3.85095460e-03,   1.01486580e-01,   0.00000000e+00,\n",
       "          6.98455630e-03,   0.00000000e+00,   7.62225900e-03,\n",
       "          0.00000000e+00,   0.00000000e+00],\n",
       "       [  0.00000000e+00,   0.00000000e+00,   0.00000000e+00,\n",
       "          0.00000000e+00,   0.00000000e+00,   0.00000000e+00,\n",
       "          0.00000000e+00,   0.00000000e+00]])"
      ]
     },
     "execution_count": 64,
     "metadata": {},
     "output_type": "execute_result"
    }
   ],
   "source": [
    "shi_data_corrected"
   ]
  },
  {
   "cell_type": "code",
   "execution_count": 21,
   "metadata": {
    "collapsed": true
   },
   "outputs": [],
   "source": [
    "# plot this as an MSM figure, but first do the imshow with blue-white and red-white color scheme"
   ]
  },
  {
   "cell_type": "code",
   "execution_count": 22,
   "metadata": {
    "collapsed": true
   },
   "outputs": [],
   "source": [
    "plt.figure()\n",
    "plt.imshow(shi_data_corrected, cmap='Blues')\n",
    "plt.colorbar()\n",
    "plt.savefig('shi_data_corrected_2500_20_blue.png', dpi=300)\n",
    "plt.close()"
   ]
  },
  {
   "cell_type": "code",
   "execution_count": 23,
   "metadata": {
    "collapsed": true
   },
   "outputs": [],
   "source": [
    "plt.figure()\n",
    "plt.imshow(shi_data_corrected, cmap='Reds')\n",
    "plt.colorbar()\n",
    "plt.savefig('shi_data_corrected_2500_20_red.png', dpi=300)\n",
    "plt.close()"
   ]
  },
  {
   "cell_type": "code",
   "execution_count": 19,
   "metadata": {
    "collapsed": true
   },
   "outputs": [],
   "source": [
    "plt.figure()\n",
    "plt.imshow(np.log10(shi_data_corrected), cmap='Blues')\n",
    "plt.colorbar()\n",
    "plt.savefig('shi_data_corrected_2500_20_blue_log10.png', dpi=300)\n",
    "plt.close()"
   ]
  },
  {
   "cell_type": "code",
   "execution_count": 20,
   "metadata": {
    "collapsed": true
   },
   "outputs": [],
   "source": [
    "plt.figure()\n",
    "plt.imshow(np.log10(shi_data_corrected), cmap='Reds')\n",
    "plt.colorbar()\n",
    "plt.savefig('shi_data_corrected_2500_20_red_log10.png', dpi=300)\n",
    "plt.close()"
   ]
  },
  {
   "cell_type": "code",
   "execution_count": 46,
   "metadata": {
    "collapsed": true
   },
   "outputs": [],
   "source": [
    "# ok plot as an MSM figure in pyemma"
   ]
  },
  {
   "cell_type": "code",
   "execution_count": 67,
   "metadata": {
    "collapsed": false
   },
   "outputs": [],
   "source": [
    "P = np.zeros((56,56))\n",
    "\n",
    "pos = np.array([[0,0], [0,1], [0,2], [0,3], [0,4], [0,5], [0,6], [0,7], \n",
    "[1,0], [1,1], [1,2], [1,3], [1,4], [1,5], [1,6], [1,7], \n",
    "[2,0], [2,1], [2,2], [2,3], [2,4], [2,5], [2,6], [2,7], \n",
    "[3,0], [3,1], [3,2], [3,3], [3,4], [3,5], [3,6], [3,7],\n",
    "[4,0], [4,1], [4,2], [4,3], [4,4], [4,5], [4,6], [4,7],\n",
    "[5,0], [5,1], [5,2], [5,3], [5,4], [5,5], [5,6], [5,7],\n",
    "[6,0], [6,1], [6,2], [6,3], [6,4], [6,5], [6,6], [6,7]])\n",
    "\n",
    "state_labels = []\n",
    "for i in range(56):\n",
    "    state_labels.append('')"
   ]
  },
  {
   "cell_type": "code",
   "execution_count": 62,
   "metadata": {
    "collapsed": false
   },
   "outputs": [
    {
     "name": "stderr",
     "output_type": "stream",
     "text": [
      "/Users/rafalpwiewiora/anaconda3/lib/python3.5/site-packages/matplotlib/pyplot.py:524: RuntimeWarning: More than 20 figures have been opened. Figures created through the pyplot interface (`matplotlib.pyplot.figure`) are retained until explicitly closed and may consume too much memory. (To control this warning, see the rcParam `figure.max_open_warning`).\n",
      "  max_open_warning, RuntimeWarning)\n",
      "/Users/rafalpwiewiora/anaconda3/lib/python3.5/site-packages/pyemma/plots/networks.py:70: UserWarning: The layout optimization method will take a long time for large networks! It is recommended to coarse grain your model first!\n",
      "  warnings.warn(\"The layout optimization method will take a long\"\n"
     ]
    }
   ],
   "source": [
    "plt.figure()\n",
    "pyemma.plots.plot_network(P, pos=pos, state_sizes=shi_data_corrected.flatten(), state_labels=state_labels)\n",
    "plt.savefig('shi_data_corrected_2500_msm.png', dpi=300)\n",
    "plt.close()"
   ]
  },
  {
   "cell_type": "code",
   "execution_count": 66,
   "metadata": {
    "collapsed": false
   },
   "outputs": [
    {
     "data": {
      "text/plain": [
       "(56, 56)"
      ]
     },
     "execution_count": 66,
     "metadata": {},
     "output_type": "execute_result"
    }
   ],
   "source": [
    "P.shape"
   ]
  },
  {
   "cell_type": "code",
   "execution_count": 68,
   "metadata": {
    "collapsed": true
   },
   "outputs": [],
   "source": [
    "P[0,2] = 1\n",
    "P[50,7] = 1\n",
    "P[30,6] = 1\n",
    "P[2,40] = 1\n",
    "P[20,4] = 1\n",
    "P[0,8] = 1\n",
    "P[6,25] = 1\n",
    "P[12,15] = 1\n",
    "P[6,0] = 1\n",
    "P[15,33] = 1\n",
    "P[22,44] = 1\n",
    "P[11,17] = 1\n",
    "P[22,45] = 1\n",
    "P[1,3] = 1"
   ]
  },
  {
   "cell_type": "code",
   "execution_count": 69,
   "metadata": {
    "collapsed": false
   },
   "outputs": [
    {
     "name": "stderr",
     "output_type": "stream",
     "text": [
      "/Users/rafalpwiewiora/anaconda3/lib/python3.5/site-packages/matplotlib/pyplot.py:524: RuntimeWarning: More than 20 figures have been opened. Figures created through the pyplot interface (`matplotlib.pyplot.figure`) are retained until explicitly closed and may consume too much memory. (To control this warning, see the rcParam `figure.max_open_warning`).\n",
      "  max_open_warning, RuntimeWarning)\n",
      "/Users/rafalpwiewiora/anaconda3/lib/python3.5/site-packages/pyemma/plots/networks.py:70: UserWarning: The layout optimization method will take a long time for large networks! It is recommended to coarse grain your model first!\n",
      "  warnings.warn(\"The layout optimization method will take a long\"\n"
     ]
    }
   ],
   "source": [
    "plt.figure()\n",
    "pyemma.plots.plot_network(P, pos=pos, state_sizes=shi_data_corrected.flatten(), state_labels=state_labels, arrow_labels=None)\n",
    "plt.savefig('shi_data_corrected_2500_msm_arrows.png', dpi=300)\n",
    "plt.close()"
   ]
  },
  {
   "cell_type": "code",
   "execution_count": 70,
   "metadata": {
    "collapsed": true
   },
   "outputs": [],
   "source": [
    "# ok that was a test of arrows - now let's calculate actual connectivities"
   ]
  },
  {
   "cell_type": "code",
   "execution_count": 71,
   "metadata": {
    "collapsed": true
   },
   "outputs": [],
   "source": [
    "P_spy = np.array([[ 1.,  0.,  0.,  0.,  0.,  0.,  0.,  0.,  0.,  0.,  0.,  0.,  0.,\n",
    "         0.,  0.,  1.,  0.,  0.,  0.,  0.],\n",
    "       [ 0.,  1.,  0.,  0.,  0.,  0.,  0.,  0.,  0.,  0.,  0.,  0.,  0.,\n",
    "         0.,  0.,  0.,  0.,  0.,  0.,  1.],\n",
    "       [ 0.,  0.,  1.,  0.,  0.,  0.,  0.,  0.,  0.,  0.,  0.,  0.,  0.,\n",
    "         0.,  0.,  0.,  0.,  1.,  0.,  1.],\n",
    "       [ 0.,  0.,  0.,  1.,  0.,  0.,  0.,  0.,  0.,  0.,  0.,  0.,  0.,\n",
    "         0.,  0.,  1.,  0.,  1.,  0.,  0.],\n",
    "       [ 0.,  0.,  0.,  0.,  1.,  0.,  0.,  0.,  0.,  0.,  0.,  0.,  0.,\n",
    "         0.,  0.,  0.,  0.,  1.,  0.,  0.],\n",
    "       [ 0.,  0.,  0.,  0.,  0.,  1.,  0.,  0.,  0.,  0.,  0.,  0.,  0.,\n",
    "         0.,  0.,  0.,  0.,  0.,  0.,  1.],\n",
    "       [ 0.,  0.,  0.,  0.,  0.,  0.,  1.,  0.,  0.,  0.,  0.,  0.,  0.,\n",
    "         0.,  1.,  1.,  0.,  0.,  0.,  1.],\n",
    "       [ 0.,  0.,  0.,  0.,  0.,  0.,  0.,  1.,  0.,  0.,  1.,  0.,  0.,\n",
    "         0.,  1.,  1.,  1.,  1.,  1.,  1.],\n",
    "       [ 0.,  0.,  0.,  0.,  0.,  0.,  0.,  0.,  1.,  0.,  0.,  0.,  0.,\n",
    "         0.,  1.,  0.,  0.,  0.,  1.,  1.],\n",
    "       [ 0.,  0.,  0.,  0.,  0.,  0.,  0.,  0.,  0.,  1.,  0.,  0.,  0.,\n",
    "         1.,  1.,  1.,  0.,  1.,  0.,  1.],\n",
    "       [ 0.,  0.,  0.,  0.,  0.,  0.,  0.,  1.,  0.,  0.,  1.,  0.,  0.,\n",
    "         0.,  1.,  1.,  1.,  1.,  1.,  1.],\n",
    "       [ 0.,  0.,  0.,  0.,  0.,  0.,  0.,  0.,  0.,  0.,  0.,  1.,  0.,\n",
    "         0.,  0.,  1.,  0.,  1.,  0.,  0.],\n",
    "       [ 0.,  0.,  0.,  0.,  0.,  0.,  0.,  0.,  0.,  0.,  0.,  0.,  1.,\n",
    "         0.,  0.,  0.,  0.,  1.,  0.,  1.],\n",
    "       [ 0.,  0.,  0.,  0.,  0.,  0.,  0.,  0.,  0.,  1.,  0.,  0.,  0.,\n",
    "         1.,  1.,  1.,  0.,  0.,  0.,  1.],\n",
    "       [ 0.,  0.,  0.,  0.,  0.,  0.,  1.,  1.,  1.,  1.,  1.,  0.,  0.,\n",
    "         1.,  1.,  1.,  1.,  1.,  1.,  1.],\n",
    "       [ 1.,  0.,  0.,  1.,  0.,  0.,  1.,  1.,  0.,  1.,  1.,  1.,  0.,\n",
    "         1.,  1.,  1.,  1.,  1.,  1.,  1.],\n",
    "       [ 0.,  0.,  0.,  0.,  0.,  0.,  0.,  1.,  0.,  0.,  1.,  0.,  0.,\n",
    "         0.,  1.,  1.,  1.,  1.,  1.,  1.],\n",
    "       [ 0.,  0.,  1.,  1.,  1.,  0.,  0.,  1.,  0.,  1.,  1.,  1.,  1.,\n",
    "         0.,  1.,  1.,  1.,  1.,  1.,  1.],\n",
    "       [ 0.,  0.,  0.,  0.,  0.,  0.,  0.,  1.,  1.,  0.,  1.,  0.,  0.,\n",
    "         0.,  1.,  1.,  1.,  1.,  1.,  1.],\n",
    "       [ 0.,  1.,  1.,  0.,  0.,  1.,  1.,  1.,  1.,  1.,  1.,  0.,  1.,\n",
    "         1.,  1.,  1.,  1.,  1.,  1.,  1.]])"
   ]
  },
  {
   "cell_type": "code",
   "execution_count": 74,
   "metadata": {
    "collapsed": false
   },
   "outputs": [
    {
     "data": {
      "text/plain": [
       "array([[[],\n",
       "        ['2-1', '4-2', '6-1', '10-1', '11-2', '11-4', '11-5', '11-6', '11-7', '17-1'],\n",
       "        ['10-4', '17-4'], ['15-8'], [], [], ['14-4'], ['13-3', '14-7']],\n",
       "       [[],\n",
       "        ['3-1', '3-2', '6-2', '6-3', '7-7', '10-2', '11-1', '12-3', '15-1', '17-3'],\n",
       "        ['7-1', '7-2', '11-3', '15-2', '17-2'], ['15-6'], [], ['14-5'],\n",
       "        ['14-2'], ['13-1', '14-1']],\n",
       "       [[], ['4-1', '7-3', '7-6', '10-3', '15-4', '15-9'], ['12-1'],\n",
       "        ['14-6'], [], ['13-2'], [], ['9-1', '9-3']],\n",
       "       [['15-7'], ['12-2', '19-10'], ['7-5'], ['16-2', '16-9'], ['16-3'],\n",
       "        ['16-12', '19-9'], ['14-3', '15-3', '16-7', '19-3'],\n",
       "        ['5-1', '9-2', '13-4']],\n",
       "       [[],\n",
       "        ['0-1', '1-1', '7-4', '13-6', '16-4', '16-5', '16-6', '19-5', '19-8', '19-12'],\n",
       "        ['1-2', '1-3', '16-1', '18-3', '18-6', '18-10', '19-2', '19-13'],\n",
       "        ['15-5', '16-11', '18-2', '18-4', '19-7', '19-11'], ['18-7'],\n",
       "        ['8-1', '8-2', '8-3', '18-9', '19-6'], ['13-5'], ['5-2']],\n",
       "       [['16-10', '19-4'], ['18-1', '18-8', '18-11', '19-1'], [],\n",
       "        ['16-8', '18-12'], [], ['18-5'], [], []],\n",
       "       [[], [], [], [], [], [], [], []]], dtype=object)"
      ]
     },
     "execution_count": 74,
     "metadata": {},
     "output_type": "execute_result"
    }
   ],
   "source": [
    "shi_data"
   ]
  },
  {
   "cell_type": "code",
   "execution_count": 75,
   "metadata": {
    "collapsed": false
   },
   "outputs": [
    {
     "data": {
      "text/plain": [
       "(7, 8)"
      ]
     },
     "execution_count": 75,
     "metadata": {},
     "output_type": "execute_result"
    }
   ],
   "source": [
    "shi_data.shape"
   ]
  },
  {
   "cell_type": "code",
   "execution_count": 85,
   "metadata": {
    "collapsed": false
   },
   "outputs": [],
   "source": [
    "shi_data_macrostate_numbers = []\n",
    "shi_data_macrostate_numbers_sets = []\n",
    "\n",
    "for x in shi_data:\n",
    "    shi_data_macrostate_numbers.append([])\n",
    "    shi_data_macrostate_numbers_sets.append([])\n",
    "    for y in x:\n",
    "        shi_data_macrostate_numbers[-1].append([])\n",
    "        for z in y:\n",
    "            shi_data_macrostate_numbers[-1][-1].append(z.split('-')[0])\n",
    "        shi_data_macrostate_numbers_sets[-1].append(list(set(shi_data_macrostate_numbers[-1][-1])))"
   ]
  },
  {
   "cell_type": "code",
   "execution_count": 87,
   "metadata": {
    "collapsed": false
   },
   "outputs": [
    {
     "data": {
      "text/plain": [
       "[[[],\n",
       "  ['6', '2', '4', '17', '10', '11'],\n",
       "  ['10', '17'],\n",
       "  ['15'],\n",
       "  [],\n",
       "  [],\n",
       "  ['14'],\n",
       "  ['13', '14']],\n",
       " [[],\n",
       "  ['6', '15', '3', '7', '17', '10', '12', '11'],\n",
       "  ['11', '15', '17', '7'],\n",
       "  ['15'],\n",
       "  [],\n",
       "  ['14'],\n",
       "  ['14'],\n",
       "  ['13', '14']],\n",
       " [[], ['15', '10', '4', '7'], ['12'], ['14'], [], ['13'], [], ['9']],\n",
       " [['15'],\n",
       "  ['19', '12'],\n",
       "  ['7'],\n",
       "  ['16'],\n",
       "  ['16'],\n",
       "  ['19', '16'],\n",
       "  ['15', '14', '19', '16'],\n",
       "  ['5', '9', '13']],\n",
       " [[],\n",
       "  ['0', '7', '13', '1', '16', '19'],\n",
       "  ['19', '18', '1', '16'],\n",
       "  ['15', '18', '19', '16'],\n",
       "  ['18'],\n",
       "  ['19', '8', '18'],\n",
       "  ['13'],\n",
       "  ['5']],\n",
       " [['19', '16'], ['19', '18'], [], ['18', '16'], [], ['18'], [], []],\n",
       " [[], [], [], [], [], [], [], []]]"
      ]
     },
     "execution_count": 87,
     "metadata": {},
     "output_type": "execute_result"
    }
   ],
   "source": [
    "shi_data_macrostate_numbers_sets"
   ]
  },
  {
   "cell_type": "code",
   "execution_count": 96,
   "metadata": {
    "collapsed": true
   },
   "outputs": [],
   "source": [
    "P = np.zeros((56,56))\n",
    "\n",
    "pos = np.array([[0,0], [0,1], [0,2], [0,3], [0,4], [0,5], [0,6], [0,7], \n",
    "[1,0], [1,1], [1,2], [1,3], [1,4], [1,5], [1,6], [1,7], \n",
    "[2,0], [2,1], [2,2], [2,3], [2,4], [2,5], [2,6], [2,7], \n",
    "[3,0], [3,1], [3,2], [3,3], [3,4], [3,5], [3,6], [3,7],\n",
    "[4,0], [4,1], [4,2], [4,3], [4,4], [4,5], [4,6], [4,7],\n",
    "[5,0], [5,1], [5,2], [5,3], [5,4], [5,5], [5,6], [5,7],\n",
    "[6,0], [6,1], [6,2], [6,3], [6,4], [6,5], [6,6], [6,7]])\n",
    "\n",
    "state_labels = []\n",
    "for i in range(56):\n",
    "    state_labels.append('')"
   ]
  },
  {
   "cell_type": "code",
   "execution_count": 107,
   "metadata": {
    "collapsed": false
   },
   "outputs": [],
   "source": [
    "shi_data_macrostate_numbers_sets_flat = np.array(shi_data_macrostate_numbers_sets).flatten()"
   ]
  },
  {
   "cell_type": "code",
   "execution_count": 109,
   "metadata": {
    "collapsed": false
   },
   "outputs": [],
   "source": [
    "strmacrostate_macrostate_dict = dict()\n",
    "\n",
    "for i in range(len(shi_data_macrostate_numbers_sets_flat)):\n",
    "    for x in shi_data_macrostate_numbers_sets_flat[i]:\n",
    "        if x not in strmacrostate_macrostate_dict:\n",
    "            strmacrostate_macrostate_dict[x] = [i]\n",
    "        else:\n",
    "            strmacrostate_macrostate_dict[x].append(i)"
   ]
  },
  {
   "cell_type": "code",
   "execution_count": 110,
   "metadata": {
    "collapsed": false
   },
   "outputs": [
    {
     "data": {
      "text/plain": [
       "{'0': [33],\n",
       " '1': [33, 34],\n",
       " '10': [1, 2, 9, 17],\n",
       " '11': [1, 9, 10],\n",
       " '12': [9, 18, 25],\n",
       " '13': [7, 15, 21, 31, 33, 38],\n",
       " '14': [6, 7, 13, 14, 15, 19, 30],\n",
       " '15': [3, 9, 10, 11, 17, 24, 30, 35],\n",
       " '16': [27, 28, 29, 30, 33, 34, 35, 40, 43],\n",
       " '17': [1, 2, 9, 10],\n",
       " '18': [34, 35, 36, 37, 41, 43, 45],\n",
       " '19': [25, 29, 30, 33, 34, 35, 37, 40, 41],\n",
       " '2': [1],\n",
       " '3': [9],\n",
       " '4': [1, 17],\n",
       " '5': [31, 39],\n",
       " '6': [1, 9],\n",
       " '7': [9, 10, 17, 26, 33],\n",
       " '8': [37],\n",
       " '9': [23, 31]}"
      ]
     },
     "execution_count": 110,
     "metadata": {},
     "output_type": "execute_result"
    }
   ],
   "source": [
    "strmacrostate_macrostate_dict"
   ]
  },
  {
   "cell_type": "code",
   "execution_count": 112,
   "metadata": {
    "collapsed": false
   },
   "outputs": [
    {
     "data": {
      "text/plain": [
       "(56, 56)"
      ]
     },
     "execution_count": 112,
     "metadata": {},
     "output_type": "execute_result"
    }
   ],
   "source": [
    "P.shape"
   ]
  },
  {
   "cell_type": "code",
   "execution_count": 118,
   "metadata": {
    "collapsed": true
   },
   "outputs": [],
   "source": [
    "P = np.zeros((56,56))\n",
    "\n",
    "pos = np.array([[0,0], [0,1], [0,2], [0,3], [0,4], [0,5], [0,6], [0,7], \n",
    "[1,0], [1,1], [1,2], [1,3], [1,4], [1,5], [1,6], [1,7], \n",
    "[2,0], [2,1], [2,2], [2,3], [2,4], [2,5], [2,6], [2,7], \n",
    "[3,0], [3,1], [3,2], [3,3], [3,4], [3,5], [3,6], [3,7],\n",
    "[4,0], [4,1], [4,2], [4,3], [4,4], [4,5], [4,6], [4,7],\n",
    "[5,0], [5,1], [5,2], [5,3], [5,4], [5,5], [5,6], [5,7],\n",
    "[6,0], [6,1], [6,2], [6,3], [6,4], [6,5], [6,6], [6,7]])\n",
    "\n",
    "state_labels = []\n",
    "for i in range(56):\n",
    "    state_labels.append('')"
   ]
  },
  {
   "cell_type": "code",
   "execution_count": 121,
   "metadata": {
    "collapsed": false
   },
   "outputs": [],
   "source": [
    "P = np.zeros((56,56))\n",
    "\n",
    "for strmacrostate in range(56):\n",
    "    for macrostate in strmacrostate_macrostate_dict:\n",
    "        if strmacrostate in strmacrostate_macrostate_dict[macrostate]:\n",
    "            for other_strmacrostate in strmacrostate_macrostate_dict[macrostate]:\n",
    "                P[strmacrostate, other_strmacrostate] = 1\n",
    "                #P[other_strmacrostate, strmacrostate] = 1"
   ]
  },
  {
   "cell_type": "code",
   "execution_count": 135,
   "metadata": {
    "collapsed": false
   },
   "outputs": [
    {
     "name": "stderr",
     "output_type": "stream",
     "text": [
      "/Users/rafalpwiewiora/anaconda3/lib/python3.5/site-packages/matplotlib/pyplot.py:524: RuntimeWarning: More than 20 figures have been opened. Figures created through the pyplot interface (`matplotlib.pyplot.figure`) are retained until explicitly closed and may consume too much memory. (To control this warning, see the rcParam `figure.max_open_warning`).\n",
      "  max_open_warning, RuntimeWarning)\n",
      "/Users/rafalpwiewiora/anaconda3/lib/python3.5/site-packages/pyemma/plots/networks.py:70: UserWarning: The layout optimization method will take a long time for large networks! It is recommended to coarse grain your model first!\n",
      "  warnings.warn(\"The layout optimization method will take a long\"\n"
     ]
    }
   ],
   "source": [
    "plt.figure()\n",
    "pyemma.plots.plot_network(P, pos=pos, state_sizes=shi_data_corrected.flatten(), state_labels=state_labels, arrow_labels=None, arrow_scale=0.1)\n",
    "plt.savefig('shi_data_corrected_2500_msm_arrows_only_same_macrostate.png', dpi=300)\n",
    "plt.close()"
   ]
  },
  {
   "cell_type": "code",
   "execution_count": 125,
   "metadata": {
    "collapsed": true
   },
   "outputs": [],
   "source": [
    "P_ = np.zeros((56,56))\n",
    "\n",
    "for x in range(56):\n",
    "    for y in range(x+1):\n",
    "        P_[x,y] = P[x,y]"
   ]
  },
  {
   "cell_type": "code",
   "execution_count": 133,
   "metadata": {
    "collapsed": false
   },
   "outputs": [
    {
     "name": "stderr",
     "output_type": "stream",
     "text": [
      "/Users/rafalpwiewiora/anaconda3/lib/python3.5/site-packages/matplotlib/pyplot.py:524: RuntimeWarning: More than 20 figures have been opened. Figures created through the pyplot interface (`matplotlib.pyplot.figure`) are retained until explicitly closed and may consume too much memory. (To control this warning, see the rcParam `figure.max_open_warning`).\n",
      "  max_open_warning, RuntimeWarning)\n",
      "/Users/rafalpwiewiora/anaconda3/lib/python3.5/site-packages/pyemma/plots/networks.py:70: UserWarning: The layout optimization method will take a long time for large networks! It is recommended to coarse grain your model first!\n",
      "  warnings.warn(\"The layout optimization method will take a long\"\n"
     ]
    }
   ],
   "source": [
    "plt.figure()\n",
    "pyemma.plots.plot_network(P_, pos=pos, state_sizes=shi_data_corrected.flatten(), state_labels=state_labels, arrow_labels=None, arrow_scale=0.1)\n",
    "plt.savefig('shi_data_corrected_2500_msm_arrows_only_same_macrostate_half.png', dpi=300)\n",
    "plt.close()"
   ]
  },
  {
   "cell_type": "code",
   "execution_count": 136,
   "metadata": {
    "collapsed": true
   },
   "outputs": [],
   "source": [
    "# ok go further - now add connectivities between macrostates"
   ]
  },
  {
   "cell_type": "code",
   "execution_count": 156,
   "metadata": {
    "collapsed": true
   },
   "outputs": [],
   "source": [
    "P = np.zeros((56,56))\n",
    "\n",
    "pos = np.array([[0,0], [0,1], [0,2], [0,3], [0,4], [0,5], [0,6], [0,7], \n",
    "[1,0], [1,1], [1,2], [1,3], [1,4], [1,5], [1,6], [1,7], \n",
    "[2,0], [2,1], [2,2], [2,3], [2,4], [2,5], [2,6], [2,7], \n",
    "[3,0], [3,1], [3,2], [3,3], [3,4], [3,5], [3,6], [3,7],\n",
    "[4,0], [4,1], [4,2], [4,3], [4,4], [4,5], [4,6], [4,7],\n",
    "[5,0], [5,1], [5,2], [5,3], [5,4], [5,5], [5,6], [5,7],\n",
    "[6,0], [6,1], [6,2], [6,3], [6,4], [6,5], [6,6], [6,7]])\n",
    "\n",
    "state_labels = []\n",
    "for i in range(56):\n",
    "    state_labels.append('')"
   ]
  },
  {
   "cell_type": "code",
   "execution_count": 157,
   "metadata": {
    "collapsed": true
   },
   "outputs": [],
   "source": [
    "# only within macrostate \n",
    "#for strmacrostate in range(56):\n",
    "#    for macrostate in strmacrostate_macrostate_dict:\n",
    "#        if strmacrostate in strmacrostate_macrostate_dict[macrostate]:\n",
    "#            for other_strmacrostate in strmacrostate_macrostate_dict[macrostate]:\n",
    "#                P[strmacrostate, other_strmacrostate] = 1"
   ]
  },
  {
   "cell_type": "code",
   "execution_count": 158,
   "metadata": {
    "collapsed": true
   },
   "outputs": [],
   "source": [
    "# between macrostates"
   ]
  },
  {
   "cell_type": "code",
   "execution_count": 159,
   "metadata": {
    "collapsed": false
   },
   "outputs": [],
   "source": [
    "for strmacrostate in range(56):\n",
    "    for macrostate in strmacrostate_macrostate_dict:\n",
    "        if strmacrostate in strmacrostate_macrostate_dict[macrostate]:\n",
    "            # then check what other macrostates this macrostate is connected to in P_spy, then add strmacrostate connections\n",
    "            # between this strmacrostate and all others in all those macrostates\n",
    "            connectivity = P_spy[int(macrostate)]\n",
    "            for i in range(20):\n",
    "                if connectivity[i] == 1:\n",
    "                    macrostate2 = strmacrostate_macrostate_dict[str(i)]\n",
    "                    for other_strmacrostate in macrostate2:\n",
    "                        P[strmacrostate, other_strmacrostate] = 1"
   ]
  },
  {
   "cell_type": "code",
   "execution_count": 160,
   "metadata": {
    "collapsed": false
   },
   "outputs": [
    {
     "name": "stderr",
     "output_type": "stream",
     "text": [
      "/Users/rafalpwiewiora/anaconda3/lib/python3.5/site-packages/matplotlib/pyplot.py:524: RuntimeWarning: More than 20 figures have been opened. Figures created through the pyplot interface (`matplotlib.pyplot.figure`) are retained until explicitly closed and may consume too much memory. (To control this warning, see the rcParam `figure.max_open_warning`).\n",
      "  max_open_warning, RuntimeWarning)\n",
      "/Users/rafalpwiewiora/anaconda3/lib/python3.5/site-packages/pyemma/plots/networks.py:70: UserWarning: The layout optimization method will take a long time for large networks! It is recommended to coarse grain your model first!\n",
      "  warnings.warn(\"The layout optimization method will take a long\"\n"
     ]
    }
   ],
   "source": [
    "plt.figure()\n",
    "pyemma.plots.plot_network(P, pos=pos, state_sizes=shi_data_corrected.flatten(), state_labels=state_labels, arrow_labels=None, arrow_scale=0.1)\n",
    "plt.savefig('shi_data_corrected_2500_msm_arrows_all.png', dpi=300)\n",
    "plt.close()"
   ]
  },
  {
   "cell_type": "code",
   "execution_count": 161,
   "metadata": {
    "collapsed": true
   },
   "outputs": [],
   "source": [
    "P_ = np.zeros((56,56))\n",
    "\n",
    "for x in range(56):\n",
    "    for y in range(x+1):\n",
    "        P_[x,y] = P[x,y]"
   ]
  },
  {
   "cell_type": "code",
   "execution_count": 162,
   "metadata": {
    "collapsed": false
   },
   "outputs": [
    {
     "name": "stderr",
     "output_type": "stream",
     "text": [
      "/Users/rafalpwiewiora/anaconda3/lib/python3.5/site-packages/matplotlib/pyplot.py:524: RuntimeWarning: More than 20 figures have been opened. Figures created through the pyplot interface (`matplotlib.pyplot.figure`) are retained until explicitly closed and may consume too much memory. (To control this warning, see the rcParam `figure.max_open_warning`).\n",
      "  max_open_warning, RuntimeWarning)\n",
      "/Users/rafalpwiewiora/anaconda3/lib/python3.5/site-packages/pyemma/plots/networks.py:70: UserWarning: The layout optimization method will take a long time for large networks! It is recommended to coarse grain your model first!\n",
      "  warnings.warn(\"The layout optimization method will take a long\"\n"
     ]
    }
   ],
   "source": [
    "plt.figure()\n",
    "pyemma.plots.plot_network(P_, pos=pos, state_sizes=shi_data_corrected.flatten(), state_labels=state_labels, arrow_labels=None, arrow_scale=0.1)\n",
    "plt.savefig('shi_data_corrected_2500_msm_arrows_all_half.png', dpi=300)\n",
    "plt.close()"
   ]
  },
  {
   "cell_type": "code",
   "execution_count": 163,
   "metadata": {
    "collapsed": true
   },
   "outputs": [],
   "source": [
    "# well it's pretty messy - let's try just between macrostates, without within macrostate"
   ]
  },
  {
   "cell_type": "code",
   "execution_count": 164,
   "metadata": {
    "collapsed": true
   },
   "outputs": [],
   "source": [
    "P = np.zeros((56,56))\n",
    "\n",
    "pos = np.array([[0,0], [0,1], [0,2], [0,3], [0,4], [0,5], [0,6], [0,7], \n",
    "[1,0], [1,1], [1,2], [1,3], [1,4], [1,5], [1,6], [1,7], \n",
    "[2,0], [2,1], [2,2], [2,3], [2,4], [2,5], [2,6], [2,7], \n",
    "[3,0], [3,1], [3,2], [3,3], [3,4], [3,5], [3,6], [3,7],\n",
    "[4,0], [4,1], [4,2], [4,3], [4,4], [4,5], [4,6], [4,7],\n",
    "[5,0], [5,1], [5,2], [5,3], [5,4], [5,5], [5,6], [5,7],\n",
    "[6,0], [6,1], [6,2], [6,3], [6,4], [6,5], [6,6], [6,7]])\n",
    "\n",
    "state_labels = []\n",
    "for i in range(56):\n",
    "    state_labels.append('')"
   ]
  },
  {
   "cell_type": "code",
   "execution_count": 165,
   "metadata": {
    "collapsed": true
   },
   "outputs": [],
   "source": [
    "for strmacrostate in range(56):\n",
    "    for macrostate in strmacrostate_macrostate_dict:\n",
    "        if strmacrostate in strmacrostate_macrostate_dict[macrostate]:\n",
    "            # then check what other macrostates this macrostate is connected to in P_spy, then add strmacrostate connections\n",
    "            # between this strmacrostate and all others in all those macrostates\n",
    "            connectivity = P_spy[int(macrostate)]\n",
    "            for i in range(20):\n",
    "                if connectivity[i] == 1 and i != int(macrostate):\n",
    "                    macrostate2 = strmacrostate_macrostate_dict[str(i)]\n",
    "                    for other_strmacrostate in macrostate2:\n",
    "                        P[strmacrostate, other_strmacrostate] = 1"
   ]
  },
  {
   "cell_type": "code",
   "execution_count": 168,
   "metadata": {
    "collapsed": false
   },
   "outputs": [
    {
     "name": "stderr",
     "output_type": "stream",
     "text": [
      "/Users/rafalpwiewiora/anaconda3/lib/python3.5/site-packages/matplotlib/pyplot.py:524: RuntimeWarning: More than 20 figures have been opened. Figures created through the pyplot interface (`matplotlib.pyplot.figure`) are retained until explicitly closed and may consume too much memory. (To control this warning, see the rcParam `figure.max_open_warning`).\n",
      "  max_open_warning, RuntimeWarning)\n",
      "/Users/rafalpwiewiora/anaconda3/lib/python3.5/site-packages/pyemma/plots/networks.py:70: UserWarning: The layout optimization method will take a long time for large networks! It is recommended to coarse grain your model first!\n",
      "  warnings.warn(\"The layout optimization method will take a long\"\n"
     ]
    }
   ],
   "source": [
    "plt.figure()\n",
    "pyemma.plots.plot_network(P, pos=pos, state_sizes=shi_data_corrected.flatten(), state_labels=state_labels, arrow_labels=None, arrow_scale=0.1)\n",
    "plt.savefig('shi_data_corrected_2500_msm_arrows_only_betweenmacro.png', dpi=300)\n",
    "plt.close()"
   ]
  },
  {
   "cell_type": "code",
   "execution_count": 167,
   "metadata": {
    "collapsed": true
   },
   "outputs": [],
   "source": [
    "P_ = np.zeros((56,56))\n",
    "\n",
    "for x in range(56):\n",
    "    for y in range(x+1):\n",
    "        P_[x,y] = P[x,y]"
   ]
  },
  {
   "cell_type": "code",
   "execution_count": 169,
   "metadata": {
    "collapsed": false
   },
   "outputs": [
    {
     "name": "stderr",
     "output_type": "stream",
     "text": [
      "/Users/rafalpwiewiora/anaconda3/lib/python3.5/site-packages/matplotlib/pyplot.py:524: RuntimeWarning: More than 20 figures have been opened. Figures created through the pyplot interface (`matplotlib.pyplot.figure`) are retained until explicitly closed and may consume too much memory. (To control this warning, see the rcParam `figure.max_open_warning`).\n",
      "  max_open_warning, RuntimeWarning)\n",
      "/Users/rafalpwiewiora/anaconda3/lib/python3.5/site-packages/pyemma/plots/networks.py:70: UserWarning: The layout optimization method will take a long time for large networks! It is recommended to coarse grain your model first!\n",
      "  warnings.warn(\"The layout optimization method will take a long\"\n"
     ]
    }
   ],
   "source": [
    "plt.figure()\n",
    "pyemma.plots.plot_network(P_, pos=pos, state_sizes=shi_data_corrected.flatten(), state_labels=state_labels, arrow_labels=None, arrow_scale=0.1)\n",
    "plt.savefig('shi_data_corrected_2500_msm_arrows_only_betweenmacro_half.png', dpi=300)\n",
    "plt.close()"
   ]
  },
  {
   "cell_type": "code",
   "execution_count": 45,
   "metadata": {
    "collapsed": true
   },
   "outputs": [],
   "source": [
    "# runs of origin"
   ]
  },
  {
   "cell_type": "code",
   "execution_count": 46,
   "metadata": {
    "collapsed": true
   },
   "outputs": [],
   "source": [
    "from collections import Counter\n",
    "\n",
    "glob_output = np.load('../glob_output.npy')\n",
    "glob_output = [x.decode('UTF-8') for x in glob_output]\n",
    "\n",
    "samples = np.load('../macro_sample/unitime_2500_300_p1_20_100per/samples_300_p1_20_100per.npy')\n",
    "\n",
    "run_results = []\n",
    "\n",
    "for macrostate in samples:\n",
    "    macrostate_results = []\n",
    "    for frame in macrostate:\n",
    "        x = glob_output[frame[0]]\n",
    "        y = int(x.split('-')[0][9:])\n",
    "        if x[:5] == '11707':\n",
    "            if y <= 19:\n",
    "                macrostate_results.append('1zkk')\n",
    "            elif y in [20,21] or (y >= 42 and y <= 59):\n",
    "                macrostate_results.append('4ij8')\n",
    "            elif y in [22,25,26,27,28,31,32,33,34,35] or (y >= 60 and y <= 69):\n",
    "                macrostate_results.append('Apo')\n",
    "            elif y in [23,24,29,30,36,37,38,39,40,41] or y >= 70:\n",
    "                macrostate_results.append('Inhibitor')\n",
    "        elif x[:5] == '11709':\n",
    "            if y in [0,2]:\n",
    "                macrostate_results.append('1zkk_apo')\n",
    "            elif y in [1,3]:\n",
    "                macrostate_results.append('4ij8_apo')\n",
    "    \n",
    "    run_results.append(macrostate_results)\n",
    "    \n",
    "run_results_counters = []\n",
    "\n",
    "for x in run_results:\n",
    "    run_results_counters.append(Counter(x))    "
   ]
  },
  {
   "cell_type": "code",
   "execution_count": 47,
   "metadata": {
    "collapsed": true
   },
   "outputs": [],
   "source": [
    "regspace_dtrajs = []\n",
    "\n",
    "for i in range(len(samples_md_noNflank_allatoms)):\n",
    "    samples = samples_md_noNflank_allatoms[i]\n",
    "    regspace_dtrajs.append(regspace_objects_noNflank_allatoms_5[i].transform(samples))\n",
    "    \n",
    "regspace_frames = []\n",
    "\n",
    "for x in regspace_dtrajs:\n",
    "    regspace_frames.append([])\n",
    "    for y in x:\n",
    "        regspace_frames[-1].append(y[0])\n",
    "        \n",
    "regspace_5_by_cluster_runs_of_origin = []\n",
    "\n",
    "for i in range(len(regspace_frames)):\n",
    "    clusters = regspace_frames[i]\n",
    "    runs = run_results[i]\n",
    "    \n",
    "    regspace_5_by_cluster_runs_of_origin.append(dict())\n",
    "    for j in range(len(clusters)):\n",
    "        if clusters[j] not in regspace_5_by_cluster_runs_of_origin[-1]:\n",
    "            regspace_5_by_cluster_runs_of_origin[-1][clusters[j]] = [runs[j]]\n",
    "        else:\n",
    "            regspace_5_by_cluster_runs_of_origin[-1][clusters[j]].append(runs[j])\n",
    "            \n",
    "regspace_5_by_cluster_runs_of_origin_counters = []\n",
    "\n",
    "for macrostate in regspace_5_by_cluster_runs_of_origin:\n",
    "    regspace_5_by_cluster_runs_of_origin_counters.append(dict())\n",
    "    for cluster in macrostate:\n",
    "        regspace_5_by_cluster_runs_of_origin_counters[-1][cluster] = Counter(macrostate[cluster])            "
   ]
  },
  {
   "cell_type": "code",
   "execution_count": 48,
   "metadata": {
    "collapsed": true
   },
   "outputs": [],
   "source": [
    "shi_data_runs_origin = [\n",
    "[dict(), dict(), dict(), dict(), dict(), dict(), dict(), dict()],\n",
    "[dict(), dict(), dict(), dict(), dict(), dict(), dict(), dict()],\n",
    "[dict(), dict(), dict(), dict(), dict(), dict(), dict(), dict()],\n",
    "[dict(), dict(), dict(), dict(), dict(), dict(), dict(), dict()],\n",
    "[dict(), dict(), dict(), dict(), dict(), dict(), dict(), dict()],\n",
    "[dict(), dict(), dict(), dict(), dict(), dict(), dict(), dict()],\n",
    "[dict(), dict(), dict(), dict(), dict(), dict(), dict(), dict()],\n",
    "]\n",
    "\n",
    "for i in range(7):\n",
    "    for j in range(8):\n",
    "        data = shi_data[i,j]\n",
    "        data_split = [x.split('-') for x in data]\n",
    "        output_dict = shi_data_runs_origin[i][j]\n",
    "        for y in data_split:\n",
    "            weight = msm_populations[int(y[0])] * (regspace_counters[int(y[0])][int(y[1])-1] / np.sum(list(regspace_counters[int(y[0])].values())))\n",
    "            weight = weight / np.sum([msm_populations[int(y[0])] * (regspace_counters[int(y[0])][int(y[1])-1] / np.sum(list(regspace_counters[int(y[0])].values()))) for y in data_split])\n",
    "            counter = regspace_5_by_cluster_runs_of_origin_counters[int(y[0])][int(y[1])-1]\n",
    "            temp_dict = dict()\n",
    "            for run_of_origin in counter:\n",
    "                temp_dict[run_of_origin] = counter[run_of_origin] / np.sum([counter[x] for x in counter])\n",
    "            \n",
    "            for x in temp_dict:\n",
    "                temp_dict[x] = temp_dict[x] * weight\n",
    "                if x not in output_dict:\n",
    "                    output_dict[x] = temp_dict[x]\n",
    "                else:\n",
    "                    output_dict[x] += temp_dict[x]"
   ]
  },
  {
   "cell_type": "code",
   "execution_count": 49,
   "metadata": {
    "collapsed": false
   },
   "outputs": [
    {
     "data": {
      "text/plain": [
       "[[{},\n",
       "  {'1zkk': 0.11264689470620406,\n",
       "   '1zkk_apo': 0.29873863867070477,\n",
       "   '4ij8': 0.042614033985301107,\n",
       "   '4ij8_apo': 0.14768537520194486,\n",
       "   'Apo': 0.2464557543394971,\n",
       "   'Inhibitor': 0.1518593030963481},\n",
       "  {'1zkk': 0.40887432410738278,\n",
       "   '4ij8_apo': 0.39408378392841148,\n",
       "   'Apo': 0.19704189196420574},\n",
       "  {'4ij8_apo': 1.0},\n",
       "  {},\n",
       "  {},\n",
       "  {'1zkk_apo': 0.5, '4ij8': 0.5},\n",
       "  {'1zkk': 0.10971153849627485,\n",
       "   '1zkk_apo': 0.23770833340859554,\n",
       "   '4ij8_apo': 0.018285256416045809,\n",
       "   'Apo': 0.018285256416045809,\n",
       "   'Inhibitor': 0.61600961526303799}],\n",
       " [{},\n",
       "  {'1zkk': 0.17909477602002288,\n",
       "   '1zkk_apo': 0.047424668049106548,\n",
       "   '4ij8': 0.086884638917063203,\n",
       "   '4ij8_apo': 0.10907595514544553,\n",
       "   'Apo': 0.24806252705956863,\n",
       "   'Inhibitor': 0.32945743480879319},\n",
       "  {'1zkk': 0.15962739509457763,\n",
       "   '1zkk_apo': 0.10351846677414935,\n",
       "   '4ij8': 0.11405599596267182,\n",
       "   '4ij8_apo': 0.15947425143317112,\n",
       "   'Apo': 0.22441910496154999,\n",
       "   'Inhibitor': 0.23890478577388014},\n",
       "  {'Apo': 0.33333333333333331, 'Inhibitor': 0.66666666666666663},\n",
       "  {},\n",
       "  {'Apo': 1.0},\n",
       "  {'1zkk': 0.30769230769230771,\n",
       "   '1zkk_apo': 0.076923076923076927,\n",
       "   '4ij8': 0.15384615384615385,\n",
       "   '4ij8_apo': 0.23076923076923078,\n",
       "   'Apo': 0.076923076923076927,\n",
       "   'Inhibitor': 0.15384615384615385},\n",
       "  {'1zkk': 0.1307302241563226,\n",
       "   '1zkk_apo': 0.15687626898758714,\n",
       "   '4ij8': 0.18302231381885165,\n",
       "   '4ij8_apo': 0.36550999378324883,\n",
       "   'Apo': 0.053844296388396322,\n",
       "   'Inhibitor': 0.11001690286559357}],\n",
       " [{},\n",
       "  {'1zkk': 0.017641849065263747,\n",
       "   '1zkk_apo': 0.73336276744336004,\n",
       "   '4ij8': 0.026462773597895613,\n",
       "   '4ij8_apo': 0.059209974078910974,\n",
       "   'Apo': 0.070699859340191296,\n",
       "   'Inhibitor': 0.092622776474378235},\n",
       "  {'1zkk': 0.024390243902439025,\n",
       "   '4ij8': 0.31707317073170732,\n",
       "   'Inhibitor': 0.65853658536585369},\n",
       "  {'Apo': 1.0},\n",
       "  {},\n",
       "  {'Apo': 1.0},\n",
       "  {},\n",
       "  {'4ij8': 0.16666666666666666,\n",
       "   '4ij8_apo': 0.12499999999999999,\n",
       "   'Inhibitor': 0.70833333333333326}],\n",
       " [{'4ij8': 0.5, 'Inhibitor': 0.5},\n",
       "  {'1zkk': 0.67855766103520176, 'Inhibitor': 0.32144233896479818},\n",
       "  {'1zkk_apo': 1.0},\n",
       "  {'1zkk_apo': 0.083333333333333343,\n",
       "   '4ij8': 0.33333333333333337,\n",
       "   'Apo': 0.33333333333333337,\n",
       "   'Inhibitor': 0.25},\n",
       "  {'Apo': 1.0},\n",
       "  {'1zkk': 0.08111246893768026,\n",
       "   '1zkk_apo': 0.18887531062319726,\n",
       "   '4ij8': 0.08111246893768026,\n",
       "   '4ij8_apo': 0.16222493787536052,\n",
       "   'Apo': 0.24333740681304081,\n",
       "   'Inhibitor': 0.24333740681304081},\n",
       "  {'1zkk': 0.18156744901168953,\n",
       "   '1zkk_apo': 0.22471550029852777,\n",
       "   '4ij8': 0.10149254326764215,\n",
       "   '4ij8_apo': 0.13777352403268647,\n",
       "   'Apo': 0.27488136702558263,\n",
       "   'Inhibitor': 0.079569616363871526},\n",
       "  {'1zkk': 0.13811637386164716,\n",
       "   '1zkk_apo': 0.043404380692006715,\n",
       "   '4ij8': 0.33482774944194726,\n",
       "   '4ij8_apo': 0.33611276032351434,\n",
       "   'Apo': 0.12297907862735237,\n",
       "   'Inhibitor': 0.024559657053532108}],\n",
       " [{},\n",
       "  {'1zkk': 0.21132915640593464,\n",
       "   '1zkk_apo': 0.055930993332201501,\n",
       "   '4ij8': 0.36706856794311038,\n",
       "   '4ij8_apo': 0.013890468472788855,\n",
       "   'Apo': 0.078043680235044405,\n",
       "   'Inhibitor': 0.27373713361092},\n",
       "  {'1zkk': 0.29846236673622561,\n",
       "   '1zkk_apo': 0.16225732850115343,\n",
       "   '4ij8': 0.20205962328937724,\n",
       "   '4ij8_apo': 0.09370304481164593,\n",
       "   'Apo': 0.099547248164020136,\n",
       "   'Inhibitor': 0.14397038849757759},\n",
       "  {'1zkk': 0.11524519860200028,\n",
       "   '1zkk_apo': 0.19216270292424609,\n",
       "   '4ij8': 0.2348998798249228,\n",
       "   '4ij8_apo': 0.14817804612873892,\n",
       "   'Apo': 0.15720816860353048,\n",
       "   'Inhibitor': 0.15230600391656143},\n",
       "  {'Inhibitor': 1.0},\n",
       "  {'1zkk': 0.19025963065905982,\n",
       "   '1zkk_apo': 0.051455513542644056,\n",
       "   '4ij8': 0.22614820352368137,\n",
       "   '4ij8_apo': 0.15476855242866122,\n",
       "   'Apo': 0.37736809984595332},\n",
       "  {'4ij8': 0.72727272727272729,\n",
       "   '4ij8_apo': 0.18181818181818182,\n",
       "   'Apo': 0.090909090909090912},\n",
       "  {'4ij8': 1.0}],\n",
       " [{'1zkk': 0.24730577192470665, '4ij8': 0.7526942280752934},\n",
       "  {'1zkk': 0.15532430926207463,\n",
       "   '1zkk_apo': 0.212446961115659,\n",
       "   '4ij8': 0.20186906110396444,\n",
       "   '4ij8_apo': 0.15179834259150976,\n",
       "   'Apo': 0.078632044439246859,\n",
       "   'Inhibitor': 0.19992928148754532},\n",
       "  {},\n",
       "  {'1zkk': 0.27270545446100847,\n",
       "   '1zkk_apo': 0.45458909107798301,\n",
       "   '4ij8': 0.13635272723050423,\n",
       "   'Apo': 0.13635272723050423},\n",
       "  {},\n",
       "  {'1zkk': 0.16666666666666666,\n",
       "   '1zkk_apo': 0.33333333333333331,\n",
       "   '4ij8': 0.33333333333333331,\n",
       "   'Inhibitor': 0.16666666666666666},\n",
       "  {},\n",
       "  {}],\n",
       " [{}, {}, {}, {}, {}, {}, {}, {}]]"
      ]
     },
     "execution_count": 49,
     "metadata": {},
     "output_type": "execute_result"
    }
   ],
   "source": [
    "shi_data_runs_origin"
   ]
  },
  {
   "cell_type": "code",
   "execution_count": 1,
   "metadata": {
    "collapsed": true
   },
   "outputs": [],
   "source": [
    "# now make MSM PIECHARTS - i.e. we're gonna take all 20 macrostates and plot them as pie-charts of 'submacrostate'\n",
    "# populations "
   ]
  },
  {
   "cell_type": "code",
   "execution_count": null,
   "metadata": {
    "collapsed": true
   },
   "outputs": [],
   "source": [
    "# for 2500 - model 5 first"
   ]
  },
  {
   "cell_type": "code",
   "execution_count": 39,
   "metadata": {
    "collapsed": true
   },
   "outputs": [],
   "source": [
    "import numpy as np\n",
    "import glob\n",
    "import matplotlib\n",
    "matplotlib.use('Agg')\n",
    "import matplotlib.pyplot as plt\n",
    "import pyemma\n",
    "import msmbuilder\n",
    "from msmbuilder.msm import MarkovStateModel\n",
    "from msmbuilder.lumping import PCCAPlus\n",
    "\n",
    "import mdtraj as md\n",
    "\n",
    "import glob\n",
    "from msmbuilder.cluster import RegularSpatial"
   ]
  },
  {
   "cell_type": "code",
   "execution_count": 40,
   "metadata": {
    "collapsed": true
   },
   "outputs": [],
   "source": [
    "samples_unitime_2500_300_p1_20_100per = glob.glob('../macro_sample/unitime_2500_300_p1_20_100per/*.pdb')\n",
    "\n",
    "samples_md = [md.load(x) for x in samples_unitime_2500_300_p1_20_100per]\n",
    "data = samples_md[0][0]\n",
    "\n",
    "allatoms_data_selection = data.top.select('not element H and resid > 24')\n",
    "samples_md_noNflank_allatoms = []\n",
    "\n",
    "for x in samples_md:\n",
    "    samples_md_noNflank_allatoms.append(x.atom_slice(allatoms_data_selection))\n",
    "    \n",
    "regspace_objects_noNflank_allatoms_5 = []\n",
    "\n",
    "for x in samples_md_noNflank_allatoms:\n",
    "    regspace_objects_noNflank_allatoms_5.append(RegularSpatial(0.5, metric='rmsd'))\n",
    "    regspace_objects_noNflank_allatoms_5[-1].fit(x)\n",
    "    \n",
    "regspace_dtrajs = []\n",
    "\n",
    "for i in range(len(samples_md_noNflank_allatoms)):\n",
    "    samples = samples_md_noNflank_allatoms[i]\n",
    "    regspace_dtrajs.append(regspace_objects_noNflank_allatoms_5[i].transform(samples))\n",
    "    \n",
    "from collections import Counter\n",
    "\n",
    "regspace_frames = []\n",
    "\n",
    "for x in regspace_dtrajs:\n",
    "    regspace_frames.append([])\n",
    "    for y in x:\n",
    "        regspace_frames[-1].append(y[0])\n",
    "        \n",
    "regspace_counters = []\n",
    "\n",
    "for x in regspace_frames:\n",
    "    regspace_counters.append(Counter(x))        "
   ]
  },
  {
   "cell_type": "code",
   "execution_count": 41,
   "metadata": {
    "collapsed": true
   },
   "outputs": [],
   "source": [
    "msm_populations = np.array([ 0.00118174,  0.00377706,  0.00210663,  0.00714451,  0.01740405,\n",
    "        0.00055486,  0.00384246,  0.00736303,  0.00332306,  0.00149088,\n",
    "        0.00713653,  0.00396535,  0.00236742,  0.00253077,  0.08525878,\n",
    "        0.14827181,  0.09523633,  0.19014794,  0.12703765,  0.28985913])"
   ]
  },
  {
   "cell_type": "code",
   "execution_count": 42,
   "metadata": {
    "collapsed": true
   },
   "outputs": [],
   "source": [
    "shi_data = np.array([\n",
    "[[],['2-1, 4-2, 6-1, 10-1, 11-2, 11-4, 11-5, 11-6, 11-7, 17-1'],['10-4, 17-4'],['15-8'],[],[],['14-4'],['13-3, 14-7']],\n",
    "[[],['3-1, 3-2, 6-2, 6-3, 7-7, 10-2, 11-1, 12-3, 15-1, 17-3'],['7-1, 7-2, 11-3, 15-2, 17-2'],['15-6'],[],['14-5'],['14-2'],['13-1, 14-1']],\n",
    "[[],['4-1, 7-3, 7-6, 10-3, 15-4, 15-9'],['12-1'],['14-6'],[],['13-2'],[],['9-1, 9-3']],\n",
    "[['15-7'],['12-2, 19-10'],['7-5'],['16-2, 16-9'],['16-3'],['16-12, 19-9'],['14-3, 15-3, 16-7, 19-3'],['5-1, 9-2, 13-4']],\n",
    "[[],['0-1, 1-1, 7-4, 13-6, 16-4, 16-5, 16-6, 19-5, 19-8, 19-12'],['1-2, 1-3, 16-1, 18-3, 18-6, 18-10, 19-2, 19-13'],['15-5, 16-11, 18-2, 18-4, 19-7, 19-11'],['18-7'],['8-1, 8-2, 8-3, 18-9, 19-6'],['13-5'],['5-2']],\n",
    "[['16-10, 19-4'],['18-1, 18-8, 18-11, 19-1'],[],['16-8, 18-12'],[],['18-5'],[],[]],\n",
    "[[],[],[],[],[],[],[],[]],        \n",
    "])         "
   ]
  },
  {
   "cell_type": "code",
   "execution_count": 5,
   "metadata": {
    "collapsed": true
   },
   "outputs": [],
   "source": [
    "# first make all piecharts the same size, just put the sub macrostate info in, \n",
    "# then try making them a size proportional to the MSM populations"
   ]
  },
  {
   "cell_type": "code",
   "execution_count": 6,
   "metadata": {
    "collapsed": true
   },
   "outputs": [],
   "source": [
    "# so we have regspace_counters to get submacrostate populations from, and shi_data - so need a list of 20 dictionaries, \n",
    "# where dictionaries will be key - submacrostate indexes, value - submacrostate population within the macrostate"
   ]
  },
  {
   "cell_type": "code",
   "execution_count": 7,
   "metadata": {
    "collapsed": false
   },
   "outputs": [
    {
     "data": {
      "text/plain": [
       "[Counter({0: 100}),\n",
       " Counter({0: 79, 1: 19, 2: 2}),\n",
       " Counter({0: 100}),\n",
       " Counter({0: 98, 1: 2}),\n",
       " Counter({0: 98, 1: 2}),\n",
       " Counter({0: 76, 1: 24}),\n",
       " Counter({0: 54, 1: 44, 2: 2}),\n",
       " Counter({0: 29, 1: 28, 2: 13, 3: 11, 4: 1, 5: 12, 6: 6}),\n",
       " Counter({0: 59, 1: 33, 2: 8}),\n",
       " Counter({0: 13, 1: 76, 2: 11}),\n",
       " Counter({0: 42, 1: 53, 2: 3, 3: 2}),\n",
       " Counter({0: 16, 1: 26, 2: 30, 3: 5, 4: 13, 5: 1, 6: 9}),\n",
       " Counter({0: 41, 1: 58, 2: 1}),\n",
       " Counter({0: 42, 1: 5, 2: 21, 3: 20, 4: 11, 5: 1}),\n",
       " Counter({0: 37, 1: 13, 2: 44, 3: 2, 4: 2, 5: 1, 6: 1}),\n",
       " Counter({0: 26, 1: 51, 2: 7, 3: 1, 4: 5, 5: 3, 6: 2, 7: 2, 8: 3}),\n",
       " Counter({0: 54,\n",
       "          1: 10,\n",
       "          2: 2,\n",
       "          3: 3,\n",
       "          4: 4,\n",
       "          5: 8,\n",
       "          6: 2,\n",
       "          7: 6,\n",
       "          8: 2,\n",
       "          9: 1,\n",
       "          10: 7,\n",
       "          11: 1}),\n",
       " Counter({0: 22, 1: 54, 2: 19, 3: 5}),\n",
       " Counter({0: 10,\n",
       "          1: 12,\n",
       "          2: 21,\n",
       "          3: 6,\n",
       "          4: 6,\n",
       "          5: 13,\n",
       "          6: 1,\n",
       "          7: 3,\n",
       "          8: 3,\n",
       "          9: 21,\n",
       "          10: 3,\n",
       "          11: 1}),\n",
       " Counter({0: 28,\n",
       "          1: 10,\n",
       "          2: 18,\n",
       "          3: 1,\n",
       "          4: 10,\n",
       "          5: 4,\n",
       "          6: 2,\n",
       "          7: 5,\n",
       "          8: 12,\n",
       "          9: 1,\n",
       "          10: 3,\n",
       "          11: 2,\n",
       "          12: 4})]"
      ]
     },
     "execution_count": 7,
     "metadata": {},
     "output_type": "execute_result"
    }
   ],
   "source": [
    "regspace_counters"
   ]
  },
  {
   "cell_type": "code",
   "execution_count": 8,
   "metadata": {
    "collapsed": true
   },
   "outputs": [],
   "source": [
    "# actually regspace_counters is all we need already!!"
   ]
  },
  {
   "cell_type": "code",
   "execution_count": 9,
   "metadata": {
    "collapsed": false
   },
   "outputs": [
    {
     "data": {
      "text/plain": [
       "'/Users/rafalpwiewiora/repos/MSM/11707_11709_SET8_apo/msm_pipeline/dist/regspace_analysis'"
      ]
     },
     "execution_count": 9,
     "metadata": {},
     "output_type": "execute_result"
    }
   ],
   "source": [
    "pwd"
   ]
  },
  {
   "cell_type": "code",
   "execution_count": 10,
   "metadata": {
    "collapsed": false
   },
   "outputs": [
    {
     "name": "stdout",
     "output_type": "stream",
     "text": [
      "/Users/rafalpwiewiora/repos/MSM/11707_11709_SET8_apo/msm_pipeline/dist/regspace_analysis/piecharts\n"
     ]
    }
   ],
   "source": [
    "cd piecharts"
   ]
  },
  {
   "cell_type": "code",
   "execution_count": 33,
   "metadata": {
    "collapsed": false
   },
   "outputs": [],
   "source": [
    "# this doesn't plot a from-the-top view\n",
    "plt.figure()\n",
    "plt.pie(list(regspace_counters[1].values()), labels=[x+1 for x in range(len(regspace_counters[1]))], autopct='%1.1f%%')\n",
    "plt.savefig('test.png', dpi=300)\n",
    "plt.close()"
   ]
  },
  {
   "cell_type": "code",
   "execution_count": 35,
   "metadata": {
    "collapsed": true
   },
   "outputs": [],
   "source": [
    "# this plots a from-the-top view - i.e. the chart is a circle\n",
    "fig1, ax1 = plt.subplots()\n",
    "ax1.pie(list(regspace_counters[1].values()), labels=[x+1 for x in range(len(regspace_counters[1]))], autopct='%1.1f%%')\n",
    "ax1.axis('equal')\n",
    "plt.savefig('test.png', dpi=300)\n",
    "plt.close()"
   ]
  },
  {
   "cell_type": "code",
   "execution_count": 36,
   "metadata": {
    "collapsed": true
   },
   "outputs": [],
   "source": [
    "# ok now plot them for all 20 macrostates and put in one pdf for now - then can try to put them on one page"
   ]
  },
  {
   "cell_type": "code",
   "execution_count": 40,
   "metadata": {
    "collapsed": false
   },
   "outputs": [],
   "source": [
    "import matplotlib.backends.backend_pdf\n",
    "pdf = matplotlib.backends.backend_pdf.PdfPages(\"test.pdf\")\n",
    "\n",
    "for x in regspace_counters:\n",
    "    fig1, ax1 = plt.subplots()\n",
    "    ax1.pie(list(x.values()), labels=[x+1 for x in range(len(x))], autopct='%1.1f%%')\n",
    "    ax1.axis('equal')\n",
    "    pdf.savefig(fig1, dpi=300)\n",
    "    plt.close()\n",
    "    \n",
    "pdf.close()    "
   ]
  },
  {
   "cell_type": "code",
   "execution_count": 41,
   "metadata": {
    "collapsed": true
   },
   "outputs": [],
   "source": [
    "# ok so just realized regspace_counters is not all we need already - we need not populations of the sub-macrostates, \n",
    "# but populations of 'structural-macrostates' in macrostates"
   ]
  },
  {
   "cell_type": "code",
   "execution_count": 42,
   "metadata": {
    "collapsed": true
   },
   "outputs": [],
   "source": [
    "# so let's take regspace_counters and make a new dict - change the submacrostate labels to structural macrostate labels"
   ]
  },
  {
   "cell_type": "code",
   "execution_count": 44,
   "metadata": {
    "collapsed": false
   },
   "outputs": [
    {
     "data": {
      "text/plain": [
       "(7, 8)"
      ]
     },
     "execution_count": 44,
     "metadata": {},
     "output_type": "execute_result"
    }
   ],
   "source": [
    "shi_data.shape"
   ]
  },
  {
   "cell_type": "code",
   "execution_count": 45,
   "metadata": {
    "collapsed": false
   },
   "outputs": [
    {
     "data": {
      "text/plain": [
       "56"
      ]
     },
     "execution_count": 45,
     "metadata": {},
     "output_type": "execute_result"
    }
   ],
   "source": [
    "7*8"
   ]
  },
  {
   "cell_type": "code",
   "execution_count": 51,
   "metadata": {
    "collapsed": false
   },
   "outputs": [
    {
     "data": {
      "text/plain": [
       "['2-1, 4-2, 6-1, 10-1, 11-2, 11-4, 11-5, 11-6, 11-7, 17-1']"
      ]
     },
     "execution_count": 51,
     "metadata": {},
     "output_type": "execute_result"
    }
   ],
   "source": [
    "shi_data[0,1]"
   ]
  },
  {
   "cell_type": "code",
   "execution_count": 43,
   "metadata": {
    "collapsed": true
   },
   "outputs": [],
   "source": [
    "shi_data2 = np.empty((7,8)).tolist()\n",
    "\n",
    "for i in range(7):\n",
    "    for j in range(8):\n",
    "        if shi_data[i,j] == []:\n",
    "            shi_data2[i][j] = []\n",
    "        else:    \n",
    "            shi_data2[i][j] = shi_data[i,j][0].split(', ')\n",
    "            \n",
    "shi_data2 = np.asarray(shi_data2)            "
   ]
  },
  {
   "cell_type": "code",
   "execution_count": 44,
   "metadata": {
    "collapsed": true
   },
   "outputs": [],
   "source": [
    "shi_data = shi_data2"
   ]
  },
  {
   "cell_type": "code",
   "execution_count": 13,
   "metadata": {
    "collapsed": false
   },
   "outputs": [
    {
     "data": {
      "text/plain": [
       "array([[[],\n",
       "        ['2-1', '4-2', '6-1', '10-1', '11-2', '11-4', '11-5', '11-6', '11-7', '17-1'],\n",
       "        ['10-4', '17-4'], ['15-8'], [], [], ['14-4'], ['13-3', '14-7']],\n",
       "       [[],\n",
       "        ['3-1', '3-2', '6-2', '6-3', '7-7', '10-2', '11-1', '12-3', '15-1', '17-3'],\n",
       "        ['7-1', '7-2', '11-3', '15-2', '17-2'], ['15-6'], [], ['14-5'],\n",
       "        ['14-2'], ['13-1', '14-1']],\n",
       "       [[], ['4-1', '7-3', '7-6', '10-3', '15-4', '15-9'], ['12-1'],\n",
       "        ['14-6'], [], ['13-2'], [], ['9-1', '9-3']],\n",
       "       [['15-7'], ['12-2', '19-10'], ['7-5'], ['16-2', '16-9'], ['16-3'],\n",
       "        ['16-12', '19-9'], ['14-3', '15-3', '16-7', '19-3'],\n",
       "        ['5-1', '9-2', '13-4']],\n",
       "       [[],\n",
       "        ['0-1', '1-1', '7-4', '13-6', '16-4', '16-5', '16-6', '19-5', '19-8', '19-12'],\n",
       "        ['1-2', '1-3', '16-1', '18-3', '18-6', '18-10', '19-2', '19-13'],\n",
       "        ['15-5', '16-11', '18-2', '18-4', '19-7', '19-11'], ['18-7'],\n",
       "        ['8-1', '8-2', '8-3', '18-9', '19-6'], ['13-5'], ['5-2']],\n",
       "       [['16-10', '19-4'], ['18-1', '18-8', '18-11', '19-1'], [],\n",
       "        ['16-8', '18-12'], [], ['18-5'], [], []],\n",
       "       [[], [], [], [], [], [], [], []]], dtype=object)"
      ]
     },
     "execution_count": 13,
     "metadata": {},
     "output_type": "execute_result"
    }
   ],
   "source": [
    "shi_data"
   ]
  },
  {
   "cell_type": "code",
   "execution_count": 56,
   "metadata": {
    "collapsed": false
   },
   "outputs": [
    {
     "data": {
      "text/plain": [
       "True"
      ]
     },
     "execution_count": 56,
     "metadata": {},
     "output_type": "execute_result"
    }
   ],
   "source": [
    "'2-1' in shi_data[0,1]"
   ]
  },
  {
   "cell_type": "code",
   "execution_count": 57,
   "metadata": {
    "collapsed": false
   },
   "outputs": [
    {
     "data": {
      "text/plain": [
       "[Counter({0: 100}),\n",
       " Counter({0: 79, 1: 19, 2: 2}),\n",
       " Counter({0: 100}),\n",
       " Counter({0: 98, 1: 2}),\n",
       " Counter({0: 98, 1: 2}),\n",
       " Counter({0: 76, 1: 24}),\n",
       " Counter({0: 54, 1: 44, 2: 2}),\n",
       " Counter({0: 29, 1: 28, 2: 13, 3: 11, 4: 1, 5: 12, 6: 6}),\n",
       " Counter({0: 59, 1: 33, 2: 8}),\n",
       " Counter({0: 13, 1: 76, 2: 11}),\n",
       " Counter({0: 42, 1: 53, 2: 3, 3: 2}),\n",
       " Counter({0: 16, 1: 26, 2: 30, 3: 5, 4: 13, 5: 1, 6: 9}),\n",
       " Counter({0: 41, 1: 58, 2: 1}),\n",
       " Counter({0: 42, 1: 5, 2: 21, 3: 20, 4: 11, 5: 1}),\n",
       " Counter({0: 37, 1: 13, 2: 44, 3: 2, 4: 2, 5: 1, 6: 1}),\n",
       " Counter({0: 26, 1: 51, 2: 7, 3: 1, 4: 5, 5: 3, 6: 2, 7: 2, 8: 3}),\n",
       " Counter({0: 54,\n",
       "          1: 10,\n",
       "          2: 2,\n",
       "          3: 3,\n",
       "          4: 4,\n",
       "          5: 8,\n",
       "          6: 2,\n",
       "          7: 6,\n",
       "          8: 2,\n",
       "          9: 1,\n",
       "          10: 7,\n",
       "          11: 1}),\n",
       " Counter({0: 22, 1: 54, 2: 19, 3: 5}),\n",
       " Counter({0: 10,\n",
       "          1: 12,\n",
       "          2: 21,\n",
       "          3: 6,\n",
       "          4: 6,\n",
       "          5: 13,\n",
       "          6: 1,\n",
       "          7: 3,\n",
       "          8: 3,\n",
       "          9: 21,\n",
       "          10: 3,\n",
       "          11: 1}),\n",
       " Counter({0: 28,\n",
       "          1: 10,\n",
       "          2: 18,\n",
       "          3: 1,\n",
       "          4: 10,\n",
       "          5: 4,\n",
       "          6: 2,\n",
       "          7: 5,\n",
       "          8: 12,\n",
       "          9: 1,\n",
       "          10: 3,\n",
       "          11: 2,\n",
       "          12: 4})]"
      ]
     },
     "execution_count": 57,
     "metadata": {},
     "output_type": "execute_result"
    }
   ],
   "source": [
    "regspace_counters"
   ]
  },
  {
   "cell_type": "code",
   "execution_count": 45,
   "metadata": {
    "collapsed": true
   },
   "outputs": [],
   "source": [
    "shi_data_flatten = shi_data.flatten()"
   ]
  },
  {
   "cell_type": "code",
   "execution_count": 46,
   "metadata": {
    "collapsed": true
   },
   "outputs": [],
   "source": [
    "# combined code here\n",
    "shi_data_flatten = shi_data.flatten()\n",
    "\n",
    "regspace_counters_struct_macro = []\n",
    "\n",
    "for x in range(len(regspace_counters)):\n",
    "    new_dict = dict()\n",
    "    macrostate = regspace_counters[x]\n",
    "    for y in macrostate.keys():\n",
    "        for i in range(len(shi_data_flatten)):\n",
    "            data = shi_data_flatten[i]\n",
    "            if '%s-%s' % (x,y+1) in data:\n",
    "                new_key = i\n",
    "                break\n",
    "        if not new_key in new_dict:        \n",
    "            new_dict[new_key] = macrostate[y]\n",
    "        else:\n",
    "            new_dict[new_key] += macrostate[y]\n",
    "    regspace_counters_struct_macro.append(new_dict)    \n",
    "    \n",
    "regspace_counters_struct_macro = []\n",
    "\n",
    "for x in range(len(regspace_counters)):\n",
    "    new_dict = dict()\n",
    "    macrostate = regspace_counters[x]\n",
    "    for y in macrostate.keys():\n",
    "        for i in range(len(shi_data_flatten)):\n",
    "            data = shi_data_flatten[i]\n",
    "            if '%s-%s' % (x,y+1) in data:\n",
    "                new_key = i\n",
    "                break\n",
    "        if not new_key in new_dict:        \n",
    "            new_dict[new_key] = macrostate[y]\n",
    "        else:\n",
    "            new_dict[new_key] += macrostate[y]\n",
    "    regspace_counters_struct_macro.append(new_dict)        "
   ]
  },
  {
   "cell_type": "code",
   "execution_count": 15,
   "metadata": {
    "collapsed": false
   },
   "outputs": [
    {
     "data": {
      "text/plain": [
       "array([[],\n",
       "       ['2-1', '4-2', '6-1', '10-1', '11-2', '11-4', '11-5', '11-6', '11-7', '17-1'],\n",
       "       ['10-4', '17-4'], ['15-8'], [], [], ['14-4'], ['13-3', '14-7'], [],\n",
       "       ['3-1', '3-2', '6-2', '6-3', '7-7', '10-2', '11-1', '12-3', '15-1', '17-3'],\n",
       "       ['7-1', '7-2', '11-3', '15-2', '17-2'], ['15-6'], [], ['14-5'],\n",
       "       ['14-2'], ['13-1', '14-1'], [],\n",
       "       ['4-1', '7-3', '7-6', '10-3', '15-4', '15-9'], ['12-1'], ['14-6'],\n",
       "       [], ['13-2'], [], ['9-1', '9-3'], ['15-7'], ['12-2', '19-10'],\n",
       "       ['7-5'], ['16-2', '16-9'], ['16-3'], ['16-12', '19-9'],\n",
       "       ['14-3', '15-3', '16-7', '19-3'], ['5-1', '9-2', '13-4'], [],\n",
       "       ['0-1', '1-1', '7-4', '13-6', '16-4', '16-5', '16-6', '19-5', '19-8', '19-12'],\n",
       "       ['1-2', '1-3', '16-1', '18-3', '18-6', '18-10', '19-2', '19-13'],\n",
       "       ['15-5', '16-11', '18-2', '18-4', '19-7', '19-11'], ['18-7'],\n",
       "       ['8-1', '8-2', '8-3', '18-9', '19-6'], ['13-5'], ['5-2'],\n",
       "       ['16-10', '19-4'], ['18-1', '18-8', '18-11', '19-1'], [],\n",
       "       ['16-8', '18-12'], [], ['18-5'], [], [], [], [], [], [], [], [], [],\n",
       "       []], dtype=object)"
      ]
     },
     "execution_count": 15,
     "metadata": {},
     "output_type": "execute_result"
    }
   ],
   "source": [
    "shi_data_flatten"
   ]
  },
  {
   "cell_type": "code",
   "execution_count": 9,
   "metadata": {
    "collapsed": false
   },
   "outputs": [],
   "source": [
    "regspace_counters_struct_macro = []\n",
    "\n",
    "for x in range(len(regspace_counters)):\n",
    "    new_dict = dict()\n",
    "    macrostate = regspace_counters[x]\n",
    "    for y in macrostate.keys():\n",
    "        for i in range(len(shi_data_flatten)):\n",
    "            data = shi_data_flatten[i]\n",
    "            if '%s-%s' % (x,y+1) in data:\n",
    "                new_key = i\n",
    "                break\n",
    "        if not new_key in new_dict:        \n",
    "            new_dict[new_key] = macrostate[y]\n",
    "        else:\n",
    "            new_dict[new_key] += macrostate[y]\n",
    "    regspace_counters_struct_macro.append(new_dict)    "
   ]
  },
  {
   "cell_type": "code",
   "execution_count": 17,
   "metadata": {
    "collapsed": false
   },
   "outputs": [
    {
     "data": {
      "text/plain": [
       "[{33: 100},\n",
       " {33: 79, 34: 21},\n",
       " {1: 100},\n",
       " {9: 100},\n",
       " {1: 2, 17: 98},\n",
       " {31: 76, 39: 24},\n",
       " {1: 54, 9: 46},\n",
       " {9: 6, 10: 57, 17: 25, 26: 1, 33: 11},\n",
       " {37: 100},\n",
       " {23: 24, 31: 76},\n",
       " {1: 42, 2: 2, 9: 53, 17: 3},\n",
       " {1: 54, 9: 16, 10: 30},\n",
       " {9: 1, 18: 41, 25: 58},\n",
       " {7: 21, 15: 42, 21: 5, 31: 20, 33: 1, 38: 11},\n",
       " {6: 2, 7: 1, 13: 2, 14: 13, 15: 37, 19: 1, 30: 44},\n",
       " {3: 2, 9: 26, 10: 51, 11: 3, 17: 4, 24: 2, 30: 7, 35: 5},\n",
       " {27: 12, 28: 2, 29: 1, 30: 2, 33: 15, 34: 54, 35: 7, 40: 1, 43: 6},\n",
       " {1: 22, 2: 5, 9: 19, 10: 54},\n",
       " {34: 55, 35: 18, 36: 1, 37: 3, 41: 16, 43: 1, 45: 6},\n",
       " {25: 1, 29: 12, 30: 18, 33: 17, 34: 14, 35: 5, 37: 4, 40: 1, 41: 28}]"
      ]
     },
     "execution_count": 17,
     "metadata": {},
     "output_type": "execute_result"
    }
   ],
   "source": [
    "regspace_counters_struct_macro"
   ]
  },
  {
   "cell_type": "code",
   "execution_count": 21,
   "metadata": {
    "collapsed": false
   },
   "outputs": [
    {
     "name": "stdout",
     "output_type": "stream",
     "text": [
      "1\n",
      "3\n",
      "6\n",
      "7\n",
      "8\n",
      "9\n",
      "11\n",
      "15\n",
      "16\n",
      "18\n",
      "19\n"
     ]
    }
   ],
   "source": [
    "for i in range(20):\n",
    "    if not len(regspace_counters[i]) == len(regspace_counters_struct_macro[i]):\n",
    "        print(i)"
   ]
  },
  {
   "cell_type": "code",
   "execution_count": 85,
   "metadata": {
    "collapsed": false
   },
   "outputs": [
    {
     "data": {
      "text/plain": [
       "Counter({0: 79, 1: 19, 2: 2})"
      ]
     },
     "execution_count": 85,
     "metadata": {},
     "output_type": "execute_result"
    }
   ],
   "source": [
    "regspace_counters[1]"
   ]
  },
  {
   "cell_type": "code",
   "execution_count": 87,
   "metadata": {
    "collapsed": false
   },
   "outputs": [
    {
     "data": {
      "text/plain": [
       "['1-2', '1-3', '16-1', '18-3', '18-6', '18-10', '19-2', '19-13']"
      ]
     },
     "execution_count": 87,
     "metadata": {},
     "output_type": "execute_result"
    }
   ],
   "source": [
    "shi_data_flatten[34]"
   ]
  },
  {
   "cell_type": "code",
   "execution_count": 88,
   "metadata": {
    "collapsed": true
   },
   "outputs": [],
   "source": [
    "# ok looks good! plot"
   ]
  },
  {
   "cell_type": "code",
   "execution_count": 22,
   "metadata": {
    "collapsed": true
   },
   "outputs": [],
   "source": [
    "import matplotlib.backends.backend_pdf\n",
    "pdf = matplotlib.backends.backend_pdf.PdfPages(\"model5_piecharts.pdf\")\n",
    "\n",
    "for x in regspace_counters_struct_macro:\n",
    "    fig1, ax1 = plt.subplots()\n",
    "    ax1.pie(list(x.values()), labels=list(x.keys()), autopct='%1.1f%%')\n",
    "    ax1.axis('equal')\n",
    "    pdf.savefig(fig1, dpi=300)\n",
    "    plt.close()\n",
    "    \n",
    "pdf.close()    "
   ]
  },
  {
   "cell_type": "code",
   "execution_count": null,
   "metadata": {
    "collapsed": true
   },
   "outputs": [],
   "source": [
    "# now do the 'if in the nearest 8 - count the same' - i.e. we're gonna take the most populated submacrostate in \n",
    "# a macrostate, and see if the macrostate also has any of the 8 closest submacrostates on the heatmap - if so \n",
    "# call those the biggest one too and add their populations to it - replot like that - put on the MSM network"
   ]
  },
  {
   "cell_type": "code",
   "execution_count": 23,
   "metadata": {
    "collapsed": false
   },
   "outputs": [
    {
     "data": {
      "text/plain": [
       "[{33: 100},\n",
       " {33: 79, 34: 21},\n",
       " {1: 100},\n",
       " {9: 100},\n",
       " {1: 2, 17: 98},\n",
       " {31: 76, 39: 24},\n",
       " {1: 54, 9: 46},\n",
       " {9: 6, 10: 57, 17: 25, 26: 1, 33: 11},\n",
       " {37: 100},\n",
       " {23: 24, 31: 76},\n",
       " {1: 42, 2: 2, 9: 53, 17: 3},\n",
       " {1: 54, 9: 16, 10: 30},\n",
       " {9: 1, 18: 41, 25: 58},\n",
       " {7: 21, 15: 42, 21: 5, 31: 20, 33: 1, 38: 11},\n",
       " {6: 2, 7: 1, 13: 2, 14: 13, 15: 37, 19: 1, 30: 44},\n",
       " {3: 2, 9: 26, 10: 51, 11: 3, 17: 4, 24: 2, 30: 7, 35: 5},\n",
       " {27: 12, 28: 2, 29: 1, 30: 2, 33: 15, 34: 54, 35: 7, 40: 1, 43: 6},\n",
       " {1: 22, 2: 5, 9: 19, 10: 54},\n",
       " {34: 55, 35: 18, 36: 1, 37: 3, 41: 16, 43: 1, 45: 6},\n",
       " {25: 1, 29: 12, 30: 18, 33: 17, 34: 14, 35: 5, 37: 4, 40: 1, 41: 28}]"
      ]
     },
     "execution_count": 23,
     "metadata": {},
     "output_type": "execute_result"
    }
   ],
   "source": [
    "regspace_counters_struct_macro"
   ]
  },
  {
   "cell_type": "code",
   "execution_count": 24,
   "metadata": {
    "collapsed": true
   },
   "outputs": [],
   "source": [
    "regspace_counters_struct_macro2 = []"
   ]
  },
  {
   "cell_type": "code",
   "execution_count": null,
   "metadata": {
    "collapsed": true
   },
   "outputs": [],
   "source": [
    "# make the heatmap shaped map of the 0-55 indexes so I can implement rules for being in the closest 8"
   ]
  },
  {
   "cell_type": "code",
   "execution_count": 18,
   "metadata": {
    "collapsed": true
   },
   "outputs": [],
   "source": [
    "submacro_array = np.array([\n",
    "[0,1,2,3,4,5,6,7],\n",
    "[8,9,10,11,12,13,14,15],\n",
    "[16,17,18,19,20,21,22,23],\n",
    "[24,25,26,27,28,29,30,31],\n",
    "[32,33,34,35,36,37,38,39],\n",
    "[40,41,42,43,44,45,46,47],\n",
    "[48,49,50,51,52,53,54,55],\n",
    "])"
   ]
  },
  {
   "cell_type": "code",
   "execution_count": 30,
   "metadata": {
    "collapsed": false
   },
   "outputs": [
    {
     "data": {
      "text/plain": [
       "(7, 8)"
      ]
     },
     "execution_count": 30,
     "metadata": {},
     "output_type": "execute_result"
    }
   ],
   "source": [
    "submacro_array.shape"
   ]
  },
  {
   "cell_type": "code",
   "execution_count": 31,
   "metadata": {
    "collapsed": false
   },
   "outputs": [
    {
     "data": {
      "text/plain": [
       "array([[ 0,  1,  2,  3,  4,  5,  6,  7],\n",
       "       [ 8,  9, 10, 11, 12, 13, 14, 15],\n",
       "       [16, 17, 18, 19, 20, 21, 22, 23],\n",
       "       [24, 25, 26, 27, 28, 29, 30, 31],\n",
       "       [32, 33, 34, 35, 36, 37, 38, 39],\n",
       "       [40, 41, 42, 43, 44, 45, 46, 47],\n",
       "       [48, 49, 50, 51, 52, 53, 54, 55]])"
      ]
     },
     "execution_count": 31,
     "metadata": {},
     "output_type": "execute_result"
    }
   ],
   "source": [
    "submacro_array"
   ]
  },
  {
   "cell_type": "code",
   "execution_count": 19,
   "metadata": {
    "collapsed": false
   },
   "outputs": [],
   "source": [
    "regspace_counters_struct_macro2 = []\n",
    "\n",
    "for x in regspace_counters_struct_macro:\n",
    "    new_dict = dict()\n",
    "    absorb_list = []\n",
    "    for key in x:\n",
    "        value = x[key]\n",
    "        if value == np.max(list(x.values())): # then this is the biggest one\n",
    "            absorb_list = [key]\n",
    "            index0 = int(np.where(submacro_array == key)[0])\n",
    "            index1 = int(np.where(submacro_array == key)[1])\n",
    "            indices_to_check = [(index0-1, index1), (index0-1, index1-1), (index0-1, index1+1), (index0, index1-1), (index0, index1+1), (index0+1, index1), (index0+1, index1+1), (index0+1, index1-1)]\n",
    "            indices_to_check = [x for x in indices_to_check if x[0] >= 0 and x[0] <= 6 and x[1] >= 0 and x[1] <= 7]\n",
    "            submacro_to_check = [submacro_array[x[0], x[1]] for x in indices_to_check]\n",
    "            for submacro in submacro_to_check:\n",
    "                if submacro in x.keys():\n",
    "                    absorb_list.append(submacro)\n",
    "    # ok so now we have empty absorb_list if x was empty, and one element absorb_list if it wasn't\n",
    "    # more than one element there - we gotta absorb some submacrostates into the biggest one\n",
    "    if len(absorb_list) > 1:\n",
    "        new_dict[absorb_list[0]] = x[absorb_list[0]]\n",
    "        for y in absorb_list[1:]:\n",
    "            new_dict[absorb_list[0]] += x[y]\n",
    "        for key in x:\n",
    "            if key not in absorb_list:\n",
    "                new_dict[key] = x[key]\n",
    "        regspace_counters_struct_macro2.append(new_dict)\n",
    "    else:\n",
    "        regspace_counters_struct_macro2.append(x)            "
   ]
  },
  {
   "cell_type": "code",
   "execution_count": 20,
   "metadata": {
    "collapsed": false
   },
   "outputs": [
    {
     "data": {
      "text/plain": [
       "[{33: 100},\n",
       " {33: 100},\n",
       " {1: 100},\n",
       " {9: 100},\n",
       " {1: 2, 17: 98},\n",
       " {31: 100},\n",
       " {1: 100},\n",
       " {10: 88, 26: 1, 33: 11},\n",
       " {37: 100},\n",
       " {31: 100},\n",
       " {9: 100},\n",
       " {1: 100},\n",
       " {9: 1, 25: 99},\n",
       " {15: 63, 21: 5, 31: 20, 33: 1, 38: 11},\n",
       " {6: 2, 7: 1, 13: 2, 14: 13, 15: 37, 19: 1, 30: 44},\n",
       " {10: 86, 24: 2, 30: 7, 35: 5},\n",
       " {28: 2, 29: 1, 30: 2, 34: 94, 40: 1},\n",
       " {10: 100},\n",
       " {34: 90, 36: 1, 37: 3, 45: 6},\n",
       " {25: 1, 29: 12, 30: 18, 35: 5, 37: 4, 41: 60}]"
      ]
     },
     "execution_count": 20,
     "metadata": {},
     "output_type": "execute_result"
    }
   ],
   "source": [
    "regspace_counters_struct_macro2"
   ]
  },
  {
   "cell_type": "code",
   "execution_count": 21,
   "metadata": {
    "collapsed": false
   },
   "outputs": [
    {
     "data": {
      "text/plain": [
       "[{33: 100},\n",
       " {33: 79, 34: 21},\n",
       " {1: 100},\n",
       " {9: 100},\n",
       " {1: 2, 17: 98},\n",
       " {31: 76, 39: 24},\n",
       " {1: 54, 9: 46},\n",
       " {9: 6, 10: 57, 17: 25, 26: 1, 33: 11},\n",
       " {37: 100},\n",
       " {23: 24, 31: 76},\n",
       " {1: 42, 2: 2, 9: 53, 17: 3},\n",
       " {1: 54, 9: 16, 10: 30},\n",
       " {9: 1, 18: 41, 25: 58},\n",
       " {7: 21, 15: 42, 21: 5, 31: 20, 33: 1, 38: 11},\n",
       " {6: 2, 7: 1, 13: 2, 14: 13, 15: 37, 19: 1, 30: 44},\n",
       " {3: 2, 9: 26, 10: 51, 11: 3, 17: 4, 24: 2, 30: 7, 35: 5},\n",
       " {27: 12, 28: 2, 29: 1, 30: 2, 33: 15, 34: 54, 35: 7, 40: 1, 43: 6},\n",
       " {1: 22, 2: 5, 9: 19, 10: 54},\n",
       " {34: 55, 35: 18, 36: 1, 37: 3, 41: 16, 43: 1, 45: 6},\n",
       " {25: 1, 29: 12, 30: 18, 33: 17, 34: 14, 35: 5, 37: 4, 40: 1, 41: 28}]"
      ]
     },
     "execution_count": 21,
     "metadata": {},
     "output_type": "execute_result"
    }
   ],
   "source": [
    "regspace_counters_struct_macro"
   ]
  },
  {
   "cell_type": "code",
   "execution_count": 50,
   "metadata": {
    "collapsed": true
   },
   "outputs": [],
   "source": [
    "# ok plot version 2!!"
   ]
  },
  {
   "cell_type": "code",
   "execution_count": 51,
   "metadata": {
    "collapsed": true
   },
   "outputs": [],
   "source": [
    "import matplotlib.backends.backend_pdf\n",
    "pdf = matplotlib.backends.backend_pdf.PdfPages(\"model5_piecharts_absorbed.pdf\")\n",
    "\n",
    "for x in regspace_counters_struct_macro2:\n",
    "    fig1, ax1 = plt.subplots()\n",
    "    ax1.pie(list(x.values()), labels=list(x.keys()), autopct='%1.1f%%')\n",
    "    ax1.axis('equal')\n",
    "    pdf.savefig(fig1, dpi=300)\n",
    "    plt.close()\n",
    "    \n",
    "pdf.close()    "
   ]
  },
  {
   "cell_type": "code",
   "execution_count": 52,
   "metadata": {
    "collapsed": false
   },
   "outputs": [
    {
     "data": {
      "text/plain": [
       "'/Users/rafalpwiewiora/repos/MSM/11707_11709_SET8_apo/msm_pipeline/dist/regspace_analysis/piecharts'"
      ]
     },
     "execution_count": 52,
     "metadata": {},
     "output_type": "execute_result"
    }
   ],
   "source": [
    "pwd"
   ]
  },
  {
   "cell_type": "code",
   "execution_count": 54,
   "metadata": {
    "collapsed": true
   },
   "outputs": [],
   "source": [
    "# last improvement - submacrostates should have unique colors - let's see how many we need and get a list of \n",
    "# a bit more, in case we need more for other models"
   ]
  },
  {
   "cell_type": "code",
   "execution_count": 22,
   "metadata": {
    "collapsed": false
   },
   "outputs": [
    {
     "data": {
      "text/plain": [
       "[{33: 100},\n",
       " {33: 100},\n",
       " {1: 100},\n",
       " {9: 100},\n",
       " {1: 2, 17: 98},\n",
       " {31: 100},\n",
       " {1: 100},\n",
       " {10: 88, 26: 1, 33: 11},\n",
       " {37: 100},\n",
       " {31: 100},\n",
       " {9: 100},\n",
       " {1: 100},\n",
       " {9: 1, 25: 99},\n",
       " {15: 63, 21: 5, 31: 20, 33: 1, 38: 11},\n",
       " {6: 2, 7: 1, 13: 2, 14: 13, 15: 37, 19: 1, 30: 44},\n",
       " {10: 86, 24: 2, 30: 7, 35: 5},\n",
       " {28: 2, 29: 1, 30: 2, 34: 94, 40: 1},\n",
       " {10: 100},\n",
       " {34: 90, 36: 1, 37: 3, 45: 6},\n",
       " {25: 1, 29: 12, 30: 18, 35: 5, 37: 4, 41: 60}]"
      ]
     },
     "execution_count": 22,
     "metadata": {},
     "output_type": "execute_result"
    }
   ],
   "source": [
    "regspace_counters_struct_macro2"
   ]
  },
  {
   "cell_type": "code",
   "execution_count": 25,
   "metadata": {
    "collapsed": true
   },
   "outputs": [],
   "source": [
    "list_of_keys = []\n",
    "\n",
    "for x in regspace_counters_struct_macro2:\n",
    "    for y in x:\n",
    "        list_of_keys.append(y)"
   ]
  },
  {
   "cell_type": "code",
   "execution_count": 27,
   "metadata": {
    "collapsed": false
   },
   "outputs": [
    {
     "data": {
      "text/plain": [
       "{1,\n",
       " 6,\n",
       " 7,\n",
       " 9,\n",
       " 10,\n",
       " 13,\n",
       " 14,\n",
       " 15,\n",
       " 17,\n",
       " 19,\n",
       " 21,\n",
       " 24,\n",
       " 25,\n",
       " 26,\n",
       " 28,\n",
       " 29,\n",
       " 30,\n",
       " 31,\n",
       " 33,\n",
       " 34,\n",
       " 35,\n",
       " 36,\n",
       " 37,\n",
       " 38,\n",
       " 40,\n",
       " 41,\n",
       " 45}"
      ]
     },
     "execution_count": 27,
     "metadata": {},
     "output_type": "execute_result"
    }
   ],
   "source": [
    "set(list_of_keys)"
   ]
  },
  {
   "cell_type": "code",
   "execution_count": 28,
   "metadata": {
    "collapsed": false
   },
   "outputs": [
    {
     "data": {
      "text/plain": [
       "27"
      ]
     },
     "execution_count": 28,
     "metadata": {},
     "output_type": "execute_result"
    }
   ],
   "source": [
    "len(set(list_of_keys))"
   ]
  },
  {
   "cell_type": "code",
   "execution_count": 29,
   "metadata": {
    "collapsed": true
   },
   "outputs": [],
   "source": [
    "# so 20 macrostates classified with 27 'structural macrostates' - I think that's pretty alright?"
   ]
  },
  {
   "cell_type": "code",
   "execution_count": 32,
   "metadata": {
    "collapsed": true
   },
   "outputs": [],
   "source": [
    "# let's find a palette of 50 colors if possible, just use 27 first ones here - actually do 35 colors\n",
    "# from iWantHue"
   ]
  },
  {
   "cell_type": "code",
   "execution_count": 33,
   "metadata": {
    "collapsed": true
   },
   "outputs": [],
   "source": [
    "colors = [\"#d83f9a\",\n",
    "\"#7edf48\",\n",
    "\"#5b37c4\",\n",
    "\"#d8d933\",\n",
    "\"#c449dc\",\n",
    "\"#58c35f\",\n",
    "\"#88349b\",\n",
    "\"#cfdb6d\",\n",
    "\"#686edb\",\n",
    "\"#82a038\",\n",
    "\"#432d79\",\n",
    "\"#76d99c\",\n",
    "\"#c580db\",\n",
    "\"#437535\",\n",
    "\"#d84c5f\",\n",
    "\"#74d9cf\",\n",
    "\"#dc502c\",\n",
    "\"#77b4d3\",\n",
    "\"#d99639\",\n",
    "\"#6c80c2\",\n",
    "\"#dac380\",\n",
    "\"#312442\",\n",
    "\"#c0cfad\",\n",
    "\"#833061\",\n",
    "\"#528877\",\n",
    "\"#8c2e2b\",\n",
    "\"#cfb2d2\",\n",
    "\"#354027\",\n",
    "\"#d57aa7\",\n",
    "\"#81793b\",\n",
    "\"#45637c\",\n",
    "\"#985e31\",\n",
    "\"#502725\",\n",
    "\"#d49985\",\n",
    "\"#8d6570\"]"
   ]
  },
  {
   "cell_type": "code",
   "execution_count": 53,
   "metadata": {
    "collapsed": true
   },
   "outputs": [],
   "source": [
    "colors = [\"#7a61d9\",\n",
    "\"#51b950\",\n",
    "\"#b340ac\",\n",
    "\"#87b03a\",\n",
    "\"#d077e3\",\n",
    "\"#c1b53a\",\n",
    "\"#4a7bdc\",\n",
    "\"#e3a53c\",\n",
    "\"#6c54ab\",\n",
    "\"#db862f\",\n",
    "\"#6fa3df\",\n",
    "\"#da3d2d\",\n",
    "\"#3abbcc\",\n",
    "\"#df3952\",\n",
    "\"#5fc092\",\n",
    "\"#dd4594\",\n",
    "\"#3c834d\",\n",
    "\"#c73b5e\",\n",
    "\"#65752a\",\n",
    "\"#a891df\",\n",
    "\"#e1652a\",\n",
    "\"#496ea8\",\n",
    "\"#b03c21\",\n",
    "\"#8c5898\",\n",
    "\"#a58531\",\n",
    "\"#d685bf\",\n",
    "\"#aeb16b\",\n",
    "\"#a54776\",\n",
    "\"#a95f26\",\n",
    "\"#e48193\",\n",
    "\"#86622f\",\n",
    "\"#e76f5b\",\n",
    "\"#9b4e5a\",\n",
    "\"#dd996f\",\n",
    "\"#ad5648\"]"
   ]
  },
  {
   "cell_type": "code",
   "execution_count": 56,
   "metadata": {
    "collapsed": true
   },
   "outputs": [],
   "source": [
    "colors = [\"#51b8b4\",\n",
    "\"#c143d5\",\n",
    "\"#62c338\",\n",
    "\"#6134c0\",\n",
    "\"#a0b841\",\n",
    "\"#6d68db\",\n",
    "\"#cbab3c\",\n",
    "\"#5d3385\",\n",
    "\"#4dc576\",\n",
    "\"#cf369d\",\n",
    "\"#51963a\",\n",
    "\"#c771d4\",\n",
    "\"#336423\",\n",
    "\"#d93663\",\n",
    "\"#7fb886\",\n",
    "\"#e14327\",\n",
    "\"#547ac8\",\n",
    "\"#da8b37\",\n",
    "\"#66add8\",\n",
    "\"#c86235\",\n",
    "\"#3d6e8c\",\n",
    "\"#912d23\",\n",
    "\"#437f5e\",\n",
    "\"#d46ba3\",\n",
    "\"#797a2b\",\n",
    "\"#a991cd\",\n",
    "\"#3d4820\",\n",
    "\"#cd8ea7\",\n",
    "\"#b5a76e\",\n",
    "\"#53416c\",\n",
    "\"#8c6131\",\n",
    "\"#802d55\",\n",
    "\"#d1967c\",\n",
    "\"#67342a\",\n",
    "\"#d06869\"]"
   ]
  },
  {
   "cell_type": "code",
   "execution_count": 35,
   "metadata": {
    "collapsed": false
   },
   "outputs": [],
   "source": [
    "# ok let's figure out how to get these into the plot"
   ]
  },
  {
   "cell_type": "code",
   "execution_count": 48,
   "metadata": {
    "collapsed": true
   },
   "outputs": [],
   "source": [
    "# need to make color2, which will be list of lists of what colors should be used per particular macrostate"
   ]
  },
  {
   "cell_type": "code",
   "execution_count": 57,
   "metadata": {
    "collapsed": false
   },
   "outputs": [],
   "source": [
    "colors2 = []\n",
    "dictionary_of_colors = dict()\n",
    "\n",
    "i = 0\n",
    "for x in regspace_counters_struct_macro2:\n",
    "    colors2.append([])\n",
    "    for key in x:\n",
    "        if key in dictionary_of_colors:\n",
    "            color_ = dictionary_of_colors[key]\n",
    "        else:\n",
    "            color_ = colors[i]\n",
    "            i += 1\n",
    "            dictionary_of_colors[key] = color_\n",
    "        colors2[-1].append(color_)    "
   ]
  },
  {
   "cell_type": "code",
   "execution_count": 58,
   "metadata": {
    "collapsed": false
   },
   "outputs": [],
   "source": [
    "import matplotlib.backends.backend_pdf\n",
    "pdf = matplotlib.backends.backend_pdf.PdfPages(\"model5_piecharts_absorbed_colorperstrmacro.pdf\")\n",
    "\n",
    "for i in range(len(regspace_counters_struct_macro2)):\n",
    "    x = regspace_counters_struct_macro2[i]\n",
    "    fig1, ax1 = plt.subplots()\n",
    "    ax1.pie(list(x.values()), labels=list(x.keys()), autopct='%1.1f%%', colors=colors2[i])\n",
    "    ax1.axis('equal')\n",
    "    pdf.savefig(fig1, dpi=300)\n",
    "    plt.close()\n",
    "    \n",
    "pdf.close()    "
   ]
  },
  {
   "cell_type": "code",
   "execution_count": 1,
   "metadata": {
    "collapsed": true
   },
   "outputs": [],
   "source": [
    "# ok so now we want the one color per structural macrostate, but without the closest-8 absorption"
   ]
  },
  {
   "cell_type": "code",
   "execution_count": 47,
   "metadata": {
    "collapsed": false
   },
   "outputs": [
    {
     "data": {
      "text/plain": [
       "[{33: 100},\n",
       " {33: 79, 34: 21},\n",
       " {1: 100},\n",
       " {9: 100},\n",
       " {1: 2, 17: 98},\n",
       " {31: 76, 39: 24},\n",
       " {1: 54, 9: 46},\n",
       " {9: 6, 10: 57, 17: 25, 26: 1, 33: 11},\n",
       " {37: 100},\n",
       " {23: 24, 31: 76},\n",
       " {1: 42, 2: 2, 9: 53, 17: 3},\n",
       " {1: 54, 9: 16, 10: 30},\n",
       " {9: 1, 18: 41, 25: 58},\n",
       " {7: 21, 15: 42, 21: 5, 31: 20, 33: 1, 38: 11},\n",
       " {6: 2, 7: 1, 13: 2, 14: 13, 15: 37, 19: 1, 30: 44},\n",
       " {3: 2, 9: 26, 10: 51, 11: 3, 17: 4, 24: 2, 30: 7, 35: 5},\n",
       " {27: 12, 28: 2, 29: 1, 30: 2, 33: 15, 34: 54, 35: 7, 40: 1, 43: 6},\n",
       " {1: 22, 2: 5, 9: 19, 10: 54},\n",
       " {34: 55, 35: 18, 36: 1, 37: 3, 41: 16, 43: 1, 45: 6},\n",
       " {25: 1, 29: 12, 30: 18, 33: 17, 34: 14, 35: 5, 37: 4, 40: 1, 41: 28}]"
      ]
     },
     "execution_count": 47,
     "metadata": {},
     "output_type": "execute_result"
    }
   ],
   "source": [
    "regspace_counters_struct_macro"
   ]
  },
  {
   "cell_type": "code",
   "execution_count": 11,
   "metadata": {
    "collapsed": true
   },
   "outputs": [],
   "source": [
    "# check how many colors we'll need - then repeat everythign I did above for here"
   ]
  },
  {
   "cell_type": "code",
   "execution_count": 12,
   "metadata": {
    "collapsed": true
   },
   "outputs": [],
   "source": [
    "test = []\n",
    "\n",
    "for x in regspace_counters_struct_macro:\n",
    "    for y in x:\n",
    "        test.append(y)"
   ]
  },
  {
   "cell_type": "code",
   "execution_count": 13,
   "metadata": {
    "collapsed": false
   },
   "outputs": [
    {
     "data": {
      "text/plain": [
       "35"
      ]
     },
     "execution_count": 13,
     "metadata": {},
     "output_type": "execute_result"
    }
   ],
   "source": [
    "len(set(test))"
   ]
  },
  {
   "cell_type": "code",
   "execution_count": 15,
   "metadata": {
    "collapsed": true
   },
   "outputs": [],
   "source": [
    "# let's make a palette of 50 for this"
   ]
  },
  {
   "cell_type": "code",
   "execution_count": 16,
   "metadata": {
    "collapsed": true
   },
   "outputs": [],
   "source": [
    "# this is default preset, 50 colors from iWantHue"
   ]
  },
  {
   "cell_type": "code",
   "execution_count": 17,
   "metadata": {
    "collapsed": true
   },
   "outputs": [],
   "source": [
    "colors = [\"#e37367\",\n",
    "\"#40d17c\",\n",
    "\"#9d44ba\",\n",
    "\"#50c352\",\n",
    "\"#e26cdf\",\n",
    "\"#89bb2d\",\n",
    "\"#9c6be5\",\n",
    "\"#3f9728\",\n",
    "\"#d03ea8\",\n",
    "\"#80b652\",\n",
    "\"#5d75e3\",\n",
    "\"#b4b42f\",\n",
    "\"#6c52ae\",\n",
    "\"#d8ae34\",\n",
    "\"#5579bf\",\n",
    "\"#d3441d\",\n",
    "\"#47c7d0\",\n",
    "\"#e33752\",\n",
    "\"#5dd0a7\",\n",
    "\"#e53e83\",\n",
    "\"#49ac6a\",\n",
    "\"#a83e94\",\n",
    "\"#447d2f\",\n",
    "\"#ce81dc\",\n",
    "\"#a0a94e\",\n",
    "\"#e071b4\",\n",
    "\"#30784f\",\n",
    "\"#c43a33\",\n",
    "\"#53a4d6\",\n",
    "\"#ea713f\",\n",
    "\"#3ea089\",\n",
    "\"#b12e4b\",\n",
    "\"#89af72\",\n",
    "\"#b13871\",\n",
    "\"#5f6924\",\n",
    "\"#b198dc\",\n",
    "\"#d09028\",\n",
    "\"#8c5898\",\n",
    "\"#cdb568\",\n",
    "\"#974d6f\",\n",
    "\"#8b7d33\",\n",
    "\"#e087ad\",\n",
    "\"#d7833a\",\n",
    "\"#df5971\",\n",
    "\"#946330\",\n",
    "\"#dd8787\",\n",
    "\"#ab521e\",\n",
    "\"#a44f53\",\n",
    "\"#db9c6c\",\n",
    "\"#a64c33\"]"
   ]
  },
  {
   "cell_type": "code",
   "execution_count": 18,
   "metadata": {
    "collapsed": true
   },
   "outputs": [],
   "source": [
    "colors2 = []\n",
    "dictionary_of_colors = dict()\n",
    "\n",
    "i = 0\n",
    "for x in regspace_counters_struct_macro:\n",
    "    colors2.append([])\n",
    "    for key in x:\n",
    "        if key in dictionary_of_colors:\n",
    "            color_ = dictionary_of_colors[key]\n",
    "        else:\n",
    "            color_ = colors[i]\n",
    "            i += 1\n",
    "            dictionary_of_colors[key] = color_\n",
    "        colors2[-1].append(color_)    "
   ]
  },
  {
   "cell_type": "code",
   "execution_count": 22,
   "metadata": {
    "collapsed": false
   },
   "outputs": [
    {
     "name": "stdout",
     "output_type": "stream",
     "text": [
      "/Users/rafalpwiewiora/repos/MSM/11707_11709_SET8_apo/msm_pipeline/dist/regspace_analysis/piecharts\n"
     ]
    }
   ],
   "source": [
    "cd piecharts"
   ]
  },
  {
   "cell_type": "code",
   "execution_count": 23,
   "metadata": {
    "collapsed": true
   },
   "outputs": [],
   "source": [
    "import matplotlib.backends.backend_pdf\n",
    "pdf = matplotlib.backends.backend_pdf.PdfPages(\"model5_piecharts_colorperstrmacro.pdf\")\n",
    "\n",
    "for i in range(len(regspace_counters_struct_macro)):\n",
    "    x = regspace_counters_struct_macro[i]\n",
    "    fig1, ax1 = plt.subplots()\n",
    "    ax1.pie(list(x.values()), labels=list(x.keys()), autopct='%1.1f%%', colors=colors2[i])\n",
    "    ax1.axis('equal')\n",
    "    pdf.savefig(fig1, dpi=300)\n",
    "    plt.close()\n",
    "    \n",
    "pdf.close()    "
   ]
  },
  {
   "cell_type": "code",
   "execution_count": 48,
   "metadata": {
    "collapsed": true
   },
   "outputs": [],
   "source": [
    "# another change - do same color per structural macrostate FOR ALL MODELS - so we have a list of 56 colors\n",
    "# default preset from iwanthue"
   ]
  },
  {
   "cell_type": "code",
   "execution_count": 49,
   "metadata": {
    "collapsed": true
   },
   "outputs": [],
   "source": [
    "colors = [\"#aa5f5d\",\n",
    "\"#4ecb5f\",\n",
    "\"#c45fe3\",\n",
    "\"#87bc2d\",\n",
    "\"#8b39b6\",\n",
    "\"#379f3b\",\n",
    "\"#9d5ee0\",\n",
    "\"#b9bd40\",\n",
    "\"#4c69db\",\n",
    "\"#d0b231\",\n",
    "\"#8163d6\",\n",
    "\"#86be59\",\n",
    "\"#ac36a2\",\n",
    "\"#678f24\",\n",
    "\"#c35ec4\",\n",
    "\"#58c086\",\n",
    "\"#d13f94\",\n",
    "\"#448136\",\n",
    "\"#ed77d7\",\n",
    "\"#958f24\",\n",
    "\"#c07de7\",\n",
    "\"#e4a231\",\n",
    "\"#704ca8\",\n",
    "\"#e6832c\",\n",
    "\"#4789dc\",\n",
    "\"#e1532f\",\n",
    "\"#48b1da\",\n",
    "\"#d93640\",\n",
    "\"#52bfb0\",\n",
    "\"#d3335a\",\n",
    "\"#37835d\",\n",
    "\"#e3427e\",\n",
    "\"#a1bb74\",\n",
    "\"#b4509d\",\n",
    "\"#b9a753\",\n",
    "\"#8f83de\",\n",
    "\"#c38734\",\n",
    "\"#5666a4\",\n",
    "\"#d56c35\",\n",
    "\"#96a0e0\",\n",
    "\"#a64219\",\n",
    "\"#c88acd\",\n",
    "\"#5a6322\",\n",
    "\"#895191\",\n",
    "\"#838948\",\n",
    "\"#ac5487\",\n",
    "\"#88671f\",\n",
    "\"#e488b1\",\n",
    "\"#d8af70\",\n",
    "\"#8e415d\",\n",
    "\"#eb9a6f\",\n",
    "\"#be506e\",\n",
    "\"#8e552f\",\n",
    "\"#e88280\",\n",
    "\"#b9744a\",\n",
    "\"#ba4846\"]"
   ]
  },
  {
   "cell_type": "code",
   "execution_count": 50,
   "metadata": {
    "collapsed": true
   },
   "outputs": [],
   "source": [
    "dictionary_of_colors = dict()\n",
    "\n",
    "for i in range(56):\n",
    "    dictionary_of_colors[i] = colors[i]\n",
    "\n",
    "colors2 = []\n",
    "\n",
    "i = 0\n",
    "for x in regspace_counters_struct_macro:\n",
    "    colors2.append([])\n",
    "    for key in x:\n",
    "        color_ = dictionary_of_colors[key]\n",
    "        colors2[-1].append(color_)    "
   ]
  },
  {
   "cell_type": "code",
   "execution_count": 51,
   "metadata": {
    "collapsed": true
   },
   "outputs": [],
   "source": [
    "import matplotlib.backends.backend_pdf\n",
    "pdf = matplotlib.backends.backend_pdf.PdfPages(\"piecharts/model5_piecharts_colorperstrmacro.pdf\")\n",
    "\n",
    "for i in range(len(regspace_counters_struct_macro)):\n",
    "    x = regspace_counters_struct_macro[i]\n",
    "    fig1, ax1 = plt.subplots()\n",
    "    ax1.pie(list(x.values()), labels=list(x.keys()), autopct='%1.1f%%', colors=colors2[i])\n",
    "    ax1.axis('equal')\n",
    "    pdf.savefig(fig1, dpi=300)\n",
    "    plt.close()\n",
    "    \n",
    "pdf.close()    "
   ]
  }
 ],
 "metadata": {
  "anaconda-cloud": {},
  "kernelspec": {
   "display_name": "Python [conda root]",
   "language": "python",
   "name": "conda-root-py"
  },
  "language_info": {
   "codemirror_mode": {
    "name": "ipython",
    "version": 3
   },
   "file_extension": ".py",
   "mimetype": "text/x-python",
   "name": "python",
   "nbconvert_exporter": "python",
   "pygments_lexer": "ipython3",
   "version": "3.5.2"
  }
 },
 "nbformat": 4,
 "nbformat_minor": 1
}
