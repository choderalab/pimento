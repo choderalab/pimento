{
 "cells": [
  {
   "cell_type": "code",
   "execution_count": 1,
   "metadata": {
    "collapsed": true
   },
   "outputs": [],
   "source": [
    "import numpy as np\n",
    "import glob\n",
    "import matplotlib\n",
    "matplotlib.use('Agg')\n",
    "import matplotlib.pyplot as plt\n",
    "import pyemma\n",
    "import msmbuilder\n",
    "from msmbuilder.msm import MarkovStateModel\n",
    "from msmbuilder.lumping import PCCAPlus"
   ]
  },
  {
   "cell_type": "code",
   "execution_count": 3,
   "metadata": {
    "collapsed": false
   },
   "outputs": [
    {
     "name": "stdout",
     "output_type": "stream",
     "text": [
      "cluster.py                      run-torque.sh\r\n",
      "clustercenters.npy              samples_300_p1_20_100per.npy\r\n",
      "dist_2500_unitime.ipynb         samples_300_p1_50_100per.npy\r\n",
      "dtrajs.npy                      sanity_check_msm_300.png\r\n",
      "its.png                         sanity_check_msm_300_p1.png\r\n",
      "msm_300_p1_20_P.png             sanity_check_msm_300_p2.png\r\n",
      "populations.txt                 unitime_2500_msm_300_p1_20.png\r\n",
      "pyemma.log\r\n"
     ]
    }
   ],
   "source": [
    "ls"
   ]
  },
  {
   "cell_type": "code",
   "execution_count": 2,
   "metadata": {
    "collapsed": false
   },
   "outputs": [],
   "source": [
    "dtrajs = list(np.load('dtrajs.npy', encoding='bytes'))"
   ]
  },
  {
   "cell_type": "code",
   "execution_count": 5,
   "metadata": {
    "collapsed": false
   },
   "outputs": [
    {
     "data": {
      "text/plain": [
       "3400"
      ]
     },
     "execution_count": 5,
     "metadata": {},
     "output_type": "execute_result"
    }
   ],
   "source": [
    "len(dtrajs)"
   ]
  },
  {
   "cell_type": "code",
   "execution_count": 5,
   "metadata": {
    "collapsed": false
   },
   "outputs": [
    {
     "name": "stdout",
     "output_type": "stream",
     "text": [
      "23-02-17 18:29:05 pyemma.msm.estimators.implied_timescales.ImpliedTimescales[0] WARNING  Some timescales could not be computed. Timescales array is smaller than expected or contains NaNs\n"
     ]
    }
   ],
   "source": [
    "its = pyemma.msm.its(dtrajs)"
   ]
  },
  {
   "cell_type": "code",
   "execution_count": 6,
   "metadata": {
    "collapsed": true
   },
   "outputs": [],
   "source": [
    "plt.figure()\n",
    "pyemma.plots.plot_implied_timescales(its)\n",
    "plt.savefig('its.png', dpi=300)\n",
    "plt.close()"
   ]
  },
  {
   "cell_type": "code",
   "execution_count": 7,
   "metadata": {
    "collapsed": true
   },
   "outputs": [],
   "source": [
    "# lag 300"
   ]
  },
  {
   "cell_type": "code",
   "execution_count": 8,
   "metadata": {
    "collapsed": true
   },
   "outputs": [],
   "source": [
    "# MSMBUILDER ONLY - SAMPLES EQUAL AMOUNTS OF FRAMES / MACROSTATE; \n",
    "def macrostate_sample_equal(msmbuilder_msm, msmbuilder_pcca_object, n_samples_per_macrostate=100, dtrajs=None):\n",
    "    import random\n",
    "    import numpy as np\n",
    "    \n",
    "    # make dtrajs_dict\n",
    "    dtrajs_dict = dict()\n",
    "    traj_index = 0\n",
    "\n",
    "    for traj in dtrajs:\n",
    "        frame_index = 0\n",
    "        for frame in traj:\n",
    "            if frame in dtrajs_dict:\n",
    "                dtrajs_dict[frame].append((traj_index, frame_index))\n",
    "            else:\n",
    "                dtrajs_dict[frame] = [(traj_index, frame_index)]\n",
    "            frame_index += 1    \n",
    "        traj_index += 1    \n",
    "\n",
    "    metastable_sets = []\n",
    "    samples = []\n",
    "    \n",
    "    # make mestable_sets\n",
    "    for x in range(msmbuilder_pcca_object.n_macrostates):\n",
    "        metastable_sets.append([])\n",
    "    for x in range(len(msmbuilder_pcca_object.microstate_mapping_)):\n",
    "        metastable_sets[msmbuilder_pcca_object.microstate_mapping_[x]].append(x)\n",
    "\n",
    "    # sample\n",
    "    for metastable_set in metastable_sets:\n",
    "        all_frames = []\n",
    "        for microstate in metastable_set:\n",
    "            microstate_label = msmbuilder_msm.state_labels_[microstate]\n",
    "            all_frames += dtrajs_dict[microstate_label]\n",
    "        macrostate_samples = random.sample(all_frames, n_samples_per_macrostate)\n",
    "        samples.append(macrostate_samples)\n",
    "            \n",
    "    # samples have to have np.ndarrays in them, not just lists\n",
    "    samples_ = []\n",
    "    for x in samples:\n",
    "        samples_.append(np.asarray(x))\n",
    "    \n",
    "    return samples_"
   ]
  },
  {
   "cell_type": "code",
   "execution_count": 9,
   "metadata": {
    "collapsed": false
   },
   "outputs": [
    {
     "name": "stdout",
     "output_type": "stream",
     "text": [
      "MSM contains 32 strongly connected components above weight=0.00. Component 31 selected, with population 99.219682%\n"
     ]
    },
    {
     "data": {
      "text/plain": [
       "MarkovStateModel(ergodic_cutoff='on', lag_time=300, n_timescales=None,\n",
       "         prior_counts=0, reversible_type='mle', sliding_window=True,\n",
       "         verbose=True)"
      ]
     },
     "execution_count": 9,
     "metadata": {},
     "output_type": "execute_result"
    }
   ],
   "source": [
    "msm_300 = MarkovStateModel(lag_time=300)\n",
    "msm_300.fit(dtrajs)"
   ]
  },
  {
   "cell_type": "code",
   "execution_count": 10,
   "metadata": {
    "collapsed": true
   },
   "outputs": [],
   "source": [
    "msm = msm_300\n",
    "project = 'msm_300'\n",
    "\n",
    "statdist = msm.populations_\n",
    "relative_counts = msm.countsmat_.sum(0) / np.sum(msm.countsmat_)\n",
    "\n",
    "plt.figure()\n",
    "plt.scatter(statdist, relative_counts)\n",
    "plt.xlabel('MSM stationary distribution')\n",
    "plt.ylabel('Relative counts')\n",
    "plt.savefig('sanity_check_%s.png' %project, dpi=300)\n",
    "plt.close()"
   ]
  },
  {
   "cell_type": "code",
   "execution_count": 11,
   "metadata": {
    "collapsed": false
   },
   "outputs": [
    {
     "name": "stdout",
     "output_type": "stream",
     "text": [
      "MSM contains 595 strongly connected components above weight=0.20. Component 487 selected, with population 83.693805%\n"
     ]
    },
    {
     "data": {
      "text/plain": [
       "MarkovStateModel(ergodic_cutoff=0.2, lag_time=300, n_timescales=None,\n",
       "         prior_counts=0, reversible_type='mle', sliding_window=True,\n",
       "         verbose=True)"
      ]
     },
     "execution_count": 11,
     "metadata": {},
     "output_type": "execute_result"
    }
   ],
   "source": [
    "msm_300_p2 = MarkovStateModel(lag_time=300, ergodic_cutoff=0.2)\n",
    "msm_300_p2.fit(dtrajs)"
   ]
  },
  {
   "cell_type": "code",
   "execution_count": 3,
   "metadata": {
    "collapsed": false
   },
   "outputs": [
    {
     "name": "stdout",
     "output_type": "stream",
     "text": [
      "MSM contains 337 strongly connected components above weight=0.10. Component 314 selected, with population 91.158361%\n"
     ]
    },
    {
     "data": {
      "text/plain": [
       "MarkovStateModel(ergodic_cutoff=0.1, lag_time=300, n_timescales=None,\n",
       "         prior_counts=0, reversible_type='mle', sliding_window=True,\n",
       "         verbose=True)"
      ]
     },
     "execution_count": 3,
     "metadata": {},
     "output_type": "execute_result"
    }
   ],
   "source": [
    "msm_300_p1 = MarkovStateModel(lag_time=300, ergodic_cutoff=0.1)\n",
    "msm_300_p1.fit(dtrajs)"
   ]
  },
  {
   "cell_type": "code",
   "execution_count": 13,
   "metadata": {
    "collapsed": true
   },
   "outputs": [],
   "source": [
    "msm = msm_300_p1\n",
    "project = 'msm_300_p1'\n",
    "\n",
    "statdist = msm.populations_\n",
    "relative_counts = msm.countsmat_.sum(0) / np.sum(msm.countsmat_)\n",
    "\n",
    "plt.figure()\n",
    "plt.scatter(statdist, relative_counts)\n",
    "plt.xlabel('MSM stationary distribution')\n",
    "plt.ylabel('Relative counts')\n",
    "plt.savefig('sanity_check_%s.png' %project, dpi=300)\n",
    "plt.close()"
   ]
  },
  {
   "cell_type": "code",
   "execution_count": 17,
   "metadata": {
    "collapsed": true
   },
   "outputs": [],
   "source": [
    "msm = msm_300_p2\n",
    "project = 'msm_300_p2'\n",
    "\n",
    "statdist = msm.populations_\n",
    "relative_counts = msm.countsmat_.sum(0) / np.sum(msm.countsmat_)\n",
    "\n",
    "plt.figure()\n",
    "plt.scatter(statdist, relative_counts)\n",
    "plt.xlabel('MSM stationary distribution')\n",
    "plt.ylabel('Relative counts')\n",
    "plt.savefig('sanity_check_%s.png' %project, dpi=300)\n",
    "plt.close()"
   ]
  },
  {
   "cell_type": "code",
   "execution_count": 18,
   "metadata": {
    "collapsed": true
   },
   "outputs": [],
   "source": [
    "# p1 is good"
   ]
  },
  {
   "cell_type": "code",
   "execution_count": 19,
   "metadata": {
    "collapsed": true
   },
   "outputs": [],
   "source": [
    "# 20 and 50 pcca - sample - cluster"
   ]
  },
  {
   "cell_type": "code",
   "execution_count": 19,
   "metadata": {
    "collapsed": false
   },
   "outputs": [
    {
     "name": "stdout",
     "output_type": "stream",
     "text": [
      "Optimization terminated successfully.\n",
      "         Current function value: -19.134808\n",
      "         Iterations: 42\n",
      "         Function evaluations: 3665\n"
     ]
    }
   ],
   "source": [
    "pcca_300_p1_20 = PCCAPlus.from_msm(msm_300_p1, n_macrostates=20)\n",
    "dtrajs_300_p1_20 = pcca_300_p1_20.transform(dtrajs)"
   ]
  },
  {
   "cell_type": "code",
   "execution_count": 5,
   "metadata": {
    "collapsed": true
   },
   "outputs": [],
   "source": [
    "# save metastable_micro_composition for plotting of microstates on tica surface"
   ]
  },
  {
   "cell_type": "code",
   "execution_count": 20,
   "metadata": {
    "collapsed": false
   },
   "outputs": [],
   "source": [
    "msmbuilder_pcca_object = pcca_300_p1_20\n",
    "msmbuilder_msm = msm_300_p1\n",
    "\n",
    "metastable_sets = []\n",
    "\n",
    "# make mestable_sets\n",
    "for x in range(msmbuilder_pcca_object.n_macrostates):\n",
    "    metastable_sets.append([])\n",
    "for x in range(len(msmbuilder_pcca_object.microstate_mapping_)):\n",
    "    metastable_sets[msmbuilder_pcca_object.microstate_mapping_[x]].append(x)\n",
    "\n",
    "metastable_sets2 = []\n",
    "    \n",
    "for metastable_set in metastable_sets:\n",
    "    all_frames = []\n",
    "    for microstate in metastable_set:\n",
    "        microstate_label = msmbuilder_msm.state_labels_[microstate]\n",
    "        all_frames.append(microstate_label)\n",
    "    metastable_sets2.append(all_frames)\n",
    "    \n",
    "metastable_micro_composition = metastable_sets2    "
   ]
  },
  {
   "cell_type": "code",
   "execution_count": 36,
   "metadata": {
    "collapsed": false
   },
   "outputs": [],
   "source": [
    "np.save('metastable_micro_composition', metastable_micro_composition)"
   ]
  },
  {
   "cell_type": "code",
   "execution_count": 7,
   "metadata": {
    "collapsed": true
   },
   "outputs": [],
   "source": [
    "# transition path theory for the RIP presentation"
   ]
  },
  {
   "cell_type": "code",
   "execution_count": 6,
   "metadata": {
    "collapsed": true
   },
   "outputs": [],
   "source": [
    "metastable_micro_composition = np.load('metastable_micro_composition.npy')"
   ]
  },
  {
   "cell_type": "code",
   "execution_count": 9,
   "metadata": {
    "collapsed": true
   },
   "outputs": [],
   "source": [
    "from msmbuilder import tpt"
   ]
  },
  {
   "cell_type": "code",
   "execution_count": 21,
   "metadata": {
    "collapsed": true
   },
   "outputs": [],
   "source": [
    "# first do - into macrostates 19 and 8 - 1ZKK-like, from any others\n",
    "sources = []\n",
    "sinks = []\n",
    "\n",
    "for i in range(20):\n",
    "    if i == 8 or i == 19:\n",
    "        sinks += metastable_sets[i]\n",
    "    else:\n",
    "        sources += metastable_sets[i]"
   ]
  },
  {
   "cell_type": "code",
   "execution_count": 16,
   "metadata": {
    "collapsed": false
   },
   "outputs": [
    {
     "data": {
      "text/plain": [
       "1605"
      ]
     },
     "execution_count": 16,
     "metadata": {},
     "output_type": "execute_result"
    }
   ],
   "source": [
    "len(sources)"
   ]
  },
  {
   "cell_type": "code",
   "execution_count": 17,
   "metadata": {
    "collapsed": false
   },
   "outputs": [
    {
     "data": {
      "text/plain": [
       "552"
      ]
     },
     "execution_count": 17,
     "metadata": {},
     "output_type": "execute_result"
    }
   ],
   "source": [
    "len(sinks)"
   ]
  },
  {
   "cell_type": "code",
   "execution_count": 22,
   "metadata": {
    "collapsed": false
   },
   "outputs": [],
   "source": [
    "net_flux = msmbuilder.tpt.net_fluxes(sources, sinks, msm_300_p1)"
   ]
  },
  {
   "cell_type": "code",
   "execution_count": 23,
   "metadata": {
    "collapsed": false
   },
   "outputs": [
    {
     "data": {
      "text/plain": [
       "array([[ 0.,  0.,  0., ...,  0.,  0.,  0.],\n",
       "       [ 0.,  0.,  0., ...,  0.,  0.,  0.],\n",
       "       [ 0.,  0.,  0., ...,  0.,  0.,  0.],\n",
       "       ..., \n",
       "       [ 0.,  0.,  0., ...,  0.,  0.,  0.],\n",
       "       [ 0.,  0.,  0., ...,  0.,  0.,  0.],\n",
       "       [ 0.,  0.,  0., ...,  0.,  0.,  0.]])"
      ]
     },
     "execution_count": 23,
     "metadata": {},
     "output_type": "execute_result"
    }
   ],
   "source": [
    "net_flux"
   ]
  },
  {
   "cell_type": "code",
   "execution_count": 24,
   "metadata": {
    "collapsed": true
   },
   "outputs": [],
   "source": [
    "top_path = msmbuilder.tpt.top_path(sources, sinks, net_flux)"
   ]
  },
  {
   "cell_type": "code",
   "execution_count": 25,
   "metadata": {
    "collapsed": false
   },
   "outputs": [
    {
     "data": {
      "text/plain": [
       "(array([ 415, 1913]), 9.4423110905018568e-05)"
      ]
     },
     "execution_count": 25,
     "metadata": {},
     "output_type": "execute_result"
    }
   ],
   "source": [
    "top_path"
   ]
  },
  {
   "cell_type": "code",
   "execution_count": 26,
   "metadata": {
    "collapsed": false
   },
   "outputs": [
    {
     "name": "stdout",
     "output_type": "stream",
     "text": [
      "16\n"
     ]
    }
   ],
   "source": [
    "x = 415\n",
    "\n",
    "for i in range(20):\n",
    "    if x in metastable_sets[i]:\n",
    "        print(i)"
   ]
  },
  {
   "cell_type": "code",
   "execution_count": 27,
   "metadata": {
    "collapsed": false
   },
   "outputs": [
    {
     "name": "stdout",
     "output_type": "stream",
     "text": [
      "19\n"
     ]
    }
   ],
   "source": [
    "x = 1913\n",
    "\n",
    "for i in range(20):\n",
    "    if x in metastable_sets[i]:\n",
    "        print(i)"
   ]
  },
  {
   "cell_type": "code",
   "execution_count": null,
   "metadata": {
    "collapsed": true
   },
   "outputs": [],
   "source": [
    "# this wasn't very useful"
   ]
  },
  {
   "cell_type": "code",
   "execution_count": 28,
   "metadata": {
    "collapsed": true
   },
   "outputs": [],
   "source": [
    "# let's do from 17 to 19, then from 19 to 17"
   ]
  },
  {
   "cell_type": "code",
   "execution_count": 30,
   "metadata": {
    "collapsed": true
   },
   "outputs": [],
   "source": [
    "sources = metastable_sets[17]\n",
    "sinks = metastable_sets[19]"
   ]
  },
  {
   "cell_type": "code",
   "execution_count": 29,
   "metadata": {
    "collapsed": true
   },
   "outputs": [],
   "source": [
    "net_flux = msmbuilder.tpt.net_fluxes(metastable_sets[17], metastable_sets[19], msm_300_p1)"
   ]
  },
  {
   "cell_type": "code",
   "execution_count": 31,
   "metadata": {
    "collapsed": true
   },
   "outputs": [],
   "source": [
    "top_path = msmbuilder.tpt.top_path(sources, sinks, net_flux)"
   ]
  },
  {
   "cell_type": "code",
   "execution_count": 32,
   "metadata": {
    "collapsed": false
   },
   "outputs": [
    {
     "data": {
      "text/plain": [
       "(array([ 181, 1812]), 3.8121033501227898e-05)"
      ]
     },
     "execution_count": 32,
     "metadata": {},
     "output_type": "execute_result"
    }
   ],
   "source": [
    "top_path"
   ]
  },
  {
   "cell_type": "code",
   "execution_count": 33,
   "metadata": {
    "collapsed": false
   },
   "outputs": [
    {
     "name": "stdout",
     "output_type": "stream",
     "text": [
      "17\n"
     ]
    }
   ],
   "source": [
    "x = 181\n",
    "\n",
    "for i in range(20):\n",
    "    if x in metastable_sets[i]:\n",
    "        print(i)"
   ]
  },
  {
   "cell_type": "code",
   "execution_count": 34,
   "metadata": {
    "collapsed": false
   },
   "outputs": [
    {
     "name": "stdout",
     "output_type": "stream",
     "text": [
      "19\n"
     ]
    }
   ],
   "source": [
    "x = 1812\n",
    "\n",
    "for i in range(20):\n",
    "    if x in metastable_sets[i]:\n",
    "        print(i)"
   ]
  },
  {
   "cell_type": "code",
   "execution_count": 36,
   "metadata": {
    "collapsed": false
   },
   "outputs": [],
   "source": [
    "paths = msmbuilder.tpt.paths(sources, sinks, net_flux, num_paths=20)"
   ]
  },
  {
   "cell_type": "code",
   "execution_count": 37,
   "metadata": {
    "collapsed": true
   },
   "outputs": [],
   "source": [
    "micro_macro_dict = dict()\n",
    "\n",
    "for i in range(2500):\n",
    "    for j in range(20):\n",
    "        if i in metastable_sets[j]:\n",
    "            micro_macro_dict[i] = j\n",
    "    if i not in micro_macro_dict:\n",
    "        micro_macro_dict[i] = 20 "
   ]
  },
  {
   "cell_type": "code",
   "execution_count": 48,
   "metadata": {
    "collapsed": false
   },
   "outputs": [],
   "source": [
    "paths2 = []\n",
    "\n",
    "for path in paths[0]:\n",
    "    paths2.append([])\n",
    "    for microstate in path:\n",
    "        paths2[-1].append(micro_macro_dict[microstate])"
   ]
  },
  {
   "cell_type": "code",
   "execution_count": 49,
   "metadata": {
    "collapsed": false
   },
   "outputs": [
    {
     "data": {
      "text/plain": [
       "[[17, 19],\n",
       " [17, 19],\n",
       " [17, 19],\n",
       " [17, 19],\n",
       " [17, 19],\n",
       " [17, 19],\n",
       " [17, 19],\n",
       " [17, 15, 19],\n",
       " [17, 19],\n",
       " [17, 19],\n",
       " [17, 19],\n",
       " [17, 19],\n",
       " [17, 15, 19],\n",
       " [17, 19],\n",
       " [17, 19],\n",
       " [17, 19],\n",
       " [17, 19],\n",
       " [17, 19],\n",
       " [17, 19],\n",
       " [17, 19]]"
      ]
     },
     "execution_count": 49,
     "metadata": {},
     "output_type": "execute_result"
    }
   ],
   "source": [
    "paths2"
   ]
  },
  {
   "cell_type": "code",
   "execution_count": 50,
   "metadata": {
    "collapsed": false
   },
   "outputs": [
    {
     "data": {
      "text/plain": [
       "([array([ 181, 1812]),\n",
       "  array([619,  35]),\n",
       "  array([1615, 1916]),\n",
       "  array([725, 645]),\n",
       "  array([ 181, 1573]),\n",
       "  array([ 725, 1270]),\n",
       "  array([725, 571]),\n",
       "  array([ 105, 1631, 1855]),\n",
       "  array([1152, 1301]),\n",
       "  array([181, 118]),\n",
       "  array([ 725, 1573]),\n",
       "  array([1066, 1124]),\n",
       "  array([1152, 2132, 1301]),\n",
       "  array([1001, 1897]),\n",
       "  array([725, 958]),\n",
       "  array([  24, 1874]),\n",
       "  array([  73, 1547]),\n",
       "  array([1615, 1544]),\n",
       "  array([1113, 1547]),\n",
       "  array([1767, 1573])],\n",
       " array([  3.81210335e-05,   3.05087245e-05,   2.44059955e-05,\n",
       "          2.21656941e-05,   1.54259386e-05,   1.40984432e-05,\n",
       "          1.17736136e-05,   1.16520711e-05,   1.10909652e-05,\n",
       "          1.10614024e-05,   1.09775466e-05,   9.06269765e-06,\n",
       "          8.18987381e-06,   7.62555648e-06,   7.14493359e-06,\n",
       "          6.95407829e-06,   6.69314150e-06,   6.49877037e-06,\n",
       "          5.85105639e-06,   5.60879307e-06]))"
      ]
     },
     "execution_count": 50,
     "metadata": {},
     "output_type": "execute_result"
    }
   ],
   "source": [
    "paths"
   ]
  },
  {
   "cell_type": "code",
   "execution_count": null,
   "metadata": {
    "collapsed": true
   },
   "outputs": [],
   "source": []
  },
  {
   "cell_type": "code",
   "execution_count": null,
   "metadata": {
    "collapsed": true
   },
   "outputs": [],
   "source": []
  },
  {
   "cell_type": "code",
   "execution_count": null,
   "metadata": {
    "collapsed": true
   },
   "outputs": [],
   "source": [
    "# save meta_sets for rmsd analysis"
   ]
  },
  {
   "cell_type": "code",
   "execution_count": 9,
   "metadata": {
    "collapsed": true
   },
   "outputs": [],
   "source": [
    "def metastable_sets(msmbuilder_pcca_object, msmbuilder_msm, dtrajs=None):\n",
    "    import random\n",
    "    import numpy as np\n",
    "    \n",
    "    # make dtrajs_dict\n",
    "    dtrajs_dict = dict()\n",
    "    traj_index = 0\n",
    "\n",
    "    for traj in dtrajs:\n",
    "        frame_index = 0\n",
    "        for frame in traj:\n",
    "            if frame in dtrajs_dict:\n",
    "                dtrajs_dict[frame].append((traj_index, frame_index))\n",
    "            else:\n",
    "                dtrajs_dict[frame] = [(traj_index, frame_index)]\n",
    "            frame_index += 1    \n",
    "        traj_index += 1    \n",
    "\n",
    "    metastable_sets = []\n",
    "    samples = []\n",
    "    \n",
    "    # make mestable_sets\n",
    "    for x in range(msmbuilder_pcca_object.n_macrostates):\n",
    "        metastable_sets.append([])\n",
    "    for x in range(len(msmbuilder_pcca_object.microstate_mapping_)):\n",
    "        metastable_sets[msmbuilder_pcca_object.microstate_mapping_[x]].append(x)\n",
    "\n",
    "    metastable_sets2 = []\n",
    "    \n",
    "    for metastable_set in metastable_sets:\n",
    "        all_frames = []\n",
    "        for microstate in metastable_set:\n",
    "            microstate_label = msmbuilder_msm.state_labels_[microstate]\n",
    "            all_frames += dtrajs_dict[microstate_label]\n",
    "        metastable_sets2.append(all_frames)\n",
    "        \n",
    "    return metastable_sets2"
   ]
  },
  {
   "cell_type": "code",
   "execution_count": 10,
   "metadata": {
    "collapsed": true
   },
   "outputs": [],
   "source": [
    "meta_sets = metastable_sets(pcca_300_p1_20, msm_300_p1, dtrajs=dtrajs)"
   ]
  },
  {
   "cell_type": "code",
   "execution_count": 11,
   "metadata": {
    "collapsed": true
   },
   "outputs": [],
   "source": [
    "np.save('meta_sets_model5', meta_sets)"
   ]
  },
  {
   "cell_type": "code",
   "execution_count": 25,
   "metadata": {
    "collapsed": false
   },
   "outputs": [
    {
     "name": "stdout",
     "output_type": "stream",
     "text": [
      "Warning: Maximum number of function evaluations has been exceeded.\n"
     ]
    }
   ],
   "source": [
    "pcca_300_p1_50 = PCCAPlus.from_msm(msm_300_p1, n_macrostates=50)\n",
    "dtrajs_300_p1_50 = pcca_300_p1_50.transform(dtrajs)"
   ]
  },
  {
   "cell_type": "code",
   "execution_count": 32,
   "metadata": {
    "collapsed": false
   },
   "outputs": [],
   "source": [
    "samples_300_p1_20_100per = macrostate_sample_equal(msm_300_p1, pcca_300_p1_20, n_samples_per_macrostate=100, dtrajs=dtrajs)"
   ]
  },
  {
   "cell_type": "code",
   "execution_count": 33,
   "metadata": {
    "collapsed": false
   },
   "outputs": [],
   "source": [
    "samples_300_p1_50_100per = macrostate_sample_equal(msm_300_p1, pcca_300_p1_50, n_samples_per_macrostate=100, dtrajs=dtrajs)"
   ]
  },
  {
   "cell_type": "code",
   "execution_count": 34,
   "metadata": {
    "collapsed": false
   },
   "outputs": [],
   "source": [
    "np.save('samples_300_p1_20_100per', samples_300_p1_20_100per)"
   ]
  },
  {
   "cell_type": "code",
   "execution_count": 35,
   "metadata": {
    "collapsed": false
   },
   "outputs": [],
   "source": [
    "np.save('samples_300_p1_50_100per', samples_300_p1_50_100per)"
   ]
  },
  {
   "cell_type": "code",
   "execution_count": 6,
   "metadata": {
    "collapsed": true
   },
   "outputs": [],
   "source": [
    "# back here to make MSM figure of msm_300_p1_20 and get stat dist"
   ]
  },
  {
   "cell_type": "code",
   "execution_count": 51,
   "metadata": {
    "collapsed": true
   },
   "outputs": [],
   "source": [
    "msm_300_p1_20 = pyemma.msm.estimate_markov_model(dtrajs_300_p1_20, lag=300)"
   ]
  },
  {
   "cell_type": "code",
   "execution_count": 10,
   "metadata": {
    "collapsed": true
   },
   "outputs": [],
   "source": [
    "plt.figure()\n",
    "pyemma.plots.plot_markov_model(msm_300_p1_20, arrow_labels=None)\n",
    "plt.savefig('unitime_2500_msm_300_p1_20.png', dpi=300)\n",
    "plt.close()"
   ]
  },
  {
   "cell_type": "code",
   "execution_count": 6,
   "metadata": {
    "collapsed": true
   },
   "outputs": [],
   "source": [
    "plt.figure()\n",
    "plt.spy(msm_300_p1_20.P)\n",
    "plt.savefig('msm_300_p1_20_P.png', dpi=300)\n",
    "plt.close()"
   ]
  },
  {
   "cell_type": "code",
   "execution_count": 9,
   "metadata": {
    "collapsed": false
   },
   "outputs": [
    {
     "data": {
      "text/plain": [
       "array([ 0.00118174,  0.00377706,  0.00210663,  0.00714451,  0.01740405,\n",
       "        0.00055486,  0.00384246,  0.00736303,  0.00332306,  0.00149088,\n",
       "        0.00713653,  0.00396535,  0.00236742,  0.00253077,  0.08525878,\n",
       "        0.14827181,  0.09523633,  0.19014794,  0.12703765,  0.28985913])"
      ]
     },
     "execution_count": 9,
     "metadata": {},
     "output_type": "execute_result"
    }
   ],
   "source": [
    "msm_300_p1_20.stationary_distribution"
   ]
  },
  {
   "cell_type": "code",
   "execution_count": 11,
   "metadata": {
    "collapsed": false
   },
   "outputs": [
    {
     "data": {
      "text/plain": [
       "'/Users/rafalpwiewiora/repos/MSM/11707_11709_SET8_apo/msm_pipeline/dist/unitime_cluster/2500'"
      ]
     },
     "execution_count": 11,
     "metadata": {},
     "output_type": "execute_result"
    }
   ],
   "source": [
    "pwd"
   ]
  },
  {
   "cell_type": "code",
   "execution_count": 7,
   "metadata": {
    "collapsed": true
   },
   "outputs": [],
   "source": [
    "# get sparsity of the P"
   ]
  },
  {
   "cell_type": "code",
   "execution_count": 8,
   "metadata": {
    "collapsed": true
   },
   "outputs": [],
   "source": [
    "msm_300_p1_20_spy = np.zeros((20,20))\n",
    "\n",
    "for x in range(20):\n",
    "    for y in range(20):\n",
    "        if msm_300_p1_20.P[x,y] > 0:\n",
    "            msm_300_p1_20_spy[x,y] = 1"
   ]
  },
  {
   "cell_type": "code",
   "execution_count": 9,
   "metadata": {
    "collapsed": false
   },
   "outputs": [
    {
     "data": {
      "text/plain": [
       "array([[ 1.,  0.,  0.,  0.,  0.,  0.,  0.,  0.,  0.,  0.,  0.,  0.,  0.,\n",
       "         0.,  0.,  1.,  0.,  0.,  0.,  0.],\n",
       "       [ 0.,  1.,  0.,  0.,  0.,  0.,  0.,  0.,  0.,  0.,  0.,  0.,  0.,\n",
       "         0.,  0.,  0.,  0.,  0.,  0.,  1.],\n",
       "       [ 0.,  0.,  1.,  0.,  0.,  0.,  0.,  0.,  0.,  0.,  0.,  0.,  0.,\n",
       "         0.,  0.,  0.,  0.,  1.,  0.,  1.],\n",
       "       [ 0.,  0.,  0.,  1.,  0.,  0.,  0.,  0.,  0.,  0.,  0.,  0.,  0.,\n",
       "         0.,  0.,  1.,  0.,  1.,  0.,  0.],\n",
       "       [ 0.,  0.,  0.,  0.,  1.,  0.,  0.,  0.,  0.,  0.,  0.,  0.,  0.,\n",
       "         0.,  0.,  0.,  0.,  1.,  0.,  0.],\n",
       "       [ 0.,  0.,  0.,  0.,  0.,  1.,  0.,  0.,  0.,  0.,  0.,  0.,  0.,\n",
       "         0.,  0.,  0.,  0.,  0.,  0.,  1.],\n",
       "       [ 0.,  0.,  0.,  0.,  0.,  0.,  1.,  0.,  0.,  0.,  0.,  0.,  0.,\n",
       "         0.,  1.,  1.,  0.,  0.,  0.,  1.],\n",
       "       [ 0.,  0.,  0.,  0.,  0.,  0.,  0.,  1.,  0.,  0.,  1.,  0.,  0.,\n",
       "         0.,  1.,  1.,  1.,  1.,  1.,  1.],\n",
       "       [ 0.,  0.,  0.,  0.,  0.,  0.,  0.,  0.,  1.,  0.,  0.,  0.,  0.,\n",
       "         0.,  1.,  0.,  0.,  0.,  1.,  1.],\n",
       "       [ 0.,  0.,  0.,  0.,  0.,  0.,  0.,  0.,  0.,  1.,  0.,  0.,  0.,\n",
       "         1.,  1.,  1.,  0.,  1.,  0.,  1.],\n",
       "       [ 0.,  0.,  0.,  0.,  0.,  0.,  0.,  1.,  0.,  0.,  1.,  0.,  0.,\n",
       "         0.,  1.,  1.,  1.,  1.,  1.,  1.],\n",
       "       [ 0.,  0.,  0.,  0.,  0.,  0.,  0.,  0.,  0.,  0.,  0.,  1.,  0.,\n",
       "         0.,  0.,  1.,  0.,  1.,  0.,  0.],\n",
       "       [ 0.,  0.,  0.,  0.,  0.,  0.,  0.,  0.,  0.,  0.,  0.,  0.,  1.,\n",
       "         0.,  0.,  0.,  0.,  1.,  0.,  1.],\n",
       "       [ 0.,  0.,  0.,  0.,  0.,  0.,  0.,  0.,  0.,  1.,  0.,  0.,  0.,\n",
       "         1.,  1.,  1.,  0.,  0.,  0.,  1.],\n",
       "       [ 0.,  0.,  0.,  0.,  0.,  0.,  1.,  1.,  1.,  1.,  1.,  0.,  0.,\n",
       "         1.,  1.,  1.,  1.,  1.,  1.,  1.],\n",
       "       [ 1.,  0.,  0.,  1.,  0.,  0.,  1.,  1.,  0.,  1.,  1.,  1.,  0.,\n",
       "         1.,  1.,  1.,  1.,  1.,  1.,  1.],\n",
       "       [ 0.,  0.,  0.,  0.,  0.,  0.,  0.,  1.,  0.,  0.,  1.,  0.,  0.,\n",
       "         0.,  1.,  1.,  1.,  1.,  1.,  1.],\n",
       "       [ 0.,  0.,  1.,  1.,  1.,  0.,  0.,  1.,  0.,  1.,  1.,  1.,  1.,\n",
       "         0.,  1.,  1.,  1.,  1.,  1.,  1.],\n",
       "       [ 0.,  0.,  0.,  0.,  0.,  0.,  0.,  1.,  1.,  0.,  1.,  0.,  0.,\n",
       "         0.,  1.,  1.,  1.,  1.,  1.,  1.],\n",
       "       [ 0.,  1.,  1.,  0.,  0.,  1.,  1.,  1.,  1.,  1.,  1.,  0.,  1.,\n",
       "         1.,  1.,  1.,  1.,  1.,  1.,  1.]])"
      ]
     },
     "execution_count": 9,
     "metadata": {},
     "output_type": "execute_result"
    }
   ],
   "source": [
    "msm_300_p1_20_spy"
   ]
  },
  {
   "cell_type": "code",
   "execution_count": 52,
   "metadata": {
    "collapsed": false
   },
   "outputs": [
    {
     "data": {
      "text/plain": [
       "MarkovStateModel(ergodic_cutoff=0.1, lag_time=300, n_timescales=None,\n",
       "         prior_counts=0, reversible_type='mle', sliding_window=True,\n",
       "         verbose=True)"
      ]
     },
     "execution_count": 52,
     "metadata": {},
     "output_type": "execute_result"
    }
   ],
   "source": [
    "msm_300_p1"
   ]
  },
  {
   "cell_type": "code",
   "execution_count": 62,
   "metadata": {
    "collapsed": false
   },
   "outputs": [
    {
     "data": {
      "text/plain": [
       "array([ 40503.31498628,  28101.95160109,  16998.80222111,  13028.22701654,\n",
       "        12805.61116037,  11350.24276006,  11054.49583093,  10978.46026308,\n",
       "        10813.34670004,  10379.52451386])"
      ]
     },
     "execution_count": 62,
     "metadata": {},
     "output_type": "execute_result"
    }
   ],
   "source": [
    "msm_300_p1.timescales_[:10]"
   ]
  },
  {
   "cell_type": "code",
   "execution_count": 54,
   "metadata": {
    "collapsed": true
   },
   "outputs": [],
   "source": [
    "# 100 microsecond simulation from the msm for RIP presentation\n",
    "\n",
    "# we're gonna plot macrostate index vs time, and the trajectory on the tIC0-tIC1 surface"
   ]
  },
  {
   "cell_type": "code",
   "execution_count": 53,
   "metadata": {
    "collapsed": true
   },
   "outputs": [],
   "source": [
    "sequence_of_states = msm_300_p1.sample_discrete(n_steps=2000)"
   ]
  },
  {
   "cell_type": "code",
   "execution_count": 55,
   "metadata": {
    "collapsed": true
   },
   "outputs": [],
   "source": [
    "sequence_of_states2 = []\n",
    "\n",
    "for x in sequence_of_states:\n",
    "    sequence_of_states2.append([x])"
   ]
  },
  {
   "cell_type": "code",
   "execution_count": 56,
   "metadata": {
    "collapsed": true
   },
   "outputs": [],
   "source": [
    "# MSMBUILDER ONLY - SAMPLES EQUAL AMOUNTS OF FRAMES / MACROSTATE; \n",
    "def macrostate_sample_HACKED(msmbuilder_msm, n_samples_per_macrostate=1, dtrajs=None):\n",
    "    import random\n",
    "    import numpy as np\n",
    "    \n",
    "    # make dtrajs_dict\n",
    "    dtrajs_dict = dict()\n",
    "    traj_index = 0\n",
    "\n",
    "    for traj in dtrajs:\n",
    "        frame_index = 0\n",
    "        for frame in traj:\n",
    "            if frame in dtrajs_dict:\n",
    "                dtrajs_dict[frame].append((traj_index, frame_index))\n",
    "            else:\n",
    "                dtrajs_dict[frame] = [(traj_index, frame_index)]\n",
    "            frame_index += 1    \n",
    "        traj_index += 1    \n",
    "\n",
    "    metastable_sets = sequence_of_states2\n",
    "    samples = []\n",
    "    \n",
    "    # make mestable_sets\n",
    "    #for x in range(msmbuilder_pcca_object.n_macrostates):\n",
    "     #   metastable_sets.append([])\n",
    "    #for x in range(len(msmbuilder_pcca_object.microstate_mapping_)):\n",
    "    #    metastable_sets[msmbuilder_pcca_object.microstate_mapping_[x]].append(x)\n",
    "\n",
    "    # sample\n",
    "    for metastable_set in metastable_sets:\n",
    "        all_frames = []\n",
    "        for microstate in metastable_set:\n",
    "            microstate_label = microstate\n",
    "            all_frames += dtrajs_dict[microstate_label]\n",
    "        macrostate_samples = random.sample(all_frames, n_samples_per_macrostate)\n",
    "        samples.append(macrostate_samples)\n",
    "            \n",
    "    # samples have to have np.ndarrays in them, not just lists\n",
    "    samples_ = []\n",
    "    for x in samples:\n",
    "        samples_.append(np.asarray(x))\n",
    "    \n",
    "    return samples_"
   ]
  },
  {
   "cell_type": "code",
   "execution_count": 57,
   "metadata": {
    "collapsed": true
   },
   "outputs": [],
   "source": [
    "samples = macrostate_sample_HACKED(msm_300_p1, dtrajs=dtrajs)"
   ]
  },
  {
   "cell_type": "code",
   "execution_count": 58,
   "metadata": {
    "collapsed": false
   },
   "outputs": [
    {
     "data": {
      "text/plain": [
       "2000"
      ]
     },
     "execution_count": 58,
     "metadata": {},
     "output_type": "execute_result"
    }
   ],
   "source": [
    "len(samples)"
   ]
  },
  {
   "cell_type": "code",
   "execution_count": 59,
   "metadata": {
    "collapsed": true
   },
   "outputs": [],
   "source": [
    "np.save('samples_simulation', samples)"
   ]
  },
  {
   "cell_type": "code",
   "execution_count": 60,
   "metadata": {
    "collapsed": true
   },
   "outputs": [],
   "source": [
    "# convert trajectory to macrostate indexes and plot"
   ]
  },
  {
   "cell_type": "code",
   "execution_count": 63,
   "metadata": {
    "collapsed": true
   },
   "outputs": [],
   "source": [
    "msmbuilder_pcca_object = pcca_300_p1_20\n",
    "msmbuilder_msm = msm_300_p1\n",
    "\n",
    "metastable_sets = []\n",
    "\n",
    "# make mestable_sets\n",
    "for x in range(msmbuilder_pcca_object.n_macrostates):\n",
    "    metastable_sets.append([])\n",
    "for x in range(len(msmbuilder_pcca_object.microstate_mapping_)):\n",
    "    metastable_sets[msmbuilder_pcca_object.microstate_mapping_[x]].append(x)\n",
    "\n",
    "metastable_sets2 = []\n",
    "    \n",
    "for metastable_set in metastable_sets:\n",
    "    all_frames = []\n",
    "    for microstate in metastable_set:\n",
    "        microstate_label = msmbuilder_msm.state_labels_[microstate]\n",
    "        all_frames.append(microstate_label)\n",
    "    metastable_sets2.append(all_frames)\n",
    "    \n",
    "metastable_micro_composition = metastable_sets2    "
   ]
  },
  {
   "cell_type": "code",
   "execution_count": 64,
   "metadata": {
    "collapsed": true
   },
   "outputs": [],
   "source": [
    "micro_macro_dict = dict()\n",
    "\n",
    "for i in range(2500):\n",
    "    for j in range(20):\n",
    "        if i in metastable_micro_composition[j]:\n",
    "            micro_macro_dict[i] = j\n",
    "    if i not in micro_macro_dict:\n",
    "        micro_macro_dict[i] = 20 "
   ]
  },
  {
   "cell_type": "code",
   "execution_count": 65,
   "metadata": {
    "collapsed": false
   },
   "outputs": [
    {
     "data": {
      "text/plain": [
       "array([ 909,  909,  235, ..., 1224, 1794, 1794], dtype=int32)"
      ]
     },
     "execution_count": 65,
     "metadata": {},
     "output_type": "execute_result"
    }
   ],
   "source": [
    "sequence_of_states"
   ]
  },
  {
   "cell_type": "code",
   "execution_count": 66,
   "metadata": {
    "collapsed": true
   },
   "outputs": [],
   "source": [
    "sequence_of_states_macro = []\n",
    "\n",
    "for microstate in sequence_of_states:\n",
    "    sequence_of_states_macro.append(micro_macro_dict[microstate])"
   ]
  },
  {
   "cell_type": "code",
   "execution_count": 68,
   "metadata": {
    "collapsed": false
   },
   "outputs": [
    {
     "data": {
      "text/plain": [
       "False"
      ]
     },
     "execution_count": 68,
     "metadata": {},
     "output_type": "execute_result"
    }
   ],
   "source": [
    "20 in sequence_of_states_macro"
   ]
  },
  {
   "cell_type": "code",
   "execution_count": 69,
   "metadata": {
    "collapsed": true
   },
   "outputs": [],
   "source": [
    "# ok good so doesn't seem like any problems - we don't have any microstates which shouldn't be there"
   ]
  },
  {
   "cell_type": "code",
   "execution_count": 71,
   "metadata": {
    "collapsed": true
   },
   "outputs": [],
   "source": [
    "# let's plot this"
   ]
  },
  {
   "cell_type": "code",
   "execution_count": 74,
   "metadata": {
    "collapsed": false
   },
   "outputs": [],
   "source": [
    "plt.figure()\n",
    "plt.plot(sequence_of_states_macro)\n",
    "plt.xlabel('Time (150 ns / step)')\n",
    "plt.ylabel('Macrostate index')\n",
    "plt.savefig('simulation_macro.png', dpi=300)"
   ]
  },
  {
   "cell_type": "code",
   "execution_count": 73,
   "metadata": {
    "collapsed": false
   },
   "outputs": [
    {
     "data": {
      "text/plain": [
       "'/Users/rafalpwiewiora/repos/MSM/11707_11709_SET8_apo/msm_pipeline/dist/unitime_cluster/2500'"
      ]
     },
     "execution_count": 73,
     "metadata": {},
     "output_type": "execute_result"
    }
   ],
   "source": [
    "pwd"
   ]
  },
  {
   "cell_type": "code",
   "execution_count": null,
   "metadata": {
    "collapsed": true
   },
   "outputs": [],
   "source": []
  }
 ],
 "metadata": {
  "anaconda-cloud": {},
  "kernelspec": {
   "display_name": "Python [conda root]",
   "language": "python",
   "name": "conda-root-py"
  },
  "language_info": {
   "codemirror_mode": {
    "name": "ipython",
    "version": 3
   },
   "file_extension": ".py",
   "mimetype": "text/x-python",
   "name": "python",
   "nbconvert_exporter": "python",
   "pygments_lexer": "ipython3",
   "version": "3.5.2"
  }
 },
 "nbformat": 4,
 "nbformat_minor": 1
}
