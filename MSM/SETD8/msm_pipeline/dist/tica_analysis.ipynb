{
 "cells": [
  {
   "cell_type": "code",
   "execution_count": 1,
   "metadata": {
    "collapsed": true
   },
   "outputs": [],
   "source": [
    "import numpy as np"
   ]
  },
  {
   "cell_type": "code",
   "execution_count": 75,
   "metadata": {
    "collapsed": false
   },
   "outputs": [],
   "source": [
    "tica_proj = np.load('setd8_distances_tica_projection.npy', encoding='bytes')"
   ]
  },
  {
   "cell_type": "code",
   "execution_count": 5,
   "metadata": {
    "collapsed": false
   },
   "outputs": [
    {
     "data": {
      "text/plain": [
       "array([-0.99118072,  0.48661378,  1.54325569,  1.17640829,  1.09864092,\n",
       "        1.10740554,  0.49807277,  1.00209963, -0.56032187,  0.18726696,\n",
       "        0.32782957,  0.27118024, -0.46661445, -0.83517402,  0.38221055,\n",
       "       -0.40340757, -0.18864483, -0.15883383, -0.5593242 , -0.53010172,\n",
       "       -0.97360635,  0.68469584, -0.43244186,  0.01712857, -0.58563268,\n",
       "       -0.05924939, -1.35284877,  0.61691749, -0.42424807, -0.32804725,\n",
       "       -0.41952968,  0.4769592 , -0.8277337 , -0.15700063,  0.00195759,\n",
       "        1.13215613,  0.16365153, -0.11906364,  0.41899833,  0.3528339 ,\n",
       "        0.60738462,  0.46824899,  0.01219967,  0.24337849, -0.09522793,\n",
       "        0.08890697, -0.00319768, -0.88888288,  0.21138351, -0.59520888], dtype=float32)"
      ]
     },
     "execution_count": 5,
     "metadata": {},
     "output_type": "execute_result"
    }
   ],
   "source": [
    "tica_proj[0][0]"
   ]
  },
  {
   "cell_type": "code",
   "execution_count": 2,
   "metadata": {
    "collapsed": true
   },
   "outputs": [],
   "source": [
    "import matplotlib\n",
    "matplotlib.use('Agg')\n",
    "import matplotlib.pyplot as plt"
   ]
  },
  {
   "cell_type": "code",
   "execution_count": 76,
   "metadata": {
    "collapsed": false
   },
   "outputs": [],
   "source": [
    "tic0_ = [x[:,0] for x in tica_proj]\n",
    "tic1_ = [x[:,1] for x in tica_proj]\n",
    "\n",
    "tic0 = []\n",
    "tic1 = []\n",
    "\n",
    "for x in tic0_:\n",
    "    for y in x:\n",
    "        tic0.append(y)\n",
    "for x in tic1_:\n",
    "    for y in x:\n",
    "        tic1.append(y)        \n",
    "\n",
    "plt.figure()\n",
    "plt.hist2d(tic0, tic1, cmap='Blues', bins=100, weights=[1/len(tic0)]*len(tic0))\n",
    "plt.xlabel('tIC0')\n",
    "plt.ylabel('tIC1')\n",
    "plt.colorbar()\n",
    "plt.savefig('tica/tics_0_1_normed_to_sum_1.png', dpi=300)\n",
    "plt.close()"
   ]
  },
  {
   "cell_type": "code",
   "execution_count": 36,
   "metadata": {
    "collapsed": false
   },
   "outputs": [
    {
     "data": {
      "text/plain": [
       "'/Users/rafalpwiewiora/repos/MSM/11707_11709_SET8_apo/msm_pipeline/dist'"
      ]
     },
     "execution_count": 36,
     "metadata": {},
     "output_type": "execute_result"
    }
   ],
   "source": [
    "pwd"
   ]
  },
  {
   "cell_type": "code",
   "execution_count": 54,
   "metadata": {
    "collapsed": true
   },
   "outputs": [],
   "source": [
    "tic0_ = [x[:,0] for x in tica_proj]\n",
    "tic1_ = [x[:,1] for x in tica_proj]\n",
    "\n",
    "tic0 = []\n",
    "tic1 = []\n",
    "\n",
    "for x in tic0_:\n",
    "    for y in x:\n",
    "        tic0.append(y)\n",
    "for x in tic1_:\n",
    "    for y in x:\n",
    "        tic1.append(y)        \n",
    "\n",
    "plt.figure()\n",
    "plt.hist2d(tic0, tic1, cmap='Blues', bins=100)\n",
    "plt.xlabel('tIC0')\n",
    "plt.ylabel('tIC1')\n",
    "plt.colorbar()\n",
    "plt.savefig('tica/tics_0_1_not_normed.png', dpi=300)\n",
    "plt.close()"
   ]
  },
  {
   "cell_type": "code",
   "execution_count": 65,
   "metadata": {
    "collapsed": false
   },
   "outputs": [],
   "source": [
    "tic0_ = [x[:,0] for x in tica_proj]\n",
    "tic1_ = [x[:,1] for x in tica_proj]\n",
    "\n",
    "tic0 = []\n",
    "tic1 = []\n",
    "\n",
    "for x in tic0_:\n",
    "    for y in x:\n",
    "        tic0.append(y)\n",
    "for x in tic1_:\n",
    "    for y in x:\n",
    "        tic1.append(y)        \n",
    "\n",
    "plt.figure()\n",
    "plt.hist2d(tic0, tic1, cmap='Blues', bins=100, norm=matplotlib.colors.LogNorm())\n",
    "plt.xlabel('tIC0')\n",
    "plt.ylabel('tIC1')\n",
    "plt.colorbar()\n",
    "plt.savefig('tica/tics_0_1_not_normed_log10.png', dpi=300)\n",
    "plt.close()"
   ]
  },
  {
   "cell_type": "code",
   "execution_count": 66,
   "metadata": {
    "collapsed": true
   },
   "outputs": [],
   "source": [
    "tic0_ = [x[:,0] for x in tica_proj]\n",
    "tic1_ = [x[:,1] for x in tica_proj]\n",
    "\n",
    "tic0 = []\n",
    "tic1 = []\n",
    "\n",
    "for x in tic0_:\n",
    "    for y in x:\n",
    "        tic0.append(y)\n",
    "for x in tic1_:\n",
    "    for y in x:\n",
    "        tic1.append(y)        \n",
    "\n",
    "plt.figure()\n",
    "plt.hist2d(tic0, tic1, cmap='Blues', bins=100, norm=matplotlib.colors.LogNorm(), weights=[1/len(tic0)]*len(tic0))\n",
    "plt.xlabel('tIC0')\n",
    "plt.ylabel('tIC1')\n",
    "plt.colorbar()\n",
    "plt.savefig('tica/tics_0_1_normed_to_sum_1_log10.png', dpi=300)\n",
    "plt.close()"
   ]
  },
  {
   "cell_type": "markdown",
   "metadata": {},
   "source": [
    "ok these look great - now let's mark 3 things on that plot:\n",
    "\n",
    "* actual starting points of the trajectories we are analyzing here (because we have cutoff the start a bit)\n",
    "* starting points of the uncut trajectories\n",
    "* homology models from the original structures (so that all atoms are there and we calculate the tICs)"
   ]
  },
  {
   "cell_type": "code",
   "execution_count": 67,
   "metadata": {
    "collapsed": true
   },
   "outputs": [],
   "source": [
    "# ok so let's see how many distinct starting points of the cut trajectories we have"
   ]
  },
  {
   "cell_type": "code",
   "execution_count": 73,
   "metadata": {
    "collapsed": false
   },
   "outputs": [],
   "source": [
    "cut_start_frames = []\n",
    "\n",
    "for traj in tica_proj:\n",
    "    cut_start_frames.append(traj[0,:2])"
   ]
  },
  {
   "cell_type": "code",
   "execution_count": 75,
   "metadata": {
    "collapsed": false
   },
   "outputs": [
    {
     "data": {
      "text/plain": [
       "3400"
      ]
     },
     "execution_count": 75,
     "metadata": {},
     "output_type": "execute_result"
    }
   ],
   "source": [
    "len(cut_start_frames)"
   ]
  },
  {
   "cell_type": "code",
   "execution_count": 78,
   "metadata": {
    "collapsed": true
   },
   "outputs": [],
   "source": [
    "cut_start_frames_tic0 = []\n",
    "cut_start_frames_tic1 = []\n",
    "\n",
    "for x in cut_start_frames:\n",
    "    cut_start_frames_tic0.append(x[0])\n",
    "    cut_start_frames_tic1.append(x[1])"
   ]
  },
  {
   "cell_type": "code",
   "execution_count": 76,
   "metadata": {
    "collapsed": true
   },
   "outputs": [],
   "source": [
    "# now plot these as scatter in red on the histogram"
   ]
  },
  {
   "cell_type": "code",
   "execution_count": 82,
   "metadata": {
    "collapsed": false
   },
   "outputs": [],
   "source": [
    "tic0_ = [x[:,0] for x in tica_proj]\n",
    "tic1_ = [x[:,1] for x in tica_proj]\n",
    "\n",
    "tic0 = []\n",
    "tic1 = []\n",
    "\n",
    "for x in tic0_:\n",
    "    for y in x:\n",
    "        tic0.append(y)\n",
    "for x in tic1_:\n",
    "    for y in x:\n",
    "        tic1.append(y)        \n",
    "\n",
    "plt.figure()\n",
    "plt.hist2d(tic0, tic1, cmap='Blues', bins=100, norm=matplotlib.colors.LogNorm(), weights=[1/len(tic0)]*len(tic0))\n",
    "plt.xlabel('tIC0')\n",
    "plt.ylabel('tIC1')\n",
    "plt.colorbar()\n",
    "plt.scatter(cut_start_frames_tic0, cut_start_frames_tic1, c='red', s=1)\n",
    "plt.savefig('tica/tics_0_1_normed_to_sum_1_log10_cut_start_points_scatter.png', dpi=300)\n",
    "plt.close()"
   ]
  },
  {
   "cell_type": "code",
   "execution_count": 83,
   "metadata": {
    "collapsed": true
   },
   "outputs": [],
   "source": [
    "# also plot those on the linear scale histogram"
   ]
  },
  {
   "cell_type": "code",
   "execution_count": 84,
   "metadata": {
    "collapsed": true
   },
   "outputs": [],
   "source": [
    "tic0_ = [x[:,0] for x in tica_proj]\n",
    "tic1_ = [x[:,1] for x in tica_proj]\n",
    "\n",
    "tic0 = []\n",
    "tic1 = []\n",
    "\n",
    "for x in tic0_:\n",
    "    for y in x:\n",
    "        tic0.append(y)\n",
    "for x in tic1_:\n",
    "    for y in x:\n",
    "        tic1.append(y)        \n",
    "\n",
    "plt.figure()\n",
    "plt.hist2d(tic0, tic1, cmap='Blues', bins=100, weights=[1/len(tic0)]*len(tic0))\n",
    "plt.xlabel('tIC0')\n",
    "plt.ylabel('tIC1')\n",
    "plt.colorbar()\n",
    "plt.scatter(cut_start_frames_tic0, cut_start_frames_tic1, c='red', s=1)\n",
    "plt.savefig('tica/tics_0_1_normed_to_sum_1_cut_start_points_scatter.png', dpi=300)\n",
    "plt.close()"
   ]
  },
  {
   "cell_type": "code",
   "execution_count": 85,
   "metadata": {
    "collapsed": true
   },
   "outputs": [],
   "source": [
    "# ok let's calculate out the other two cases - gotta recalculate the tICA is the problem - ok let's do this on the hal"
   ]
  },
  {
   "cell_type": "code",
   "execution_count": 86,
   "metadata": {
    "collapsed": true
   },
   "outputs": [],
   "source": [
    "# ok so let's try sampling along the tics"
   ]
  },
  {
   "cell_type": "code",
   "execution_count": 87,
   "metadata": {
    "collapsed": true
   },
   "outputs": [],
   "source": [
    "import msmbuilder"
   ]
  },
  {
   "cell_type": "code",
   "execution_count": 88,
   "metadata": {
    "collapsed": true
   },
   "outputs": [],
   "source": [
    "from msmbuilder.io.sampling import sample_dimension"
   ]
  },
  {
   "cell_type": "code",
   "execution_count": 90,
   "metadata": {
    "collapsed": false
   },
   "outputs": [
    {
     "name": "stdout",
     "output_type": "stream",
     "text": [
      "Help on function sample_dimension in module msmbuilder.io.sampling.sampling:\n",
      "\n",
      "sample_dimension(trajs, dimension, n_frames, scheme='linear')\n",
      "    Sample a dimension of the data.\n",
      "    \n",
      "    This method uses one of 3 schemes. All other dimensions are ignored, so\n",
      "    this might result in a really \"jumpy\" sampled trajectory.\n",
      "    \n",
      "    Parameters\n",
      "    ----------\n",
      "    trajs : dictionary of np.ndarray\n",
      "        Dictionary of tica-transformed trajectories, keyed by arbitrary keys.\n",
      "        The resulting trajectory indices will use these keys.\n",
      "    dimension : int\n",
      "        dimension to sample on\n",
      "    n_frames : int\n",
      "        Number of frames requested\n",
      "    scheme : {'linear', 'random', 'edges'}\n",
      "        'linear' samples the tic linearly, 'random' samples randomly\n",
      "        (thereby taking approximate free energies into account),\n",
      "        and 'edges' samples the edges of the tic only.\n",
      "    \n",
      "    Returns\n",
      "    -------\n",
      "    inds : list of tuples\n",
      "       Tuples of (trajectory_index, frame_index), where trajectory_index is\n",
      "       in the domain of the keys of the input dictionary.\n",
      "\n"
     ]
    }
   ],
   "source": [
    "help(sample_dimension)"
   ]
  },
  {
   "cell_type": "code",
   "execution_count": 94,
   "metadata": {
    "collapsed": false
   },
   "outputs": [],
   "source": [
    "tica_dict = dict()\n",
    "\n",
    "for i in range(len(tica_proj)):\n",
    "    tica_dict[i] = tica_proj[i]"
   ]
  },
  {
   "cell_type": "code",
   "execution_count": 96,
   "metadata": {
    "collapsed": true
   },
   "outputs": [],
   "source": [
    "samples_tic0_linear = sample_dimension(tica_dict, dimension=0, n_frames=50, scheme='linear')"
   ]
  },
  {
   "cell_type": "code",
   "execution_count": 97,
   "metadata": {
    "collapsed": true
   },
   "outputs": [],
   "source": [
    "samples_tic0_random = sample_dimension(tica_dict, dimension=0, n_frames=50, scheme='random')"
   ]
  },
  {
   "cell_type": "code",
   "execution_count": 135,
   "metadata": {
    "collapsed": true
   },
   "outputs": [],
   "source": [
    "samples_tic0_linear = [np.asarray(samples_tic0_linear)]"
   ]
  },
  {
   "cell_type": "code",
   "execution_count": 136,
   "metadata": {
    "collapsed": true
   },
   "outputs": [],
   "source": [
    "samples_tic0_random = [np.asarray(samples_tic0_random)]"
   ]
  },
  {
   "cell_type": "code",
   "execution_count": 137,
   "metadata": {
    "collapsed": true
   },
   "outputs": [],
   "source": [
    "np.save('samples_tic0_linear', samples_tic0_linear)"
   ]
  },
  {
   "cell_type": "code",
   "execution_count": 138,
   "metadata": {
    "collapsed": false
   },
   "outputs": [],
   "source": [
    "np.save('samples_tic0_random', samples_tic0_random)"
   ]
  },
  {
   "cell_type": "code",
   "execution_count": 103,
   "metadata": {
    "collapsed": true
   },
   "outputs": [],
   "source": [
    "samples_tic1_linear = sample_dimension(tica_dict, dimension=1, n_frames=50, scheme='linear')"
   ]
  },
  {
   "cell_type": "code",
   "execution_count": 104,
   "metadata": {
    "collapsed": true
   },
   "outputs": [],
   "source": [
    "samples_tic1_random = sample_dimension(tica_dict, dimension=1, n_frames=50, scheme='random')"
   ]
  },
  {
   "cell_type": "code",
   "execution_count": 139,
   "metadata": {
    "collapsed": true
   },
   "outputs": [],
   "source": [
    "samples_tic1_linear = [np.asarray(samples_tic1_linear)]"
   ]
  },
  {
   "cell_type": "code",
   "execution_count": 140,
   "metadata": {
    "collapsed": true
   },
   "outputs": [],
   "source": [
    "samples_tic1_random = [np.asarray(samples_tic1_random)]"
   ]
  },
  {
   "cell_type": "code",
   "execution_count": 141,
   "metadata": {
    "collapsed": true
   },
   "outputs": [],
   "source": [
    "np.save('samples_tic1_linear', samples_tic1_linear)"
   ]
  },
  {
   "cell_type": "code",
   "execution_count": 142,
   "metadata": {
    "collapsed": true
   },
   "outputs": [],
   "source": [
    "np.save('samples_tic1_random', samples_tic1_random)"
   ]
  },
  {
   "cell_type": "code",
   "execution_count": 143,
   "metadata": {
    "collapsed": false
   },
   "outputs": [
    {
     "data": {
      "text/plain": [
       "[array([[1587, 1037],\n",
       "        [1587, 1042],\n",
       "        [1647,  182],\n",
       "        [2233,  902],\n",
       "        [ 131, 1141],\n",
       "        [1746, 1328],\n",
       "        [ 450, 1829],\n",
       "        [1425,  243],\n",
       "        [1683,  232],\n",
       "        [ 637, 1718],\n",
       "        [  76,  575],\n",
       "        [2231,  627],\n",
       "        [2347, 1234],\n",
       "        [ 341,  635],\n",
       "        [ 104, 1725],\n",
       "        [2220, 1824],\n",
       "        [1935, 1765],\n",
       "        [ 120, 1179],\n",
       "        [3235, 1190],\n",
       "        [1607, 1532],\n",
       "        [3217,  609],\n",
       "        [2693, 1293],\n",
       "        [2701, 1408],\n",
       "        [2647, 1684],\n",
       "        [3014, 1608],\n",
       "        [ 102, 1591],\n",
       "        [ 876,  603],\n",
       "        [1603,  604],\n",
       "        [2771, 1405],\n",
       "        [3048, 1792],\n",
       "        [ 751, 1484],\n",
       "        [2784,  349],\n",
       "        [2920, 1855],\n",
       "        [2596, 1532],\n",
       "        [  26,  497],\n",
       "        [1278, 1821],\n",
       "        [1285,  705],\n",
       "        [3199, 1870],\n",
       "        [1239, 1581],\n",
       "        [ 539,  727],\n",
       "        [ 208, 1676],\n",
       "        [2059, 1537],\n",
       "        [1269,  875],\n",
       "        [ 451, 1365],\n",
       "        [1063, 1516],\n",
       "        [1510,  744],\n",
       "        [ 200,    9],\n",
       "        [ 600,  148],\n",
       "        [1703,  771],\n",
       "        [1257,  299]])]"
      ]
     },
     "execution_count": 143,
     "metadata": {},
     "output_type": "execute_result"
    }
   ],
   "source": [
    "samples_tic1_linear"
   ]
  },
  {
   "cell_type": "code",
   "execution_count": 107,
   "metadata": {
    "collapsed": true
   },
   "outputs": [],
   "source": [
    "# retrieve frames on hal and have a look in pymol"
   ]
  },
  {
   "cell_type": "code",
   "execution_count": 108,
   "metadata": {
    "collapsed": true
   },
   "outputs": [],
   "source": [
    "# but before - let's retrieve those from the tica_proj and plot on the histogram - see how that sampling is distributed"
   ]
  },
  {
   "cell_type": "code",
   "execution_count": 115,
   "metadata": {
    "collapsed": true
   },
   "outputs": [],
   "source": [
    "tic0_linear = []\n",
    "tic0_random = []\n",
    "tic1_linear = []\n",
    "tic1_random = []\n",
    "\n",
    "for frame in samples_tic0_linear:\n",
    "    tic0_linear.append(tica_proj[frame[0]][frame[1], :2])\n",
    "for frame in samples_tic0_random:\n",
    "    tic0_random.append(tica_proj[frame[0]][frame[1], :2]) \n",
    "for frame in samples_tic1_linear:\n",
    "    tic1_linear.append(tica_proj[frame[0]][frame[1], :2])\n",
    "for frame in samples_tic1_random:\n",
    "    tic1_random.append(tica_proj[frame[0]][frame[1], :2])    "
   ]
  },
  {
   "cell_type": "code",
   "execution_count": 127,
   "metadata": {
    "collapsed": false
   },
   "outputs": [],
   "source": [
    "tic0_ = [x[:,0] for x in tica_proj]\n",
    "tic1_ = [x[:,1] for x in tica_proj]\n",
    "\n",
    "tic0 = []\n",
    "tic1 = []\n",
    "\n",
    "for x in tic0_:\n",
    "    for y in x:\n",
    "        tic0.append(y)\n",
    "for x in tic1_:\n",
    "    for y in x:\n",
    "        tic1.append(y)        \n",
    "\n",
    "plt.figure()\n",
    "plt.hist2d(tic0, tic1, cmap='Blues', bins=100, norm=matplotlib.colors.LogNorm(), weights=[1/len(tic0)]*len(tic0))\n",
    "plt.xlabel('tIC0')\n",
    "plt.ylabel('tIC1')\n",
    "plt.colorbar()\n",
    "plt.scatter([x[0] for x in tic0_linear], [x[1] for x in tic0_linear], c=range(len(tic0_linear)), s=1, cmap='gist_rainbow')\n",
    "plt.colorbar()\n",
    "plt.savefig('tica/tic0_linear_50samples.png', dpi=300)\n",
    "plt.close()"
   ]
  },
  {
   "cell_type": "code",
   "execution_count": 130,
   "metadata": {
    "collapsed": true
   },
   "outputs": [],
   "source": [
    "tic0_ = [x[:,0] for x in tica_proj]\n",
    "tic1_ = [x[:,1] for x in tica_proj]\n",
    "\n",
    "tic0 = []\n",
    "tic1 = []\n",
    "\n",
    "for x in tic0_:\n",
    "    for y in x:\n",
    "        tic0.append(y)\n",
    "for x in tic1_:\n",
    "    for y in x:\n",
    "        tic1.append(y)        \n",
    "\n",
    "plt.figure()\n",
    "plt.hist2d(tic0, tic1, cmap='Blues', bins=100, norm=matplotlib.colors.LogNorm(), weights=[1/len(tic0)]*len(tic0))\n",
    "plt.xlabel('tIC0')\n",
    "plt.ylabel('tIC1')\n",
    "plt.colorbar()\n",
    "plt.scatter([x[0] for x in tic0_random], [x[1] for x in tic0_random], c=range(len(tic0_random)), s=1, cmap='gist_rainbow')\n",
    "plt.colorbar()\n",
    "plt.savefig('tica/tic0_random_50samples.png', dpi=300)\n",
    "plt.close()"
   ]
  },
  {
   "cell_type": "code",
   "execution_count": 129,
   "metadata": {
    "collapsed": true
   },
   "outputs": [],
   "source": [
    "tic0_ = [x[:,0] for x in tica_proj]\n",
    "tic1_ = [x[:,1] for x in tica_proj]\n",
    "\n",
    "tic0 = []\n",
    "tic1 = []\n",
    "\n",
    "for x in tic0_:\n",
    "    for y in x:\n",
    "        tic0.append(y)\n",
    "for x in tic1_:\n",
    "    for y in x:\n",
    "        tic1.append(y)        \n",
    "\n",
    "plt.figure()\n",
    "plt.hist2d(tic0, tic1, cmap='Blues', bins=100, norm=matplotlib.colors.LogNorm(), weights=[1/len(tic0)]*len(tic0))\n",
    "plt.xlabel('tIC0')\n",
    "plt.ylabel('tIC1')\n",
    "plt.colorbar()\n",
    "plt.scatter([x[0] for x in tic1_linear], [x[1] for x in tic1_linear], c=range(len(tic1_linear)), s=1, cmap='gist_rainbow')\n",
    "plt.colorbar()\n",
    "plt.savefig('tica/tic1_linear_50samples.png', dpi=300)\n",
    "plt.close()"
   ]
  },
  {
   "cell_type": "code",
   "execution_count": 131,
   "metadata": {
    "collapsed": true
   },
   "outputs": [],
   "source": [
    "tic0_ = [x[:,0] for x in tica_proj]\n",
    "tic1_ = [x[:,1] for x in tica_proj]\n",
    "\n",
    "tic0 = []\n",
    "tic1 = []\n",
    "\n",
    "for x in tic0_:\n",
    "    for y in x:\n",
    "        tic0.append(y)\n",
    "for x in tic1_:\n",
    "    for y in x:\n",
    "        tic1.append(y)        \n",
    "\n",
    "plt.figure()\n",
    "plt.hist2d(tic0, tic1, cmap='Blues', bins=100, norm=matplotlib.colors.LogNorm(), weights=[1/len(tic0)]*len(tic0))\n",
    "plt.xlabel('tIC0')\n",
    "plt.ylabel('tIC1')\n",
    "plt.colorbar()\n",
    "plt.scatter([x[0] for x in tic1_random], [x[1] for x in tic1_random], c=range(len(tic1_random)), s=1, cmap='gist_rainbow')\n",
    "plt.colorbar()\n",
    "plt.savefig('tica/tic1_random_50samples.png', dpi=300)\n",
    "plt.close()"
   ]
  },
  {
   "cell_type": "code",
   "execution_count": 132,
   "metadata": {
    "collapsed": true
   },
   "outputs": [],
   "source": [
    "# ok let's take the samples to hal for sampling"
   ]
  },
  {
   "cell_type": "code",
   "execution_count": 133,
   "metadata": {
    "collapsed": false
   },
   "outputs": [
    {
     "data": {
      "text/plain": [
       "'/Users/rafalpwiewiora/repos/MSM/11707_11709_SET8_apo/msm_pipeline/dist'"
      ]
     },
     "execution_count": 133,
     "metadata": {},
     "output_type": "execute_result"
    }
   ],
   "source": [
    "pwd"
   ]
  },
  {
   "cell_type": "code",
   "execution_count": 134,
   "metadata": {
    "collapsed": false
   },
   "outputs": [
    {
     "data": {
      "text/plain": [
       "[(1587, 1037),\n",
       " (1587, 1042),\n",
       " (1647, 182),\n",
       " (2233, 902),\n",
       " (131, 1141),\n",
       " (1746, 1328),\n",
       " (450, 1829),\n",
       " (1425, 243),\n",
       " (1683, 232),\n",
       " (637, 1718),\n",
       " (76, 575),\n",
       " (2231, 627),\n",
       " (2347, 1234),\n",
       " (341, 635),\n",
       " (104, 1725),\n",
       " (2220, 1824),\n",
       " (1935, 1765),\n",
       " (120, 1179),\n",
       " (3235, 1190),\n",
       " (1607, 1532),\n",
       " (3217, 609),\n",
       " (2693, 1293),\n",
       " (2701, 1408),\n",
       " (2647, 1684),\n",
       " (3014, 1608),\n",
       " (102, 1591),\n",
       " (876, 603),\n",
       " (1603, 604),\n",
       " (2771, 1405),\n",
       " (3048, 1792),\n",
       " (751, 1484),\n",
       " (2784, 349),\n",
       " (2920, 1855),\n",
       " (2596, 1532),\n",
       " (26, 497),\n",
       " (1278, 1821),\n",
       " (1285, 705),\n",
       " (3199, 1870),\n",
       " (1239, 1581),\n",
       " (539, 727),\n",
       " (208, 1676),\n",
       " (2059, 1537),\n",
       " (1269, 875),\n",
       " (451, 1365),\n",
       " (1063, 1516),\n",
       " (1510, 744),\n",
       " (200, 9),\n",
       " (600, 148),\n",
       " (1703, 771),\n",
       " (1257, 299)]"
      ]
     },
     "execution_count": 134,
     "metadata": {},
     "output_type": "execute_result"
    }
   ],
   "source": [
    "samples_tic1_linear"
   ]
  },
  {
   "cell_type": "code",
   "execution_count": 144,
   "metadata": {
    "collapsed": true
   },
   "outputs": [],
   "source": [
    "# alright so this is promising - but waiting to re-calculate stuff on hal to tell for sure"
   ]
  },
  {
   "cell_type": "code",
   "execution_count": 145,
   "metadata": {
    "collapsed": true
   },
   "outputs": [],
   "source": [
    "# for now try another thing - let's see what kind of paths our trajectories trace on the 2D projection -\n",
    "# maybe we can choose some to view"
   ]
  },
  {
   "cell_type": "code",
   "execution_count": 6,
   "metadata": {
    "collapsed": true
   },
   "outputs": [],
   "source": [
    "tic0_ = [x[:,0] for x in tica_proj]\n",
    "tic1_ = [x[:,1] for x in tica_proj]\n",
    "\n",
    "tic0 = []\n",
    "tic1 = []\n",
    "\n",
    "for x in tic0_:\n",
    "    for y in x:\n",
    "        tic0.append(y)\n",
    "for x in tic1_:\n",
    "    for y in x:\n",
    "        tic1.append(y)  "
   ]
  },
  {
   "cell_type": "code",
   "execution_count": 169,
   "metadata": {
    "collapsed": true
   },
   "outputs": [],
   "source": [
    "traj_ = tica_proj[13]      \n",
    "\n",
    "plt.figure()\n",
    "plt.hist2d(tic0, tic1, cmap='Blues', bins=100, norm=matplotlib.colors.LogNorm(), weights=[1/len(tic0)]*len(tic0))\n",
    "plt.xlabel('tIC0')\n",
    "plt.ylabel('tIC1')\n",
    "plt.colorbar()\n",
    "plt.plot(traj_[:,0], traj_[:,1], color='red')\n",
    "plt.savefig('tica/trajectory13.png', dpi=300)\n",
    "plt.close()"
   ]
  },
  {
   "cell_type": "code",
   "execution_count": null,
   "metadata": {
    "collapsed": true
   },
   "outputs": [],
   "source": [
    "interesting_i = []\n",
    "\n",
    "for i in range(len(tica_proj)):\n",
    "    traj = tica_proj[i]\n",
    "    for frame in traj:\n",
    "        if frame[0] > -0.5 and frame[0] < 0.5:\n",
    "            interesting_i.append(i)\n",
    "            break"
   ]
  },
  {
   "cell_type": "code",
   "execution_count": 172,
   "metadata": {
    "collapsed": true
   },
   "outputs": [],
   "source": [
    "for i in interesting_i:\n",
    "\n",
    "    traj_ = tica_proj[i]      \n",
    "\n",
    "    plt.figure()\n",
    "    plt.hist2d(tic0, tic1, cmap='Blues', bins=100, norm=matplotlib.colors.LogNorm(), weights=[1/len(tic0)]*len(tic0))\n",
    "    plt.xlabel('tIC0')\n",
    "    plt.ylabel('tIC1')\n",
    "    plt.colorbar()\n",
    "    plt.plot(traj_[:,0], traj_[:,1], color='red')\n",
    "    plt.savefig('tica/trajs/trajectory%d.png' % i, dpi=300)\n",
    "    plt.close()"
   ]
  },
  {
   "cell_type": "code",
   "execution_count": 164,
   "metadata": {
    "collapsed": false
   },
   "outputs": [
    {
     "data": {
      "text/plain": [
       "[13,\n",
       " 31,\n",
       " 45,\n",
       " 49,\n",
       " 58,\n",
       " 59,\n",
       " 69,\n",
       " 72,\n",
       " 97,\n",
       " 114,\n",
       " 116,\n",
       " 144,\n",
       " 160,\n",
       " 183,\n",
       " 186,\n",
       " 187,\n",
       " 188,\n",
       " 189,\n",
       " 212,\n",
       " 216,\n",
       " 234,\n",
       " 242,\n",
       " 243,\n",
       " 245,\n",
       " 256,\n",
       " 258,\n",
       " 275,\n",
       " 289,\n",
       " 298,\n",
       " 337,\n",
       " 346,\n",
       " 365,\n",
       " 375,\n",
       " 411,\n",
       " 427,\n",
       " 428,\n",
       " 435,\n",
       " 438,\n",
       " 440,\n",
       " 452,\n",
       " 454,\n",
       " 459,\n",
       " 465,\n",
       " 466,\n",
       " 472,\n",
       " 482,\n",
       " 484,\n",
       " 499,\n",
       " 501,\n",
       " 512,\n",
       " 514,\n",
       " 515,\n",
       " 529,\n",
       " 555,\n",
       " 558,\n",
       " 559,\n",
       " 566,\n",
       " 576,\n",
       " 582,\n",
       " 626,\n",
       " 631,\n",
       " 637,\n",
       " 647,\n",
       " 649,\n",
       " 652,\n",
       " 658,\n",
       " 660,\n",
       " 662,\n",
       " 664,\n",
       " 665,\n",
       " 667,\n",
       " 668,\n",
       " 679,\n",
       " 680,\n",
       " 689,\n",
       " 694,\n",
       " 700,\n",
       " 704,\n",
       " 713,\n",
       " 719,\n",
       " 738,\n",
       " 767,\n",
       " 785,\n",
       " 787,\n",
       " 824,\n",
       " 831,\n",
       " 841,\n",
       " 850,\n",
       " 852,\n",
       " 857,\n",
       " 867,\n",
       " 900,\n",
       " 918,\n",
       " 923,\n",
       " 934,\n",
       " 938,\n",
       " 944,\n",
       " 967,\n",
       " 975,\n",
       " 978,\n",
       " 988,\n",
       " 996,\n",
       " 997,\n",
       " 1000,\n",
       " 1002,\n",
       " 1004,\n",
       " 1019,\n",
       " 1036,\n",
       " 1042,\n",
       " 1044,\n",
       " 1062,\n",
       " 1069,\n",
       " 1078,\n",
       " 1080,\n",
       " 1113,\n",
       " 1114,\n",
       " 1143,\n",
       " 1183,\n",
       " 1188,\n",
       " 1189,\n",
       " 1190,\n",
       " 1192,\n",
       " 1195,\n",
       " 1201,\n",
       " 1214,\n",
       " 1248,\n",
       " 1268,\n",
       " 1273,\n",
       " 1325,\n",
       " 1350,\n",
       " 1379,\n",
       " 1406,\n",
       " 1409,\n",
       " 1412,\n",
       " 1413,\n",
       " 1414,\n",
       " 1447,\n",
       " 1454,\n",
       " 1461,\n",
       " 1473,\n",
       " 1474,\n",
       " 1508,\n",
       " 1510,\n",
       " 1529,\n",
       " 1535,\n",
       " 1541,\n",
       " 1546,\n",
       " 1642,\n",
       " 1651,\n",
       " 1666,\n",
       " 1678,\n",
       " 1685,\n",
       " 1686,\n",
       " 1690,\n",
       " 1697,\n",
       " 1707,\n",
       " 1722,\n",
       " 1724,\n",
       " 1725,\n",
       " 1726,\n",
       " 1728,\n",
       " 1741,\n",
       " 1749,\n",
       " 1750,\n",
       " 1751,\n",
       " 1752,\n",
       " 1757,\n",
       " 1774,\n",
       " 1782,\n",
       " 1804,\n",
       " 1817,\n",
       " 1835,\n",
       " 1842,\n",
       " 1871,\n",
       " 1874,\n",
       " 1893,\n",
       " 1904,\n",
       " 1907,\n",
       " 1926,\n",
       " 1955,\n",
       " 1975,\n",
       " 1984,\n",
       " 1988,\n",
       " 1989,\n",
       " 1996,\n",
       " 2012,\n",
       " 2026,\n",
       " 2027,\n",
       " 2049,\n",
       " 2053,\n",
       " 2074,\n",
       " 2077,\n",
       " 2095,\n",
       " 2096,\n",
       " 2108,\n",
       " 2116,\n",
       " 2141,\n",
       " 2149,\n",
       " 2169,\n",
       " 2174,\n",
       " 2187,\n",
       " 2189,\n",
       " 2264,\n",
       " 2267,\n",
       " 2277,\n",
       " 2288,\n",
       " 2295,\n",
       " 2296,\n",
       " 2297,\n",
       " 2299,\n",
       " 2303,\n",
       " 2312,\n",
       " 2320,\n",
       " 2334,\n",
       " 2347,\n",
       " 2349,\n",
       " 2350,\n",
       " 2364,\n",
       " 2377,\n",
       " 2384,\n",
       " 2385,\n",
       " 2401,\n",
       " 2402,\n",
       " 2406,\n",
       " 2425,\n",
       " 2430,\n",
       " 2440,\n",
       " 2448,\n",
       " 2458,\n",
       " 2470,\n",
       " 2485,\n",
       " 2497,\n",
       " 2501,\n",
       " 2513,\n",
       " 2522,\n",
       " 2539,\n",
       " 2544,\n",
       " 2563,\n",
       " 2565,\n",
       " 2573,\n",
       " 2580,\n",
       " 2598,\n",
       " 2614,\n",
       " 2619,\n",
       " 2629,\n",
       " 2643,\n",
       " 2717,\n",
       " 2728,\n",
       " 2763,\n",
       " 2789,\n",
       " 2807,\n",
       " 2844,\n",
       " 2849,\n",
       " 2852,\n",
       " 2867,\n",
       " 2868,\n",
       " 2869,\n",
       " 2875,\n",
       " 2884,\n",
       " 2885,\n",
       " 2891,\n",
       " 2898,\n",
       " 2908,\n",
       " 2921,\n",
       " 2927,\n",
       " 2933,\n",
       " 2935,\n",
       " 2945,\n",
       " 2956,\n",
       " 2969,\n",
       " 2981,\n",
       " 2989,\n",
       " 3013,\n",
       " 3022,\n",
       " 3037,\n",
       " 3040,\n",
       " 3044,\n",
       " 3048,\n",
       " 3049,\n",
       " 3059,\n",
       " 3063,\n",
       " 3110,\n",
       " 3112,\n",
       " 3114,\n",
       " 3127,\n",
       " 3141,\n",
       " 3145,\n",
       " 3238,\n",
       " 3239,\n",
       " 3302,\n",
       " 3331,\n",
       " 3346,\n",
       " 3348,\n",
       " 3383]"
      ]
     },
     "execution_count": 164,
     "metadata": {},
     "output_type": "execute_result"
    }
   ],
   "source": [
    "interesting_i"
   ]
  },
  {
   "cell_type": "code",
   "execution_count": 165,
   "metadata": {
    "collapsed": false
   },
   "outputs": [
    {
     "data": {
      "text/plain": [
       "294"
      ]
     },
     "execution_count": 165,
     "metadata": {},
     "output_type": "execute_result"
    }
   ],
   "source": [
    "len(interesting_i)"
   ]
  },
  {
   "cell_type": "code",
   "execution_count": null,
   "metadata": {
    "collapsed": true
   },
   "outputs": [],
   "source": [
    "# trajs to see - 13, 1036, 484, 514 !!, 515, 58, 582, 658, 665, 667, 700, 704, 852, 988, 1113, 1183, 1325, 1412, 1474, \n",
    "# 1690, 1749, 1984, 1989, 2106, 2187, 2303, 2430, 2849, 3037, 3348 || 2108 (! ?), 2187, 2430"
   ]
  },
  {
   "cell_type": "code",
   "execution_count": 173,
   "metadata": {
    "collapsed": true
   },
   "outputs": [],
   "source": [
    "# ok let's look at trajectory 514 - that was a pretty much full crossing"
   ]
  },
  {
   "cell_type": "code",
   "execution_count": 174,
   "metadata": {
    "collapsed": true
   },
   "outputs": [],
   "source": [
    "# plot it in 1D first"
   ]
  },
  {
   "cell_type": "code",
   "execution_count": 175,
   "metadata": {
    "collapsed": true
   },
   "outputs": [],
   "source": [
    "plt.figure()\n",
    "plt.plot(tica_proj[514][:,0])\n",
    "plt.xlabel('Time (0.5 ns/frame)')\n",
    "plt.ylabel('tIC0')\n",
    "plt.savefig('tica/traj514_tic0.png', dpi=300)"
   ]
  },
  {
   "cell_type": "code",
   "execution_count": 176,
   "metadata": {
    "collapsed": true
   },
   "outputs": [],
   "source": [
    "# '11707/run16-clone22.h5'"
   ]
  },
  {
   "cell_type": "code",
   "execution_count": 177,
   "metadata": {
    "collapsed": true
   },
   "outputs": [],
   "source": [
    "# ok so that looks pretty good - let's see the same idea for tic1 - pick trajectories which have crossed the -0.5 -\n",
    "# i.e such that have both tic1 > -0.5 and < 0.5"
   ]
  },
  {
   "cell_type": "code",
   "execution_count": 7,
   "metadata": {
    "collapsed": false
   },
   "outputs": [],
   "source": [
    "interesting_i2 = []\n",
    "\n",
    "for i in range(len(tica_proj)):\n",
    "    traj = tica_proj[i]\n",
    "    minus = False\n",
    "    plus = False\n",
    "    for frame in traj:\n",
    "        if frame[1] > -0.5:\n",
    "            minus = True\n",
    "        elif frame[1] < 0.5:\n",
    "            plus = True\n",
    "        if minus and plus:\n",
    "            interesting_i2.append(i)\n",
    "            break    "
   ]
  },
  {
   "cell_type": "code",
   "execution_count": 8,
   "metadata": {
    "collapsed": false
   },
   "outputs": [
    {
     "data": {
      "text/plain": [
       "731"
      ]
     },
     "execution_count": 8,
     "metadata": {},
     "output_type": "execute_result"
    }
   ],
   "source": [
    "len(interesting_i2)"
   ]
  },
  {
   "cell_type": "code",
   "execution_count": 9,
   "metadata": {
    "collapsed": true
   },
   "outputs": [],
   "source": [
    "# plot all"
   ]
  },
  {
   "cell_type": "code",
   "execution_count": 10,
   "metadata": {
    "collapsed": true
   },
   "outputs": [],
   "source": [
    "for i in interesting_i2:\n",
    "\n",
    "    traj_ = tica_proj[i]      \n",
    "\n",
    "    plt.figure()\n",
    "    plt.hist2d(tic0, tic1, cmap='Blues', bins=100, norm=matplotlib.colors.LogNorm(), weights=[1/len(tic0)]*len(tic0))\n",
    "    plt.xlabel('tIC0')\n",
    "    plt.ylabel('tIC1')\n",
    "    plt.colorbar()\n",
    "    plt.plot(traj_[:,0], traj_[:,1], color='red')\n",
    "    plt.savefig('tica/trajs_tic1/trajectory%d.png' % i, dpi=300)\n",
    "    plt.close()"
   ]
  },
  {
   "cell_type": "code",
   "execution_count": null,
   "metadata": {
    "collapsed": true
   },
   "outputs": [],
   "source": [
    "# trajs to look at: 1115, 1139, 115, 1255, 1412, 28, 2808, 3192, 420, 875, 932"
   ]
  },
  {
   "cell_type": "code",
   "execution_count": 11,
   "metadata": {
    "collapsed": true
   },
   "outputs": [],
   "source": [
    "# ok let's look at 1115 first"
   ]
  },
  {
   "cell_type": "code",
   "execution_count": null,
   "metadata": {
    "collapsed": true
   },
   "outputs": [],
   "source": [
    "# '11707/run10-cloneo2.h5'"
   ]
  },
  {
   "cell_type": "code",
   "execution_count": 12,
   "metadata": {
    "collapsed": true
   },
   "outputs": [],
   "source": [
    "# plot in 1D"
   ]
  },
  {
   "cell_type": "code",
   "execution_count": 15,
   "metadata": {
    "collapsed": true
   },
   "outputs": [],
   "source": [
    "plt.figure()\n",
    "plt.plot(tica_proj[1115][:,1])\n",
    "plt.xlabel('Time (0.5 ns/frame)')\n",
    "plt.ylabel('tIC1')\n",
    "plt.savefig('tica/traj1115_tic1.png', dpi=300)"
   ]
  },
  {
   "cell_type": "code",
   "execution_count": 16,
   "metadata": {
    "collapsed": true
   },
   "outputs": [],
   "source": [
    "# check two more - 115 and 2808"
   ]
  },
  {
   "cell_type": "code",
   "execution_count": 17,
   "metadata": {
    "collapsed": true
   },
   "outputs": [],
   "source": [
    "plt.figure()\n",
    "plt.plot(tica_proj[115][:,1])\n",
    "plt.xlabel('Time (0.5 ns/frame)')\n",
    "plt.ylabel('tIC1')\n",
    "plt.savefig('tica/traj115_tic1.png', dpi=300)"
   ]
  },
  {
   "cell_type": "code",
   "execution_count": 18,
   "metadata": {
    "collapsed": true
   },
   "outputs": [],
   "source": [
    "plt.figure()\n",
    "plt.plot(tica_proj[2808][:,1])\n",
    "plt.xlabel('Time (0.5 ns/frame)')\n",
    "plt.ylabel('tIC1')\n",
    "plt.savefig('tica/traj2808_tic1.png', dpi=300)"
   ]
  },
  {
   "cell_type": "code",
   "execution_count": 19,
   "metadata": {
    "collapsed": true
   },
   "outputs": [],
   "source": [
    "# 115 is '11707/run25-clone10.h5'"
   ]
  },
  {
   "cell_type": "code",
   "execution_count": 20,
   "metadata": {
    "collapsed": true
   },
   "outputs": [],
   "source": [
    "# 2808 is '11709/run3-clone148.h5'"
   ]
  },
  {
   "cell_type": "code",
   "execution_count": 21,
   "metadata": {
    "collapsed": true
   },
   "outputs": [],
   "source": [
    "# use 1115 and 115 for presentation\n",
    "# later try to explain why 2808 doesn't make much sense - there's not much changing about C-flank actually - \n",
    "# tic! might not be what I'm thinking it is"
   ]
  },
  {
   "cell_type": "code",
   "execution_count": 22,
   "metadata": {
    "collapsed": true
   },
   "outputs": [],
   "source": [
    "# alright going to hal now where we have a ready tica - \n",
    "\n",
    "# first - analyze eigenvectors - pick up the most important distances for tic0 and tic1\n",
    "\n",
    "# then let's see if we can map the eq. starting points and the\n",
    "# starting models onto the tic0tic1 space\n",
    "\n",
    "# next thing - map 2500 microstates onto the tic0tic1 projection, then map macrostates, then - simulation from MSM\n",
    "# and transition path theory - and we're done I think"
   ]
  },
  {
   "cell_type": "code",
   "execution_count": 23,
   "metadata": {
    "collapsed": false
   },
   "outputs": [
    {
     "data": {
      "text/plain": [
       "'/Users/rafalpwiewiora/repos/MSM/11707_11709_SET8_apo/msm_pipeline/dist'"
      ]
     },
     "execution_count": 23,
     "metadata": {},
     "output_type": "execute_result"
    }
   ],
   "source": [
    "pwd"
   ]
  },
  {
   "cell_type": "code",
   "execution_count": 24,
   "metadata": {
    "collapsed": true
   },
   "outputs": [],
   "source": [
    "# let's look at eigenvectors"
   ]
  },
  {
   "cell_type": "code",
   "execution_count": 175,
   "metadata": {
    "collapsed": true
   },
   "outputs": [],
   "source": [
    "eigenvec = np.load('tica/tica_eigenvectors.npy')"
   ]
  },
  {
   "cell_type": "code",
   "execution_count": 176,
   "metadata": {
    "collapsed": false
   },
   "outputs": [
    {
     "data": {
      "text/plain": [
       "(1000, 1000)"
      ]
     },
     "execution_count": 176,
     "metadata": {},
     "output_type": "execute_result"
    }
   ],
   "source": [
    "eigenvec.shape"
   ]
  },
  {
   "cell_type": "code",
   "execution_count": 27,
   "metadata": {
    "collapsed": false
   },
   "outputs": [],
   "source": [
    "# ok let's plot first and second eigenvectors"
   ]
  },
  {
   "cell_type": "code",
   "execution_count": 177,
   "metadata": {
    "collapsed": true
   },
   "outputs": [],
   "source": [
    "plt.figure()\n",
    "plt.plot(eigenvec[:,0])\n",
    "plt.xlabel('Distance index')\n",
    "plt.ylabel('tic0 eiqenvector')\n",
    "plt.savefig('tica/tic0_eigenvector.png', dpi=300)\n",
    "plt.close()"
   ]
  },
  {
   "cell_type": "code",
   "execution_count": 178,
   "metadata": {
    "collapsed": true
   },
   "outputs": [],
   "source": [
    "plt.figure()\n",
    "plt.plot(eigenvec[:,1])\n",
    "plt.xlabel('Distance index')\n",
    "plt.ylabel('tic1 eiqenvector')\n",
    "plt.savefig('tica/tic1_eigenvector.png', dpi=300)\n",
    "plt.close()"
   ]
  },
  {
   "cell_type": "code",
   "execution_count": 31,
   "metadata": {
    "collapsed": true
   },
   "outputs": [],
   "source": [
    "# tic0 eigenvect much more messy, tic1 pretty nice looking - let's look at the maximum and minimum for both"
   ]
  },
  {
   "cell_type": "code",
   "execution_count": 179,
   "metadata": {
    "collapsed": false
   },
   "outputs": [
    {
     "data": {
      "text/plain": [
       "1"
      ]
     },
     "execution_count": 179,
     "metadata": {},
     "output_type": "execute_result"
    }
   ],
   "source": [
    "np.argmax(eigenvec[:,0])"
   ]
  },
  {
   "cell_type": "code",
   "execution_count": 181,
   "metadata": {
    "collapsed": false
   },
   "outputs": [
    {
     "data": {
      "text/plain": [
       "72"
      ]
     },
     "execution_count": 181,
     "metadata": {},
     "output_type": "execute_result"
    }
   ],
   "source": [
    "np.argmin(eigenvec[:,0])"
   ]
  },
  {
   "cell_type": "code",
   "execution_count": 182,
   "metadata": {
    "collapsed": false
   },
   "outputs": [
    {
     "data": {
      "text/plain": [
       "39"
      ]
     },
     "execution_count": 182,
     "metadata": {},
     "output_type": "execute_result"
    }
   ],
   "source": [
    "np.argmax(eigenvec[:,1])"
   ]
  },
  {
   "cell_type": "code",
   "execution_count": 183,
   "metadata": {
    "collapsed": false
   },
   "outputs": [
    {
     "data": {
      "text/plain": [
       "156"
      ]
     },
     "execution_count": 183,
     "metadata": {},
     "output_type": "execute_result"
    }
   ],
   "source": [
    "np.argmin(eigenvec[:,1])"
   ]
  },
  {
   "cell_type": "code",
   "execution_count": 38,
   "metadata": {
    "collapsed": true
   },
   "outputs": [],
   "source": [
    "# let's check indexes of atoms"
   ]
  },
  {
   "cell_type": "code",
   "execution_count": 39,
   "metadata": {
    "collapsed": true
   },
   "outputs": [],
   "source": [
    "distances = np.load('tica/respairs_that_changed.npy')"
   ]
  },
  {
   "cell_type": "code",
   "execution_count": 43,
   "metadata": {
    "collapsed": false
   },
   "outputs": [
    {
     "data": {
      "text/plain": [
       "array([110, 159])"
      ]
     },
     "execution_count": 43,
     "metadata": {},
     "output_type": "execute_result"
    }
   ],
   "source": [
    "distances[624]"
   ]
  },
  {
   "cell_type": "code",
   "execution_count": 47,
   "metadata": {
    "collapsed": false
   },
   "outputs": [
    {
     "data": {
      "text/plain": [
       "array([ 79, 104])"
      ]
     },
     "execution_count": 47,
     "metadata": {},
     "output_type": "execute_result"
    }
   ],
   "source": [
    "distances[530]"
   ]
  },
  {
   "cell_type": "code",
   "execution_count": 48,
   "metadata": {
    "collapsed": false
   },
   "outputs": [
    {
     "data": {
      "text/plain": [
       "array([73, 96])"
      ]
     },
     "execution_count": 48,
     "metadata": {},
     "output_type": "execute_result"
    }
   ],
   "source": [
    "distances[868]"
   ]
  },
  {
   "cell_type": "code",
   "execution_count": 49,
   "metadata": {
    "collapsed": false
   },
   "outputs": [
    {
     "data": {
      "text/plain": [
       "array([ 9, 16])"
      ]
     },
     "execution_count": 49,
     "metadata": {},
     "output_type": "execute_result"
    }
   ],
   "source": [
    "distances[881]"
   ]
  },
  {
   "cell_type": "code",
   "execution_count": 50,
   "metadata": {
    "collapsed": true
   },
   "outputs": [],
   "source": [
    "import mdtraj as md"
   ]
  },
  {
   "cell_type": "code",
   "execution_count": 52,
   "metadata": {
    "collapsed": true
   },
   "outputs": [],
   "source": [
    "protein = md.load('tica/protein.pdb')"
   ]
  },
  {
   "cell_type": "code",
   "execution_count": 53,
   "metadata": {
    "collapsed": false
   },
   "outputs": [
    {
     "data": {
      "text/plain": [
       "LYS111"
      ]
     },
     "execution_count": 53,
     "metadata": {},
     "output_type": "execute_result"
    }
   ],
   "source": [
    "protein.top.residue(110)"
   ]
  },
  {
   "cell_type": "code",
   "execution_count": 54,
   "metadata": {
    "collapsed": false
   },
   "outputs": [
    {
     "data": {
      "text/plain": [
       "LEU160"
      ]
     },
     "execution_count": 54,
     "metadata": {},
     "output_type": "execute_result"
    }
   ],
   "source": [
    "protein.top.residue(159)"
   ]
  },
  {
   "cell_type": "code",
   "execution_count": 55,
   "metadata": {
    "collapsed": true
   },
   "outputs": [],
   "source": [
    "# alright - this is not making too much sense right now - investigate more later - for now forget about it"
   ]
  },
  {
   "cell_type": "code",
   "execution_count": 56,
   "metadata": {
    "collapsed": true
   },
   "outputs": [],
   "source": [
    "# move onto mapping the starting points onto the surface"
   ]
  },
  {
   "cell_type": "code",
   "execution_count": 58,
   "metadata": {
    "collapsed": true
   },
   "outputs": [],
   "source": [
    "# let's make a trajectory of all those points - and then analyze that as an MD trajectory through PyEMMA"
   ]
  },
  {
   "cell_type": "code",
   "execution_count": 59,
   "metadata": {
    "collapsed": true
   },
   "outputs": [],
   "source": [
    "# next - plot cluster centers - 2500 on the 2D surface - load cluster centers"
   ]
  },
  {
   "cell_type": "code",
   "execution_count": 60,
   "metadata": {
    "collapsed": true
   },
   "outputs": [],
   "source": [
    "cluster_centers_2500 = np.load('unitime_cluster/2500/clustercenters.npy')"
   ]
  },
  {
   "cell_type": "code",
   "execution_count": 63,
   "metadata": {
    "collapsed": false
   },
   "outputs": [
    {
     "data": {
      "text/plain": [
       "array([[-1.0848254 ,  0.35427675],\n",
       "       [-0.89869517,  0.16464229],\n",
       "       [-1.11272502, -0.40577567],\n",
       "       ..., \n",
       "       [ 0.99799603,  0.60049927],\n",
       "       [ 1.07237053,  0.62969416],\n",
       "       [ 1.08507586,  0.5722664 ]], dtype=float32)"
      ]
     },
     "execution_count": 63,
     "metadata": {},
     "output_type": "execute_result"
    }
   ],
   "source": [
    "cluster_centers_2500[:,:2]"
   ]
  },
  {
   "cell_type": "code",
   "execution_count": 64,
   "metadata": {
    "collapsed": true
   },
   "outputs": [],
   "source": [
    "# ok plot this"
   ]
  },
  {
   "cell_type": "code",
   "execution_count": 66,
   "metadata": {
    "collapsed": false
   },
   "outputs": [],
   "source": [
    "plt.figure()\n",
    "plt.hist2d(tic0, tic1, cmap='Blues', bins=100, norm=matplotlib.colors.LogNorm(), weights=[1/len(tic0)]*len(tic0))\n",
    "plt.xlabel('tIC0')\n",
    "plt.ylabel('tIC1')\n",
    "plt.colorbar()\n",
    "plt.scatter(cluster_centers_2500[:,0], cluster_centers_2500[:,1], c='red', s=1)\n",
    "plt.savefig('tica/cluster_centers_2500.png', dpi=300)\n",
    "plt.close()"
   ]
  },
  {
   "cell_type": "code",
   "execution_count": 67,
   "metadata": {
    "collapsed": true
   },
   "outputs": [],
   "source": [
    "# let's try 5000 just out of curiosity"
   ]
  },
  {
   "cell_type": "code",
   "execution_count": 68,
   "metadata": {
    "collapsed": true
   },
   "outputs": [],
   "source": [
    "cluster_centers_5000 = np.load('unitime_cluster/5000/clustercenters.npy')"
   ]
  },
  {
   "cell_type": "code",
   "execution_count": 69,
   "metadata": {
    "collapsed": true
   },
   "outputs": [],
   "source": [
    "plt.figure()\n",
    "plt.hist2d(tic0, tic1, cmap='Blues', bins=100, norm=matplotlib.colors.LogNorm(), weights=[1/len(tic0)]*len(tic0))\n",
    "plt.xlabel('tIC0')\n",
    "plt.ylabel('tIC1')\n",
    "plt.colorbar()\n",
    "plt.scatter(cluster_centers_5000[:,0], cluster_centers_5000[:,1], c='red', s=1)\n",
    "plt.savefig('tica/cluster_centers_5000.png', dpi=300)\n",
    "plt.close()"
   ]
  },
  {
   "cell_type": "code",
   "execution_count": 70,
   "metadata": {
    "collapsed": true
   },
   "outputs": [],
   "source": [
    "# ok cool - now let's plot the microstates in different colors, depending on macrostate"
   ]
  },
  {
   "cell_type": "code",
   "execution_count": 71,
   "metadata": {
    "collapsed": true
   },
   "outputs": [],
   "source": [
    "# I had those meta_sets saved for the rmsd analysis, the info is there!"
   ]
  },
  {
   "cell_type": "code",
   "execution_count": 74,
   "metadata": {
    "collapsed": true
   },
   "outputs": [],
   "source": [
    "# actually no - meta_sets is frame indexes, I gotta go back to that notebook and recover microstate in each macrostate\n",
    "# list"
   ]
  },
  {
   "cell_type": "code",
   "execution_count": 75,
   "metadata": {
    "collapsed": true
   },
   "outputs": [],
   "source": [
    "metastable_micro_composition_2500 = np.load('unitime_cluster/2500/metastable_micro_composition.npy')"
   ]
  },
  {
   "cell_type": "code",
   "execution_count": 78,
   "metadata": {
    "collapsed": true
   },
   "outputs": [],
   "source": [
    "# ok so we have 2500 microstates - we're gonna pass a c of length 2500 to the scatter plotter, so let's get \n",
    "# a palette of 20 colors from iwanthue\n",
    "# actually need 21 colors - 21st for those microstates which were thrown away to ergodicity\n",
    "# intense - 20 colors"
   ]
  },
  {
   "cell_type": "code",
   "execution_count": 81,
   "metadata": {
    "collapsed": true
   },
   "outputs": [],
   "source": [
    "colors = [\"#d16a52\",\n",
    "\"#5d3ac7\",\n",
    "\"#5cb845\",\n",
    "\"#c34ddb\",\n",
    "\"#b2ab36\",\n",
    "\"#5a6acf\",\n",
    "\"#db7426\",\n",
    "\"#702f8d\",\n",
    "\"#7baa6b\",\n",
    "\"#d447a6\",\n",
    "\"#52aca0\",\n",
    "\"#d43636\",\n",
    "\"#6290bf\",\n",
    "\"#b2874d\",\n",
    "\"#b684d8\",\n",
    "\"#425b2b\",\n",
    "\"#c1416f\",\n",
    "\"#593c6b\",\n",
    "\"#d0888c\",\n",
    "\"#73332c\",\n",
    "\"#c385b3\"]"
   ]
  },
  {
   "cell_type": "code",
   "execution_count": 82,
   "metadata": {
    "collapsed": false
   },
   "outputs": [],
   "source": [
    "colors2 = []\n",
    "\n",
    "for i in range(2500):\n",
    "    done = False\n",
    "    for j in range(20):\n",
    "        if i in metastable_micro_composition_2500[j]:\n",
    "            colors2.append(colors[j])\n",
    "            done = True\n",
    "    if not done:\n",
    "        colors2.append(colors[20])"
   ]
  },
  {
   "cell_type": "code",
   "execution_count": 84,
   "metadata": {
    "collapsed": false
   },
   "outputs": [
    {
     "data": {
      "text/plain": [
       "2500"
      ]
     },
     "execution_count": 84,
     "metadata": {},
     "output_type": "execute_result"
    }
   ],
   "source": [
    "len(colors2)"
   ]
  },
  {
   "cell_type": "code",
   "execution_count": 85,
   "metadata": {
    "collapsed": true
   },
   "outputs": [],
   "source": [
    "# ok let's plot"
   ]
  },
  {
   "cell_type": "code",
   "execution_count": 86,
   "metadata": {
    "collapsed": true
   },
   "outputs": [],
   "source": [
    "plt.figure()\n",
    "plt.hist2d(tic0, tic1, cmap='Blues', bins=100, norm=matplotlib.colors.LogNorm(), weights=[1/len(tic0)]*len(tic0))\n",
    "plt.xlabel('tIC0')\n",
    "plt.ylabel('tIC1')\n",
    "plt.colorbar()\n",
    "plt.scatter(cluster_centers_2500[:,0], cluster_centers_2500[:,1], c=colors2, s=1)\n",
    "plt.savefig('tica/cluster_centers_2500_by_macrostate.png', dpi=300)\n",
    "plt.close()"
   ]
  },
  {
   "cell_type": "code",
   "execution_count": 87,
   "metadata": {
    "collapsed": true
   },
   "outputs": [],
   "source": [
    "# nah can't see anything on this - let's make 20 plots"
   ]
  },
  {
   "cell_type": "code",
   "execution_count": 175,
   "metadata": {
    "collapsed": false
   },
   "outputs": [],
   "source": [
    "for i in range(20):\n",
    "    macrostate = metastable_micro_composition_2500[i]\n",
    "    \n",
    "    x = []\n",
    "    y = []\n",
    "\n",
    "    for microstate in macrostate:\n",
    "        x.append(cluster_centers_2500[microstate,0])\n",
    "        y.append(cluster_centers_2500[microstate,1])\n",
    "    \n",
    "    plt.figure()\n",
    "    plt.hist2d(tic0, tic1, cmap='Blues', bins=100, norm=matplotlib.colors.LogNorm(), weights=[1/len(tic0)]*len(tic0))\n",
    "    plt.xlabel('tIC0')\n",
    "    plt.ylabel('tIC1')\n",
    "    plt.colorbar()\n",
    "    plt.scatter(x, y, c='red')\n",
    "    plt.title('Macrostate %d' % i)\n",
    "    plt.savefig('tica/cluster_centers_by_macrostate/%d.png' % i, dpi=300)\n",
    "    plt.close()"
   ]
  },
  {
   "cell_type": "code",
   "execution_count": 91,
   "metadata": {
    "collapsed": true
   },
   "outputs": [],
   "source": [
    "# make list of microstates that were thrown away to ergodicity"
   ]
  },
  {
   "cell_type": "code",
   "execution_count": 92,
   "metadata": {
    "collapsed": true
   },
   "outputs": [],
   "source": [
    "all_microstates = range(2500)\n",
    "\n",
    "microstates_trashed = []\n",
    "\n",
    "for i in all_microstates:\n",
    "    not_trash = False\n",
    "    for macrostate in metastable_micro_composition_2500:\n",
    "        if i in macrostate:\n",
    "            not_trash = True\n",
    "            break\n",
    "    if not not_trash:\n",
    "        microstates_trashed.append(i)\n",
    "    "
   ]
  },
  {
   "cell_type": "code",
   "execution_count": 94,
   "metadata": {
    "collapsed": false
   },
   "outputs": [
    {
     "data": {
      "text/plain": [
       "343"
      ]
     },
     "execution_count": 94,
     "metadata": {},
     "output_type": "execute_result"
    }
   ],
   "source": [
    "len(microstates_trashed)"
   ]
  },
  {
   "cell_type": "code",
   "execution_count": 99,
   "metadata": {
    "collapsed": true
   },
   "outputs": [],
   "source": [
    "macrostate = microstates_trashed\n",
    "    \n",
    "x = []\n",
    "y = []\n",
    "\n",
    "for microstate in macrostate:\n",
    "    x.append(cluster_centers_2500[microstate,0])\n",
    "    y.append(cluster_centers_2500[microstate,1])\n",
    "    \n",
    "plt.figure()\n",
    "plt.hist2d(tic0, tic1, cmap='Blues', bins=100, norm=matplotlib.colors.LogNorm(), weights=[1/len(tic0)]*len(tic0))\n",
    "plt.xlabel('tIC0')\n",
    "plt.ylabel('tIC1')\n",
    "plt.colorbar()\n",
    "plt.scatter(x, y, c='red', s=2)\n",
    "plt.title('Microstates rejected by ergodicity trimming')\n",
    "plt.savefig('tica/cluster_centers_by_macrostate/not_in_macrostate.png', dpi=300)\n",
    "plt.close()"
   ]
  },
  {
   "cell_type": "code",
   "execution_count": 98,
   "metadata": {
    "collapsed": true
   },
   "outputs": [],
   "source": [
    "# alright - we're gonna change to looking at the MSM now, particularly macrostate 19 looks interesting - \n",
    "# let's look for trajectories where we're in macrostate 19 for a long time"
   ]
  },
  {
   "cell_type": "code",
   "execution_count": 101,
   "metadata": {
    "collapsed": true
   },
   "outputs": [],
   "source": [
    "# ok - we're gonna plot only the models - not the equilibrated stuff - we have all points after equilibration and\n",
    "# then another 'equilibration' (what we cut off) "
   ]
  },
  {
   "cell_type": "code",
   "execution_count": 102,
   "metadata": {
    "collapsed": true
   },
   "outputs": [],
   "source": [
    "# we got the models, let's make one trajectory of those - take that to cluster and calculate the tic positions"
   ]
  },
  {
   "cell_type": "code",
   "execution_count": 103,
   "metadata": {
    "collapsed": true
   },
   "outputs": [],
   "source": [
    "import mdtraj as md"
   ]
  },
  {
   "cell_type": "code",
   "execution_count": 105,
   "metadata": {
    "collapsed": true
   },
   "outputs": [],
   "source": [
    "apo = md.load('tica/starting_structures/apo/model.pdb')\n",
    "zkk = md.load('tica/starting_structures/1zkk/model.pdb')\n",
    "ij8 = md.load('tica/starting_structures/4ij8/model.pdb')\n",
    "inh = md.load('tica/starting_structures/inh/model.pdb')\n",
    "zkk_apo = md.load('tica/starting_structures/1zkk_apo/model.pdb')\n",
    "ij8_apo = md.load('tica/starting_structures/4ij8_apo/model.pdb')"
   ]
  },
  {
   "cell_type": "code",
   "execution_count": 107,
   "metadata": {
    "collapsed": false
   },
   "outputs": [],
   "source": [
    "traj = apo\n",
    "traj = traj.join(zkk)\n",
    "traj = traj.join(ij8)\n",
    "traj = traj.join(inh)\n",
    "traj = traj.join(zkk_apo)\n",
    "traj = traj.join(ij8_apo)"
   ]
  },
  {
   "cell_type": "code",
   "execution_count": 108,
   "metadata": {
    "collapsed": false
   },
   "outputs": [
    {
     "data": {
      "text/plain": [
       "<mdtraj.Trajectory with 6 frames, 1296 atoms, 162 residues, without unitcells at 0x17e0aaba8>"
      ]
     },
     "execution_count": 108,
     "metadata": {},
     "output_type": "execute_result"
    }
   ],
   "source": [
    "traj"
   ]
  },
  {
   "cell_type": "code",
   "execution_count": 109,
   "metadata": {
    "collapsed": true
   },
   "outputs": [],
   "source": [
    "traj.save('tica/starting_structures/all_traj.h5')"
   ]
  },
  {
   "cell_type": "code",
   "execution_count": 110,
   "metadata": {
    "collapsed": true
   },
   "outputs": [],
   "source": [
    "initial_conformations_tica = np.load('tica/starting_structures/initial_conformations_tica.npy')"
   ]
  },
  {
   "cell_type": "code",
   "execution_count": 111,
   "metadata": {
    "collapsed": true
   },
   "outputs": [],
   "source": [
    "# let's plot"
   ]
  },
  {
   "cell_type": "code",
   "execution_count": 113,
   "metadata": {
    "collapsed": false
   },
   "outputs": [],
   "source": [
    "initial_conformations_tica = initial_conformations_tica[0]"
   ]
  },
  {
   "cell_type": "code",
   "execution_count": 115,
   "metadata": {
    "collapsed": true
   },
   "outputs": [],
   "source": [
    "plt.figure()\n",
    "plt.hist2d(tic0, tic1, cmap='Blues', bins=100, norm=matplotlib.colors.LogNorm(), weights=[1/len(tic0)]*len(tic0))\n",
    "plt.xlabel('tIC0')\n",
    "plt.ylabel('tIC1')\n",
    "plt.colorbar()\n",
    "plt.scatter(initial_conformations_tica[:,0], initial_conformations_tica[:,1], c='red')\n",
    "plt.savefig('tica/initial_conformations_on_tic01.png', dpi=300)\n",
    "plt.close()"
   ]
  },
  {
   "cell_type": "code",
   "execution_count": 116,
   "metadata": {
    "collapsed": true
   },
   "outputs": [],
   "source": [
    "# good stuff!"
   ]
  },
  {
   "cell_type": "code",
   "execution_count": 168,
   "metadata": {
    "collapsed": false
   },
   "outputs": [
    {
     "data": {
      "text/plain": [
       "array([ 1.02063024, -1.29294705], dtype=float32)"
      ]
     },
     "execution_count": 168,
     "metadata": {},
     "output_type": "execute_result"
    }
   ],
   "source": [
    "initial_conformations_tica[0][:2] #apo"
   ]
  },
  {
   "cell_type": "code",
   "execution_count": 169,
   "metadata": {
    "collapsed": false
   },
   "outputs": [
    {
     "data": {
      "text/plain": [
       "array([-0.91809404,  0.49194032], dtype=float32)"
      ]
     },
     "execution_count": 169,
     "metadata": {},
     "output_type": "execute_result"
    }
   ],
   "source": [
    "initial_conformations_tica[1][:2] #zkk"
   ]
  },
  {
   "cell_type": "code",
   "execution_count": 170,
   "metadata": {
    "collapsed": false
   },
   "outputs": [
    {
     "data": {
      "text/plain": [
       "array([ 0.94444132,  1.39091325], dtype=float32)"
      ]
     },
     "execution_count": 170,
     "metadata": {},
     "output_type": "execute_result"
    }
   ],
   "source": [
    "initial_conformations_tica[2][:2] #ij8"
   ]
  },
  {
   "cell_type": "code",
   "execution_count": 171,
   "metadata": {
    "collapsed": false
   },
   "outputs": [
    {
     "data": {
      "text/plain": [
       "array([-1.08758795, -0.10935054], dtype=float32)"
      ]
     },
     "execution_count": 171,
     "metadata": {},
     "output_type": "execute_result"
    }
   ],
   "source": [
    "initial_conformations_tica[3][:2] #inh"
   ]
  },
  {
   "cell_type": "code",
   "execution_count": 172,
   "metadata": {
    "collapsed": false
   },
   "outputs": [
    {
     "data": {
      "text/plain": [
       "array([-0.86092108, -0.25153083], dtype=float32)"
      ]
     },
     "execution_count": 172,
     "metadata": {},
     "output_type": "execute_result"
    }
   ],
   "source": [
    "initial_conformations_tica[4][:2] #zkk_apo"
   ]
  },
  {
   "cell_type": "code",
   "execution_count": 173,
   "metadata": {
    "collapsed": false
   },
   "outputs": [
    {
     "data": {
      "text/plain": [
       "array([ 0.95809561,  0.287853  ], dtype=float32)"
      ]
     },
     "execution_count": 173,
     "metadata": {},
     "output_type": "execute_result"
    }
   ],
   "source": [
    "initial_conformations_tica[5][:2] #ij8_apo"
   ]
  },
  {
   "cell_type": "code",
   "execution_count": 117,
   "metadata": {
    "collapsed": true
   },
   "outputs": [],
   "source": [
    "# ok now let's look for trajectories where we spend a lot of time in macrostate 19\n",
    "# then transition path theory - find max flux and visualize\n",
    "# make more of the slides\n",
    "# simulate for like 100 microseconds from the MSM - visualize changing of macrostates and "
   ]
  },
  {
   "cell_type": "code",
   "execution_count": 118,
   "metadata": {
    "collapsed": true
   },
   "outputs": [],
   "source": [
    "# ok so let's load in dtrajs for 2500, convert them from microstate to macrostate (21 for microstates removed)\n",
    "# and look for trajectories that contain 19"
   ]
  },
  {
   "cell_type": "code",
   "execution_count": 120,
   "metadata": {
    "collapsed": false
   },
   "outputs": [],
   "source": [
    "dtrajs_2500 = np.load('unitime_cluster/2500/dtrajs.npy', encoding='bytes')"
   ]
  },
  {
   "cell_type": "code",
   "execution_count": 124,
   "metadata": {
    "collapsed": true
   },
   "outputs": [],
   "source": [
    "# let's make a microstate to macrostate dictionary"
   ]
  },
  {
   "cell_type": "code",
   "execution_count": 125,
   "metadata": {
    "collapsed": true
   },
   "outputs": [],
   "source": [
    "micro_macro_dict = dict()\n",
    "\n",
    "for i in range(2500):\n",
    "    for j in range(20):\n",
    "        if i in metastable_micro_composition_2500[j]:\n",
    "            micro_macro_dict[i] = j\n",
    "    if i not in micro_macro_dict:\n",
    "        micro_macro_dict[i] = 20 "
   ]
  },
  {
   "cell_type": "code",
   "execution_count": 127,
   "metadata": {
    "collapsed": true
   },
   "outputs": [],
   "source": [
    "dtrajs_2500_macro = []\n",
    "\n",
    "for traj in dtrajs_2500:\n",
    "    dtrajs_2500_macro.append([])\n",
    "    for microstate in traj:\n",
    "        dtrajs_2500_macro[-1].append(micro_macro_dict[microstate])"
   ]
  },
  {
   "cell_type": "code",
   "execution_count": 129,
   "metadata": {
    "collapsed": false
   },
   "outputs": [],
   "source": [
    "# alright - let's see how many trajs have 19 in it"
   ]
  },
  {
   "cell_type": "code",
   "execution_count": 130,
   "metadata": {
    "collapsed": true
   },
   "outputs": [],
   "source": [
    "count = 0\n",
    "\n",
    "for traj in dtrajs_2500_macro:\n",
    "    if 19 in traj:\n",
    "        count += 1"
   ]
  },
  {
   "cell_type": "code",
   "execution_count": 131,
   "metadata": {
    "collapsed": false
   },
   "outputs": [
    {
     "data": {
      "text/plain": [
       "1477"
      ]
     },
     "execution_count": 131,
     "metadata": {},
     "output_type": "execute_result"
    }
   ],
   "source": [
    "count"
   ]
  },
  {
   "cell_type": "code",
   "execution_count": 132,
   "metadata": {
    "collapsed": true
   },
   "outputs": [],
   "source": [
    "# let's find the one with most 19 in it"
   ]
  },
  {
   "cell_type": "code",
   "execution_count": 133,
   "metadata": {
    "collapsed": true
   },
   "outputs": [],
   "source": [
    "count_list = []\n",
    "\n",
    "for traj in dtrajs_2500_macro:\n",
    "    count = 0\n",
    "    for frame in traj:\n",
    "        if frame == 19:\n",
    "            count +=1\n",
    "    count_list.append(count)        "
   ]
  },
  {
   "cell_type": "code",
   "execution_count": 135,
   "metadata": {
    "collapsed": false
   },
   "outputs": [
    {
     "data": {
      "text/plain": [
       "18"
      ]
     },
     "execution_count": 135,
     "metadata": {},
     "output_type": "execute_result"
    }
   ],
   "source": [
    "np.argmax(count_list)"
   ]
  },
  {
   "cell_type": "code",
   "execution_count": 136,
   "metadata": {
    "collapsed": true
   },
   "outputs": [],
   "source": [
    "# traj 18 - let's plot it to see what macrostates it explores"
   ]
  },
  {
   "cell_type": "code",
   "execution_count": 137,
   "metadata": {
    "collapsed": false
   },
   "outputs": [
    {
     "data": {
      "text/plain": [
       "'/Users/rafalpwiewiora/repos/MSM/11707_11709_SET8_apo/msm_pipeline/dist'"
      ]
     },
     "execution_count": 137,
     "metadata": {},
     "output_type": "execute_result"
    }
   ],
   "source": [
    "pwd"
   ]
  },
  {
   "cell_type": "code",
   "execution_count": 139,
   "metadata": {
    "collapsed": true
   },
   "outputs": [],
   "source": [
    "plt.figure()\n",
    "plt.plot(dtrajs_2500_macro[18])\n",
    "plt.xlabel('Time (0.5 ns / frame)')\n",
    "plt.ylabel('Macrostate')\n",
    "plt.savefig('tica/traj18_macro.png', dpi=300)\n",
    "plt.close()"
   ]
  },
  {
   "cell_type": "code",
   "execution_count": 140,
   "metadata": {
    "collapsed": true
   },
   "outputs": [],
   "source": [
    "# there's no other macrostate here though - maybe find one where there is change?"
   ]
  },
  {
   "cell_type": "code",
   "execution_count": 141,
   "metadata": {
    "collapsed": true
   },
   "outputs": [],
   "source": [
    "count_list = []\n",
    "\n",
    "for traj in dtrajs_2500_macro:\n",
    "    count = [0,0]\n",
    "    for frame in traj:\n",
    "        if frame == 19:\n",
    "            count[0] +=1\n",
    "        elif frame != 19:\n",
    "            count[1] += 1\n",
    "    count_list.append(count)        "
   ]
  },
  {
   "cell_type": "code",
   "execution_count": 142,
   "metadata": {
    "collapsed": false
   },
   "outputs": [
    {
     "data": {
      "text/plain": [
       "3400"
      ]
     },
     "execution_count": 142,
     "metadata": {},
     "output_type": "execute_result"
    }
   ],
   "source": [
    "len(count_list)"
   ]
  },
  {
   "cell_type": "code",
   "execution_count": 143,
   "metadata": {
    "collapsed": true
   },
   "outputs": [],
   "source": [
    "count = 0\n",
    "for x in count_list:\n",
    "    if x[0] > 0 and x[1] > 0:\n",
    "        count += 1"
   ]
  },
  {
   "cell_type": "code",
   "execution_count": 144,
   "metadata": {
    "collapsed": false
   },
   "outputs": [
    {
     "data": {
      "text/plain": [
       "1105"
      ]
     },
     "execution_count": 144,
     "metadata": {},
     "output_type": "execute_result"
    }
   ],
   "source": [
    "count"
   ]
  },
  {
   "cell_type": "code",
   "execution_count": 146,
   "metadata": {
    "collapsed": false
   },
   "outputs": [],
   "source": [
    "a = []\n",
    "\n",
    "for x in count_list:\n",
    "    if x[0] > 0 and x[1] > 0:\n",
    "        a.append(x[0])"
   ]
  },
  {
   "cell_type": "code",
   "execution_count": 148,
   "metadata": {
    "collapsed": false
   },
   "outputs": [
    {
     "data": {
      "text/plain": [
       "2049"
      ]
     },
     "execution_count": 148,
     "metadata": {},
     "output_type": "execute_result"
    }
   ],
   "source": [
    "np.max(a)"
   ]
  },
  {
   "cell_type": "code",
   "execution_count": 159,
   "metadata": {
    "collapsed": false
   },
   "outputs": [
    {
     "name": "stdout",
     "output_type": "stream",
     "text": [
      "(49, 1954, 6)\n",
      "(50, 1904, 56)\n",
      "(57, 1958, 2)\n",
      "(62, 1884, 166)\n",
      "(193, 1641, 139)\n",
      "(204, 1982, 68)\n",
      "(207, 1989, 61)\n",
      "(269, 1883, 167)\n",
      "(300, 1957, 3)\n",
      "(301, 1935, 25)\n",
      "(321, 1951, 9)\n",
      "(388, 1936, 24)\n",
      "(408, 1898, 152)\n",
      "(417, 1960, 90)\n",
      "(470, 1947, 13)\n",
      "(471, 1955, 5)\n",
      "(514, 1917, 43)\n",
      "(515, 1911, 49)\n",
      "(519, 1838, 212)\n",
      "(523, 1936, 24)\n",
      "(527, 1998, 52)\n",
      "(536, 1953, 6)\n",
      "(559, 1917, 43)\n",
      "(562, 1992, 58)\n",
      "(568, 1867, 183)\n",
      "(595, 1869, 181)\n",
      "(597, 1946, 14)\n",
      "(620, 1957, 3)\n",
      "(647, 1992, 58)\n",
      "(664, 1833, 127)\n",
      "(683, 1958, 2)\n",
      "(691, 1992, 58)\n",
      "(704, 1840, 210)\n",
      "(745, 1937, 23)\n",
      "(746, 1952, 98)\n",
      "(750, 1997, 53)\n",
      "(751, 1896, 64)\n",
      "(800, 1951, 9)\n",
      "(822, 1958, 2)\n",
      "(848, 1958, 2)\n",
      "(990, 1911, 49)\n",
      "(1023, 1951, 99)\n",
      "(1035, 1995, 55)\n",
      "(1037, 1991, 59)\n",
      "(1039, 1877, 173)\n",
      "(1095, 1959, 1)\n",
      "(1111, 1977, 73)\n",
      "(1121, 1959, 91)\n",
      "(1159, 1617, 133)\n",
      "(1178, 1967, 83)\n",
      "(1206, 1994, 56)\n",
      "(1232, 1996, 54)\n",
      "(1233, 1915, 135)\n",
      "(1235, 1822, 138)\n",
      "(1238, 1884, 76)\n",
      "(1255, 1973, 17)\n",
      "(1300, 1871, 179)\n",
      "(1320, 1893, 67)\n",
      "(1324, 1960, 90)\n",
      "(1409, 1914, 136)\n",
      "(1422, 1783, 177)\n",
      "(1479, 1943, 17)\n",
      "(1496, 1924, 126)\n",
      "(1499, 1972, 78)\n",
      "(1503, 1947, 13)\n",
      "(1507, 1977, 73)\n",
      "(1511, 1934, 26)\n",
      "(1516, 1959, 1)\n",
      "(1545, 1958, 92)\n",
      "(1553, 1987, 3)\n",
      "(1583, 1926, 34)\n",
      "(1640, 1916, 134)\n",
      "(1708, 1926, 34)\n",
      "(1710, 1997, 53)\n",
      "(1730, 1990, 60)\n",
      "(1742, 1994, 56)\n",
      "(1751, 1810, 240)\n",
      "(1805, 1909, 51)\n",
      "(1806, 1769, 191)\n",
      "(1808, 1876, 84)\n",
      "(1832, 1353, 217)\n",
      "(1847, 1332, 208)\n",
      "(1895, 1961, 59)\n",
      "(1897, 1929, 121)\n",
      "(1955, 1904, 55)\n",
      "(1956, 1949, 11)\n",
      "(2004, 1954, 6)\n",
      "(2031, 1959, 91)\n",
      "(2036, 1773, 187)\n",
      "(2039, 1956, 4)\n",
      "(2092, 1830, 130)\n",
      "(2132, 1955, 5)\n",
      "(2134, 1920, 40)\n",
      "(2140, 1901, 149)\n",
      "(2145, 1949, 101)\n",
      "(2146, 1898, 152)\n",
      "(2149, 1921, 129)\n",
      "(2190, 1915, 135)\n",
      "(2237, 1955, 5)\n",
      "(2273, 1959, 1)\n",
      "(2299, 1826, 134)\n",
      "(2308, 1941, 19)\n",
      "(2330, 1956, 4)\n",
      "(2333, 1901, 59)\n",
      "(2338, 1861, 189)\n",
      "(2341, 1872, 178)\n",
      "(2345, 1937, 23)\n",
      "(2367, 1916, 134)\n",
      "(2380, 1531, 9)\n",
      "(2404, 1954, 6)\n",
      "(2410, 1919, 41)\n",
      "(2411, 1912, 48)\n",
      "(2412, 1944, 16)\n",
      "(2414, 1935, 25)\n",
      "(2415, 1957, 3)\n",
      "(2418, 1958, 2)\n",
      "(2419, 1954, 6)\n",
      "(2422, 1919, 41)\n",
      "(2429, 1801, 159)\n",
      "(2432, 1946, 14)\n",
      "(2433, 1942, 18)\n",
      "(2435, 1867, 93)\n",
      "(2437, 1814, 146)\n",
      "(2438, 1938, 22)\n",
      "(2441, 1958, 2)\n",
      "(2442, 1954, 6)\n",
      "(2448, 1944, 16)\n",
      "(2450, 1953, 7)\n",
      "(2456, 1720, 240)\n",
      "(2457, 1956, 4)\n",
      "(2461, 1954, 6)\n",
      "(2463, 1955, 5)\n",
      "(2467, 1959, 1)\n",
      "(2469, 1956, 4)\n",
      "(2471, 1771, 189)\n",
      "(2473, 1938, 22)\n",
      "(2474, 1729, 231)\n",
      "(2475, 1842, 118)\n",
      "(2483, 1938, 22)\n",
      "(2489, 1931, 29)\n",
      "(2493, 1951, 9)\n",
      "(2496, 1959, 1)\n",
      "(2497, 1943, 17)\n",
      "(2498, 1959, 1)\n",
      "(2501, 1920, 40)\n",
      "(2502, 1934, 26)\n",
      "(2504, 1910, 50)\n",
      "(2508, 1947, 13)\n",
      "(2514, 1956, 4)\n",
      "(2515, 1957, 3)\n",
      "(2518, 1922, 38)\n",
      "(2763, 1959, 1)\n",
      "(2856, 1848, 112)\n",
      "(2923, 1780, 180)\n",
      "(2951, 1893, 67)\n",
      "(2953, 1959, 1)\n",
      "(2957, 1951, 9)\n",
      "(2959, 1953, 7)\n",
      "(2962, 1959, 1)\n",
      "(2964, 1959, 1)\n",
      "(2965, 1893, 67)\n",
      "(2966, 1959, 1)\n",
      "(2968, 1909, 51)\n",
      "(2969, 1957, 3)\n",
      "(2970, 1899, 61)\n",
      "(2971, 1959, 1)\n",
      "(2973, 1883, 77)\n",
      "(2975, 1924, 36)\n",
      "(2979, 1900, 60)\n",
      "(2982, 1959, 1)\n",
      "(2983, 1942, 18)\n",
      "(2985, 1939, 21)\n",
      "(2986, 1943, 17)\n",
      "(2987, 1951, 9)\n",
      "(2988, 1745, 215)\n",
      "(2989, 1813, 147)\n",
      "(2990, 1956, 4)\n",
      "(2995, 1924, 36)\n",
      "(2999, 1849, 111)\n",
      "(3001, 1952, 8)\n",
      "(3002, 1933, 27)\n",
      "(3003, 1924, 36)\n",
      "(3005, 1951, 9)\n",
      "(3010, 1958, 2)\n",
      "(3014, 1958, 2)\n",
      "(3018, 1839, 121)\n",
      "(3021, 1790, 170)\n",
      "(3022, 1959, 1)\n",
      "(3025, 1903, 57)\n",
      "(3026, 1930, 30)\n",
      "(3027, 1893, 67)\n",
      "(3035, 1959, 1)\n",
      "(3036, 1834, 126)\n",
      "(3042, 1959, 1)\n",
      "(3045, 1946, 14)\n",
      "(3046, 1956, 4)\n",
      "(3048, 1959, 1)\n",
      "(3051, 1953, 7)\n",
      "(3053, 1950, 10)\n",
      "(3054, 1932, 28)\n",
      "(3055, 1928, 32)\n",
      "(3058, 1896, 64)\n",
      "(3059, 1924, 36)\n",
      "(3061, 1957, 3)\n",
      "(3063, 1950, 10)\n",
      "(3067, 1956, 4)\n",
      "(3070, 1846, 114)\n",
      "(3073, 1958, 2)\n",
      "(3074, 1922, 38)\n",
      "(3133, 1777, 183)\n",
      "(3317, 1956, 4)\n"
     ]
    }
   ],
   "source": [
    "for i in range(3400):\n",
    "    traj_count = count_list[i]\n",
    "    if traj_count[0] > 1000 and traj_count[0] < 2000 and traj_count[1] > 0 and traj_count[1] < 250:\n",
    "        print((i, traj_count[0], traj_count[1]))"
   ]
  },
  {
   "cell_type": "code",
   "execution_count": 160,
   "metadata": {
    "collapsed": true
   },
   "outputs": [],
   "source": [
    "# (1751, 1810, 240)"
   ]
  },
  {
   "cell_type": "code",
   "execution_count": 161,
   "metadata": {
    "collapsed": true
   },
   "outputs": [],
   "source": [
    "# traj 1751 is: '11707/run10-clone21.h5'"
   ]
  },
  {
   "cell_type": "code",
   "execution_count": 162,
   "metadata": {
    "collapsed": true
   },
   "outputs": [],
   "source": [
    "# plot the traj"
   ]
  },
  {
   "cell_type": "code",
   "execution_count": 163,
   "metadata": {
    "collapsed": true
   },
   "outputs": [],
   "source": [
    "plt.figure()\n",
    "plt.plot(dtrajs_2500_macro[1751])\n",
    "plt.xlabel('Time (0.5 ns / frame)')\n",
    "plt.ylabel('Macrostate')\n",
    "plt.savefig('tica/traj1751_macro.png', dpi=300)\n",
    "plt.close()"
   ]
  },
  {
   "cell_type": "code",
   "execution_count": 164,
   "metadata": {
    "collapsed": true
   },
   "outputs": [],
   "source": [
    "# also plot this traj in tica space"
   ]
  },
  {
   "cell_type": "code",
   "execution_count": 165,
   "metadata": {
    "collapsed": true
   },
   "outputs": [],
   "source": [
    "# then - TPT and we should be really finally done, put the story again, sleep"
   ]
  },
  {
   "cell_type": "code",
   "execution_count": 166,
   "metadata": {
    "collapsed": true
   },
   "outputs": [],
   "source": [
    "traj_ = tica_proj[1751]      \n",
    "\n",
    "plt.figure()\n",
    "plt.hist2d(tic0, tic1, cmap='Blues', bins=100, norm=matplotlib.colors.LogNorm(), weights=[1/len(tic0)]*len(tic0))\n",
    "plt.xlabel('tIC0')\n",
    "plt.ylabel('tIC1')\n",
    "plt.colorbar()\n",
    "plt.plot(traj_[:,0], traj_[:,1], color='red')\n",
    "plt.savefig('tica/trajs_msm/traj1751_tica.png', dpi=300)\n",
    "plt.close()"
   ]
  },
  {
   "cell_type": "code",
   "execution_count": 174,
   "metadata": {
    "collapsed": true
   },
   "outputs": [],
   "source": [
    "# not sure about usefulness of this \n",
    "# next and last - transition path theory - let's do it in the actual MSM notebook "
   ]
  },
  {
   "cell_type": "code",
   "execution_count": null,
   "metadata": {
    "collapsed": true
   },
   "outputs": [],
   "source": [
    "# alright let's do top flux into 1ZKK-like macrostates from any others, "
   ]
  },
  {
   "cell_type": "code",
   "execution_count": 176,
   "metadata": {
    "collapsed": true
   },
   "outputs": [],
   "source": [
    "# not doing the tpt after all - just doing a 100 microsecond simulation from the MSM - all done here, just gonna\n",
    "# simulate and sample in dist_2500_unitime"
   ]
  },
  {
   "cell_type": "code",
   "execution_count": 177,
   "metadata": {
    "collapsed": true
   },
   "outputs": [],
   "source": [
    "# coming here back with samples from a 300 microsecond simulation from the MSM - plot onto the tIC0-tIC1"
   ]
  },
  {
   "cell_type": "code",
   "execution_count": 178,
   "metadata": {
    "collapsed": false
   },
   "outputs": [
    {
     "data": {
      "text/plain": [
       "'/Users/rafalpwiewiora/repos/MSM/11707_11709_SET8_apo/msm_pipeline/dist'"
      ]
     },
     "execution_count": 178,
     "metadata": {},
     "output_type": "execute_result"
    }
   ],
   "source": [
    "pwd"
   ]
  },
  {
   "cell_type": "code",
   "execution_count": 179,
   "metadata": {
    "collapsed": true
   },
   "outputs": [],
   "source": [
    "samples_simulation = np.load('tica/samples_simulation.npy')"
   ]
  },
  {
   "cell_type": "code",
   "execution_count": 180,
   "metadata": {
    "collapsed": false
   },
   "outputs": [
    {
     "data": {
      "text/plain": [
       "array([[1235,  632]])"
      ]
     },
     "execution_count": 180,
     "metadata": {},
     "output_type": "execute_result"
    }
   ],
   "source": [
    "samples_simulation[0]"
   ]
  },
  {
   "cell_type": "code",
   "execution_count": 182,
   "metadata": {
    "collapsed": false
   },
   "outputs": [],
   "source": [
    "# ok so just look through tica_proj to find the coordinates"
   ]
  },
  {
   "cell_type": "code",
   "execution_count": 196,
   "metadata": {
    "collapsed": false
   },
   "outputs": [],
   "source": [
    "simulation_tica = []\n",
    "\n",
    "for frame in samples_simulation:\n",
    "    simulation_tica.append(tica_proj[frame[0,0]][frame[0,1]][:2])"
   ]
  },
  {
   "cell_type": "code",
   "execution_count": 195,
   "metadata": {
    "collapsed": false
   },
   "outputs": [
    {
     "data": {
      "text/plain": [
       "632"
      ]
     },
     "execution_count": 195,
     "metadata": {},
     "output_type": "execute_result"
    }
   ],
   "source": [
    "samples_simulation[0,0,1]"
   ]
  },
  {
   "cell_type": "code",
   "execution_count": 198,
   "metadata": {
    "collapsed": false
   },
   "outputs": [
    {
     "data": {
      "text/plain": [
       "2000"
      ]
     },
     "execution_count": 198,
     "metadata": {},
     "output_type": "execute_result"
    }
   ],
   "source": [
    "len(simulation_tica)"
   ]
  },
  {
   "cell_type": "code",
   "execution_count": 200,
   "metadata": {
    "collapsed": false
   },
   "outputs": [
    {
     "data": {
      "text/plain": [
       "array([ 0.99091154,  1.16856623], dtype=float32)"
      ]
     },
     "execution_count": 200,
     "metadata": {},
     "output_type": "execute_result"
    }
   ],
   "source": [
    "simulation_tica[0]"
   ]
  },
  {
   "cell_type": "code",
   "execution_count": 199,
   "metadata": {
    "collapsed": true
   },
   "outputs": [],
   "source": [
    "# ok awesome - let's plot this"
   ]
  },
  {
   "cell_type": "code",
   "execution_count": 201,
   "metadata": {
    "collapsed": true
   },
   "outputs": [],
   "source": [
    "plt.figure()\n",
    "plt.hist2d(tic0, tic1, cmap='Blues', bins=100, norm=matplotlib.colors.LogNorm(), weights=[1/len(tic0)]*len(tic0))\n",
    "plt.xlabel('tIC0')\n",
    "plt.ylabel('tIC1')\n",
    "plt.colorbar()\n",
    "plt.plot([x[0] for x in simulation_tica], [x[1] for x in simulation_tica], color='red')\n",
    "plt.savefig('tica/simulation_tica.png', dpi=300)\n",
    "plt.close()"
   ]
  },
  {
   "cell_type": "code",
   "execution_count": 1,
   "metadata": {
    "collapsed": true
   },
   "outputs": [],
   "source": [
    "# back here May 5th - two things to do: plot starting structures on all combinations of tic0 and tic1 with tics2-9; \n",
    "# examine tica eigenvectors further - make structural intepretation"
   ]
  },
  {
   "cell_type": "code",
   "execution_count": 2,
   "metadata": {
    "collapsed": true
   },
   "outputs": [],
   "source": [
    "# start with eigenvectors"
   ]
  },
  {
   "cell_type": "code",
   "execution_count": 184,
   "metadata": {
    "collapsed": false
   },
   "outputs": [],
   "source": [
    "eigenvec = np.load('tica/tica_eigenvectors.npy')"
   ]
  },
  {
   "cell_type": "code",
   "execution_count": 7,
   "metadata": {
    "collapsed": true
   },
   "outputs": [],
   "source": [
    "distances = np.load('tica/respairs_that_changed.npy')"
   ]
  },
  {
   "cell_type": "code",
   "execution_count": 9,
   "metadata": {
    "collapsed": false
   },
   "outputs": [
    {
     "data": {
      "text/plain": [
       "'/Users/rafalpwiewiora/repos/MSM/11707_11709_SET8_apo/msm_pipeline/dist'"
      ]
     },
     "execution_count": 9,
     "metadata": {},
     "output_type": "execute_result"
    }
   ],
   "source": [
    "pwd"
   ]
  },
  {
   "cell_type": "code",
   "execution_count": 10,
   "metadata": {
    "collapsed": true
   },
   "outputs": [],
   "source": [
    "# let's plot all 50 tics vs distance index\n",
    "# and let's also look at these 1000 distances - which regions are they in between?"
   ]
  },
  {
   "cell_type": "code",
   "execution_count": 185,
   "metadata": {
    "collapsed": true
   },
   "outputs": [],
   "source": [
    "for i in range(50):\n",
    "    plt.figure()\n",
    "    plt.plot(eigenvec[:,i])\n",
    "    plt.xlabel('Distance index')\n",
    "    plt.ylabel('tic%s eiqenvector' % i)\n",
    "    plt.savefig('tica/eigenv/tic%s.png' % i, dpi=300)\n",
    "    plt.close()"
   ]
  },
  {
   "cell_type": "code",
   "execution_count": 12,
   "metadata": {
    "collapsed": false
   },
   "outputs": [
    {
     "data": {
      "text/plain": [
       "array([ 16, 121])"
      ]
     },
     "execution_count": 12,
     "metadata": {},
     "output_type": "execute_result"
    }
   ],
   "source": [
    "distances[0]"
   ]
  },
  {
   "cell_type": "code",
   "execution_count": 13,
   "metadata": {
    "collapsed": true
   },
   "outputs": [],
   "source": [
    "# let's make a 2D figure 161 x 161 imshow, have ones where there is a distance we consider, zero where there isn't"
   ]
  },
  {
   "cell_type": "code",
   "execution_count": 14,
   "metadata": {
    "collapsed": true
   },
   "outputs": [],
   "source": [
    "# then can mark the distances important for particular tics on that chart"
   ]
  },
  {
   "cell_type": "code",
   "execution_count": 26,
   "metadata": {
    "collapsed": false
   },
   "outputs": [],
   "source": [
    "distances_matrix = np.zeros((162, 162))"
   ]
  },
  {
   "cell_type": "code",
   "execution_count": 27,
   "metadata": {
    "collapsed": false
   },
   "outputs": [],
   "source": [
    "for x in distances:\n",
    "    distances_matrix[x[0], x[1]] = 1\n",
    "    distances_matrix[x[1], x[0]] = 1"
   ]
  },
  {
   "cell_type": "code",
   "execution_count": 28,
   "metadata": {
    "collapsed": false
   },
   "outputs": [],
   "source": [
    "plt.figure()\n",
    "plt.imshow(distances_matrix, cmap='Blues')\n",
    "plt.savefig('tica/1000dist.png', dpi=300)\n",
    "plt.close()"
   ]
  },
  {
   "cell_type": "code",
   "execution_count": 30,
   "metadata": {
    "collapsed": true
   },
   "outputs": [],
   "source": [
    "# ok that looks good - now look at tic0 and tic1 and take top some number of distances - plot on the imshow to see\n",
    "# what they are between - analyze most promising ones in Pymol"
   ]
  },
  {
   "cell_type": "code",
   "execution_count": 33,
   "metadata": {
    "collapsed": false
   },
   "outputs": [],
   "source": [
    "# tic0 - let's take all distances above 1 and below -1"
   ]
  },
  {
   "cell_type": "code",
   "execution_count": 34,
   "metadata": {
    "collapsed": true
   },
   "outputs": [],
   "source": [
    "tic0_distances = []\n",
    "\n",
    "for i in range(1000):\n",
    "    if eigenvec[0][i] > 1 or eigenvec[0][i] < -1:\n",
    "        tic0_distances.append(i)"
   ]
  },
  {
   "cell_type": "code",
   "execution_count": 43,
   "metadata": {
    "collapsed": false
   },
   "outputs": [],
   "source": [
    "plt.figure()\n",
    "plt.imshow(distances_matrix, cmap='Blues')\n",
    "for x in tic0_distances:\n",
    "    plt.scatter(distances[x][0], distances[x][1], c='red')\n",
    "plt.savefig('tica/tic0_dist.png', dpi=300)\n",
    "plt.close()"
   ]
  },
  {
   "cell_type": "code",
   "execution_count": 46,
   "metadata": {
    "collapsed": true
   },
   "outputs": [],
   "source": [
    "tic1_distances = []\n",
    "\n",
    "for i in range(1000):\n",
    "    if eigenvec[1][i] > 2 or eigenvec[1][i] < -2:\n",
    "        tic1_distances.append(i)"
   ]
  },
  {
   "cell_type": "code",
   "execution_count": 47,
   "metadata": {
    "collapsed": true
   },
   "outputs": [],
   "source": [
    "plt.figure()\n",
    "plt.imshow(distances_matrix, cmap='Blues')\n",
    "for x in tic1_distances:\n",
    "    plt.scatter(distances[x][0], distances[x][1], c='red')\n",
    "plt.savefig('tica/tic1_dist.png', dpi=300)\n",
    "plt.close()"
   ]
  },
  {
   "cell_type": "code",
   "execution_count": 48,
   "metadata": {
    "collapsed": true
   },
   "outputs": [],
   "source": [
    "tic2_distances = []\n",
    "\n",
    "for i in range(1000):\n",
    "    if eigenvec[2][i] > 2 or eigenvec[2][i] < -2:\n",
    "        tic2_distances.append(i)"
   ]
  },
  {
   "cell_type": "code",
   "execution_count": 49,
   "metadata": {
    "collapsed": true
   },
   "outputs": [],
   "source": [
    "plt.figure()\n",
    "plt.imshow(distances_matrix, cmap='Blues')\n",
    "for x in tic2_distances:\n",
    "    plt.scatter(distances[x][0], distances[x][1], c='red')\n",
    "plt.savefig('tica/tic2_dist.png', dpi=300)\n",
    "plt.close()"
   ]
  },
  {
   "cell_type": "code",
   "execution_count": 50,
   "metadata": {
    "collapsed": true
   },
   "outputs": [],
   "source": [
    "tic3_distances = []\n",
    "\n",
    "for i in range(1000):\n",
    "    if eigenvec[3][i] > 2 or eigenvec[3][i] < -2:\n",
    "        tic3_distances.append(i)"
   ]
  },
  {
   "cell_type": "code",
   "execution_count": 51,
   "metadata": {
    "collapsed": true
   },
   "outputs": [],
   "source": [
    "plt.figure()\n",
    "plt.imshow(distances_matrix, cmap='Blues')\n",
    "for x in tic3_distances:\n",
    "    plt.scatter(distances[x][0], distances[x][1], c='red')\n",
    "plt.savefig('tica/tic3_dist.png', dpi=300)\n",
    "plt.close()"
   ]
  },
  {
   "cell_type": "code",
   "execution_count": 54,
   "metadata": {
    "collapsed": true
   },
   "outputs": [],
   "source": [
    "tic4_distances = []\n",
    "\n",
    "for i in range(1000):\n",
    "    if eigenvec[4][i] > 1 or eigenvec[4][i] < -1:\n",
    "        tic4_distances.append(i)"
   ]
  },
  {
   "cell_type": "code",
   "execution_count": 55,
   "metadata": {
    "collapsed": true
   },
   "outputs": [],
   "source": [
    "plt.figure()\n",
    "plt.imshow(distances_matrix, cmap='Blues')\n",
    "for x in tic4_distances:\n",
    "    plt.scatter(distances[x][0], distances[x][1], c='red')\n",
    "plt.savefig('tica/tic4_dist.png', dpi=300)\n",
    "plt.close()"
   ]
  },
  {
   "cell_type": "code",
   "execution_count": 56,
   "metadata": {
    "collapsed": true
   },
   "outputs": [],
   "source": [
    "# ok let's have a look in Pymol - tic0 first"
   ]
  },
  {
   "cell_type": "code",
   "execution_count": 58,
   "metadata": {
    "collapsed": false
   },
   "outputs": [],
   "source": [
    "tic0_distances = []\n",
    "\n",
    "for i in range(1000):\n",
    "    if eigenvec[0][i] > 1 or eigenvec[0][i] < -1:\n",
    "        tic0_distances.append(i)\n",
    "        \n",
    "tic0_distances_resindex = []\n",
    "\n",
    "for x in tic0_distances:\n",
    "    tic0_distances_resindex.append(distances[x])"
   ]
  },
  {
   "cell_type": "code",
   "execution_count": 59,
   "metadata": {
    "collapsed": false
   },
   "outputs": [
    {
     "data": {
      "text/plain": [
       "[array([ 7, 12]),\n",
       " array([ 80, 107]),\n",
       " array([157, 161]),\n",
       " array([ 80, 108]),\n",
       " array([148, 159]),\n",
       " array([57, 97]),\n",
       " array([111, 133]),\n",
       " array([ 71, 158]),\n",
       " array([63, 67]),\n",
       " array([67, 97]),\n",
       " array([59, 91]),\n",
       " array([73, 83]),\n",
       " array([54, 95]),\n",
       " array([ 90, 152]),\n",
       " array([115, 148]),\n",
       " array([ 71, 149]),\n",
       " array([100, 104]),\n",
       " array([113, 133]),\n",
       " array([18, 21]),\n",
       " array([ 26, 141]),\n",
       " array([74, 81]),\n",
       " array([ 82, 116]),\n",
       " array([ 77, 107]),\n",
       " array([145, 156]),\n",
       " array([ 7, 14]),\n",
       " array([ 79, 104]),\n",
       " array([0, 3]),\n",
       " array([147, 153]),\n",
       " array([129, 141]),\n",
       " array([ 68, 156]),\n",
       " array([ 90, 154]),\n",
       " array([72, 79]),\n",
       " array([3, 9]),\n",
       " array([ 68, 157]),\n",
       " array([ 47, 132]),\n",
       " array([  4, 122]),\n",
       " array([ 12, 117]),\n",
       " array([  8, 120]),\n",
       " array([ 65, 158]),\n",
       " array([110, 159]),\n",
       " array([ 4, 49]),\n",
       " array([ 90, 157]),\n",
       " array([37, 77]),\n",
       " array([ 2, 16]),\n",
       " array([ 3, 11]),\n",
       " array([ 2, 20]),\n",
       " array([108, 153]),\n",
       " array([ 65, 155]),\n",
       " array([ 0, 10]),\n",
       " array([15, 19]),\n",
       " array([23, 26]),\n",
       " array([ 86, 125]),\n",
       " array([ 4, 20]),\n",
       " array([24, 55]),\n",
       " array([ 81, 143]),\n",
       " array([ 67, 155]),\n",
       " array([2, 9]),\n",
       " array([  4, 120]),\n",
       " array([ 83, 147]),\n",
       " array([ 82, 129]),\n",
       " array([119, 124]),\n",
       " array([32, 35]),\n",
       " array([ 1, 19]),\n",
       " array([ 84, 116]),\n",
       " array([14, 19])]"
      ]
     },
     "execution_count": 59,
     "metadata": {},
     "output_type": "execute_result"
    }
   ],
   "source": [
    "tic0_distances_resindex"
   ]
  },
  {
   "cell_type": "code",
   "execution_count": 60,
   "metadata": {
    "collapsed": false
   },
   "outputs": [
    {
     "data": {
      "text/plain": [
       "65"
      ]
     },
     "execution_count": 60,
     "metadata": {},
     "output_type": "execute_result"
    }
   ],
   "source": [
    "len(tic0_distances_resindex)"
   ]
  },
  {
   "cell_type": "code",
   "execution_count": 61,
   "metadata": {
    "collapsed": true
   },
   "outputs": [],
   "source": [
    "tic0_distances_resindex_toanalyze = []\n",
    "\n",
    "for x in tic0_distances_resindex:\n",
    "    if (x[0] >= 59 and x[0] <= 94 and x[1] >= 145) or (x[1] >= 59 and x[1] <= 94 and x[0] >= 145):\n",
    "        tic0_distances_resindex_toanalyze.append(x)"
   ]
  },
  {
   "cell_type": "code",
   "execution_count": 62,
   "metadata": {
    "collapsed": false
   },
   "outputs": [
    {
     "data": {
      "text/plain": [
       "11"
      ]
     },
     "execution_count": 62,
     "metadata": {},
     "output_type": "execute_result"
    }
   ],
   "source": [
    "len(tic0_distances_resindex_toanalyze)"
   ]
  },
  {
   "cell_type": "code",
   "execution_count": 63,
   "metadata": {
    "collapsed": false
   },
   "outputs": [
    {
     "data": {
      "text/plain": [
       "[array([ 71, 158]),\n",
       " array([ 90, 152]),\n",
       " array([ 71, 149]),\n",
       " array([ 68, 156]),\n",
       " array([ 90, 154]),\n",
       " array([ 68, 157]),\n",
       " array([ 65, 158]),\n",
       " array([ 90, 157]),\n",
       " array([ 65, 155]),\n",
       " array([ 67, 155]),\n",
       " array([ 83, 147])]"
      ]
     },
     "execution_count": 63,
     "metadata": {},
     "output_type": "execute_result"
    }
   ],
   "source": [
    "tic0_distances_resindex_toanalyze"
   ]
  },
  {
   "cell_type": "code",
   "execution_count": 64,
   "metadata": {
    "collapsed": true
   },
   "outputs": [],
   "source": [
    "# now same for tic1"
   ]
  },
  {
   "cell_type": "code",
   "execution_count": 69,
   "metadata": {
    "collapsed": true
   },
   "outputs": [],
   "source": [
    "tic1_distances = []\n",
    "\n",
    "for i in range(1000):\n",
    "    if eigenvec[1][i] > 2 or eigenvec[1][i] < -2:\n",
    "        tic1_distances.append(i)\n",
    "        \n",
    "tic1_distances_resindex = []\n",
    "\n",
    "for x in tic1_distances:\n",
    "    tic1_distances_resindex.append(distances[x])"
   ]
  },
  {
   "cell_type": "code",
   "execution_count": 70,
   "metadata": {
    "collapsed": true
   },
   "outputs": [],
   "source": [
    "tic1_distances_resindex_toanalyze = []\n",
    "\n",
    "for x in tic1_distances_resindex:\n",
    "    if (x[0] >= 59 and x[0] <= 94 and x[1] >= 145) or (x[1] >= 59 and x[1] <= 94 and x[0] >= 145):\n",
    "        tic1_distances_resindex_toanalyze.append(x)"
   ]
  },
  {
   "cell_type": "code",
   "execution_count": 71,
   "metadata": {
    "collapsed": false
   },
   "outputs": [
    {
     "data": {
      "text/plain": [
       "7"
      ]
     },
     "execution_count": 71,
     "metadata": {},
     "output_type": "execute_result"
    }
   ],
   "source": [
    "len(tic1_distances_resindex_toanalyze)"
   ]
  },
  {
   "cell_type": "code",
   "execution_count": 73,
   "metadata": {
    "collapsed": false
   },
   "outputs": [
    {
     "data": {
      "text/plain": [
       "[array([ 68, 160]),\n",
       " array([ 71, 160]),\n",
       " array([ 84, 156]),\n",
       " array([ 90, 161]),\n",
       " array([ 77, 158]),\n",
       " array([ 88, 157]),\n",
       " array([ 68, 161])]"
      ]
     },
     "execution_count": 73,
     "metadata": {},
     "output_type": "execute_result"
    }
   ],
   "source": [
    "tic1_distances_resindex_toanalyze"
   ]
  },
  {
   "cell_type": "code",
   "execution_count": 74,
   "metadata": {
    "collapsed": true
   },
   "outputs": [],
   "source": [
    "# alright last thing now - plot starting structures on more tics"
   ]
  },
  {
   "cell_type": "code",
   "execution_count": 77,
   "metadata": {
    "collapsed": true
   },
   "outputs": [],
   "source": [
    "initial_conformations_tica = np.load('tica/starting_structures/initial_conformations_tica.npy')"
   ]
  },
  {
   "cell_type": "code",
   "execution_count": 88,
   "metadata": {
    "collapsed": true
   },
   "outputs": [],
   "source": [
    "initial_conformations_tica = initial_conformations_tica[0]"
   ]
  },
  {
   "cell_type": "code",
   "execution_count": 89,
   "metadata": {
    "collapsed": true
   },
   "outputs": [],
   "source": [
    "tic0_ = [x[:,0] for x in tica_proj]\n",
    "tic1_ = [x[:,2] for x in tica_proj]\n",
    "\n",
    "tic0 = []\n",
    "tic1 = []\n",
    "\n",
    "for x in tic0_:\n",
    "    for y in x:\n",
    "        tic0.append(y)\n",
    "for x in tic1_:\n",
    "    for y in x:\n",
    "        tic1.append(y) \n",
    "\n",
    "plt.figure()\n",
    "plt.hist2d(tic0, tic1, cmap='Blues', bins=100, norm=matplotlib.colors.LogNorm(), weights=[1/len(tic0)]*len(tic0))\n",
    "plt.xlabel('tIC0')\n",
    "plt.ylabel('tIC2')\n",
    "plt.colorbar()\n",
    "plt.scatter(initial_conformations_tica[:,0], initial_conformations_tica[:,2], c='red')\n",
    "plt.savefig('tica/initial_conformations_on_tic02.png', dpi=300)\n",
    "plt.close()"
   ]
  },
  {
   "cell_type": "code",
   "execution_count": 90,
   "metadata": {
    "collapsed": true
   },
   "outputs": [],
   "source": [
    "tic0_ = [x[:,0] for x in tica_proj]\n",
    "tic1_ = [x[:,3] for x in tica_proj]\n",
    "\n",
    "tic0 = []\n",
    "tic1 = []\n",
    "\n",
    "for x in tic0_:\n",
    "    for y in x:\n",
    "        tic0.append(y)\n",
    "for x in tic1_:\n",
    "    for y in x:\n",
    "        tic1.append(y) \n",
    "\n",
    "plt.figure()\n",
    "plt.hist2d(tic0, tic1, cmap='Blues', bins=100, norm=matplotlib.colors.LogNorm(), weights=[1/len(tic0)]*len(tic0))\n",
    "plt.xlabel('tIC0')\n",
    "plt.ylabel('tIC3')\n",
    "plt.colorbar()\n",
    "plt.scatter(initial_conformations_tica[:,0], initial_conformations_tica[:,3], c='red')\n",
    "plt.savefig('tica/initial_conformations_on_tic03.png', dpi=300)\n",
    "plt.close()"
   ]
  },
  {
   "cell_type": "code",
   "execution_count": 91,
   "metadata": {
    "collapsed": true
   },
   "outputs": [],
   "source": [
    "tic0_ = [x[:,0] for x in tica_proj]\n",
    "tic1_ = [x[:,4] for x in tica_proj]\n",
    "\n",
    "tic0 = []\n",
    "tic1 = []\n",
    "\n",
    "for x in tic0_:\n",
    "    for y in x:\n",
    "        tic0.append(y)\n",
    "for x in tic1_:\n",
    "    for y in x:\n",
    "        tic1.append(y) \n",
    "\n",
    "plt.figure()\n",
    "plt.hist2d(tic0, tic1, cmap='Blues', bins=100, norm=matplotlib.colors.LogNorm(), weights=[1/len(tic0)]*len(tic0))\n",
    "plt.xlabel('tIC0')\n",
    "plt.ylabel('tIC4')\n",
    "plt.colorbar()\n",
    "plt.scatter(initial_conformations_tica[:,0], initial_conformations_tica[:,4], c='red')\n",
    "plt.savefig('tica/initial_conformations_on_tic04.png', dpi=300)\n",
    "plt.close()"
   ]
  },
  {
   "cell_type": "code",
   "execution_count": 92,
   "metadata": {
    "collapsed": true
   },
   "outputs": [],
   "source": [
    "tic0_ = [x[:,1] for x in tica_proj]\n",
    "tic1_ = [x[:,2] for x in tica_proj]\n",
    "\n",
    "tic0 = []\n",
    "tic1 = []\n",
    "\n",
    "for x in tic0_:\n",
    "    for y in x:\n",
    "        tic0.append(y)\n",
    "for x in tic1_:\n",
    "    for y in x:\n",
    "        tic1.append(y) \n",
    "\n",
    "plt.figure()\n",
    "plt.hist2d(tic0, tic1, cmap='Blues', bins=100, norm=matplotlib.colors.LogNorm(), weights=[1/len(tic0)]*len(tic0))\n",
    "plt.xlabel('tIC1')\n",
    "plt.ylabel('tIC2')\n",
    "plt.colorbar()\n",
    "plt.scatter(initial_conformations_tica[:,1], initial_conformations_tica[:,2], c='red')\n",
    "plt.savefig('tica/initial_conformations_on_tic12.png', dpi=300)\n",
    "plt.close()"
   ]
  },
  {
   "cell_type": "code",
   "execution_count": 93,
   "metadata": {
    "collapsed": true
   },
   "outputs": [],
   "source": [
    "tic0_ = [x[:,1] for x in tica_proj]\n",
    "tic1_ = [x[:,3] for x in tica_proj]\n",
    "\n",
    "tic0 = []\n",
    "tic1 = []\n",
    "\n",
    "for x in tic0_:\n",
    "    for y in x:\n",
    "        tic0.append(y)\n",
    "for x in tic1_:\n",
    "    for y in x:\n",
    "        tic1.append(y) \n",
    "\n",
    "plt.figure()\n",
    "plt.hist2d(tic0, tic1, cmap='Blues', bins=100, norm=matplotlib.colors.LogNorm(), weights=[1/len(tic0)]*len(tic0))\n",
    "plt.xlabel('tIC1')\n",
    "plt.ylabel('tIC3')\n",
    "plt.colorbar()\n",
    "plt.scatter(initial_conformations_tica[:,1], initial_conformations_tica[:,3], c='red')\n",
    "plt.savefig('tica/initial_conformations_on_tic13.png', dpi=300)\n",
    "plt.close()"
   ]
  },
  {
   "cell_type": "code",
   "execution_count": 94,
   "metadata": {
    "collapsed": true
   },
   "outputs": [],
   "source": [
    "tic0_ = [x[:,1] for x in tica_proj]\n",
    "tic1_ = [x[:,4] for x in tica_proj]\n",
    "\n",
    "tic0 = []\n",
    "tic1 = []\n",
    "\n",
    "for x in tic0_:\n",
    "    for y in x:\n",
    "        tic0.append(y)\n",
    "for x in tic1_:\n",
    "    for y in x:\n",
    "        tic1.append(y) \n",
    "\n",
    "plt.figure()\n",
    "plt.hist2d(tic0, tic1, cmap='Blues', bins=100, norm=matplotlib.colors.LogNorm(), weights=[1/len(tic0)]*len(tic0))\n",
    "plt.xlabel('tIC1')\n",
    "plt.ylabel('tIC4')\n",
    "plt.colorbar()\n",
    "plt.scatter(initial_conformations_tica[:,1], initial_conformations_tica[:,4], c='red')\n",
    "plt.savefig('tica/initial_conformations_on_tic14.png', dpi=300)\n",
    "plt.close()"
   ]
  },
  {
   "cell_type": "code",
   "execution_count": 96,
   "metadata": {
    "collapsed": true
   },
   "outputs": [],
   "source": [
    "# back here - we have sparse tica calculating on the cluster - let's plot all 2D combinations of tics 0-9, with starting\n",
    "# structures\n",
    "\n",
    "# then plot distances colored by eigenvector weight for tics 0-9"
   ]
  },
  {
   "cell_type": "code",
   "execution_count": 98,
   "metadata": {
    "collapsed": true
   },
   "outputs": [],
   "source": [
    "# also we have sparse tica done - look at the eigenvectors - actually not yet, the eigenvectors take a while\n",
    "# back to the above"
   ]
  },
  {
   "cell_type": "code",
   "execution_count": 99,
   "metadata": {
    "collapsed": true
   },
   "outputs": [],
   "source": [
    "initial_conformations_tica = np.load('tica/starting_structures/initial_conformations_tica.npy')\n",
    "initial_conformations_tica = initial_conformations_tica[0]"
   ]
  },
  {
   "cell_type": "code",
   "execution_count": 108,
   "metadata": {
    "collapsed": false
   },
   "outputs": [],
   "source": [
    "tic0_ = [x[:,0] for x in tica_proj]\n",
    "tic1_ = [x[:,2] for x in tica_proj]\n",
    "\n",
    "tic0 = []\n",
    "tic1 = []\n",
    "\n",
    "for x in tic0_:\n",
    "    for y in x:\n",
    "        tic0.append(y)\n",
    "for x in tic1_:\n",
    "    for y in x:\n",
    "        tic1.append(y) \n",
    "\n",
    "plt.figure()\n",
    "plt.hist2d(tic0, tic1, cmap='Blues', bins=100, norm=matplotlib.colors.LogNorm(), weights=[1/len(tic0)]*len(tic0))\n",
    "plt.xlabel('tIC0')\n",
    "plt.ylabel('tIC2')\n",
    "plt.colorbar()\n",
    "plt.scatter(initial_conformations_tica[0,0], initial_conformations_tica[0,2], marker='o', c='red')\n",
    "plt.scatter(initial_conformations_tica[1,0], initial_conformations_tica[1,2], marker='x', c='red')\n",
    "plt.scatter(initial_conformations_tica[2,0], initial_conformations_tica[2,2], marker='*', c='red')\n",
    "plt.scatter(initial_conformations_tica[3,0], initial_conformations_tica[3,2], marker='s', c='red')\n",
    "plt.scatter(initial_conformations_tica[4,0], initial_conformations_tica[4,2], marker='^', c='red')\n",
    "plt.scatter(initial_conformations_tica[5,0], initial_conformations_tica[5,2], marker='+', c = 'red')\n",
    "plt.savefig('tica/initial_conformations_on_test.png', dpi=300)\n",
    "plt.close()"
   ]
  },
  {
   "cell_type": "code",
   "execution_count": null,
   "metadata": {
    "collapsed": true
   },
   "outputs": [],
   "source": [
    "# test works good - let's do this for all combinations of tics 0-9"
   ]
  },
  {
   "cell_type": "code",
   "execution_count": 132,
   "metadata": {
    "collapsed": true
   },
   "outputs": [],
   "source": [
    "import itertools"
   ]
  },
  {
   "cell_type": "code",
   "execution_count": 137,
   "metadata": {
    "collapsed": false
   },
   "outputs": [],
   "source": [
    "combinations = itertools.combinations(range(10),2)"
   ]
  },
  {
   "cell_type": "code",
   "execution_count": 139,
   "metadata": {
    "collapsed": true
   },
   "outputs": [],
   "source": [
    "combinations = itertools.combinations(range(10),2)\n",
    "\n",
    "for (i,j) in combinations:\n",
    "    tic0_ = [x[:,i] for x in tica_proj]\n",
    "    tic1_ = [x[:,j] for x in tica_proj]\n",
    "\n",
    "    tic0 = []\n",
    "    tic1 = []\n",
    "\n",
    "    for x in tic0_:\n",
    "        for y in x:\n",
    "            tic0.append(y)\n",
    "    for x in tic1_:\n",
    "        for y in x:\n",
    "            tic1.append(y) \n",
    "\n",
    "    plt.figure()\n",
    "    plt.hist2d(tic0, tic1, cmap='Blues', bins=100, norm=matplotlib.colors.LogNorm(), weights=[1/len(tic0)]*len(tic0))\n",
    "    plt.xlabel('tIC%d' % i)\n",
    "    plt.ylabel('tIC%d' % j)\n",
    "    plt.colorbar()\n",
    "    plt.scatter(initial_conformations_tica[0,i], initial_conformations_tica[0,j], marker='o', c='red')\n",
    "    plt.scatter(initial_conformations_tica[1,i], initial_conformations_tica[1,j], marker='x', c='red')\n",
    "    plt.scatter(initial_conformations_tica[2,i], initial_conformations_tica[2,j], marker='*', c='red')\n",
    "    plt.scatter(initial_conformations_tica[3,i], initial_conformations_tica[3,j], marker='s', c='red')\n",
    "    plt.scatter(initial_conformations_tica[4,i], initial_conformations_tica[4,j], marker='^', c='red')\n",
    "    plt.scatter(initial_conformations_tica[5,i], initial_conformations_tica[5,j], marker='+', c = 'red')\n",
    "    plt.savefig('tica/2d_tics_initial_conf/tic%d-tic%d.png' % (i,j), dpi=300)\n",
    "    plt.close()"
   ]
  },
  {
   "cell_type": "code",
   "execution_count": 109,
   "metadata": {
    "collapsed": true
   },
   "outputs": [],
   "source": [
    "# look at the sparse eigenvectors"
   ]
  },
  {
   "cell_type": "code",
   "execution_count": 110,
   "metadata": {
    "collapsed": true
   },
   "outputs": [],
   "source": [
    "sparse_eigenv = np.load('tica/sparse_eigenvectors.npy')"
   ]
  },
  {
   "cell_type": "code",
   "execution_count": 116,
   "metadata": {
    "collapsed": false
   },
   "outputs": [],
   "source": [
    "sparse_eigenv2 = np.transpose(sparse_eigenv)"
   ]
  },
  {
   "cell_type": "code",
   "execution_count": 117,
   "metadata": {
    "collapsed": false
   },
   "outputs": [
    {
     "data": {
      "text/plain": [
       "(50, 1000)"
      ]
     },
     "execution_count": 117,
     "metadata": {},
     "output_type": "execute_result"
    }
   ],
   "source": [
    "sparse_eigenv2.shape"
   ]
  },
  {
   "cell_type": "code",
   "execution_count": 118,
   "metadata": {
    "collapsed": true
   },
   "outputs": [],
   "source": [
    "for i in range(50):\n",
    "    plt.figure()\n",
    "    plt.plot(sparse_eigenv2[i])\n",
    "    plt.xlabel('Distance index')\n",
    "    plt.ylabel('tic%s eiqenvector' % i)\n",
    "    plt.savefig('tica/sparse_eigenv/tic%s.png' % i, dpi=300)\n",
    "    plt.close()"
   ]
  },
  {
   "cell_type": "code",
   "execution_count": null,
   "metadata": {
    "collapsed": true
   },
   "outputs": [],
   "source": [
    "# ok this is a bit weird - doesn't match with the pyemma tica - let's run msmbuilder normal tica on this X and compare"
   ]
  },
  {
   "cell_type": "code",
   "execution_count": 140,
   "metadata": {
    "collapsed": true
   },
   "outputs": [],
   "source": [
    "# ok got the eigenvectors for msmbuilder tica - let's plot and compare"
   ]
  },
  {
   "cell_type": "code",
   "execution_count": 142,
   "metadata": {
    "collapsed": false
   },
   "outputs": [],
   "source": [
    "#plt.figure()\n",
    "#plt.scatter(initial_conformations_tica[0,i], initial_conformations_tica[0,j], marker='o', c='red')\n",
    "#plt.scatter(initial_conformations_tica[1,i], initial_conformations_tica[1,j], marker='x', c='red')\n",
    "#plt.scatter(initial_conformations_tica[2,i], initial_conformations_tica[2,j], marker='*', c='red')\n",
    "#plt.scatter(initial_conformations_tica[3,i], initial_conformations_tica[3,j], marker='s', c='red')\n",
    "#plt.scatter(initial_conformations_tica[4,i], initial_conformations_tica[4,j], marker='^', c='red')\n",
    "#plt.scatter(initial_conformations_tica[5,i], initial_conformations_tica[5,j], marker='+', c = 'red')\n",
    "#plt.savefig('tica/2d_tics_initial_conf/test.png', dpi=300)\n",
    "#plt.close()"
   ]
  },
  {
   "cell_type": "code",
   "execution_count": 143,
   "metadata": {
    "collapsed": true
   },
   "outputs": [],
   "source": [
    "# load and plot normal tiCA eigenvectors from msmbuilder"
   ]
  },
  {
   "cell_type": "code",
   "execution_count": 144,
   "metadata": {
    "collapsed": true
   },
   "outputs": [],
   "source": [
    "msmb_eigenv = np.load('tica/eigenvectors_msmbuilder.npy')"
   ]
  },
  {
   "cell_type": "code",
   "execution_count": 145,
   "metadata": {
    "collapsed": true
   },
   "outputs": [],
   "source": [
    "msmb_eigenv2 = np.transpose(msmb_eigenv)"
   ]
  },
  {
   "cell_type": "code",
   "execution_count": 147,
   "metadata": {
    "collapsed": false
   },
   "outputs": [
    {
     "data": {
      "text/plain": [
       "(50, 1000)"
      ]
     },
     "execution_count": 147,
     "metadata": {},
     "output_type": "execute_result"
    }
   ],
   "source": [
    "msmb_eigenv2.shape"
   ]
  },
  {
   "cell_type": "code",
   "execution_count": 148,
   "metadata": {
    "collapsed": true
   },
   "outputs": [],
   "source": [
    "for i in range(50):\n",
    "    plt.figure()\n",
    "    plt.plot(msmb_eigenv2[i])\n",
    "    plt.xlabel('Distance index')\n",
    "    plt.ylabel('tic%s eiqenvector' % i)\n",
    "    plt.savefig('tica/msmb_eigenv/tic%s.png' % i, dpi=300)\n",
    "    plt.close()"
   ]
  },
  {
   "cell_type": "code",
   "execution_count": 149,
   "metadata": {
    "collapsed": true
   },
   "outputs": [],
   "source": [
    "# ok so we have a total disagreement between eigenvectors from PyEMMA and MSMBuilder tica - let's re-do both here \n",
    "# on the freshest code versions"
   ]
  },
  {
   "cell_type": "code",
   "execution_count": 150,
   "metadata": {
    "collapsed": true
   },
   "outputs": [],
   "source": [
    "import pyemma\n",
    "import msmbuilder"
   ]
  },
  {
   "cell_type": "code",
   "execution_count": 152,
   "metadata": {
    "collapsed": false
   },
   "outputs": [],
   "source": [
    "X = list(np.load('X.npy', encoding='bytes'))"
   ]
  },
  {
   "cell_type": "code",
   "execution_count": 153,
   "metadata": {
    "collapsed": true
   },
   "outputs": [],
   "source": [
    "tica_pyemma = pyemma.coordinates.tica(X, lag=50, kinetic_map=True, dim=50)"
   ]
  },
  {
   "cell_type": "code",
   "execution_count": 154,
   "metadata": {
    "collapsed": true
   },
   "outputs": [],
   "source": [
    "from msmbuilder import decomposition"
   ]
  },
  {
   "cell_type": "code",
   "execution_count": 155,
   "metadata": {
    "collapsed": true
   },
   "outputs": [],
   "source": [
    "tica_msmbuilder = msmbuilder.decomposition.tICA(n_components=50, lag_time=50, kinetic_mapping=True)"
   ]
  },
  {
   "cell_type": "code",
   "execution_count": 163,
   "metadata": {
    "collapsed": false
   },
   "outputs": [
    {
     "name": "stderr",
     "output_type": "stream",
     "text": [
      "/Users/rafalpwiewiora/anaconda3/lib/python3.5/site-packages/msmbuilder/decomposition/tica.py:405: UserWarning: The number of features (550) is greater than the length of the data (1000). The covariance matrix is not guaranteed to be positive definite.\n",
      "  warnings.warn(\"The number of features (%d) is greater than the length of the data (%d). The covariance matrix is not guaranteed to be positive definite.\" % (X.shape[0], X.shape[1]))\n",
      "/Users/rafalpwiewiora/anaconda3/lib/python3.5/site-packages/msmbuilder/decomposition/tica.py:405: UserWarning: The number of features (939) is greater than the length of the data (1000). The covariance matrix is not guaranteed to be positive definite.\n",
      "  warnings.warn(\"The number of features (%d) is greater than the length of the data (%d). The covariance matrix is not guaranteed to be positive definite.\" % (X.shape[0], X.shape[1]))\n",
      "/Users/rafalpwiewiora/anaconda3/lib/python3.5/site-packages/msmbuilder/decomposition/tica.py:405: UserWarning: The number of features (340) is greater than the length of the data (1000). The covariance matrix is not guaranteed to be positive definite.\n",
      "  warnings.warn(\"The number of features (%d) is greater than the length of the data (%d). The covariance matrix is not guaranteed to be positive definite.\" % (X.shape[0], X.shape[1]))\n",
      "/Users/rafalpwiewiora/anaconda3/lib/python3.5/site-packages/msmbuilder/decomposition/tica.py:405: UserWarning: The number of features (910) is greater than the length of the data (1000). The covariance matrix is not guaranteed to be positive definite.\n",
      "  warnings.warn(\"The number of features (%d) is greater than the length of the data (%d). The covariance matrix is not guaranteed to be positive definite.\" % (X.shape[0], X.shape[1]))\n"
     ]
    },
    {
     "data": {
      "text/plain": [
       "tICA(commute_mapping=False, kinetic_mapping=True, lag_time=50,\n",
       "   n_components=50, shrinkage=None)"
      ]
     },
     "execution_count": 163,
     "metadata": {},
     "output_type": "execute_result"
    }
   ],
   "source": [
    "tica_msmbuilder.fit(X)"
   ]
  },
  {
   "cell_type": "code",
   "execution_count": 164,
   "metadata": {
    "collapsed": true
   },
   "outputs": [],
   "source": [
    "tica_pyemma_eigenv = tica_pyemma.eigenvectors"
   ]
  },
  {
   "cell_type": "code",
   "execution_count": 167,
   "metadata": {
    "collapsed": false
   },
   "outputs": [
    {
     "data": {
      "text/plain": [
       "(1000, 1000)"
      ]
     },
     "execution_count": 167,
     "metadata": {},
     "output_type": "execute_result"
    }
   ],
   "source": [
    "tica_pyemma_eigenv.shape"
   ]
  },
  {
   "cell_type": "code",
   "execution_count": 168,
   "metadata": {
    "collapsed": true
   },
   "outputs": [],
   "source": [
    "tica_msmbuilder_eigenv = tica_msmbuilder.eigenvectors_"
   ]
  },
  {
   "cell_type": "code",
   "execution_count": 169,
   "metadata": {
    "collapsed": false
   },
   "outputs": [
    {
     "data": {
      "text/plain": [
       "(1000, 50)"
      ]
     },
     "execution_count": 169,
     "metadata": {},
     "output_type": "execute_result"
    }
   ],
   "source": [
    "tica_msmbuilder_eigenv.shape"
   ]
  },
  {
   "cell_type": "code",
   "execution_count": 170,
   "metadata": {
    "collapsed": true
   },
   "outputs": [],
   "source": [
    "plt.figure()\n",
    "plt.plot(tica_pyemma_eigenv[:, 0])\n",
    "plt.savefig('tica/debug/tica_pyemma_0.png')"
   ]
  },
  {
   "cell_type": "code",
   "execution_count": 171,
   "metadata": {
    "collapsed": true
   },
   "outputs": [],
   "source": [
    "plt.figure()\n",
    "plt.plot(tica_msmbuilder_eigenv[:, 0])\n",
    "plt.savefig('tica/debug/tica_msmbuilder_0.png')"
   ]
  },
  {
   "cell_type": "code",
   "execution_count": 172,
   "metadata": {
    "collapsed": true
   },
   "outputs": [],
   "source": [
    "plt.figure()\n",
    "plt.plot(tica_pyemma_eigenv[0, :])\n",
    "plt.savefig('tica/debug/tica_pyemma_0_.png')"
   ]
  },
  {
   "cell_type": "code",
   "execution_count": 173,
   "metadata": {
    "collapsed": true
   },
   "outputs": [],
   "source": [
    "# ok mystery solved - I was plotting THE WRONG AXIS"
   ]
  },
  {
   "cell_type": "code",
   "execution_count": 174,
   "metadata": {
    "collapsed": true
   },
   "outputs": [],
   "source": [
    "del X"
   ]
  },
  {
   "cell_type": "code",
   "execution_count": 186,
   "metadata": {
    "collapsed": true
   },
   "outputs": [],
   "source": [
    "# ok so everything agrees - and any of the distance intepretations before WERE WRONG"
   ]
  },
  {
   "cell_type": "code",
   "execution_count": 187,
   "metadata": {
    "collapsed": true
   },
   "outputs": [],
   "source": [
    "# ok so first - make new intepretations of tic0 and tic1 - look in pymol - then move onto sparse\n",
    "# also do distances colored by tics - now we have the right ones"
   ]
  },
  {
   "cell_type": "code",
   "execution_count": 188,
   "metadata": {
    "collapsed": true
   },
   "outputs": [],
   "source": [
    "# distances - 50 tics - colored by weight for normal tica\n",
    "# distances - 50 tics - red marked the distances in tics"
   ]
  },
  {
   "cell_type": "code",
   "execution_count": 189,
   "metadata": {
    "collapsed": true
   },
   "outputs": [],
   "source": [
    "# then we can do analysis of tic0 and tic1 for both normal and sparse tica"
   ]
  },
  {
   "cell_type": "code",
   "execution_count": 190,
   "metadata": {
    "collapsed": true
   },
   "outputs": [],
   "source": [
    "# alright - let's do distances - colored by tica coeff"
   ]
  },
  {
   "cell_type": "code",
   "execution_count": 3,
   "metadata": {
    "collapsed": true
   },
   "outputs": [],
   "source": [
    "distances = np.load('tica/respairs_that_changed.npy')\n",
    "\n",
    "distances_matrix = np.zeros((162, 162))\n",
    "\n",
    "for x in distances:\n",
    "    distances_matrix[x[0], x[1]] = 1\n",
    "    distances_matrix[x[1], x[0]] = 1"
   ]
  },
  {
   "cell_type": "code",
   "execution_count": 4,
   "metadata": {
    "collapsed": false
   },
   "outputs": [
    {
     "data": {
      "text/plain": [
       "array([[ 0.,  0.,  0., ...,  0.,  0.,  0.],\n",
       "       [ 0.,  0.,  0., ...,  0.,  0.,  0.],\n",
       "       [ 0.,  0.,  0., ...,  0.,  0.,  0.],\n",
       "       ..., \n",
       "       [ 0.,  0.,  0., ...,  0.,  0.,  0.],\n",
       "       [ 0.,  0.,  0., ...,  0.,  0.,  0.],\n",
       "       [ 0.,  0.,  0., ...,  0.,  0.,  0.]])"
      ]
     },
     "execution_count": 4,
     "metadata": {},
     "output_type": "execute_result"
    }
   ],
   "source": [
    "distances_matrix"
   ]
  },
  {
   "cell_type": "code",
   "execution_count": 79,
   "metadata": {
    "collapsed": false
   },
   "outputs": [
    {
     "name": "stderr",
     "output_type": "stream",
     "text": [
      "/Users/rafalpwiewiora/anaconda3/lib/python3.5/site-packages/ipykernel/__main__.py:2: RuntimeWarning: divide by zero encountered in log\n",
      "  from ipykernel import kernelapp as app\n"
     ]
    }
   ],
   "source": [
    "plt.figure()\n",
    "plt.imshow(np.log(distances_matrix), cmap='gray')\n",
    "plt.xticks(np.arange(0, 180, 20))\n",
    "plt.yticks(np.arange(0, 180, 20))\n",
    "plt.savefig('tica/1000dist.png', dpi=300)\n",
    "plt.close()"
   ]
  },
  {
   "cell_type": "code",
   "execution_count": 6,
   "metadata": {
    "collapsed": true
   },
   "outputs": [],
   "source": [
    "# now we want to make a new distances_matrix_by_tic0 and _by_tic1 which will not have 1/0, but weights from the \n",
    "# tica eigenvectors"
   ]
  },
  {
   "cell_type": "code",
   "execution_count": 10,
   "metadata": {
    "collapsed": true
   },
   "outputs": [],
   "source": [
    "msmb_eigenv = np.load('tica/eigenvectors_msmbuilder.npy')\n",
    "msmb_eigenv = np.transpose(msmb_eigenv)"
   ]
  },
  {
   "cell_type": "code",
   "execution_count": 14,
   "metadata": {
    "collapsed": false
   },
   "outputs": [
    {
     "data": {
      "text/plain": [
       "(50, 1000)"
      ]
     },
     "execution_count": 14,
     "metadata": {},
     "output_type": "execute_result"
    }
   ],
   "source": [
    "msmb_eigenv.shape"
   ]
  },
  {
   "cell_type": "code",
   "execution_count": 15,
   "metadata": {
    "collapsed": true
   },
   "outputs": [],
   "source": [
    "distances_matrix_by_tic0 = np.zeros((162, 162))\n",
    "distances_matrix_ = distances_matrix_by_tic0\n",
    "tic = 0\n",
    "\n",
    "for i in range(1000):\n",
    "    x = distances[i]\n",
    "    distances_matrix_[x[0], x[1]] = msmb_eigenv[tic, i]\n",
    "    distances_matrix_[x[1], x[0]] = msmb_eigenv[tic, i]"
   ]
  },
  {
   "cell_type": "code",
   "execution_count": 18,
   "metadata": {
    "collapsed": true
   },
   "outputs": [],
   "source": [
    "# great - plot"
   ]
  },
  {
   "cell_type": "code",
   "execution_count": 34,
   "metadata": {
    "collapsed": false
   },
   "outputs": [
    {
     "data": {
      "text/plain": [
       "0.30828768291441905"
      ]
     },
     "execution_count": 34,
     "metadata": {},
     "output_type": "execute_result"
    }
   ],
   "source": [
    "np.max(distances_matrix_by_tic0)"
   ]
  },
  {
   "cell_type": "code",
   "execution_count": 35,
   "metadata": {
    "collapsed": false
   },
   "outputs": [
    {
     "data": {
      "text/plain": [
       "-0.26293093727356776"
      ]
     },
     "execution_count": 35,
     "metadata": {},
     "output_type": "execute_result"
    }
   ],
   "source": [
    "np.min(distances_matrix_by_tic0)"
   ]
  },
  {
   "cell_type": "code",
   "execution_count": 77,
   "metadata": {
    "collapsed": false
   },
   "outputs": [],
   "source": [
    "plt.figure()\n",
    "plt.imshow(distances_matrix_by_tic0, cmap='seismic', vmin=-np.max(distances_matrix_by_tic0), vmax=np.max(distances_matrix_by_tic0))\n",
    "plt.colorbar()\n",
    "plt.xticks(np.arange(0, 180, 20))\n",
    "plt.yticks(np.arange(0, 180, 20))\n",
    "plt.savefig('tica/1000dist_by_tic0.png', dpi=300)\n",
    "plt.close()"
   ]
  },
  {
   "cell_type": "code",
   "execution_count": 78,
   "metadata": {
    "collapsed": false
   },
   "outputs": [
    {
     "name": "stderr",
     "output_type": "stream",
     "text": [
      "/Users/rafalpwiewiora/anaconda3/lib/python3.5/site-packages/ipykernel/__main__.py:2: RuntimeWarning: divide by zero encountered in log10\n",
      "  from ipykernel import kernelapp as app\n"
     ]
    }
   ],
   "source": [
    "plt.figure()\n",
    "plt.imshow(np.log10(np.absolute(distances_matrix_by_tic0)), cmap='Blues')\n",
    "plt.colorbar()\n",
    "plt.xticks(np.arange(0, 180, 20))\n",
    "plt.yticks(np.arange(0, 180, 20))\n",
    "plt.savefig('tica/1000dist_by_tic0_abs_log10.png', dpi=300)\n",
    "plt.close()"
   ]
  },
  {
   "cell_type": "code",
   "execution_count": 81,
   "metadata": {
    "collapsed": true
   },
   "outputs": [],
   "source": [
    "# ok this works great! let's do this for all 50 tics \n",
    "# next - same thing for sparse tica\n",
    "# next - print out the indexes of residues for all 50 tics from sparse\n",
    "# then put that all on drive, send to shi\n",
    "# then - movies along tics - 0 and 1 - send to shi already, then make up to tic9\n",
    "# then - my analysis of the tics"
   ]
  },
  {
   "cell_type": "code",
   "execution_count": 85,
   "metadata": {
    "collapsed": false
   },
   "outputs": [
    {
     "name": "stderr",
     "output_type": "stream",
     "text": [
      "/Users/rafalpwiewiora/anaconda3/lib/python3.5/site-packages/ipykernel/__main__.py:28: RuntimeWarning: divide by zero encountered in log10\n"
     ]
    }
   ],
   "source": [
    "for j in range(50):\n",
    "    tic = j\n",
    "    \n",
    "    distances_matrix_by_tic0 = np.zeros((162, 162))\n",
    "    distances_matrix_ = distances_matrix_by_tic0\n",
    "\n",
    "    for i in range(1000):\n",
    "        x = distances[i]\n",
    "        distances_matrix_[x[0], x[1]] = msmb_eigenv[tic, i]\n",
    "        distances_matrix_[x[1], x[0]] = msmb_eigenv[tic, i]\n",
    "        \n",
    "    if np.abs(np.max(distances_matrix_)) > np.abs(np.min(distances_matrix_)):\n",
    "        vmin = -np.max(distances_matrix_)\n",
    "        vmax = np.max(distances_matrix_)\n",
    "    else:\n",
    "        vmin = np.min(distances_matrix_)\n",
    "        vmax = -np.min(distances_matrix_)\n",
    "    \n",
    "    plt.figure()\n",
    "    plt.imshow(distances_matrix_by_tic0, cmap='seismic', vmin=vmin, vmax=vmax)\n",
    "    plt.colorbar()\n",
    "    plt.xticks(np.arange(0, 180, 20))\n",
    "    plt.yticks(np.arange(0, 180, 20))\n",
    "    plt.savefig('tica/tica_eig_dist/1000dist_by_tic%d.png' % j, dpi=300)\n",
    "    plt.close()\n",
    "    \n",
    "    plt.figure()\n",
    "    plt.imshow(np.log10(np.absolute(distances_matrix_by_tic0)), cmap='Blues')\n",
    "    plt.colorbar()\n",
    "    plt.xticks(np.arange(0, 180, 20))\n",
    "    plt.yticks(np.arange(0, 180, 20))\n",
    "    plt.savefig('tica/tica_eig_dist/1000dist_by_tic%d_abs_log10.png' % j, dpi=300)\n",
    "    plt.close()"
   ]
  },
  {
   "cell_type": "code",
   "execution_count": 86,
   "metadata": {
    "collapsed": true
   },
   "outputs": [],
   "source": [
    "# ok this is great - now do this for sparse"
   ]
  },
  {
   "cell_type": "code",
   "execution_count": 87,
   "metadata": {
    "collapsed": true
   },
   "outputs": [],
   "source": [
    "sparse_eigenv = np.load('tica/sparse_eigenvectors.npy')\n",
    "sparse_eigenv = np.transpose(sparse_eigenv)"
   ]
  },
  {
   "cell_type": "code",
   "execution_count": 89,
   "metadata": {
    "collapsed": false
   },
   "outputs": [
    {
     "name": "stderr",
     "output_type": "stream",
     "text": [
      "/Users/rafalpwiewiora/anaconda3/lib/python3.5/site-packages/ipykernel/__main__.py:28: RuntimeWarning: divide by zero encountered in log10\n"
     ]
    }
   ],
   "source": [
    "for j in range(50):\n",
    "    tic = j\n",
    "    \n",
    "    distances_matrix_by_tic0 = np.zeros((162, 162))\n",
    "    distances_matrix_ = distances_matrix_by_tic0\n",
    "\n",
    "    for i in range(1000):\n",
    "        x = distances[i]\n",
    "        distances_matrix_[x[0], x[1]] = sparse_eigenv[tic, i]\n",
    "        distances_matrix_[x[1], x[0]] = sparse_eigenv[tic, i]\n",
    "        \n",
    "    if np.abs(np.max(distances_matrix_)) > np.abs(np.min(distances_matrix_)):\n",
    "        vmin = -np.max(distances_matrix_)\n",
    "        vmax = np.max(distances_matrix_)\n",
    "    else:\n",
    "        vmin = np.min(distances_matrix_)\n",
    "        vmax = -np.min(distances_matrix_)\n",
    "    \n",
    "    plt.figure()\n",
    "    plt.imshow(distances_matrix_by_tic0, cmap='seismic', vmin=vmin, vmax=vmax)\n",
    "    plt.colorbar()\n",
    "    plt.xticks(np.arange(0, 180, 20))\n",
    "    plt.yticks(np.arange(0, 180, 20))\n",
    "    plt.savefig('tica/sparse_tica_eig_dist/1000dist_by_tic%d.png' % j, dpi=300)\n",
    "    plt.close()\n",
    "    \n",
    "    plt.figure()\n",
    "    plt.imshow(np.log10(np.absolute(distances_matrix_by_tic0)), cmap='Blues')\n",
    "    plt.colorbar()\n",
    "    plt.xticks(np.arange(0, 180, 20))\n",
    "    plt.yticks(np.arange(0, 180, 20))\n",
    "    plt.savefig('tica/sparse_tica_eig_dist/1000dist_by_tic%d_abs_log10.png' % j, dpi=300)\n",
    "    plt.close()"
   ]
  },
  {
   "cell_type": "code",
   "execution_count": 99,
   "metadata": {
    "collapsed": true
   },
   "outputs": [],
   "source": [
    "# now we gotta assemble a list of lists of lists - residue pairs from sparse tica for all 50 tics\n",
    "# WARNING - THEY WILL BE 1-INDEXED"
   ]
  },
  {
   "cell_type": "code",
   "execution_count": 110,
   "metadata": {
    "collapsed": true
   },
   "outputs": [],
   "source": [
    "residue_pairs = []\n",
    "\n",
    "for j in range(50):\n",
    "    residue_pairs.append([])\n",
    "    tic = j\n",
    "    \n",
    "    for i in range(1000):\n",
    "        if sparse_eigenv[tic, i] != 0:\n",
    "            res1 = distances[i,0]\n",
    "            res2 = distances[i,1]\n",
    "            residue_pairs[-1].append(('%s-%d' % (sequence[res1], res1+1), '%s-%d' % (sequence[res2], res2+1), sparse_eigenv[tic, i]))"
   ]
  },
  {
   "cell_type": "code",
   "execution_count": 111,
   "metadata": {
    "collapsed": false
   },
   "outputs": [
    {
     "data": {
      "text/plain": [
       "[[('E-61', 'A-65', 0.72558439218976023),\n",
       "  ('A-65', 'C-93', 0.4424227115925296),\n",
       "  ('R-68', 'D-95', 0.50959075609701587),\n",
       "  ('I-62', 'L-71', -0.38887214605377191),\n",
       "  ('L-71', 'C-93', -0.48329125246336069)],\n",
       " [('Q-74', 'S-77', 0.91468575210665293),\n",
       "  ('Q-86', 'S-153', -0.27068666567160121),\n",
       "  ('Y-72', 'G-79', 0.50348733911489485),\n",
       "  ('G-79', 'R-149', 0.46796757264925576),\n",
       "  ('D-64', 'K-67', 0.90373810792371645),\n",
       "  ('Y-72', 'Y-81', -0.57606560140500662),\n",
       "  ('Y-81', 'G-147', -0.43373912685493193),\n",
       "  ('Y-81', 'S-150', -0.35535692149762615),\n",
       "  ('T-63', 'P-158', -0.16819483899955151),\n",
       "  ('C-80', 'A-156', 0.2933158037083618)],\n",
       " [('D-17', 'H-120', -0.43840596903354939),\n",
       "  ('G-147', 'K-151', 0.50104697752409366),\n",
       "  ('Q-74', 'S-77', 0.68734252310632449),\n",
       "  ('C-80', 'R-149', 0.82635317260815411),\n",
       "  ('F-85', 'A-152', 0.40998132565271656),\n",
       "  ('N-108', 'W-159', -0.2232732692476935),\n",
       "  ('F-85', 'A-156', 0.39428312902672452),\n",
       "  ('Y-81', 'G-147', -0.79565094092765398),\n",
       "  ('Y-81', 'H-157', -0.40391320114440826)],\n",
       " [('H-56', 'T-100', -1.7298630425416739),\n",
       "  ('T-63', 'S-89', 0.56388034805530696),\n",
       "  ('I-20', 'I-129', 1.1514285801594009),\n",
       "  ('H-56', 'E-99', 1.5039740204850252),\n",
       "  ('E-99', 'R-102', 1.8322503498707681),\n",
       "  ('A-96', 'E-99', 0.74076969390610758),\n",
       "  ('G-57', 'E-99', 0.58265198874389745),\n",
       "  ('Y-72', 'S-150', 0.37528598638000793),\n",
       "  ('A-65', 'W-159', -0.27813231404100558)],\n",
       " [('K-5', 'L-8', 0.81656662578860972),\n",
       "  ('S-10', 'K-14', 0.65808272743252694),\n",
       "  ('E-7', 'S-10', 0.68288262973424863),\n",
       "  ('S-4', 'E-7', 0.87051344852797963),\n",
       "  ('A-65', 'E-69', 1.0401303370170414),\n",
       "  ('G-57', 'E-99', 0.55070602431712568),\n",
       "  ('Y-81', 'W-159', -0.13882155609005484),\n",
       "  ('E-69', 'P-158', 0.41689738290848755),\n",
       "  ('R-68', 'T-97', -0.45677843034401544),\n",
       "  ('Y-81', 'R-149', -1.0596426952564775),\n",
       "  ('E-69', 'R-149', -0.57209549922186842),\n",
       "  ('D-121', 'V-125', 2.0777811638022263)],\n",
       " [('R-68', 'D-95', 0.64392518868904958),\n",
       "  ('R-13', 'D-121', 0.34969344790674872),\n",
       "  ('H-56', 'T-100', 0.9768145808431864),\n",
       "  ('C-80', 'Y-144', 0.51109169189957615),\n",
       "  ('I-16', 'I-129', 0.64814921624401689),\n",
       "  ('I-20', 'I-129', 0.71770193207292066),\n",
       "  ('H-56', 'E-99', -0.97956120413310033),\n",
       "  ('I-16', 'D-50', 0.54259661823835348),\n",
       "  ('E-99', 'R-102', -0.91701340306527679),\n",
       "  ('L-19', 'F-51', 1.0330176759774565),\n",
       "  ('G-79', 'Y-83', 0.90193453470109652),\n",
       "  ('I-62', 'I-154', 0.35726916494256888),\n",
       "  ('Y-81', 'H-157', -0.49902777376756624),\n",
       "  ('G-79', 'L-106', -0.5962472387257739),\n",
       "  ('M-82', 'S-150', 0.35130771150748641)],\n",
       " [('Q-116', 'I-129', 2.3652441225443579),\n",
       "  ('F-51', 'A-132', 2.1417025465010244),\n",
       "  ('G-39', 'I-107', 0.88042205022435249),\n",
       "  ('H-109', 'D-145', 0.87651050242045714),\n",
       "  ('Q-116', 'A-132', 1.8005423696665994),\n",
       "  ('I-20', 'E-54', -0.92545463369575498),\n",
       "  ('I-107', 'Y-146', 1.1363014220392533),\n",
       "  ('M-28', 'K-44', 1.2754470009624741),\n",
       "  ('I-30', 'I-41', 2.3779888015989727),\n",
       "  ('M-28', 'V-52', 0.94505995584490843),\n",
       "  ('K-29', 'G-39', 2.2226363671346827),\n",
       "  ('H-56', 'L-128', 1.3739528330143351),\n",
       "  ('T-117', 'I-131', 2.3112653525957874),\n",
       "  ('V-52', 'I-129', 1.6207458470375051),\n",
       "  ('Y-55', 'H-127', 0.79755647412410824),\n",
       "  ('N-114', 'I-131', 3.3462023737357272),\n",
       "  ('N-108', 'L-142', 1.3771552925095194),\n",
       "  ('Y-83', 'H-109', 0.76520143583544209),\n",
       "  ('M-28', 'L-106', 0.97641446532115406),\n",
       "  ('C-115', 'R-134', 1.5201199877643139)],\n",
       " [('S-10', 'K-14', 0.72730827985122415),\n",
       "  ('Y-81', 'L-106', -0.86908413731142464),\n",
       "  ('G-23', 'R-102', -0.51198604589138297),\n",
       "  ('R-13', 'I-16', 0.90885506699108343),\n",
       "  ('N-114', 'D-145', 0.98281853889821369),\n",
       "  ('Y-81', 'I-107', 0.65105077493741814),\n",
       "  ('D-75', 'Y-84', -0.35986103631765037),\n",
       "  ('R-13', 'E-21', 0.40348432832225384),\n",
       "  ('F-85', 'S-150', -0.3411643215181252),\n",
       "  ('L-128', 'R-149', -0.50158595797145222),\n",
       "  ('G-23', 'E-26', 0.63013436966908065),\n",
       "  ('A-65', 'R-68', 1.06075220967218),\n",
       "  ('I-62', 'W-159', -0.53365440571656675),\n",
       "  ('Y-81', 'G-147', 0.70262975540175787),\n",
       "  ('Y-81', 'R-149', 1.1035980205399294),\n",
       "  ('E-25', 'N-101', -0.44848581415687455),\n",
       "  ('C-80', 'I-107', -0.61071529981985362),\n",
       "  ('A-65', 'W-159', 0.46617923259020971),\n",
       "  ('I-20', 'H-56', -0.35275471537131076)],\n",
       " [('E-61', 'A-65', -0.55507294728398959),\n",
       "  ('K-14', 'D-17', -1.090735219195786),\n",
       "  ('R-2', 'E-21', 0.30883985247114198),\n",
       "  ('R-2', 'D-17', 0.4152117005609961),\n",
       "  ('Q-74', 'Y-81', 0.72819655336460554),\n",
       "  ('E-12', 'H-120', -0.41082528472149321),\n",
       "  ('R-2', 'D-50', -0.41972764091826437),\n",
       "  ('C-115', 'D-145', 1.2664198076150126),\n",
       "  ('K-14', 'D-50', 0.42786261607571069),\n",
       "  ('L-8', 'I-131', -0.4989137863269274),\n",
       "  ('S-4', 'I-122', 0.42351126340902456)],\n",
       " [('T-117', 'D-148', 1.4035765306300356),\n",
       "  ('I-20', 'I-129', 1.2644175182169286),\n",
       "  ('L-119', 'R-149', -0.5730478533075305),\n",
       "  ('H-109', 'R-149', 0.44149692904852739),\n",
       "  ('Y-72', 'P-158', 0.5883128041540796),\n",
       "  ('Y-81', 'R-149', 1.0302219123040255),\n",
       "  ('G-79', 'Y-83', -0.80622366561268566),\n",
       "  ('R-68', 'A-156', 0.61860022962247196),\n",
       "  ('Y-81', 'S-150', -1.1164037630508281),\n",
       "  ('G-79', 'L-106', 0.52134935646953651)],\n",
       " [('G-147', 'S-150', -0.89691609758200486),\n",
       "  ('F-51', 'A-132', 1.4471741502289193),\n",
       "  ('D-145', 'D-148', -0.89489045383288734),\n",
       "  ('T-117', 'D-148', -0.88095968756486431),\n",
       "  ('Y-83', 'D-148', 0.58753544580437267),\n",
       "  ('D-75', 'R-149', 0.68542539807969827),\n",
       "  ('L-128', 'R-149', -0.32181304985760467),\n",
       "  ('I-107', 'Y-146', -1.2895904125579172),\n",
       "  ('Y-83', 'K-118', 0.92573204785863639),\n",
       "  ('T-117', 'G-147', 1.1014020923069325),\n",
       "  ('C-115', 'D-145', 1.6151185236124874),\n",
       "  ('Y-144', 'D-148', -0.90039558899928762),\n",
       "  ('S-77', 'H-157', -0.61324633456803435),\n",
       "  ('G-79', 'S-153', -0.34756553364441994),\n",
       "  ('N-114', 'I-131', 1.2395765251815238),\n",
       "  ('E-7', 'R-48', 0.2605139558671295),\n",
       "  ('Y-83', 'H-157', 0.35667318877102322),\n",
       "  ('C-80', 'S-150', -0.64862099450005106)],\n",
       " [('D-17', 'I-122', 0.4437106061899827),\n",
       "  ('R-13', 'D-17', -1.4917078818524645),\n",
       "  ('R-13', 'I-16', -1.1403951796071574),\n",
       "  ('Y-87', 'D-121', 0.72081708880656148),\n",
       "  ('N-114', 'D-145', 0.97834626302681493),\n",
       "  ('F-85', 'S-150', -0.64308502422523195),\n",
       "  ('Y-72', 'S-150', -0.35232216147229556),\n",
       "  ('R-13', 'Y-87', -0.59777342546469836),\n",
       "  ('K-5', 'S-47', 0.26817210756259147),\n",
       "  ('R-13', 'D-50', 0.48757843383027094),\n",
       "  ('D-121', 'V-125', 2.4338304017430841),\n",
       "  ('F-85', 'Y-146', -1.0137973607182624),\n",
       "  ('F-85', 'W-159', 0.68661459728811081),\n",
       "  ('C-80', 'S-150', 0.66298937275274761),\n",
       "  ('R-15', 'H-120', 0.47801120102509997)],\n",
       " [('R-13', 'D-121', -0.73421888563149729),\n",
       "  ('A-65', 'Y-84', -0.52983109547163776),\n",
       "  ('E-12', 'R-15', 0.6184698091607147),\n",
       "  ('C-80', 'Y-146', 0.40848407691283656),\n",
       "  ('G-23', 'R-102', 0.64689085016363534),\n",
       "  ('T-117', 'D-148', -0.68578931131042786),\n",
       "  ('S-150', 'S-153', -0.88686776087711827),\n",
       "  ('S-77', 'C-80', 0.84654183726790877),\n",
       "  ('P-76', 'H-109', 0.34871882682152922),\n",
       "  ('C-80', 'R-149', -0.24525395872561448),\n",
       "  ('R-13', 'D-123', 0.70022425613708084),\n",
       "  ('R-13', 'E-21', 1.057668766670131),\n",
       "  ('G-23', 'F-51', -0.67234449981914157),\n",
       "  ('D-75', 'T-78', -0.83318887405593334),\n",
       "  ('E-12', 'D-17', 0.95570694336099915),\n",
       "  ('T-78', 'I-107', 0.83717491868311644),\n",
       "  ('D-121', 'V-125', 0.97357698790958169),\n",
       "  ('F-85', 'Y-146', -0.68765892481960478),\n",
       "  ('Q-9', 'I-122', 0.28016860291276319)],\n",
       " [('R-13', 'D-121', -0.67458791541186425),\n",
       "  ('G-147', 'S-150', -0.98965373511563082),\n",
       "  ('I-154', 'K-161', 0.27516035659831539),\n",
       "  ('C-80', 'Y-146', 0.71096056516119766),\n",
       "  ('S-150', 'S-153', 2.1891179140581141),\n",
       "  ('S-153', 'L-160', 0.45270874326615318),\n",
       "  ('K-151', 'I-154', 1.3130403323975475),\n",
       "  ('R-13', 'E-21', 0.39415974517751196),\n",
       "  ('T-91', 'S-153', 0.64535040353141637),\n",
       "  ('G-113', 'Y-146', -1.3483129847163517),\n",
       "  ('I-62', 'H-157', 0.26453132861503126),\n",
       "  ('Y-144', 'D-148', -0.81988585246948353),\n",
       "  ('F-85', 'T-117', -0.77383833937578272),\n",
       "  ('D-121', 'V-125', 2.0911278035119611),\n",
       "  ('G-79', 'N-108', -0.50992208652095483)],\n",
       " [('S-10', 'K-14', 0.47598847060853766),\n",
       "  ('L-71', 'D-75', -0.76507985407275547),\n",
       "  ('G-23', 'R-102', -0.40788240915477969),\n",
       "  ('Y-146', 'R-149', -1.0512853029775986),\n",
       "  ('T-117', 'D-148', 0.56865116788536196),\n",
       "  ('Y-81', 'Y-146', -1.0664629406630404),\n",
       "  ('S-150', 'S-153', 1.4948238269878213),\n",
       "  ('R-13', 'I-16', 0.92994233157930994),\n",
       "  ('R-2', 'D-123', -0.098917619660566974),\n",
       "  ('F-85', 'S-153', 0.73348915727246133),\n",
       "  ('H-109', 'R-149', 0.77747054489700718),\n",
       "  ('Y-146', 'W-159', -0.62203105015248794),\n",
       "  ('Y-84', 'K-151', -0.61311570702258711),\n",
       "  ('D-75', 'Y-146', 0.36748231162157252),\n",
       "  ('Y-144', 'D-148', 0.69437331480591025),\n",
       "  ('R-68', 'A-156', -0.80701216928580011),\n",
       "  ('D-121', 'V-125', 2.2524472903255903),\n",
       "  ('S-110', 'W-159', 0.67255699342008191),\n",
       "  ('P-76', 'Y-144', 0.46499366958097321),\n",
       "  ('Q-74', 'Y-83', 0.51761515309457962)],\n",
       " [('R-13', 'D-121', -0.15441449963173773),\n",
       "  ('T-78', 'Y-81', 1.412914936328137),\n",
       "  ('L-8', 'E-12', 0.47240882602288098),\n",
       "  ('C-80', 'Y-146', -0.55780385569853919),\n",
       "  ('G-23', 'R-102', 0.62547222691757265),\n",
       "  ('Q-74', 'S-77', -0.8565258682432727),\n",
       "  ('S-77', 'Y-81', -0.71601925146411916),\n",
       "  ('S-77', 'C-80', -1.4247907841418266),\n",
       "  ('G-79', 'R-149', -0.39520866813614608),\n",
       "  ('Y-146', 'L-160', -0.33774063827703737),\n",
       "  ('Q-74', 'C-80', 0.88726597579048394),\n",
       "  ('R-13', 'E-21', 0.63903735665689887),\n",
       "  ('G-57', 'E-99', -0.43898440223198776),\n",
       "  ('G-23', 'E-26', -0.60812137928962995),\n",
       "  ('D-75', 'T-78', 1.7853376874440741),\n",
       "  ('S-77', 'H-109', 0.3722162536679734),\n",
       "  ('G-57', 'R-105', 0.68807845810517787),\n",
       "  ('T-78', 'I-107', -1.1366621809222135),\n",
       "  ('C-80', 'S-153', 0.51788982847238985),\n",
       "  ('Y-72', 'A-152', 0.23244654237255008),\n",
       "  ('G-79', 'A-96', -0.808863300608059),\n",
       "  ('G-79', 'N-108', 0.65510143657764741),\n",
       "  ('D-75', 'K-151', 0.60244856603972885)],\n",
       " [('G-79', 'M-82', -0.76330248970699577),\n",
       "  ('T-78', 'Y-81', -0.59706024860189799),\n",
       "  ('Y-146', 'S-150', 1.0758169242721229),\n",
       "  ('T-117', 'Y-146', 0.99036532936954313),\n",
       "  ('Y-83', 'D-148', -1.7057788259328626),\n",
       "  ('M-82', 'Y-146', -0.94460702895446225),\n",
       "  ('Y-83', 'L-119', -0.55722382327093889),\n",
       "  ('R-2', 'D-123', -0.066427922733710468),\n",
       "  ('Y-55', 'C-80', -0.48062202008522925),\n",
       "  ('I-20', 'I-122', 0.35255296314930296),\n",
       "  ('Y-81', 'I-107', -0.72232630093494488),\n",
       "  ('F-85', 'S-150', -1.4141319401582739),\n",
       "  ('H-109', 'G-147', 0.95722123492606859),\n",
       "  ('Y-83', 'K-118', -1.0801315439493606),\n",
       "  ('F-85', 'P-126', -0.66292789308973576),\n",
       "  ('Y-84', 'L-160', 0.47319828728192159),\n",
       "  ('I-62', 'A-156', 0.61928023216125683),\n",
       "  ('A-73', 'W-159', -0.28603365890356747),\n",
       "  ('Y-81', 'R-149', 0.96720513080578951),\n",
       "  ('Y-87', 'P-126', -0.71629028509847459),\n",
       "  ('Y-84', 'D-148', 0.88334297616359314),\n",
       "  ('T-78', 'I-107', 0.66721455833462784),\n",
       "  ('G-79', 'A-96', 0.62771152834606503),\n",
       "  ('D-121', 'V-125', 1.4648673475822684),\n",
       "  ('F-85', 'Y-146', 1.6030698285534468)],\n",
       " [('S-4', 'L-8', -1.1200315019383833),\n",
       "  ('R-13', 'D-121', 0.54767854119061776),\n",
       "  ('A-65', 'Y-84', -0.56663653325789454),\n",
       "  ('D-75', 'G-79', 0.4813182512759116),\n",
       "  ('S-4', 'E-7', -1.742420619019678),\n",
       "  ('E-61', 'D-64', 1.1595295093276354),\n",
       "  ('R-13', 'D-17', 0.44577420791116606),\n",
       "  ('Y-72', 'C-80', 0.53936365586471979),\n",
       "  ('T-63', 'S-89', 0.54965993077472319),\n",
       "  ('Y-84', 'H-157', 0.40174451925551014),\n",
       "  ('I-20', 'I-129', -0.9412597614859699),\n",
       "  ('Y-146', 'L-160', 0.3565224397960472),\n",
       "  ('C-80', 'W-159', 0.32949739567279301),\n",
       "  ('E-99', 'R-102', 0.82230051014797889),\n",
       "  ('G-57', 'E-99', 0.51587812178206405),\n",
       "  ('E-61', 'K-67', 0.44373616712350927),\n",
       "  ('D-75', 'T-78', 1.1732291107509443),\n",
       "  ('N-108', 'W-159', -0.31315613237720247),\n",
       "  ('E-69', 'R-149', -0.75202362121459843),\n",
       "  ('Q-9', 'L-119', 0.34771982899360565),\n",
       "  ('D-121', 'V-125', 1.0894179509746087),\n",
       "  ('F-85', 'Y-146', -0.60013963135313819)],\n",
       " [('I-154', 'L-160', 0.56753931037024619),\n",
       "  ('R-149', 'A-152', 1.4146085096956835),\n",
       "  ('G-79', 'M-82', 0.88520142148977154),\n",
       "  ('G-147', 'K-151', 0.7974006465847634),\n",
       "  ('S-110', 'Y-146', 1.1459952344688433),\n",
       "  ('C-80', 'Y-146', -0.78100055604567109),\n",
       "  ('S-150', 'I-154', 0.63205069800458236),\n",
       "  ('Q-74', 'M-82', -0.36676957503293023),\n",
       "  ('S-150', 'S-153', 0.73239533183491379),\n",
       "  ('L-71', 'Q-74', 0.82785591030335726),\n",
       "  ('M-82', 'R-149', -0.54232127236466776),\n",
       "  ('Y-84', 'Y-146', 0.90812649229268483),\n",
       "  ('I-16', 'F-51', 0.8011750825572419),\n",
       "  ('R-13', 'E-21', 0.56610331871286013),\n",
       "  ('I-107', 'Y-146', -1.3371286585121458),\n",
       "  ('Y-83', 'K-118', 0.66250144774285646),\n",
       "  ('F-85', 'P-126', 1.2224032310142763),\n",
       "  ('C-80', 'N-108', 0.79906405816700476),\n",
       "  ('R-13', 'Y-87', -0.31872550098217434),\n",
       "  ('P-76', 'P-158', -0.24672299780604162),\n",
       "  ('Y-84', 'D-148', -0.94842615990996793),\n",
       "  ('N-114', 'I-131', 1.0370451318099285),\n",
       "  ('Y-81', 'S-150', 1.173802472314539),\n",
       "  ('Y-81', 'H-157', 0.41916381681112602),\n",
       "  ('D-121', 'V-125', -3.6714637068840448),\n",
       "  ('E-69', 'K-151', -0.33316629401140557),\n",
       "  ('F-85', 'W-159', -0.35985928086594204),\n",
       "  ('Y-72', 'S-77', 0.68639746043999939)],\n",
       " [('R-68', 'D-95', -0.2252817090068146),\n",
       "  ('H-56', 'R-105', -0.96672076536837948),\n",
       "  ('Y-81', 'L-106', 0.92791515865071472),\n",
       "  ('Y-83', 'D-148', -0.51084227054368248),\n",
       "  ('G-79', 'T-97', 0.85852505197968976),\n",
       "  ('Y-81', 'Y-144', 0.61041893866414743),\n",
       "  ('Y-55', 'C-80', 0.78934926207632161),\n",
       "  ('I-16', 'F-51', -1.5366901758108926),\n",
       "  ('R-13', 'E-21', -0.2859419031969001),\n",
       "  ('Y-55', 'Y-146', -0.54675586577504764),\n",
       "  ('I-107', 'Y-146', -1.4054157447445188),\n",
       "  ('F-85', 'P-126', 0.80858383694051106),\n",
       "  ('R-13', 'L-119', 0.67725543058206872),\n",
       "  ('Y-87', 'P-126', 0.68789720932912812),\n",
       "  ('Y-81', 'S-150', 0.79128271753709223),\n",
       "  ('F-85', 'T-117', -1.1213271149482416),\n",
       "  ('D-121', 'V-125', 3.0680266969490577),\n",
       "  ('E-69', 'K-151', 0.87627564624972132),\n",
       "  ('A-73', 'A-156', 0.41367337256987347)],\n",
       " [('H-56', 'T-100', 0.69884276060111772),\n",
       "  ('T-78', 'Y-81', 0.77406052066490716),\n",
       "  ('L-71', 'D-75', 0.67867992600199323),\n",
       "  ('E-61', 'D-64', 1.4496648095689488),\n",
       "  ('A-70', 'A-73', 0.92908734183418051),\n",
       "  ('C-80', 'Y-144', -1.0426352746248848),\n",
       "  ('A-65', 'E-69', 1.1184502180440243),\n",
       "  ('Y-83', 'D-148', 0.51697770352842598),\n",
       "  ('L-71', 'Q-74', 0.75828168845463806),\n",
       "  ('M-82', 'Y-146', -0.73430444880626522),\n",
       "  ('F-85', 'R-149', -0.89250084072402169),\n",
       "  ('E-69', 'A-73', 1.2288459581563251),\n",
       "  ('Y-84', 'A-156', -0.46471931323185905),\n",
       "  ('R-13', 'D-123', -0.17711190350854789),\n",
       "  ('I-16', 'F-51', -0.38154588399633588),\n",
       "  ('H-56', 'E-99', -0.68385695594417439),\n",
       "  ('D-75', 'R-149', 0.42839575531992219),\n",
       "  ('D-75', 'Y-84', 0.58376391238280256),\n",
       "  ('D-64', 'R-68', 1.2453928886245977),\n",
       "  ('A-73', 'G-79', 0.47369870257810875),\n",
       "  ('E-25', 'R-102', 0.79150858030025362),\n",
       "  ('T-91', 'I-154', 0.56689741836937235),\n",
       "  ('R-68', 'Y-72', 0.89102804193384655),\n",
       "  ('Y-81', 'G-147', 0.648433660558422),\n",
       "  ('D-121', 'V-125', 1.8326214730092192),\n",
       "  ('Q-74', 'Y-146', -0.62979179410038999),\n",
       "  ('G-37', 'S-77', 0.25771521991645246),\n",
       "  ('C-80', 'A-156', -0.5250380835937084)],\n",
       " [('D-145', 'D-148', -0.51429104993285524),\n",
       "  ('E-61', 'D-64', 0.74223386561419213),\n",
       "  ('D-145', 'R-149', -0.963930517932305),\n",
       "  ('R-13', 'D-17', -0.68374453148007008),\n",
       "  ('Q-74', 'M-82', 0.54445462901297725),\n",
       "  ('A-65', 'E-69', 1.0992009018072029),\n",
       "  ('D-64', 'K-67', 0.9916908521430633),\n",
       "  ('D-148', 'S-153', -1.0562284312335157),\n",
       "  ('Y-81', 'I-107', -0.71212079622986302),\n",
       "  ('F-85', 'S-150', 0.4908515147774542),\n",
       "  ('D-64', 'R-68', 0.80192075264214324),\n",
       "  ('A-65', 'R-68', 1.3067227668047292),\n",
       "  ('Y-84', 'D-148', -0.41886611582536559),\n",
       "  ('Y-144', 'W-159', -0.90130521777713324),\n",
       "  ('T-78', 'I-107', 0.77308168377653752),\n",
       "  ('H-109', 'H-157', 0.36576935031615954),\n",
       "  ('R-13', 'D-50', 0.39907136196282061),\n",
       "  ('A-65', 'W-159', 0.35471440811939714),\n",
       "  ('S-4', 'R-48', 0.17334853009638235),\n",
       "  ('R-68', 'I-154', -0.5691799230626462),\n",
       "  ('P-76', 'L-160', 0.42923504413758884),\n",
       "  ('C-80', 'S-150', 0.26784853420319743),\n",
       "  ('L-88', 'W-159', -0.52006026320728715),\n",
       "  ('Y-72', 'S-77', -0.7011870436038441),\n",
       "  ('S-150', 'W-159', 0.57268580893279109)],\n",
       " [('S-4', 'L-8', 0.89316195489004724),\n",
       "  ('Y-84', 'R-149', -0.68858930314707834),\n",
       "  ('C-80', 'Y-146', 0.50345757153046089),\n",
       "  ('E-61', 'D-64', 1.4562497019679963),\n",
       "  ('D-145', 'R-149', 1.1405295952820618),\n",
       "  ('Q-74', 'S-77', 1.3113184731657466),\n",
       "  ('Q-74', 'M-82', 0.74228643544960837),\n",
       "  ('T-63', 'S-89', 0.54766832330358606),\n",
       "  ('Q-74', 'C-80', 0.79945146665528433),\n",
       "  ('R-13', 'E-21', -0.36775807517523051),\n",
       "  ('L-128', 'R-149', -0.63569516807272497),\n",
       "  ('E-61', 'K-67', 0.76282765042426059),\n",
       "  ('T-91', 'I-154', 0.76390364721952098),\n",
       "  ('A-73', 'M-82', -0.77866571394485651),\n",
       "  ('T-91', 'L-160', -0.67824542828556822),\n",
       "  ('G-79', 'Y-83', -0.72591755675895342),\n",
       "  ('L-19', 'R-102', -0.36236849204587962),\n",
       "  ('R-68', 'A-156', 0.59525087482947159),\n",
       "  ('I-62', 'I-154', 0.65152999348546603),\n",
       "  ('T-78', 'I-107', 0.28552739213633166),\n",
       "  ('D-121', 'V-125', -2.305880103598517),\n",
       "  ('A-73', 'H-157', -0.40196455071524045),\n",
       "  ('N-108', 'L-160', 0.38338971268323291),\n",
       "  ('C-80', 'S-150', 0.50371770011420292),\n",
       "  ('Y-72', 'S-77', -0.573160271943425),\n",
       "  ('A-73', 'A-156', -0.44426828047906181)],\n",
       " [('T-117', 'D-145', 1.1346979534877875),\n",
       "  ('I-154', 'K-161', -0.39894344694158068),\n",
       "  ('H-157', 'L-160', -1.2301021243771091),\n",
       "  ('S-153', 'L-160', -0.46252686407933685),\n",
       "  ('S-77', 'C-80', 1.3164746025438441),\n",
       "  ('R-149', 'L-160', -0.50215326624970313),\n",
       "  ('D-75', 'Y-81', 0.58540564431286546),\n",
       "  ('I-107', 'Y-146', -0.67692247377260228),\n",
       "  ('D-75', 'S-150', -0.30761826077208571),\n",
       "  ('A-156', 'L-160', -0.72663786095671701),\n",
       "  ('A-156', 'W-159', -0.83072281598886455),\n",
       "  ('L-19', 'I-129', -0.61707130649833009),\n",
       "  ('Y-83', 'A-152', 1.107698976874778),\n",
       "  ('G-79', 'Y-83', 1.053422935479549),\n",
       "  ('L-19', 'R-102', 0.48018037849485978),\n",
       "  ('E-69', 'R-149', 0.4467529692263682),\n",
       "  ('Y-81', 'H-157', 0.46407118554257715),\n",
       "  ('G-79', 'L-106', -0.44951458537382016),\n",
       "  ('D-121', 'V-125', 1.0661297055904977),\n",
       "  ('G-79', 'N-108', -0.5801891904176113),\n",
       "  ('F-85', 'Y-146', 0.51848748333421479),\n",
       "  ('N-108', 'L-160', 0.77731868270263749)],\n",
       " [('S-10', 'K-14', 0.82797410669448013),\n",
       "  ('H-56', 'T-100', 0.9671560024561251),\n",
       "  ('I-62', 'L-71', 0.49745366049589151),\n",
       "  ('A-152', 'A-156', -1.0751385093349404),\n",
       "  ('S-4', 'E-7', 0.92680094914386812),\n",
       "  ('Y-83', 'Y-146', 1.2363577685315934),\n",
       "  ('F-85', 'R-149', 1.2589096237346056),\n",
       "  ('S-77', 'C-80', -0.70882293997108203),\n",
       "  ('T-63', 'S-89', 0.45650529351537245),\n",
       "  ('H-56', 'E-99', -1.2245200970438572),\n",
       "  ('F-85', 'S-150', -1.3000086825808586),\n",
       "  ('Y-72', 'I-154', -0.64593598483536907),\n",
       "  ('A-65', 'R-68', 1.1627472085306132),\n",
       "  ('F-85', 'P-126', 1.4646979442537549),\n",
       "  ('G-113', 'Y-146', -1.0573014170622819),\n",
       "  ('R-68', 'H-157', -0.42469873772975419),\n",
       "  ('F-85', 'A-156', 0.6118459497435198),\n",
       "  ('Y-81', 'R-149', 0.34468081929812944),\n",
       "  ('G-79', 'Y-83', -1.1957972098517824),\n",
       "  ('Y-87', 'P-126', 1.1436609369002588),\n",
       "  ('Y-72', 'T-91', 0.31654689484355647),\n",
       "  ('F-85', 'T-117', -0.88310160746874089),\n",
       "  ('G-57', 'L-128', -0.75070910860975371),\n",
       "  ('S-10', 'I-131', -0.20078625466865138),\n",
       "  ('C-80', 'P-158', 0.3546484826825318),\n",
       "  ('D-75', 'K-151', -0.27056979230680389),\n",
       "  ('Y-92', 'L-119', -0.82191250973185603),\n",
       "  ('K-5', 'H-120', 0.38016242929939464),\n",
       "  ('K-5', 'L-19', -0.43921456979120571)],\n",
       " [('R-13', 'D-121', 0.66569368480280222),\n",
       "  ('H-56', 'G-104', 1.5245688956391075),\n",
       "  ('S-10', 'K-14', 0.48760966957841601),\n",
       "  ('I-62', 'L-71', -1.3216109652067591),\n",
       "  ('K-151', 'E-155', 0.60506007814889573),\n",
       "  ('Y-81', 'L-106', -0.37928594456706299),\n",
       "  ('E-25', 'G-104', 1.2841276539896933),\n",
       "  ('S-153', 'L-160', 0.2413423263762729),\n",
       "  ('G-79', 'T-97', -0.64367923411601247),\n",
       "  ('Y-83', 'L-119', 0.38403570398786463),\n",
       "  ('S-77', 'C-80', 0.57407675187403218),\n",
       "  ('I-20', 'R-102', 0.79366327486834931),\n",
       "  ('I-16', 'D-50', -0.38807890503797021),\n",
       "  ('Y-55', 'G-104', -1.557475997258547),\n",
       "  ('R-13', 'E-21', -0.82925963940689917),\n",
       "  ('D-75', 'S-153', 0.61883057739632685),\n",
       "  ('G-57', 'E-99', 0.50755590847941079),\n",
       "  ('D-75', 'T-78', -0.89379876144412418),\n",
       "  ('R-15', 'G-49', -0.43528042818097362),\n",
       "  ('C-80', 'Y-83', -0.88670811092715729),\n",
       "  ('G-79', 'Y-144', 0.39159126870357164),\n",
       "  ('Y-83', 'S-153', 0.56899828832087362),\n",
       "  ('Y-87', 'P-126', 0.93749689520884305),\n",
       "  ('I-62', 'I-154', -0.42680881185635827),\n",
       "  ('T-78', 'I-107', 0.66015857453940185),\n",
       "  ('Y-83', 'A-96', -1.0370460176199097),\n",
       "  ('A-96', 'R-105', -1.8818618091542678),\n",
       "  ('Y-83', 'W-159', 0.42961154641974308),\n",
       "  ('T-78', 'W-159', -0.55159903583757008),\n",
       "  ('P-76', 'Y-144', -0.82818024134849666),\n",
       "  ('D-95', 'R-105', 2.0066006390353395)],\n",
       " [('Q-9', 'E-12', -1.031447908469711),\n",
       "  ('R-13', 'D-121', 0.38248192782305729),\n",
       "  ('E-12', 'I-16', 0.66975596152960803),\n",
       "  ('R-149', 'A-152', 1.4653654296575724),\n",
       "  ('K-14', 'D-17', 0.70057618221343521),\n",
       "  ('S-4', 'E-7', 0.60999573365345194),\n",
       "  ('Y-146', 'S-150', -1.9517830116977415),\n",
       "  ('S-150', 'I-154', 0.5310927802927764),\n",
       "  ('D-148', 'A-152', 1.0082054764438066),\n",
       "  ('Y-81', 'R-105', 0.48914627943237271),\n",
       "  ('T-117', 'D-148', -1.1034915755798989),\n",
       "  ('R-2', 'D-17', 0.29823688317462632),\n",
       "  ('S-77', 'C-80', -0.66609557420925058),\n",
       "  ('Q-116', 'G-147', -0.4980003911624698),\n",
       "  ('Y-81', 'T-97', 0.49702910583128634),\n",
       "  ('R-149', 'L-160', -0.86821862729447663),\n",
       "  ('R-13', 'E-21', -0.59009833099402675),\n",
       "  ('R-2', 'E-12', -0.31880745352892087),\n",
       "  ('G-23', 'F-51', -0.65327044248562338),\n",
       "  ('I-154', 'W-159', 0.46355326862072593),\n",
       "  ('E-25', 'R-102', -0.36937456470766655),\n",
       "  ('I-62', 'W-159', 0.23566893438135),\n",
       "  ('Y-81', 'R-149', -0.59945876868251335),\n",
       "  ('E-69', 'R-149', 0.89616888507300951),\n",
       "  ('Y-144', 'G-147', 1.4611706515995215),\n",
       "  ('E-69', 'L-160', 0.21520264041778769),\n",
       "  ('D-121', 'V-125', 1.4839602040699786),\n",
       "  ('E-69', 'K-151', -0.87316486978790353),\n",
       "  ('R-13', 'L-19', -0.9389067458963436),\n",
       "  ('C-80', 'S-150', 0.40366327181870693)],\n",
       " [('E-11', 'K-14', -1.1842118789641407),\n",
       "  ('S-4', 'E-7', 1.3332049287330843),\n",
       "  ('T-78', 'Y-81', 0.51096977006459776),\n",
       "  ('E-11', 'R-15', -1.2698591406181894),\n",
       "  ('T-78', 'M-82', 0.5889302674399709),\n",
       "  ('G-23', 'R-102', -0.44444234307223124),\n",
       "  ('Y-83', 'Y-146', -0.64399207041936213),\n",
       "  ('R-2', 'D-17', -0.47304983942401924),\n",
       "  ('S-77', 'C-80', 0.48210024741750684),\n",
       "  ('K-3', 'E-11', 0.50777248461959479),\n",
       "  ('C-80', 'W-159', 0.46345070288370221),\n",
       "  ('F-85', 'A-152', -0.21252979348594447),\n",
       "  ('A-73', 'G-79', 0.58498434362483998),\n",
       "  ('P-76', 'S-150', 0.11671075356328049),\n",
       "  ('R-2', 'D-121', 0.47895066005422388),\n",
       "  ('Y-72', 'Y-81', 0.53436644206980544),\n",
       "  ('N-108', 'W-159', -0.2876197545181246),\n",
       "  ('E-11', 'K-118', 0.26361512468022669),\n",
       "  ('T-91', 'L-160', 0.37370615059910128),\n",
       "  ('K-3', 'E-21', -0.35956743413201958),\n",
       "  ('K-3', 'S-47', -0.53507751893484201),\n",
       "  ('K-3', 'D-121', 0.30788190579286207),\n",
       "  ('Y-72', 'S-77', -0.55773229428101667)],\n",
       " [('S-10', 'R-13', -0.78423535438415015),\n",
       "  ('S-10', 'K-14', -0.50070688838579813),\n",
       "  ('S-4', 'E-7', -0.51861810772627248),\n",
       "  ('T-78', 'Y-81', -0.48148849915543429),\n",
       "  ('L-8', 'E-12', -0.57298881490076548),\n",
       "  ('E-11', 'R-15', -0.45107346516858815),\n",
       "  ('D-145', 'R-149', 0.49873694475703206),\n",
       "  ('Y-72', 'Y-84', 0.70475295904020752),\n",
       "  ('T-78', 'M-82', -0.90654487732383671),\n",
       "  ('G-23', 'R-102', -0.42095889853257007),\n",
       "  ('A-65', 'E-69', 1.311749454641421),\n",
       "  ('G-79', 'T-97', 0.78342856893326485),\n",
       "  ('E-69', 'A-73', 0.87589705693683317),\n",
       "  ('Y-72', 'G-79', -0.9199590318508315),\n",
       "  ('C-80', 'R-149', -0.66229654430383622),\n",
       "  ('Q-116', 'G-147', 0.6676986495340852),\n",
       "  ('P-76', 'C-80', -0.4799794675676885),\n",
       "  ('D-64', 'K-67', 1.489267057641374),\n",
       "  ('R-149', 'L-160', -0.33525312689100534),\n",
       "  ('R-13', 'E-21', 0.27923026023174935),\n",
       "  ('Y-55', 'Y-146', 0.46685051843099346),\n",
       "  ('P-76', 'S-153', 0.59116338737561347),\n",
       "  ('D-64', 'R-68', 1.8690593698097817),\n",
       "  ('Y-84', 'W-159', 0.37831035800348511),\n",
       "  ('T-78', 'Y-146', 0.92739059703268945),\n",
       "  ('Y-81', 'W-159', 0.40944263079846599),\n",
       "  ('R-15', 'S-47', 0.26444423266359701),\n",
       "  ('Y-81', 'G-147', -0.97488129208507179),\n",
       "  ('H-109', 'I-154', 0.37822677381218844),\n",
       "  ('D-75', 'W-159', -0.55626689329750578),\n",
       "  ('C-80', 'S-153', 0.56396214410284551),\n",
       "  ('Y-83', 'H-109', -0.82081722093393661),\n",
       "  ('A-73', 'T-97', -0.53618297030151041),\n",
       "  ('R-68', 'I-154', -0.27723940959280219),\n",
       "  ('P-76', 'L-160', -0.43904113717612758)],\n",
       " [('E-61', 'A-65', -0.82595602162701665),\n",
       "  ('S-4', 'L-8', 0.61274687497456759),\n",
       "  ('E-12', 'I-16', 1.231475171986177),\n",
       "  ('E-11', 'K-14', 0.80467911567417783),\n",
       "  ('S-4', 'E-7', 0.72565125794162055),\n",
       "  ('Y-83', 'Y-146', -1.097010937488746),\n",
       "  ('R-13', 'D-17', 0.94934353689495055),\n",
       "  ('G-79', 'Y-146', -0.26109987377856736),\n",
       "  ('Y-83', 'S-150', 1.0125792578654076),\n",
       "  ('Y-84', 'I-154', 0.60120546284442078),\n",
       "  ('M-82', 'R-149', 0.98360554957523616),\n",
       "  ('C-80', 'R-149', -0.63493577089144659),\n",
       "  ('Y-146', 'L-160', 0.34993328968171894),\n",
       "  ('R-2', 'E-18', 0.23297212674872497),\n",
       "  ('R-13', 'E-21', -0.33238893362756405),\n",
       "  ('F-85', 'A-152', -1.0812839947114241),\n",
       "  ('Y-84', 'W-159', 0.85634211013467187),\n",
       "  ('E-155', 'L-160', -0.63593163680973708),\n",
       "  ('I-62', 'W-159', 0.45106835088642799),\n",
       "  ('H-109', 'I-154', 0.42250723078020264),\n",
       "  ('R-68', 'A-156', -0.61597191140909469),\n",
       "  ('K-3', 'D-50', 0.19965658824597848),\n",
       "  ('H-109', 'D-148', -0.81324733480608857),\n",
       "  ('Q-9', 'L-119', -0.3884159487105614),\n",
       "  ('D-121', 'V-125', -2.7127865617379845),\n",
       "  ('E-69', 'K-151', 0.45303897013180483)],\n",
       " [('Q-9', 'E-12', 1.5980782342173447),\n",
       "  ('Q-9', 'R-13', 0.66375876905748843),\n",
       "  ('E-12', 'I-16', -0.73915340158306464),\n",
       "  ('Y-83', 'D-95', 1.447465548611917),\n",
       "  ('S-10', 'K-14', 0.74566402005130394),\n",
       "  ('S-4', 'E-7', -0.97183793849900468),\n",
       "  ('Y-146', 'S-150', -1.4729651042477372),\n",
       "  ('R-2', 'E-21', -0.40836411626436681),\n",
       "  ('S-150', 'S-153', -0.51053926759668256),\n",
       "  ('Y-81', 'T-97', 1.1001842243284259),\n",
       "  ('D-148', 'S-153', -0.89468287161996218),\n",
       "  ('R-2', 'D-121', 0.27239429818111316),\n",
       "  ('Y-146', 'H-157', -0.5305395692646766),\n",
       "  ('S-10', 'K-118', -0.34801738718716613),\n",
       "  ('C-80', 'A-96', 1.1216835911475542),\n",
       "  ('Y-83', 'S-153', 1.0872330435280997),\n",
       "  ('R-68', 'T-97', -0.39482759827812119),\n",
       "  ('M-82', 'Y-144', -0.51025462903641094),\n",
       "  ('Y-144', 'G-147', 1.1928265290487741),\n",
       "  ('K-14', 'D-50', 0.52861712709044584),\n",
       "  ('Y-83', 'H-157', 0.43915160999482417),\n",
       "  ('Y-83', 'W-159', 0.44997519366096994),\n",
       "  ('D-121', 'V-125', -2.4429054617988504),\n",
       "  ('K-118', 'D-148', -0.92335096231540825)],\n",
       " [('A-65', 'Y-84', -0.48519049662502606),\n",
       "  ('Y-72', 'D-75', -0.93037025297854037),\n",
       "  ('Y-72', 'T-97', 0.72601592709102725),\n",
       "  ('S-4', 'E-7', 1.0888401345947014),\n",
       "  ('L-71', 'D-75', -0.78446428228598475),\n",
       "  ('Y-146', 'S-150', -0.64449759420804131),\n",
       "  ('E-11', 'R-15', -0.5086030205142551),\n",
       "  ('S-77', 'Y-81', -0.79564214030624714),\n",
       "  ('H-157', 'L-160', 0.78958624674377598),\n",
       "  ('A-73', 'P-76', -0.71519712938806557),\n",
       "  ('Q-86', 'S-153', -0.45142304005620554),\n",
       "  ('T-63', 'S-89', 0.53764979113937972),\n",
       "  ('L-119', 'R-149', -0.45683251519900803),\n",
       "  ('P-76', 'Y-81', 0.61785297606195411),\n",
       "  ('D-75', 'R-149', -0.82561902106282459),\n",
       "  ('R-13', 'E-21', 0.55446437822727468),\n",
       "  ('E-69', 'C-80', -0.52038236178898323),\n",
       "  ('Y-146', 'S-153', -0.5722526811226093),\n",
       "  ('Y-72', 'S-150', -0.27895595136264512),\n",
       "  ('E-25', 'R-102', 0.86152149211559803),\n",
       "  ('R-13', 'L-119', 0.39068731989133204),\n",
       "  ('E-25', 'V-53', 0.84554723900768591),\n",
       "  ('T-91', 'L-160', 0.22494064134011299),\n",
       "  ('Y-83', 'A-152', 1.060794383987316),\n",
       "  ('I-62', 'Y-72', 0.57443832597732647),\n",
       "  ('E-12', 'F-51', -0.83146759980716767),\n",
       "  ('T-78', 'I-107', -0.69407704863399422),\n",
       "  ('R-13', 'D-50', -0.49542664663931862),\n",
       "  ('S-10', 'I-131', 0.4619730671228271),\n",
       "  ('K-5', 'H-120', -0.75798097372630557),\n",
       "  ('T-78', 'R-149', 0.93692704738548804),\n",
       "  ('K-5', 'L-19', 0.93461794151304489),\n",
       "  ('Y-72', 'S-77', 1.034366336039132),\n",
       "  ('S-77', 'M-82', 0.83033130218828533)],\n",
       " [('R-13', 'D-121', 0.2655617988666244),\n",
       "  ('S-4', 'E-7', 0.39302011780308832),\n",
       "  ('S-110', 'Y-146', -1.0984145249787747),\n",
       "  ('T-78', 'M-82', 1.1926600629529933),\n",
       "  ('T-78', 'T-97', 0.41267088421870779),\n",
       "  ('Q-74', 'S-77', -0.93412907820004432),\n",
       "  ('Y-72', 'C-80', -0.85274769247674398),\n",
       "  ('F-85', 'S-153', -0.88886572217190696),\n",
       "  ('E-99', 'R-102', 2.2616873145686123),\n",
       "  ('R-13', 'E-21', -0.36892148135082087),\n",
       "  ('A-73', 'G-79', 0.60139063025139661),\n",
       "  ('I-107', 'Y-146', 1.6185857237725498),\n",
       "  ('D-75', 'T-78', 1.7059320423086353),\n",
       "  ('Y-146', 'S-153', 0.79486657521000159),\n",
       "  ('R-68', 'A-73', 0.72801530875936182),\n",
       "  ('G-79', 'W-159', -0.41475349579456955),\n",
       "  ('T-78', 'R-105', 0.61804680782288945),\n",
       "  ('F-85', 'A-156', 1.0898680153044815),\n",
       "  ('P-76', 'R-149', 0.61725019832273365),\n",
       "  ('Y-81', 'R-149', 0.90578849975736087),\n",
       "  ('G-79', 'S-153', 0.59821438582547848),\n",
       "  ('E-7', 'R-15', 0.67161955998530221),\n",
       "  ('I-62', 'I-154', -0.3824161871597247),\n",
       "  ('K-3', 'D-50', 0.21959442287831385),\n",
       "  ('G-79', 'L-106', -0.55367031371272979),\n",
       "  ('E-7', 'K-118', -0.4063583376922339),\n",
       "  ('D-121', 'V-125', -2.270744373519074),\n",
       "  ('C-80', 'S-150', -0.67416270686825519),\n",
       "  ('P-76', 'Y-144', 0.81939005963205813),\n",
       "  ('T-78', 'R-149', -1.413880329193177)],\n",
       " [('E-61', 'A-65', -1.8031998369392412),\n",
       "  ('Q-74', 'T-78', 0.85966543611720936),\n",
       "  ('A-65', 'Y-84', 1.2244891629923036),\n",
       "  ('E-12', 'R-15', 0.73565812989114376),\n",
       "  ('L-8', 'E-11', -1.0484643582715791),\n",
       "  ('S-10', 'K-14', -0.51749897863854522),\n",
       "  ('I-62', 'A-65', -1.0030591302822265),\n",
       "  ('A-152', 'A-156', -0.43000184210669923),\n",
       "  ('L-71', 'D-75', 0.51476220708870946),\n",
       "  ('K-151', 'E-155', -0.43495266967987295),\n",
       "  ('I-62', 'K-67', 0.87931504635142221),\n",
       "  ('E-11', 'R-15', -0.55925065143024344),\n",
       "  ('Y-83', 'Y-146', 0.75232880501449118),\n",
       "  ('K-66', 'A-70', 0.65392571557861467),\n",
       "  ('H-109', 'L-160', 0.22038057374140793),\n",
       "  ('T-63', 'S-89', -0.52226181759866031),\n",
       "  ('P-76', 'Y-146', -0.71406676472314967),\n",
       "  ('M-82', 'R-149', -0.35829571352018363),\n",
       "  ('Y-84', 'H-157', 0.41497617092212302),\n",
       "  ('I-20', 'I-129', 1.254255441412012),\n",
       "  ('I-16', 'F-51', -1.150150665974619),\n",
       "  ('D-64', 'K-67', 1.8728302118037723),\n",
       "  ('L-128', 'R-149', 0.32343430910118037),\n",
       "  ('E-7', 'R-13', -0.47742058881898719),\n",
       "  ('P-76', 'A-156', -0.32014960288773459),\n",
       "  ('A-73', 'M-82', -0.54507839404482206),\n",
       "  ('C-80', 'N-108', -0.36640774013988853),\n",
       "  ('Y-84', 'P-158', 0.54449263133629167),\n",
       "  ('Y-144', 'D-148', 0.75296787408431809),\n",
       "  ('Y-81', 'G-147', 0.80145544489450249),\n",
       "  ('G-79', 'S-153', -0.29606562125151314),\n",
       "  ('K-66', 'A-156', 0.36893593174987155),\n",
       "  ('I-62', 'Y-72', -0.94500156855307649),\n",
       "  ('Y-84', 'D-148', -0.90571488916306309),\n",
       "  ('A-6', 'R-15', 0.3679792746350703),\n",
       "  ('S-10', 'I-131', 0.59093383111408826),\n",
       "  ('P-76', 'G-147', 1.1174383362989571),\n",
       "  ('E-12', 'I-131', -0.64928926871827919),\n",
       "  ('S-10', 'I-16', 0.47572541649110994),\n",
       "  ('T-63', 'P-158', -0.5713565411553988)],\n",
       " [('S-4', 'L-8', 0.37205112199799373),\n",
       "  ('R-149', 'S-153', -0.61643715341485905),\n",
       "  ('R-149', 'A-152', -0.92178918970237356),\n",
       "  ('I-62', 'L-71', 0.43878326605184714),\n",
       "  ('C-80', 'Y-146', -0.35119688437756191),\n",
       "  ('H-157', 'L-160', 0.51585819683122625),\n",
       "  ('I-20', 'G-23', 0.96244322707697183),\n",
       "  ('I-20', 'I-129', 0.82790843416447613),\n",
       "  ('E-155', 'P-158', 0.53634333894407082),\n",
       "  ('D-17', 'E-21', 1.3648501299313092),\n",
       "  ('R-13', 'E-21', -0.80057592050830828),\n",
       "  ('G-23', 'F-51', -0.84457686846944247),\n",
       "  ('E-25', 'R-102', -1.506148831681946),\n",
       "  ('L-19', 'S-22', 1.3669097648463391),\n",
       "  ('A-156', 'L-160', 0.73581956009627225),\n",
       "  ('R-13', 'L-119', 0.40688173320761578),\n",
       "  ('L-19', 'I-129', -1.0221248257008961),\n",
       "  ('Y-83', 'A-152', 1.1267337547711114),\n",
       "  ('I-16', 'I-20', 1.4766879874529559),\n",
       "  ('E-25', 'H-56', -0.76879992766140359),\n",
       "  ('L-19', 'R-102', 0.73635841439634464),\n",
       "  ('S-22', 'F-51', -0.66185320203647324),\n",
       "  ('D-148', 'L-160', 0.39055825754077023),\n",
       "  ('H-109', 'D-148', 0.5155008591751401),\n",
       "  ('D-121', 'V-125', 0.72809790343947467),\n",
       "  ('K-66', 'I-154', -0.21065507472176595),\n",
       "  ('Y-92', 'L-119', 0.92731743950791568),\n",
       "  ('R-15', 'H-120', -0.80498498417164954),\n",
       "  ('R-149', 'A-156', -0.65092965685678938)],\n",
       " [('E-61', 'A-65', -0.8854858116174128),\n",
       "  ('Q-9', 'E-12', 0.93299925807250117),\n",
       "  ('D-17', 'H-120', 0.56661500386299501),\n",
       "  ('S-4', 'E-7', 0.55732124098392211),\n",
       "  ('S-110', 'Y-146', 0.9972432773800699),\n",
       "  ('Y-72', 'D-95', -0.49332646601446634),\n",
       "  ('C-80', 'Y-144', -0.76676201172177716),\n",
       "  ('S-150', 'S-153', -0.7987054273933416),\n",
       "  ('S-153', 'L-160', 0.65606462967558121),\n",
       "  ('Y-72', 'P-76', 0.62903291538793749),\n",
       "  ('Y-72', 'C-80', 0.7082577244839221),\n",
       "  ('T-63', 'S-89', -0.40640591315474806),\n",
       "  ('P-76', 'Y-146', 0.84252849599242474),\n",
       "  ('D-75', 'R-149', 0.5453650995725291),\n",
       "  ('E-99', 'R-102', -1.5091232147335887),\n",
       "  ('F-85', 'S-150', 0.97809606171338126),\n",
       "  ('Y-146', 'K-151', 0.50869892847418785),\n",
       "  ('G-23', 'E-26', 0.82653740296436407),\n",
       "  ('A-65', 'R-68', -1.1556506173613987),\n",
       "  ('P-76', 'S-150', -0.9138373882041636),\n",
       "  ('Q-86', 'P-158', -0.69107041216018528),\n",
       "  ('Y-81', 'W-159', 0.74942270824680457),\n",
       "  ('Y-72', 'L-160', -0.98237569091974297),\n",
       "  ('S-77', 'H-157', -0.55303121007954992),\n",
       "  ('H-109', 'I-154', 0.61897454792513606),\n",
       "  ('E-7', 'R-15', 0.40597564726824775),\n",
       "  ('L-19', 'V-53', -0.61163679324179954),\n",
       "  ('Y-84', 'D-148', -0.62067024296583684),\n",
       "  ('M-82', 'H-157', 0.87689622329982808),\n",
       "  ('I-62', 'P-158', 0.67939155030121201),\n",
       "  ('D-121', 'V-125', 2.6407396538371692),\n",
       "  ('F-85', 'H-157', -0.78066189825804577),\n",
       "  ('S-110', 'W-159', -1.2232670752125665),\n",
       "  ('S-10', 'D-17', 0.37326640526112992),\n",
       "  ('F-85', 'Y-146', -0.41655099201650819),\n",
       "  ('N-108', 'L-160', 0.43521440617771406)],\n",
       " [('R-13', 'D-121', -0.20146656089829421),\n",
       "  ('K-14', 'E-18', 0.68249155661723138),\n",
       "  ('E-12', 'I-16', 0.58880350990411601),\n",
       "  ('R-149', 'A-152', 2.4358523935445713),\n",
       "  ('Y-146', 'S-150', 0.94043716644239161),\n",
       "  ('D-148', 'A-152', 1.6058476534928552),\n",
       "  ('D-145', 'R-149', 1.2019885265829466),\n",
       "  ('T-117', 'Y-146', 0.89993114699612009),\n",
       "  ('S-150', 'S-153', -0.73067480813291386),\n",
       "  ('A-65', 'E-69', -0.68864626136862106),\n",
       "  ('Y-83', 'D-148', 1.6195036474158815),\n",
       "  ('Y-83', 'L-119', 0.59774449911381866),\n",
       "  ('Y-83', 'Y-144', -1.1413546858622063),\n",
       "  ('Y-55', 'C-80', 0.46235129819284582),\n",
       "  ('M-82', 'R-149', -0.29853982088787767),\n",
       "  ('N-114', 'D-145', -1.1505263855620986),\n",
       "  ('L-119', 'R-149', -0.60123632815872607),\n",
       "  ('D-148', 'S-153', -1.6604528399351344),\n",
       "  ('H-109', 'G-147', 1.1604110232262952),\n",
       "  ('A-73', 'G-79', 0.61201794822622535),\n",
       "  ('G-23', 'F-51', 0.32846686175072015),\n",
       "  ('G-23', 'E-26', 0.61514661710717411),\n",
       "  ('Y-83', 'D-145', 1.1063146718013455),\n",
       "  ('C-80', 'Y-83', -0.96842103369925392),\n",
       "  ('Y-84', 'L-160', 0.55249163094069065),\n",
       "  ('I-62', 'A-156', -0.61260171033079358),\n",
       "  ('Y-81', 'G-147', -1.1044336149074236),\n",
       "  ('T-117', 'Y-144', -0.93666032408967403),\n",
       "  ('Q-9', 'I-16', -0.47097829975953476),\n",
       "  ('F-85', 'T-117', -0.76185892662896326),\n",
       "  ('Y-83', 'H-109', -1.164617575536278),\n",
       "  ('A-152', 'L-160', 0.28690620521482585),\n",
       "  ('D-121', 'V-125', 1.805003864501908),\n",
       "  ('K-118', 'D-148', -0.58470162756249144),\n",
       "  ('F-85', 'Y-146', 0.74390816191721998),\n",
       "  ('P-76', 'G-147', 0.31142221238306828),\n",
       "  ('E-12', 'D-50', 0.2007456223438821),\n",
       "  ('I-20', 'H-56', -0.35611527722215297)],\n",
       " [('Q-9', 'E-12', 0.92086337434039478),\n",
       "  ('L-8', 'E-11', 1.5353331905386469),\n",
       "  ('R-149', 'S-153', 0.5890007918776361),\n",
       "  ('R-149', 'A-152', 1.3946509000116609),\n",
       "  ('S-4', 'E-7', -0.50766385202548392),\n",
       "  ('Y-146', 'S-150', 0.78767701698704906),\n",
       "  ('L-8', 'E-12', 0.95308930336716091),\n",
       "  ('Y-146', 'R-149', 1.1597345102155807),\n",
       "  ('H-157', 'L-160', -0.63972211339836083),\n",
       "  ('A-65', 'E-69', 1.0481926343057377),\n",
       "  ('I-20', 'I-129', 0.48570863002227077),\n",
       "  ('D-17', 'E-21', 0.73723025982111956),\n",
       "  ('R-13', 'E-21', -0.3735680163011606),\n",
       "  ('E-155', 'L-160', -0.38396057401627709),\n",
       "  ('E-7', 'R-13', -0.69348320999135959),\n",
       "  ('E-25', 'R-102', -0.82221014213593391),\n",
       "  ('T-78', 'Y-146', 0.94076802834805728),\n",
       "  ('R-15', 'E-26', -0.26786303695860714),\n",
       "  ('Y-72', 'L-160', 0.22766727741613951),\n",
       "  ('F-85', 'A-156', -0.74108599266786268),\n",
       "  ('Y-83', 'A-152', -0.58413339888932048),\n",
       "  ('I-16', 'I-20', 1.4250826299943966),\n",
       "  ('R-15', 'R-48', -0.33429881058181216),\n",
       "  ('R-68', 'A-156', -0.26868751268738811),\n",
       "  ('A-6', 'R-15', 0.32631478310815359),\n",
       "  ('I-62', 'I-154', 0.62379906851350697),\n",
       "  ('T-78', 'I-107', -0.43058691214552697),\n",
       "  ('S-4', 'R-15', 0.29588821970653334),\n",
       "  ('Q-9', 'L-119', 0.42311527459620191),\n",
       "  ('E-12', 'G-49', -0.44494533117931417),\n",
       "  ('M-82', 'S-150', -0.49008538822009262),\n",
       "  ('L-8', 'I-131', -0.47069751109457963),\n",
       "  ('C-80', 'S-150', -0.5183977979224853),\n",
       "  ('I-20', 'H-56', 0.51826104132922957)],\n",
       " [('Y-84', 'R-149', 0.96896584089200533),\n",
       "  ('I-154', 'K-161', 0.21786924002226676),\n",
       "  ('D-148', 'A-152', 1.1462483344969663),\n",
       "  ('H-157', 'L-160', 0.65679588188273808),\n",
       "  ('T-117', 'D-148', -1.2249043639824453),\n",
       "  ('M-82', 'Y-146', -0.62696488228778458),\n",
       "  ('Y-83', 'G-147', -1.3567939499986372),\n",
       "  ('P-76', 'Y-146', 0.49875128411393771),\n",
       "  ('R-13', 'E-21', -0.28110259025838635),\n",
       "  ('I-107', 'Y-146', 0.95747192630117617),\n",
       "  ('D-75', 'S-150', -1.034149965904446),\n",
       "  ('A-156', 'L-160', 0.68414632025393363),\n",
       "  ('D-148', 'I-154', -0.73022528825706956),\n",
       "  ('I-62', 'A-156', -1.068886315170847),\n",
       "  ('I-62', 'W-159', -0.71515531779063868),\n",
       "  ('L-19', 'I-129', 0.57109548022139345),\n",
       "  ('F-85', 'I-154', 1.6085330050097175),\n",
       "  ('I-62', 'Y-72', 0.50222927004410334),\n",
       "  ('E-69', 'R-149', 0.47903358121206063),\n",
       "  ('S-77', 'T-97', -0.53302774385268525),\n",
       "  ('Y-83', 'H-157', 0.93590551628895746),\n",
       "  ('H-109', 'D-148', -1.3913614323534864),\n",
       "  ('S-77', 'W-159', 0.17596889032682503),\n",
       "  ('A-73', 'A-156', 0.77973109304164701)],\n",
       " [('Y-55', 'T-117', -0.81295170392268457),\n",
       "  ('I-154', 'L-160', -0.90401650326553795),\n",
       "  ('H-56', 'G-104', -0.84967565927562105),\n",
       "  ('R-149', 'S-153', 0.80933128053547787),\n",
       "  ('G-147', 'K-151', 0.29796446517322051),\n",
       "  ('Y-81', 'L-106', 0.31307445619836305),\n",
       "  ('S-110', 'Y-146', 0.97405730350478337),\n",
       "  ('R-13', 'D-17', 0.62771528556604761),\n",
       "  ('T-117', 'Y-146', -1.1243579462985891),\n",
       "  ('T-117', 'D-148', -0.94459243250970315),\n",
       "  ('R-13', 'I-16', 1.2805021839610791),\n",
       "  ('Q-86', 'S-153', -0.74636305151266225),\n",
       "  ('K-3', 'E-11', 0.24511303271083959),\n",
       "  ('M-82', 'R-149', -0.90822720445966731),\n",
       "  ('R-13', 'D-123', -0.42497793963855007),\n",
       "  ('D-148', 'S-153', -1.0671576689998132),\n",
       "  ('Y-55', 'G-104', 1.1665748401863103),\n",
       "  ('D-75', 'Y-84', -0.56938560672585414),\n",
       "  ('R-149', 'L-160', 0.6808766720760121),\n",
       "  ('D-75', 'S-153', 1.2110866752741556),\n",
       "  ('G-57', 'E-99', -0.99397600819761411),\n",
       "  ('Y-146', 'W-159', 0.53309428338390819),\n",
       "  ('C-80', 'Y-83', -0.80297102432532463),\n",
       "  ('R-149', 'H-157', 0.25839108864097621),\n",
       "  ('T-78', 'R-105', -0.28336493428650594),\n",
       "  ('Y-81', 'W-159', -0.4246567209763723),\n",
       "  ('T-91', 'E-155', 0.76877134660250179),\n",
       "  ('Y-81', 'G-147', 1.2250953720366056),\n",
       "  ('Q-86', 'K-151', 0.68928111177257645),\n",
       "  ('I-62', 'I-154', -0.87987817038029259),\n",
       "  ('R-13', 'D-50', 0.46197644280770717),\n",
       "  ('H-109', 'D-148', -0.93997233617755271),\n",
       "  ('K-66', 'S-153', 0.50096152739551836),\n",
       "  ('D-121', 'V-125', 2.4528402584899029),\n",
       "  ('K-66', 'E-155', -0.50385106945410441),\n",
       "  ('D-75', 'K-151', -0.7692078013004584),\n",
       "  ('Y-72', 'E-155', -0.51066120309018059),\n",
       "  ('P-76', 'K-161', -0.1640532912625067),\n",
       "  ('I-62', 'S-153', 0.86911164696392029),\n",
       "  ('I-20', 'H-56', 0.21039719458498729),\n",
       "  ('D-95', 'R-105', 0.92133270109007881)],\n",
       " [('E-12', 'I-16', -0.5061844503079147),\n",
       "  ('S-10', 'K-14', -0.91012542717088918),\n",
       "  ('I-20', 'H-127', -0.84311712734675004),\n",
       "  ('Y-84', 'S-150', 0.45874890346017283),\n",
       "  ('I-16', 'I-122', 1.3631908862943678),\n",
       "  ('I-20', 'I-129', -1.2947456836961941),\n",
       "  ('R-13', 'D-123', 0.36581232782441375),\n",
       "  ('F-85', 'A-152', 0.42637221955917165),\n",
       "  ('I-107', 'Y-146', -0.53153503942621105),\n",
       "  ('Y-146', 'W-159', -0.66988906780912705),\n",
       "  ('A-65', 'R-68', 1.2582190234847348),\n",
       "  ('T-91', 'S-153', 0.47824213774362662),\n",
       "  ('N-114', 'R-134', -2.3706848749058405),\n",
       "  ('R-15', 'E-26', 0.37797754160143199),\n",
       "  ('L-19', 'I-129', 2.0739276931206678),\n",
       "  ('F-85', 'I-154', -1.0907379929342633),\n",
       "  ('K-3', 'R-15', 0.3448453234884668),\n",
       "  ('Y-81', 'R-149', 0.24928088519210342),\n",
       "  ('E-7', 'R-15', 0.73118166749012792),\n",
       "  ('E-69', 'R-149', 0.22286004244523142),\n",
       "  ('Y-144', 'W-159', 1.096525066331042),\n",
       "  ('D-148', 'L-160', 0.42900560720664654),\n",
       "  ('H-109', 'H-157', -0.34494604861761641),\n",
       "  ('R-2', 'D-135', -0.17309876586114437),\n",
       "  ('F-85', 'Y-146', 0.50463403241024896),\n",
       "  ('R-149', 'A-156', -1.0542749927989372)],\n",
       " [('H-56', 'G-104', 1.3900022991779362),\n",
       "  ('S-110', 'Y-146', 0.63242850460904487),\n",
       "  ('Y-84', 'S-150', -0.32685140953804354),\n",
       "  ('E-25', 'G-104', 1.3298134328604332),\n",
       "  ('Y-72', 'T-78', -0.28647699409897526),\n",
       "  ('E-12', 'K-118', 0.22134703770156916),\n",
       "  ('K-3', 'E-11', 0.17863317744301582),\n",
       "  ('I-20', 'I-129', -0.40462609619958173),\n",
       "  ('Y-84', 'Y-146', -0.53745572168886002),\n",
       "  ('Y-146', 'L-160', 0.50111920262003506),\n",
       "  ('Q-74', 'C-80', 0.40349125918832152),\n",
       "  ('Y-146', 'W-159', 0.65680661966258835),\n",
       "  ('G-79', 'W-159', -0.73227197883407091),\n",
       "  ('S-77', 'Y-146', 0.23954514021030696),\n",
       "  ('A-73', 'M-82', -0.39496492213186124),\n",
       "  ('C-115', 'D-145', 1.3278214404637003),\n",
       "  ('G-57', 'V-94', 1.2078534851873177),\n",
       "  ('G-79', 'Y-83', 0.86659992776515216),\n",
       "  ('G-57', 'A-96', 2.3590556478686331),\n",
       "  ('C-80', 'I-107', -1.2671992467095223),\n",
       "  ('T-78', 'L-106', -0.30055817139685481),\n",
       "  ('Y-83', 'H-157', -0.53607229054004168),\n",
       "  ('H-109', 'D-148', -0.34506079116088595),\n",
       "  ('E-69', 'A-156', 0.45353677359882527),\n",
       "  ('A-96', 'R-105', 1.7168481209914439),\n",
       "  ('S-10', 'I-131', -0.63587192345813714),\n",
       "  ('E-99', 'R-105', 1.4372501882732143),\n",
       "  ('G-57', 'D-95', 2.8233626168936947),\n",
       "  ('E-12', 'I-131', 0.4700316668099479),\n",
       "  ('R-13', 'L-19', -0.57826105264775485),\n",
       "  ('F-85', 'W-159', -0.22370324961812721),\n",
       "  ('D-95', 'R-105', -3.5948580359760398)],\n",
       " [('S-10', 'K-14', -0.48527967740179667),\n",
       "  ('G-79', 'M-82', -0.50959126866402915),\n",
       "  ('K-3', 'L-8', -0.21784073979581725),\n",
       "  ('S-153', 'H-157', 1.1186468663934208),\n",
       "  ('R-13', 'D-17', 0.32548651593522576),\n",
       "  ('S-153', 'A-156', 2.2679478743518033),\n",
       "  ('G-79', 'T-97', 0.3236036375600147),\n",
       "  ('Y-146', 'L-160', -0.59489170591537766),\n",
       "  ('I-16', 'F-51', 0.35506559264478826),\n",
       "  ('Q-74', 'C-80', 0.46649327784699418),\n",
       "  ('R-2', 'E-12', 0.23184366112030175),\n",
       "  ('T-91', 'H-157', -1.0531603987417733),\n",
       "  ('I-154', 'W-159', 0.62199093445418341),\n",
       "  ('Y-72', 'S-153', -0.61584024551840144),\n",
       "  ('S-4', 'E-11', 0.71225667629499745),\n",
       "  ('F-85', 'A-156', 0.93610896687061396),\n",
       "  ('Y-83', 'S-153', 0.30263060360798893),\n",
       "  ('Y-72', 'K-151', 0.79647560468281942),\n",
       "  ('H-109', 'I-154', -1.0966595793051885),\n",
       "  ('K-66', 'A-156', -0.45906236746440759),\n",
       "  ('A-6', 'R-15', 0.47856017461372813),\n",
       "  ('H-109', 'H-157', 1.1125295063889724),\n",
       "  ('R-2', 'D-135', -0.099001660501417579),\n",
       "  ('A-65', 'W-159', 0.54885206628600247),\n",
       "  ('D-121', 'V-125', 1.7890597455349453),\n",
       "  ('P-76', 'G-147', -0.55522456860032676),\n",
       "  ('Q-74', 'P-158', -0.26643573254273778)],\n",
       " [('D-17', 'H-120', -0.45425185453159889),\n",
       "  ('H-56', 'G-104', 0.85794384505691701),\n",
       "  ('Y-84', 'R-149', 0.61893383592685913),\n",
       "  ('E-11', 'R-15', -1.2104492004235645),\n",
       "  ('I-154', 'K-161', -0.27244232077752151),\n",
       "  ('S-150', 'I-154', 0.91020748258532014),\n",
       "  ('Y-84', 'S-150', -0.79547914717044765),\n",
       "  ('Y-83', 'Y-146', 0.60802372023640239),\n",
       "  ('R-13', 'D-17', 1.2878746929758458),\n",
       "  ('S-150', 'S-153', 0.86549671141359308),\n",
       "  ('I-20', 'H-120', -0.77404364124119374),\n",
       "  ('R-13', 'I-16', 1.3198324967088848),\n",
       "  ('K-24', 'F-51', -0.54768072971003323),\n",
       "  ('I-16', 'F-51', 1.080335883307715),\n",
       "  ('I-107', 'Y-146', 0.41444375674684064),\n",
       "  ('F-85', 'P-126', 0.56783694567908927),\n",
       "  ('H-56', 'L-128', -1.5766034430128362),\n",
       "  ('D-148', 'I-154', -0.67556194263753266),\n",
       "  ('Q-9', 'D-17', 0.90179110061148282),\n",
       "  ('E-12', 'D-17', -1.5166653898166513),\n",
       "  ('I-62', 'H-157', -0.22225958272248203),\n",
       "  ('F-85', 'A-156', -0.64341431557414042),\n",
       "  ('Y-81', 'G-147', -0.65776681911818113),\n",
       "  ('Y-87', 'P-126', 0.74123890918707713),\n",
       "  ('Y-72', 'T-91', -0.47568360841194229),\n",
       "  ('A-6', 'R-15', 0.25868968741065701),\n",
       "  ('I-62', 'I-154', 0.97878585890910508),\n",
       "  ('Q-86', 'K-161', 0.34572009777127932),\n",
       "  ('R-68', 'E-155', 0.67312952577952878),\n",
       "  ('Q-9', 'L-119', -0.51936255906453255),\n",
       "  ('D-121', 'V-125', 1.4872087017274156),\n",
       "  ('Y-92', 'L-119', -0.717741380999112),\n",
       "  ('I-62', 'S-153', -1.174984938814031),\n",
       "  ('S-10', 'D-50', 1.0225708163691063)],\n",
       " [('R-149', 'A-152', 0.79860599481977856),\n",
       "  ('I-62', 'L-71', 1.4121674099415251),\n",
       "  ('S-4', 'E-7', 0.30133503968651804),\n",
       "  ('L-71', 'M-82', 1.3570090641675889),\n",
       "  ('D-148', 'A-152', 0.62497212624331988),\n",
       "  ('T-78', 'T-97', 0.58300004847082987),\n",
       "  ('Y-146', 'R-149', -1.3091607713737625),\n",
       "  ('T-117', 'D-148', 0.45239610403295683),\n",
       "  ('M-82', 'Y-146', 0.4222119874225882),\n",
       "  ('F-85', 'R-149', 0.83937049011937659),\n",
       "  ('R-68', 'Y-84', 1.2730884682792161),\n",
       "  ('Y-84', 'H-157', 0.75837842047954829),\n",
       "  ('G-79', 'R-149', 0.81132452978724856),\n",
       "  ('F-85', 'A-152', -0.62045763664377718),\n",
       "  ('I-107', 'Y-146', -1.4102356338873832),\n",
       "  ('Y-146', 'S-153', -0.59927546970135559),\n",
       "  ('P-76', 'S-150', 0.48080778517375522),\n",
       "  ('F-85', 'P-126', -1.0795659953607106),\n",
       "  ('Y-72', 'Y-81', 1.1449464201663062),\n",
       "  ('R-68', 'Y-72', 1.4717675692797139),\n",
       "  ('A-73', 'W-159', -0.77666634701535453),\n",
       "  ('L-71', 'T-91', -1.0603360214105366),\n",
       "  ('P-76', 'R-149', -0.89333034100989217),\n",
       "  ('R-149', 'E-155', 0.95223326062681213),\n",
       "  ('E-25', 'H-56', -0.34371191226835285),\n",
       "  ('P-76', 'P-158', 0.55648192444302824),\n",
       "  ('E-69', 'R-149', -0.53126818613110682),\n",
       "  ('Y-81', 'S-150', -0.51957232650913976),\n",
       "  ('H-109', 'H-157', -0.73577197684801987),\n",
       "  ('R-13', 'D-50', -0.21593996359131201),\n",
       "  ('T-78', 'Y-84', -1.561944200164346),\n",
       "  ('K-5', 'L-19', 0.39063124484789002),\n",
       "  ('T-63', 'P-158', -0.48273585198093666),\n",
       "  ('A-73', 'A-156', 0.50728980734076734)],\n",
       " [('R-149', 'S-153', -0.99565388014744838),\n",
       "  ('R-149', 'A-152', -0.70795539976245758),\n",
       "  ('I-62', 'L-71', 0.63131673471129801),\n",
       "  ('K-3', 'L-8', -0.40995031898023959),\n",
       "  ('Y-146', 'S-150', 0.60246036499486255),\n",
       "  ('Y-72', 'D-95', 1.7136717855688088),\n",
       "  ('A-70', 'A-73', -0.81072999034013815),\n",
       "  ('Y-81', 'Y-146', 0.5004801818262935),\n",
       "  ('R-2', 'E-21', -0.13446704252917177),\n",
       "  ('S-150', 'S-153', 0.82124395892400603),\n",
       "  ('Y-83', 'G-147', -1.1155942498770299),\n",
       "  ('I-20', 'I-129', 0.27793786094632805),\n",
       "  ('R-13', 'D-123', -0.43825515558818384),\n",
       "  ('P-76', 'C-80', 0.77911929261690538),\n",
       "  ('Y-81', 'I-107', 0.671021428915483),\n",
       "  ('P-76', 'A-152', -0.53162665827753675),\n",
       "  ('R-68', 'H-157', 1.0545057488515617),\n",
       "  ('G-104', 'Y-144', -1.1840577965728061),\n",
       "  ('R-149', 'H-157', -0.92878405584173407),\n",
       "  ('R-68', 'Y-72', 1.1173684670322725),\n",
       "  ('L-8', 'G-49', -0.2585880594333787),\n",
       "  ('Y-81', 'G-147', -0.42095140656458174),\n",
       "  ('R-68', 'T-97', -1.0525708499272697),\n",
       "  ('H-109', 'I-154', 0.34290884416694156),\n",
       "  ('K-66', 'A-156', -0.33909439983176348),\n",
       "  ('E-25', 'H-56', 0.805763425874091),\n",
       "  ('E-69', 'R-149', 0.97589937345396693),\n",
       "  ('Q-9', 'L-119', 0.2205328930299022),\n",
       "  ('G-79', 'N-108', -0.48278110442096028),\n",
       "  ('F-85', 'H-157', 0.36662956626209164),\n",
       "  ('S-150', 'H-157', 0.8580341155154384),\n",
       "  ('I-62', 'E-155', -0.76313307235051064),\n",
       "  ('A-73', 'H-157', -0.89581408773437043),\n",
       "  ('F-85', 'Y-146', 0.71157454182268576),\n",
       "  ('Q-74', 'Y-146', 0.76938205693262018),\n",
       "  ('S-77', 'W-159', 0.3023160299378479),\n",
       "  ('S-10', 'I-16', 0.7311401228472254)],\n",
       " [('Y-72', 'D-75', -0.92053151342425532),\n",
       "  ('E-7', 'E-11', 1.0303913919593484),\n",
       "  ('E-25', 'G-104', 0.45346631724021258),\n",
       "  ('A-73', 'P-76', -0.39520519117274061),\n",
       "  ('R-2', 'E-21', 0.62176144436643443),\n",
       "  ('R-2', 'D-123', 0.46503435824030548),\n",
       "  ('D-75', 'Y-84', -0.16457347755339144),\n",
       "  ('R-2', 'R-13', -1.2248487472591385),\n",
       "  ('I-107', 'Y-146', 0.3808255382242885),\n",
       "  ('I-16', 'E-54', -0.77350706008205594),\n",
       "  ('D-121', 'V-125', -1.5770367379652774),\n",
       "  ('K-14', 'H-120', -0.70949135896740012),\n",
       "  ('L-8', 'I-131', 1.3206764519571619),\n",
       "  ('K-5', 'H-120', 0.69795564246264108),\n",
       "  ('Y-72', 'S-77', 0.58270495659772614),\n",
       "  ('S-77', 'M-82', 0.43359843438977774)],\n",
       " [('E-61', 'A-65', -1.3340354951618216),\n",
       "  ('H-56', 'G-104', 1.0237990350103778),\n",
       "  ('L-71', 'C-93', 0.69661540819000667),\n",
       "  ('D-148', 'A-152', -0.83005796626846851),\n",
       "  ('Y-81', 'Y-146', -0.68723069426219507),\n",
       "  ('Y-72', 'P-76', -1.5758837622489783),\n",
       "  ('R-68', 'Y-84', 1.060993088032494),\n",
       "  ('Q-74', 'Y-81', -1.064220748232394),\n",
       "  ('Q-86', 'E-155', -0.68041481185164732),\n",
       "  ('H-109', 'R-149', 0.59635664307274516),\n",
       "  ('Y-81', 'T-97', -0.84114492877590741),\n",
       "  ('C-80', 'W-159', 0.41103690728976366),\n",
       "  ('H-56', 'E-99', 0.5108534473541122),\n",
       "  ('D-75', 'R-149', -0.95476973377319041),\n",
       "  ('D-64', 'K-67', 1.6716009528197371),\n",
       "  ('Y-55', 'G-104', -1.4425821795713107),\n",
       "  ('D-75', 'Y-84', -0.8992667861899275),\n",
       "  ('I-107', 'Y-146', 0.60741578600047186),\n",
       "  ('Y-146', 'W-159', -1.3329710198473972),\n",
       "  ('D-75', 'C-80', 0.61004876886731541),\n",
       "  ('D-75', 'T-78', 1.4722179135597278),\n",
       "  ('D-75', 'S-150', -0.92453700902741942),\n",
       "  ('T-78', 'Y-146', 0.63981299500282041),\n",
       "  ('R-68', 'Y-72', 0.68549569343591787),\n",
       "  ('A-6', 'E-11', 0.47277550163676824),\n",
       "  ('Y-81', 'G-147', 0.58907845095640354),\n",
       "  ('K-5', 'D-50', -0.25610820494286596),\n",
       "  ('P-76', 'R-149', 0.49733283233982289),\n",
       "  ('L-19', 'R-102', 0.60548207155410927),\n",
       "  ('R-149', 'W-159', 1.0324769790847923),\n",
       "  ('I-62', 'I-154', 0.82903390464084337),\n",
       "  ('E-11', 'I-16', 0.89566760066148676),\n",
       "  ('S-10', 'I-131', -0.33699553983720243),\n",
       "  ('E-12', 'I-131', 0.7012313445405749),\n",
       "  ('L-8', 'D-17', -0.8165860708641226),\n",
       "  ('K-14', 'H-120', -0.48844672355650742),\n",
       "  ('K-5', 'H-120', 0.27007275267492498),\n",
       "  ('P-76', 'Y-144', 0.55810710505624683),\n",
       "  ('S-10', 'I-16', -1.1372451324856772),\n",
       "  ('Q-74', 'Y-83', 1.1699082340115503),\n",
       "  ('Y-72', 'S-77', 1.4631045446143338)],\n",
       " [('R-13', 'D-121', 0.39055821799833651),\n",
       "  ('H-56', 'G-104', -1.4760702828985879),\n",
       "  ('E-21', 'I-122', 0.5610647314044378),\n",
       "  ('E-7', 'S-10', 1.7985599967959967),\n",
       "  ('L-8', 'E-12', 1.3440106483169445),\n",
       "  ('Y-81', 'L-106', -0.47162388124871935),\n",
       "  ('D-148', 'A-152', 0.31683466375798314),\n",
       "  ('G-23', 'R-102', 0.57542888198562148),\n",
       "  ('M-82', 'Y-146', 0.48115333358588391),\n",
       "  ('I-20', 'R-102', -0.68061156818737611),\n",
       "  ('I-20', 'I-129', -0.53006573947860192),\n",
       "  ('G-79', 'R-149', 0.50317257003746219),\n",
       "  ('Y-146', 'L-160', 0.20013871012782491),\n",
       "  ('Y-55', 'G-104', 1.2979032429086632),\n",
       "  ('G-23', 'E-26', -0.9360598711749516),\n",
       "  ('D-75', 'T-78', -0.44793225773568679),\n",
       "  ('L-19', 'D-50', -0.44919373550289526),\n",
       "  ('R-15', 'E-26', 0.33034017123787029),\n",
       "  ('S-4', 'S-10', 0.67503085878442604),\n",
       "  ('K-3', 'E-21', 0.41611180762715111),\n",
       "  ('R-149', 'W-159', -0.75757006925520742),\n",
       "  ('S-10', 'G-49', 0.82068348966487881),\n",
       "  ('Y-144', 'W-159', 0.35997867264435657),\n",
       "  ('I-16', 'E-54', -1.5365568959421918),\n",
       "  ('C-80', 'S-153', -0.37172207260284218),\n",
       "  ('L-8', 'I-16', -2.1443081093721243)],\n",
       " [('E-12', 'R-15', -0.61839705286311797),\n",
       "  ('T-63', 'K-67', -0.88732572726650916),\n",
       "  ('H-56', 'G-104', 2.1405013423748009),\n",
       "  ('H-56', 'R-105', 1.0151582518276316),\n",
       "  ('D-145', 'D-148', 1.5051859730058783),\n",
       "  ('Y-84', 'R-149', 1.2569201728072195),\n",
       "  ('I-20', 'H-127', 0.3848515783284861),\n",
       "  ('D-145', 'R-149', 1.0937777640207975),\n",
       "  ('Y-55', 'R-105', -1.404303422940189),\n",
       "  ('Q-74', 'Y-81', -0.88813704922702341),\n",
       "  ('N-114', 'D-145', 1.0723826870349147),\n",
       "  ('Y-55', 'G-104', -2.3145591034081376),\n",
       "  ('Y-72', 'I-154', -1.5280415134024259),\n",
       "  ('A-65', 'R-68', 1.0997742174170959),\n",
       "  ('Y-72', 'S-150', 1.5036147708459828),\n",
       "  ('R-68', 'H-157', -0.19234648042121935),\n",
       "  ('T-117', 'G-147', -1.1004253014856833),\n",
       "  ('A-73', 'M-82', 0.3985093946775764),\n",
       "  ('E-69', 'P-158', -0.55462207410175557),\n",
       "  ('L-19', 'I-129', -0.83967178870324155),\n",
       "  ('Y-83', 'A-152', -0.44854403985428715),\n",
       "  ('S-77', 'H-157', -0.28278402090754429),\n",
       "  ('Y-81', 'R-149', -0.65129801150065059),\n",
       "  ('Y-72', 'T-91', 0.67614836691092506),\n",
       "  ('Y-81', 'S-150', -0.48278371217533989),\n",
       "  ('M-82', 'H-157', 0.48059608414067873),\n",
       "  ('H-109', 'D-148', 0.48346200240247744),\n",
       "  ('L-8', 'D-50', 0.11338434656519022),\n",
       "  ('D-121', 'V-125', 0.81724637175553805),\n",
       "  ('I-62', 'E-155', 0.89756790495693162),\n",
       "  ('Y-55', 'R-149', -1.4392167755269039),\n",
       "  ('C-80', 'P-158', 0.54100003169782396),\n",
       "  ('P-76', 'G-147', 0.57344909878966843),\n",
       "  ('T-63', 'P-158', 0.28736769773795273),\n",
       "  ('A-73', 'A-156', 0.70850233221814352)]]"
      ]
     },
     "execution_count": 111,
     "metadata": {},
     "output_type": "execute_result"
    }
   ],
   "source": [
    "residue_pairs"
   ]
  },
  {
   "cell_type": "code",
   "execution_count": 104,
   "metadata": {
    "collapsed": true
   },
   "outputs": [],
   "source": [
    "# ok so prepare movies for tic0 and 1 - put on Drive, and all the plots\n",
    "# next - sampling and movies of tics 2 to 9\n",
    "# then analyze distances from sparse"
   ]
  },
  {
   "cell_type": "code",
   "execution_count": 105,
   "metadata": {
    "collapsed": true
   },
   "outputs": [],
   "source": [
    "# let's add the AA symbols to those, and the value of the eigenvector weight"
   ]
  },
  {
   "cell_type": "code",
   "execution_count": 107,
   "metadata": {
    "collapsed": false
   },
   "outputs": [],
   "source": [
    "import mdtraj as md"
   ]
  },
  {
   "cell_type": "code",
   "execution_count": 108,
   "metadata": {
    "collapsed": true
   },
   "outputs": [],
   "source": [
    "sequence = md.load('tica/protein.pdb').top.to_fasta()[0]"
   ]
  },
  {
   "cell_type": "code",
   "execution_count": 109,
   "metadata": {
    "collapsed": false
   },
   "outputs": [
    {
     "data": {
      "text/plain": [
       "'SRKSKAELQSEERKRIDELIESGKEEGMKIDLIDGKGRGVIATKQFSRGDFVVEYHGDLIEITDAKKREALYAQDPSTGCYMYYFQYLSKTYCVDATRETNRLGRLINHSKCGNCQTKLHDIDGVPHLILIASRDIAAGEELLYDYGDRSKASIEAHPWLKH'"
      ]
     },
     "execution_count": 109,
     "metadata": {},
     "output_type": "execute_result"
    }
   ],
   "source": [
    "sequence"
   ]
  },
  {
   "cell_type": "code",
   "execution_count": 112,
   "metadata": {
    "collapsed": true
   },
   "outputs": [],
   "source": [
    "# now make 191-indexed version for Shi"
   ]
  },
  {
   "cell_type": "code",
   "execution_count": 113,
   "metadata": {
    "collapsed": true
   },
   "outputs": [],
   "source": [
    "residue_pairs = []\n",
    "\n",
    "for j in range(50):\n",
    "    residue_pairs.append([])\n",
    "    tic = j\n",
    "    \n",
    "    for i in range(1000):\n",
    "        if sparse_eigenv[tic, i] != 0:\n",
    "            res1 = distances[i,0]\n",
    "            res2 = distances[i,1]\n",
    "            residue_pairs[-1].append(('%s-%d' % (sequence[res1], res1+191), '%s-%d' % (sequence[res2], res2+191), sparse_eigenv[tic, i]))"
   ]
  },
  {
   "cell_type": "code",
   "execution_count": 114,
   "metadata": {
    "collapsed": false
   },
   "outputs": [
    {
     "data": {
      "text/plain": [
       "[[('E-251', 'A-255', 0.72558439218976023),\n",
       "  ('A-255', 'C-283', 0.4424227115925296),\n",
       "  ('R-258', 'D-285', 0.50959075609701587),\n",
       "  ('I-252', 'L-261', -0.38887214605377191),\n",
       "  ('L-261', 'C-283', -0.48329125246336069)],\n",
       " [('Q-264', 'S-267', 0.91468575210665293),\n",
       "  ('Q-276', 'S-343', -0.27068666567160121),\n",
       "  ('Y-262', 'G-269', 0.50348733911489485),\n",
       "  ('G-269', 'R-339', 0.46796757264925576),\n",
       "  ('D-254', 'K-257', 0.90373810792371645),\n",
       "  ('Y-262', 'Y-271', -0.57606560140500662),\n",
       "  ('Y-271', 'G-337', -0.43373912685493193),\n",
       "  ('Y-271', 'S-340', -0.35535692149762615),\n",
       "  ('T-253', 'P-348', -0.16819483899955151),\n",
       "  ('C-270', 'A-346', 0.2933158037083618)],\n",
       " [('D-207', 'H-310', -0.43840596903354939),\n",
       "  ('G-337', 'K-341', 0.50104697752409366),\n",
       "  ('Q-264', 'S-267', 0.68734252310632449),\n",
       "  ('C-270', 'R-339', 0.82635317260815411),\n",
       "  ('F-275', 'A-342', 0.40998132565271656),\n",
       "  ('N-298', 'W-349', -0.2232732692476935),\n",
       "  ('F-275', 'A-346', 0.39428312902672452),\n",
       "  ('Y-271', 'G-337', -0.79565094092765398),\n",
       "  ('Y-271', 'H-347', -0.40391320114440826)],\n",
       " [('H-246', 'T-290', -1.7298630425416739),\n",
       "  ('T-253', 'S-279', 0.56388034805530696),\n",
       "  ('I-210', 'I-319', 1.1514285801594009),\n",
       "  ('H-246', 'E-289', 1.5039740204850252),\n",
       "  ('E-289', 'R-292', 1.8322503498707681),\n",
       "  ('A-286', 'E-289', 0.74076969390610758),\n",
       "  ('G-247', 'E-289', 0.58265198874389745),\n",
       "  ('Y-262', 'S-340', 0.37528598638000793),\n",
       "  ('A-255', 'W-349', -0.27813231404100558)],\n",
       " [('K-195', 'L-198', 0.81656662578860972),\n",
       "  ('S-200', 'K-204', 0.65808272743252694),\n",
       "  ('E-197', 'S-200', 0.68288262973424863),\n",
       "  ('S-194', 'E-197', 0.87051344852797963),\n",
       "  ('A-255', 'E-259', 1.0401303370170414),\n",
       "  ('G-247', 'E-289', 0.55070602431712568),\n",
       "  ('Y-271', 'W-349', -0.13882155609005484),\n",
       "  ('E-259', 'P-348', 0.41689738290848755),\n",
       "  ('R-258', 'T-287', -0.45677843034401544),\n",
       "  ('Y-271', 'R-339', -1.0596426952564775),\n",
       "  ('E-259', 'R-339', -0.57209549922186842),\n",
       "  ('D-311', 'V-315', 2.0777811638022263)],\n",
       " [('R-258', 'D-285', 0.64392518868904958),\n",
       "  ('R-203', 'D-311', 0.34969344790674872),\n",
       "  ('H-246', 'T-290', 0.9768145808431864),\n",
       "  ('C-270', 'Y-334', 0.51109169189957615),\n",
       "  ('I-206', 'I-319', 0.64814921624401689),\n",
       "  ('I-210', 'I-319', 0.71770193207292066),\n",
       "  ('H-246', 'E-289', -0.97956120413310033),\n",
       "  ('I-206', 'D-240', 0.54259661823835348),\n",
       "  ('E-289', 'R-292', -0.91701340306527679),\n",
       "  ('L-209', 'F-241', 1.0330176759774565),\n",
       "  ('G-269', 'Y-273', 0.90193453470109652),\n",
       "  ('I-252', 'I-344', 0.35726916494256888),\n",
       "  ('Y-271', 'H-347', -0.49902777376756624),\n",
       "  ('G-269', 'L-296', -0.5962472387257739),\n",
       "  ('M-272', 'S-340', 0.35130771150748641)],\n",
       " [('Q-306', 'I-319', 2.3652441225443579),\n",
       "  ('F-241', 'A-322', 2.1417025465010244),\n",
       "  ('G-229', 'I-297', 0.88042205022435249),\n",
       "  ('H-299', 'D-335', 0.87651050242045714),\n",
       "  ('Q-306', 'A-322', 1.8005423696665994),\n",
       "  ('I-210', 'E-244', -0.92545463369575498),\n",
       "  ('I-297', 'Y-336', 1.1363014220392533),\n",
       "  ('M-218', 'K-234', 1.2754470009624741),\n",
       "  ('I-220', 'I-231', 2.3779888015989727),\n",
       "  ('M-218', 'V-242', 0.94505995584490843),\n",
       "  ('K-219', 'G-229', 2.2226363671346827),\n",
       "  ('H-246', 'L-318', 1.3739528330143351),\n",
       "  ('T-307', 'I-321', 2.3112653525957874),\n",
       "  ('V-242', 'I-319', 1.6207458470375051),\n",
       "  ('Y-245', 'H-317', 0.79755647412410824),\n",
       "  ('N-304', 'I-321', 3.3462023737357272),\n",
       "  ('N-298', 'L-332', 1.3771552925095194),\n",
       "  ('Y-273', 'H-299', 0.76520143583544209),\n",
       "  ('M-218', 'L-296', 0.97641446532115406),\n",
       "  ('C-305', 'R-324', 1.5201199877643139)],\n",
       " [('S-200', 'K-204', 0.72730827985122415),\n",
       "  ('Y-271', 'L-296', -0.86908413731142464),\n",
       "  ('G-213', 'R-292', -0.51198604589138297),\n",
       "  ('R-203', 'I-206', 0.90885506699108343),\n",
       "  ('N-304', 'D-335', 0.98281853889821369),\n",
       "  ('Y-271', 'I-297', 0.65105077493741814),\n",
       "  ('D-265', 'Y-274', -0.35986103631765037),\n",
       "  ('R-203', 'E-211', 0.40348432832225384),\n",
       "  ('F-275', 'S-340', -0.3411643215181252),\n",
       "  ('L-318', 'R-339', -0.50158595797145222),\n",
       "  ('G-213', 'E-216', 0.63013436966908065),\n",
       "  ('A-255', 'R-258', 1.06075220967218),\n",
       "  ('I-252', 'W-349', -0.53365440571656675),\n",
       "  ('Y-271', 'G-337', 0.70262975540175787),\n",
       "  ('Y-271', 'R-339', 1.1035980205399294),\n",
       "  ('E-215', 'N-291', -0.44848581415687455),\n",
       "  ('C-270', 'I-297', -0.61071529981985362),\n",
       "  ('A-255', 'W-349', 0.46617923259020971),\n",
       "  ('I-210', 'H-246', -0.35275471537131076)],\n",
       " [('E-251', 'A-255', -0.55507294728398959),\n",
       "  ('K-204', 'D-207', -1.090735219195786),\n",
       "  ('R-192', 'E-211', 0.30883985247114198),\n",
       "  ('R-192', 'D-207', 0.4152117005609961),\n",
       "  ('Q-264', 'Y-271', 0.72819655336460554),\n",
       "  ('E-202', 'H-310', -0.41082528472149321),\n",
       "  ('R-192', 'D-240', -0.41972764091826437),\n",
       "  ('C-305', 'D-335', 1.2664198076150126),\n",
       "  ('K-204', 'D-240', 0.42786261607571069),\n",
       "  ('L-198', 'I-321', -0.4989137863269274),\n",
       "  ('S-194', 'I-312', 0.42351126340902456)],\n",
       " [('T-307', 'D-338', 1.4035765306300356),\n",
       "  ('I-210', 'I-319', 1.2644175182169286),\n",
       "  ('L-309', 'R-339', -0.5730478533075305),\n",
       "  ('H-299', 'R-339', 0.44149692904852739),\n",
       "  ('Y-262', 'P-348', 0.5883128041540796),\n",
       "  ('Y-271', 'R-339', 1.0302219123040255),\n",
       "  ('G-269', 'Y-273', -0.80622366561268566),\n",
       "  ('R-258', 'A-346', 0.61860022962247196),\n",
       "  ('Y-271', 'S-340', -1.1164037630508281),\n",
       "  ('G-269', 'L-296', 0.52134935646953651)],\n",
       " [('G-337', 'S-340', -0.89691609758200486),\n",
       "  ('F-241', 'A-322', 1.4471741502289193),\n",
       "  ('D-335', 'D-338', -0.89489045383288734),\n",
       "  ('T-307', 'D-338', -0.88095968756486431),\n",
       "  ('Y-273', 'D-338', 0.58753544580437267),\n",
       "  ('D-265', 'R-339', 0.68542539807969827),\n",
       "  ('L-318', 'R-339', -0.32181304985760467),\n",
       "  ('I-297', 'Y-336', -1.2895904125579172),\n",
       "  ('Y-273', 'K-308', 0.92573204785863639),\n",
       "  ('T-307', 'G-337', 1.1014020923069325),\n",
       "  ('C-305', 'D-335', 1.6151185236124874),\n",
       "  ('Y-334', 'D-338', -0.90039558899928762),\n",
       "  ('S-267', 'H-347', -0.61324633456803435),\n",
       "  ('G-269', 'S-343', -0.34756553364441994),\n",
       "  ('N-304', 'I-321', 1.2395765251815238),\n",
       "  ('E-197', 'R-238', 0.2605139558671295),\n",
       "  ('Y-273', 'H-347', 0.35667318877102322),\n",
       "  ('C-270', 'S-340', -0.64862099450005106)],\n",
       " [('D-207', 'I-312', 0.4437106061899827),\n",
       "  ('R-203', 'D-207', -1.4917078818524645),\n",
       "  ('R-203', 'I-206', -1.1403951796071574),\n",
       "  ('Y-277', 'D-311', 0.72081708880656148),\n",
       "  ('N-304', 'D-335', 0.97834626302681493),\n",
       "  ('F-275', 'S-340', -0.64308502422523195),\n",
       "  ('Y-262', 'S-340', -0.35232216147229556),\n",
       "  ('R-203', 'Y-277', -0.59777342546469836),\n",
       "  ('K-195', 'S-237', 0.26817210756259147),\n",
       "  ('R-203', 'D-240', 0.48757843383027094),\n",
       "  ('D-311', 'V-315', 2.4338304017430841),\n",
       "  ('F-275', 'Y-336', -1.0137973607182624),\n",
       "  ('F-275', 'W-349', 0.68661459728811081),\n",
       "  ('C-270', 'S-340', 0.66298937275274761),\n",
       "  ('R-205', 'H-310', 0.47801120102509997)],\n",
       " [('R-203', 'D-311', -0.73421888563149729),\n",
       "  ('A-255', 'Y-274', -0.52983109547163776),\n",
       "  ('E-202', 'R-205', 0.6184698091607147),\n",
       "  ('C-270', 'Y-336', 0.40848407691283656),\n",
       "  ('G-213', 'R-292', 0.64689085016363534),\n",
       "  ('T-307', 'D-338', -0.68578931131042786),\n",
       "  ('S-340', 'S-343', -0.88686776087711827),\n",
       "  ('S-267', 'C-270', 0.84654183726790877),\n",
       "  ('P-266', 'H-299', 0.34871882682152922),\n",
       "  ('C-270', 'R-339', -0.24525395872561448),\n",
       "  ('R-203', 'D-313', 0.70022425613708084),\n",
       "  ('R-203', 'E-211', 1.057668766670131),\n",
       "  ('G-213', 'F-241', -0.67234449981914157),\n",
       "  ('D-265', 'T-268', -0.83318887405593334),\n",
       "  ('E-202', 'D-207', 0.95570694336099915),\n",
       "  ('T-268', 'I-297', 0.83717491868311644),\n",
       "  ('D-311', 'V-315', 0.97357698790958169),\n",
       "  ('F-275', 'Y-336', -0.68765892481960478),\n",
       "  ('Q-199', 'I-312', 0.28016860291276319)],\n",
       " [('R-203', 'D-311', -0.67458791541186425),\n",
       "  ('G-337', 'S-340', -0.98965373511563082),\n",
       "  ('I-344', 'K-351', 0.27516035659831539),\n",
       "  ('C-270', 'Y-336', 0.71096056516119766),\n",
       "  ('S-340', 'S-343', 2.1891179140581141),\n",
       "  ('S-343', 'L-350', 0.45270874326615318),\n",
       "  ('K-341', 'I-344', 1.3130403323975475),\n",
       "  ('R-203', 'E-211', 0.39415974517751196),\n",
       "  ('T-281', 'S-343', 0.64535040353141637),\n",
       "  ('G-303', 'Y-336', -1.3483129847163517),\n",
       "  ('I-252', 'H-347', 0.26453132861503126),\n",
       "  ('Y-334', 'D-338', -0.81988585246948353),\n",
       "  ('F-275', 'T-307', -0.77383833937578272),\n",
       "  ('D-311', 'V-315', 2.0911278035119611),\n",
       "  ('G-269', 'N-298', -0.50992208652095483)],\n",
       " [('S-200', 'K-204', 0.47598847060853766),\n",
       "  ('L-261', 'D-265', -0.76507985407275547),\n",
       "  ('G-213', 'R-292', -0.40788240915477969),\n",
       "  ('Y-336', 'R-339', -1.0512853029775986),\n",
       "  ('T-307', 'D-338', 0.56865116788536196),\n",
       "  ('Y-271', 'Y-336', -1.0664629406630404),\n",
       "  ('S-340', 'S-343', 1.4948238269878213),\n",
       "  ('R-203', 'I-206', 0.92994233157930994),\n",
       "  ('R-192', 'D-313', -0.098917619660566974),\n",
       "  ('F-275', 'S-343', 0.73348915727246133),\n",
       "  ('H-299', 'R-339', 0.77747054489700718),\n",
       "  ('Y-336', 'W-349', -0.62203105015248794),\n",
       "  ('Y-274', 'K-341', -0.61311570702258711),\n",
       "  ('D-265', 'Y-336', 0.36748231162157252),\n",
       "  ('Y-334', 'D-338', 0.69437331480591025),\n",
       "  ('R-258', 'A-346', -0.80701216928580011),\n",
       "  ('D-311', 'V-315', 2.2524472903255903),\n",
       "  ('S-300', 'W-349', 0.67255699342008191),\n",
       "  ('P-266', 'Y-334', 0.46499366958097321),\n",
       "  ('Q-264', 'Y-273', 0.51761515309457962)],\n",
       " [('R-203', 'D-311', -0.15441449963173773),\n",
       "  ('T-268', 'Y-271', 1.412914936328137),\n",
       "  ('L-198', 'E-202', 0.47240882602288098),\n",
       "  ('C-270', 'Y-336', -0.55780385569853919),\n",
       "  ('G-213', 'R-292', 0.62547222691757265),\n",
       "  ('Q-264', 'S-267', -0.8565258682432727),\n",
       "  ('S-267', 'Y-271', -0.71601925146411916),\n",
       "  ('S-267', 'C-270', -1.4247907841418266),\n",
       "  ('G-269', 'R-339', -0.39520866813614608),\n",
       "  ('Y-336', 'L-350', -0.33774063827703737),\n",
       "  ('Q-264', 'C-270', 0.88726597579048394),\n",
       "  ('R-203', 'E-211', 0.63903735665689887),\n",
       "  ('G-247', 'E-289', -0.43898440223198776),\n",
       "  ('G-213', 'E-216', -0.60812137928962995),\n",
       "  ('D-265', 'T-268', 1.7853376874440741),\n",
       "  ('S-267', 'H-299', 0.3722162536679734),\n",
       "  ('G-247', 'R-295', 0.68807845810517787),\n",
       "  ('T-268', 'I-297', -1.1366621809222135),\n",
       "  ('C-270', 'S-343', 0.51788982847238985),\n",
       "  ('Y-262', 'A-342', 0.23244654237255008),\n",
       "  ('G-269', 'A-286', -0.808863300608059),\n",
       "  ('G-269', 'N-298', 0.65510143657764741),\n",
       "  ('D-265', 'K-341', 0.60244856603972885)],\n",
       " [('G-269', 'M-272', -0.76330248970699577),\n",
       "  ('T-268', 'Y-271', -0.59706024860189799),\n",
       "  ('Y-336', 'S-340', 1.0758169242721229),\n",
       "  ('T-307', 'Y-336', 0.99036532936954313),\n",
       "  ('Y-273', 'D-338', -1.7057788259328626),\n",
       "  ('M-272', 'Y-336', -0.94460702895446225),\n",
       "  ('Y-273', 'L-309', -0.55722382327093889),\n",
       "  ('R-192', 'D-313', -0.066427922733710468),\n",
       "  ('Y-245', 'C-270', -0.48062202008522925),\n",
       "  ('I-210', 'I-312', 0.35255296314930296),\n",
       "  ('Y-271', 'I-297', -0.72232630093494488),\n",
       "  ('F-275', 'S-340', -1.4141319401582739),\n",
       "  ('H-299', 'G-337', 0.95722123492606859),\n",
       "  ('Y-273', 'K-308', -1.0801315439493606),\n",
       "  ('F-275', 'P-316', -0.66292789308973576),\n",
       "  ('Y-274', 'L-350', 0.47319828728192159),\n",
       "  ('I-252', 'A-346', 0.61928023216125683),\n",
       "  ('A-263', 'W-349', -0.28603365890356747),\n",
       "  ('Y-271', 'R-339', 0.96720513080578951),\n",
       "  ('Y-277', 'P-316', -0.71629028509847459),\n",
       "  ('Y-274', 'D-338', 0.88334297616359314),\n",
       "  ('T-268', 'I-297', 0.66721455833462784),\n",
       "  ('G-269', 'A-286', 0.62771152834606503),\n",
       "  ('D-311', 'V-315', 1.4648673475822684),\n",
       "  ('F-275', 'Y-336', 1.6030698285534468)],\n",
       " [('S-194', 'L-198', -1.1200315019383833),\n",
       "  ('R-203', 'D-311', 0.54767854119061776),\n",
       "  ('A-255', 'Y-274', -0.56663653325789454),\n",
       "  ('D-265', 'G-269', 0.4813182512759116),\n",
       "  ('S-194', 'E-197', -1.742420619019678),\n",
       "  ('E-251', 'D-254', 1.1595295093276354),\n",
       "  ('R-203', 'D-207', 0.44577420791116606),\n",
       "  ('Y-262', 'C-270', 0.53936365586471979),\n",
       "  ('T-253', 'S-279', 0.54965993077472319),\n",
       "  ('Y-274', 'H-347', 0.40174451925551014),\n",
       "  ('I-210', 'I-319', -0.9412597614859699),\n",
       "  ('Y-336', 'L-350', 0.3565224397960472),\n",
       "  ('C-270', 'W-349', 0.32949739567279301),\n",
       "  ('E-289', 'R-292', 0.82230051014797889),\n",
       "  ('G-247', 'E-289', 0.51587812178206405),\n",
       "  ('E-251', 'K-257', 0.44373616712350927),\n",
       "  ('D-265', 'T-268', 1.1732291107509443),\n",
       "  ('N-298', 'W-349', -0.31315613237720247),\n",
       "  ('E-259', 'R-339', -0.75202362121459843),\n",
       "  ('Q-199', 'L-309', 0.34771982899360565),\n",
       "  ('D-311', 'V-315', 1.0894179509746087),\n",
       "  ('F-275', 'Y-336', -0.60013963135313819)],\n",
       " [('I-344', 'L-350', 0.56753931037024619),\n",
       "  ('R-339', 'A-342', 1.4146085096956835),\n",
       "  ('G-269', 'M-272', 0.88520142148977154),\n",
       "  ('G-337', 'K-341', 0.7974006465847634),\n",
       "  ('S-300', 'Y-336', 1.1459952344688433),\n",
       "  ('C-270', 'Y-336', -0.78100055604567109),\n",
       "  ('S-340', 'I-344', 0.63205069800458236),\n",
       "  ('Q-264', 'M-272', -0.36676957503293023),\n",
       "  ('S-340', 'S-343', 0.73239533183491379),\n",
       "  ('L-261', 'Q-264', 0.82785591030335726),\n",
       "  ('M-272', 'R-339', -0.54232127236466776),\n",
       "  ('Y-274', 'Y-336', 0.90812649229268483),\n",
       "  ('I-206', 'F-241', 0.8011750825572419),\n",
       "  ('R-203', 'E-211', 0.56610331871286013),\n",
       "  ('I-297', 'Y-336', -1.3371286585121458),\n",
       "  ('Y-273', 'K-308', 0.66250144774285646),\n",
       "  ('F-275', 'P-316', 1.2224032310142763),\n",
       "  ('C-270', 'N-298', 0.79906405816700476),\n",
       "  ('R-203', 'Y-277', -0.31872550098217434),\n",
       "  ('P-266', 'P-348', -0.24672299780604162),\n",
       "  ('Y-274', 'D-338', -0.94842615990996793),\n",
       "  ('N-304', 'I-321', 1.0370451318099285),\n",
       "  ('Y-271', 'S-340', 1.173802472314539),\n",
       "  ('Y-271', 'H-347', 0.41916381681112602),\n",
       "  ('D-311', 'V-315', -3.6714637068840448),\n",
       "  ('E-259', 'K-341', -0.33316629401140557),\n",
       "  ('F-275', 'W-349', -0.35985928086594204),\n",
       "  ('Y-262', 'S-267', 0.68639746043999939)],\n",
       " [('R-258', 'D-285', -0.2252817090068146),\n",
       "  ('H-246', 'R-295', -0.96672076536837948),\n",
       "  ('Y-271', 'L-296', 0.92791515865071472),\n",
       "  ('Y-273', 'D-338', -0.51084227054368248),\n",
       "  ('G-269', 'T-287', 0.85852505197968976),\n",
       "  ('Y-271', 'Y-334', 0.61041893866414743),\n",
       "  ('Y-245', 'C-270', 0.78934926207632161),\n",
       "  ('I-206', 'F-241', -1.5366901758108926),\n",
       "  ('R-203', 'E-211', -0.2859419031969001),\n",
       "  ('Y-245', 'Y-336', -0.54675586577504764),\n",
       "  ('I-297', 'Y-336', -1.4054157447445188),\n",
       "  ('F-275', 'P-316', 0.80858383694051106),\n",
       "  ('R-203', 'L-309', 0.67725543058206872),\n",
       "  ('Y-277', 'P-316', 0.68789720932912812),\n",
       "  ('Y-271', 'S-340', 0.79128271753709223),\n",
       "  ('F-275', 'T-307', -1.1213271149482416),\n",
       "  ('D-311', 'V-315', 3.0680266969490577),\n",
       "  ('E-259', 'K-341', 0.87627564624972132),\n",
       "  ('A-263', 'A-346', 0.41367337256987347)],\n",
       " [('H-246', 'T-290', 0.69884276060111772),\n",
       "  ('T-268', 'Y-271', 0.77406052066490716),\n",
       "  ('L-261', 'D-265', 0.67867992600199323),\n",
       "  ('E-251', 'D-254', 1.4496648095689488),\n",
       "  ('A-260', 'A-263', 0.92908734183418051),\n",
       "  ('C-270', 'Y-334', -1.0426352746248848),\n",
       "  ('A-255', 'E-259', 1.1184502180440243),\n",
       "  ('Y-273', 'D-338', 0.51697770352842598),\n",
       "  ('L-261', 'Q-264', 0.75828168845463806),\n",
       "  ('M-272', 'Y-336', -0.73430444880626522),\n",
       "  ('F-275', 'R-339', -0.89250084072402169),\n",
       "  ('E-259', 'A-263', 1.2288459581563251),\n",
       "  ('Y-274', 'A-346', -0.46471931323185905),\n",
       "  ('R-203', 'D-313', -0.17711190350854789),\n",
       "  ('I-206', 'F-241', -0.38154588399633588),\n",
       "  ('H-246', 'E-289', -0.68385695594417439),\n",
       "  ('D-265', 'R-339', 0.42839575531992219),\n",
       "  ('D-265', 'Y-274', 0.58376391238280256),\n",
       "  ('D-254', 'R-258', 1.2453928886245977),\n",
       "  ('A-263', 'G-269', 0.47369870257810875),\n",
       "  ('E-215', 'R-292', 0.79150858030025362),\n",
       "  ('T-281', 'I-344', 0.56689741836937235),\n",
       "  ('R-258', 'Y-262', 0.89102804193384655),\n",
       "  ('Y-271', 'G-337', 0.648433660558422),\n",
       "  ('D-311', 'V-315', 1.8326214730092192),\n",
       "  ('Q-264', 'Y-336', -0.62979179410038999),\n",
       "  ('G-227', 'S-267', 0.25771521991645246),\n",
       "  ('C-270', 'A-346', -0.5250380835937084)],\n",
       " [('D-335', 'D-338', -0.51429104993285524),\n",
       "  ('E-251', 'D-254', 0.74223386561419213),\n",
       "  ('D-335', 'R-339', -0.963930517932305),\n",
       "  ('R-203', 'D-207', -0.68374453148007008),\n",
       "  ('Q-264', 'M-272', 0.54445462901297725),\n",
       "  ('A-255', 'E-259', 1.0992009018072029),\n",
       "  ('D-254', 'K-257', 0.9916908521430633),\n",
       "  ('D-338', 'S-343', -1.0562284312335157),\n",
       "  ('Y-271', 'I-297', -0.71212079622986302),\n",
       "  ('F-275', 'S-340', 0.4908515147774542),\n",
       "  ('D-254', 'R-258', 0.80192075264214324),\n",
       "  ('A-255', 'R-258', 1.3067227668047292),\n",
       "  ('Y-274', 'D-338', -0.41886611582536559),\n",
       "  ('Y-334', 'W-349', -0.90130521777713324),\n",
       "  ('T-268', 'I-297', 0.77308168377653752),\n",
       "  ('H-299', 'H-347', 0.36576935031615954),\n",
       "  ('R-203', 'D-240', 0.39907136196282061),\n",
       "  ('A-255', 'W-349', 0.35471440811939714),\n",
       "  ('S-194', 'R-238', 0.17334853009638235),\n",
       "  ('R-258', 'I-344', -0.5691799230626462),\n",
       "  ('P-266', 'L-350', 0.42923504413758884),\n",
       "  ('C-270', 'S-340', 0.26784853420319743),\n",
       "  ('L-278', 'W-349', -0.52006026320728715),\n",
       "  ('Y-262', 'S-267', -0.7011870436038441),\n",
       "  ('S-340', 'W-349', 0.57268580893279109)],\n",
       " [('S-194', 'L-198', 0.89316195489004724),\n",
       "  ('Y-274', 'R-339', -0.68858930314707834),\n",
       "  ('C-270', 'Y-336', 0.50345757153046089),\n",
       "  ('E-251', 'D-254', 1.4562497019679963),\n",
       "  ('D-335', 'R-339', 1.1405295952820618),\n",
       "  ('Q-264', 'S-267', 1.3113184731657466),\n",
       "  ('Q-264', 'M-272', 0.74228643544960837),\n",
       "  ('T-253', 'S-279', 0.54766832330358606),\n",
       "  ('Q-264', 'C-270', 0.79945146665528433),\n",
       "  ('R-203', 'E-211', -0.36775807517523051),\n",
       "  ('L-318', 'R-339', -0.63569516807272497),\n",
       "  ('E-251', 'K-257', 0.76282765042426059),\n",
       "  ('T-281', 'I-344', 0.76390364721952098),\n",
       "  ('A-263', 'M-272', -0.77866571394485651),\n",
       "  ('T-281', 'L-350', -0.67824542828556822),\n",
       "  ('G-269', 'Y-273', -0.72591755675895342),\n",
       "  ('L-209', 'R-292', -0.36236849204587962),\n",
       "  ('R-258', 'A-346', 0.59525087482947159),\n",
       "  ('I-252', 'I-344', 0.65152999348546603),\n",
       "  ('T-268', 'I-297', 0.28552739213633166),\n",
       "  ('D-311', 'V-315', -2.305880103598517),\n",
       "  ('A-263', 'H-347', -0.40196455071524045),\n",
       "  ('N-298', 'L-350', 0.38338971268323291),\n",
       "  ('C-270', 'S-340', 0.50371770011420292),\n",
       "  ('Y-262', 'S-267', -0.573160271943425),\n",
       "  ('A-263', 'A-346', -0.44426828047906181)],\n",
       " [('T-307', 'D-335', 1.1346979534877875),\n",
       "  ('I-344', 'K-351', -0.39894344694158068),\n",
       "  ('H-347', 'L-350', -1.2301021243771091),\n",
       "  ('S-343', 'L-350', -0.46252686407933685),\n",
       "  ('S-267', 'C-270', 1.3164746025438441),\n",
       "  ('R-339', 'L-350', -0.50215326624970313),\n",
       "  ('D-265', 'Y-271', 0.58540564431286546),\n",
       "  ('I-297', 'Y-336', -0.67692247377260228),\n",
       "  ('D-265', 'S-340', -0.30761826077208571),\n",
       "  ('A-346', 'L-350', -0.72663786095671701),\n",
       "  ('A-346', 'W-349', -0.83072281598886455),\n",
       "  ('L-209', 'I-319', -0.61707130649833009),\n",
       "  ('Y-273', 'A-342', 1.107698976874778),\n",
       "  ('G-269', 'Y-273', 1.053422935479549),\n",
       "  ('L-209', 'R-292', 0.48018037849485978),\n",
       "  ('E-259', 'R-339', 0.4467529692263682),\n",
       "  ('Y-271', 'H-347', 0.46407118554257715),\n",
       "  ('G-269', 'L-296', -0.44951458537382016),\n",
       "  ('D-311', 'V-315', 1.0661297055904977),\n",
       "  ('G-269', 'N-298', -0.5801891904176113),\n",
       "  ('F-275', 'Y-336', 0.51848748333421479),\n",
       "  ('N-298', 'L-350', 0.77731868270263749)],\n",
       " [('S-200', 'K-204', 0.82797410669448013),\n",
       "  ('H-246', 'T-290', 0.9671560024561251),\n",
       "  ('I-252', 'L-261', 0.49745366049589151),\n",
       "  ('A-342', 'A-346', -1.0751385093349404),\n",
       "  ('S-194', 'E-197', 0.92680094914386812),\n",
       "  ('Y-273', 'Y-336', 1.2363577685315934),\n",
       "  ('F-275', 'R-339', 1.2589096237346056),\n",
       "  ('S-267', 'C-270', -0.70882293997108203),\n",
       "  ('T-253', 'S-279', 0.45650529351537245),\n",
       "  ('H-246', 'E-289', -1.2245200970438572),\n",
       "  ('F-275', 'S-340', -1.3000086825808586),\n",
       "  ('Y-262', 'I-344', -0.64593598483536907),\n",
       "  ('A-255', 'R-258', 1.1627472085306132),\n",
       "  ('F-275', 'P-316', 1.4646979442537549),\n",
       "  ('G-303', 'Y-336', -1.0573014170622819),\n",
       "  ('R-258', 'H-347', -0.42469873772975419),\n",
       "  ('F-275', 'A-346', 0.6118459497435198),\n",
       "  ('Y-271', 'R-339', 0.34468081929812944),\n",
       "  ('G-269', 'Y-273', -1.1957972098517824),\n",
       "  ('Y-277', 'P-316', 1.1436609369002588),\n",
       "  ('Y-262', 'T-281', 0.31654689484355647),\n",
       "  ('F-275', 'T-307', -0.88310160746874089),\n",
       "  ('G-247', 'L-318', -0.75070910860975371),\n",
       "  ('S-200', 'I-321', -0.20078625466865138),\n",
       "  ('C-270', 'P-348', 0.3546484826825318),\n",
       "  ('D-265', 'K-341', -0.27056979230680389),\n",
       "  ('Y-282', 'L-309', -0.82191250973185603),\n",
       "  ('K-195', 'H-310', 0.38016242929939464),\n",
       "  ('K-195', 'L-209', -0.43921456979120571)],\n",
       " [('R-203', 'D-311', 0.66569368480280222),\n",
       "  ('H-246', 'G-294', 1.5245688956391075),\n",
       "  ('S-200', 'K-204', 0.48760966957841601),\n",
       "  ('I-252', 'L-261', -1.3216109652067591),\n",
       "  ('K-341', 'E-345', 0.60506007814889573),\n",
       "  ('Y-271', 'L-296', -0.37928594456706299),\n",
       "  ('E-215', 'G-294', 1.2841276539896933),\n",
       "  ('S-343', 'L-350', 0.2413423263762729),\n",
       "  ('G-269', 'T-287', -0.64367923411601247),\n",
       "  ('Y-273', 'L-309', 0.38403570398786463),\n",
       "  ('S-267', 'C-270', 0.57407675187403218),\n",
       "  ('I-210', 'R-292', 0.79366327486834931),\n",
       "  ('I-206', 'D-240', -0.38807890503797021),\n",
       "  ('Y-245', 'G-294', -1.557475997258547),\n",
       "  ('R-203', 'E-211', -0.82925963940689917),\n",
       "  ('D-265', 'S-343', 0.61883057739632685),\n",
       "  ('G-247', 'E-289', 0.50755590847941079),\n",
       "  ('D-265', 'T-268', -0.89379876144412418),\n",
       "  ('R-205', 'G-239', -0.43528042818097362),\n",
       "  ('C-270', 'Y-273', -0.88670811092715729),\n",
       "  ('G-269', 'Y-334', 0.39159126870357164),\n",
       "  ('Y-273', 'S-343', 0.56899828832087362),\n",
       "  ('Y-277', 'P-316', 0.93749689520884305),\n",
       "  ('I-252', 'I-344', -0.42680881185635827),\n",
       "  ('T-268', 'I-297', 0.66015857453940185),\n",
       "  ('Y-273', 'A-286', -1.0370460176199097),\n",
       "  ('A-286', 'R-295', -1.8818618091542678),\n",
       "  ('Y-273', 'W-349', 0.42961154641974308),\n",
       "  ('T-268', 'W-349', -0.55159903583757008),\n",
       "  ('P-266', 'Y-334', -0.82818024134849666),\n",
       "  ('D-285', 'R-295', 2.0066006390353395)],\n",
       " [('Q-199', 'E-202', -1.031447908469711),\n",
       "  ('R-203', 'D-311', 0.38248192782305729),\n",
       "  ('E-202', 'I-206', 0.66975596152960803),\n",
       "  ('R-339', 'A-342', 1.4653654296575724),\n",
       "  ('K-204', 'D-207', 0.70057618221343521),\n",
       "  ('S-194', 'E-197', 0.60999573365345194),\n",
       "  ('Y-336', 'S-340', -1.9517830116977415),\n",
       "  ('S-340', 'I-344', 0.5310927802927764),\n",
       "  ('D-338', 'A-342', 1.0082054764438066),\n",
       "  ('Y-271', 'R-295', 0.48914627943237271),\n",
       "  ('T-307', 'D-338', -1.1034915755798989),\n",
       "  ('R-192', 'D-207', 0.29823688317462632),\n",
       "  ('S-267', 'C-270', -0.66609557420925058),\n",
       "  ('Q-306', 'G-337', -0.4980003911624698),\n",
       "  ('Y-271', 'T-287', 0.49702910583128634),\n",
       "  ('R-339', 'L-350', -0.86821862729447663),\n",
       "  ('R-203', 'E-211', -0.59009833099402675),\n",
       "  ('R-192', 'E-202', -0.31880745352892087),\n",
       "  ('G-213', 'F-241', -0.65327044248562338),\n",
       "  ('I-344', 'W-349', 0.46355326862072593),\n",
       "  ('E-215', 'R-292', -0.36937456470766655),\n",
       "  ('I-252', 'W-349', 0.23566893438135),\n",
       "  ('Y-271', 'R-339', -0.59945876868251335),\n",
       "  ('E-259', 'R-339', 0.89616888507300951),\n",
       "  ('Y-334', 'G-337', 1.4611706515995215),\n",
       "  ('E-259', 'L-350', 0.21520264041778769),\n",
       "  ('D-311', 'V-315', 1.4839602040699786),\n",
       "  ('E-259', 'K-341', -0.87316486978790353),\n",
       "  ('R-203', 'L-209', -0.9389067458963436),\n",
       "  ('C-270', 'S-340', 0.40366327181870693)],\n",
       " [('E-201', 'K-204', -1.1842118789641407),\n",
       "  ('S-194', 'E-197', 1.3332049287330843),\n",
       "  ('T-268', 'Y-271', 0.51096977006459776),\n",
       "  ('E-201', 'R-205', -1.2698591406181894),\n",
       "  ('T-268', 'M-272', 0.5889302674399709),\n",
       "  ('G-213', 'R-292', -0.44444234307223124),\n",
       "  ('Y-273', 'Y-336', -0.64399207041936213),\n",
       "  ('R-192', 'D-207', -0.47304983942401924),\n",
       "  ('S-267', 'C-270', 0.48210024741750684),\n",
       "  ('K-193', 'E-201', 0.50777248461959479),\n",
       "  ('C-270', 'W-349', 0.46345070288370221),\n",
       "  ('F-275', 'A-342', -0.21252979348594447),\n",
       "  ('A-263', 'G-269', 0.58498434362483998),\n",
       "  ('P-266', 'S-340', 0.11671075356328049),\n",
       "  ('R-192', 'D-311', 0.47895066005422388),\n",
       "  ('Y-262', 'Y-271', 0.53436644206980544),\n",
       "  ('N-298', 'W-349', -0.2876197545181246),\n",
       "  ('E-201', 'K-308', 0.26361512468022669),\n",
       "  ('T-281', 'L-350', 0.37370615059910128),\n",
       "  ('K-193', 'E-211', -0.35956743413201958),\n",
       "  ('K-193', 'S-237', -0.53507751893484201),\n",
       "  ('K-193', 'D-311', 0.30788190579286207),\n",
       "  ('Y-262', 'S-267', -0.55773229428101667)],\n",
       " [('S-200', 'R-203', -0.78423535438415015),\n",
       "  ('S-200', 'K-204', -0.50070688838579813),\n",
       "  ('S-194', 'E-197', -0.51861810772627248),\n",
       "  ('T-268', 'Y-271', -0.48148849915543429),\n",
       "  ('L-198', 'E-202', -0.57298881490076548),\n",
       "  ('E-201', 'R-205', -0.45107346516858815),\n",
       "  ('D-335', 'R-339', 0.49873694475703206),\n",
       "  ('Y-262', 'Y-274', 0.70475295904020752),\n",
       "  ('T-268', 'M-272', -0.90654487732383671),\n",
       "  ('G-213', 'R-292', -0.42095889853257007),\n",
       "  ('A-255', 'E-259', 1.311749454641421),\n",
       "  ('G-269', 'T-287', 0.78342856893326485),\n",
       "  ('E-259', 'A-263', 0.87589705693683317),\n",
       "  ('Y-262', 'G-269', -0.9199590318508315),\n",
       "  ('C-270', 'R-339', -0.66229654430383622),\n",
       "  ('Q-306', 'G-337', 0.6676986495340852),\n",
       "  ('P-266', 'C-270', -0.4799794675676885),\n",
       "  ('D-254', 'K-257', 1.489267057641374),\n",
       "  ('R-339', 'L-350', -0.33525312689100534),\n",
       "  ('R-203', 'E-211', 0.27923026023174935),\n",
       "  ('Y-245', 'Y-336', 0.46685051843099346),\n",
       "  ('P-266', 'S-343', 0.59116338737561347),\n",
       "  ('D-254', 'R-258', 1.8690593698097817),\n",
       "  ('Y-274', 'W-349', 0.37831035800348511),\n",
       "  ('T-268', 'Y-336', 0.92739059703268945),\n",
       "  ('Y-271', 'W-349', 0.40944263079846599),\n",
       "  ('R-205', 'S-237', 0.26444423266359701),\n",
       "  ('Y-271', 'G-337', -0.97488129208507179),\n",
       "  ('H-299', 'I-344', 0.37822677381218844),\n",
       "  ('D-265', 'W-349', -0.55626689329750578),\n",
       "  ('C-270', 'S-343', 0.56396214410284551),\n",
       "  ('Y-273', 'H-299', -0.82081722093393661),\n",
       "  ('A-263', 'T-287', -0.53618297030151041),\n",
       "  ('R-258', 'I-344', -0.27723940959280219),\n",
       "  ('P-266', 'L-350', -0.43904113717612758)],\n",
       " [('E-251', 'A-255', -0.82595602162701665),\n",
       "  ('S-194', 'L-198', 0.61274687497456759),\n",
       "  ('E-202', 'I-206', 1.231475171986177),\n",
       "  ('E-201', 'K-204', 0.80467911567417783),\n",
       "  ('S-194', 'E-197', 0.72565125794162055),\n",
       "  ('Y-273', 'Y-336', -1.097010937488746),\n",
       "  ('R-203', 'D-207', 0.94934353689495055),\n",
       "  ('G-269', 'Y-336', -0.26109987377856736),\n",
       "  ('Y-273', 'S-340', 1.0125792578654076),\n",
       "  ('Y-274', 'I-344', 0.60120546284442078),\n",
       "  ('M-272', 'R-339', 0.98360554957523616),\n",
       "  ('C-270', 'R-339', -0.63493577089144659),\n",
       "  ('Y-336', 'L-350', 0.34993328968171894),\n",
       "  ('R-192', 'E-208', 0.23297212674872497),\n",
       "  ('R-203', 'E-211', -0.33238893362756405),\n",
       "  ('F-275', 'A-342', -1.0812839947114241),\n",
       "  ('Y-274', 'W-349', 0.85634211013467187),\n",
       "  ('E-345', 'L-350', -0.63593163680973708),\n",
       "  ('I-252', 'W-349', 0.45106835088642799),\n",
       "  ('H-299', 'I-344', 0.42250723078020264),\n",
       "  ('R-258', 'A-346', -0.61597191140909469),\n",
       "  ('K-193', 'D-240', 0.19965658824597848),\n",
       "  ('H-299', 'D-338', -0.81324733480608857),\n",
       "  ('Q-199', 'L-309', -0.3884159487105614),\n",
       "  ('D-311', 'V-315', -2.7127865617379845),\n",
       "  ('E-259', 'K-341', 0.45303897013180483)],\n",
       " [('Q-199', 'E-202', 1.5980782342173447),\n",
       "  ('Q-199', 'R-203', 0.66375876905748843),\n",
       "  ('E-202', 'I-206', -0.73915340158306464),\n",
       "  ('Y-273', 'D-285', 1.447465548611917),\n",
       "  ('S-200', 'K-204', 0.74566402005130394),\n",
       "  ('S-194', 'E-197', -0.97183793849900468),\n",
       "  ('Y-336', 'S-340', -1.4729651042477372),\n",
       "  ('R-192', 'E-211', -0.40836411626436681),\n",
       "  ('S-340', 'S-343', -0.51053926759668256),\n",
       "  ('Y-271', 'T-287', 1.1001842243284259),\n",
       "  ('D-338', 'S-343', -0.89468287161996218),\n",
       "  ('R-192', 'D-311', 0.27239429818111316),\n",
       "  ('Y-336', 'H-347', -0.5305395692646766),\n",
       "  ('S-200', 'K-308', -0.34801738718716613),\n",
       "  ('C-270', 'A-286', 1.1216835911475542),\n",
       "  ('Y-273', 'S-343', 1.0872330435280997),\n",
       "  ('R-258', 'T-287', -0.39482759827812119),\n",
       "  ('M-272', 'Y-334', -0.51025462903641094),\n",
       "  ('Y-334', 'G-337', 1.1928265290487741),\n",
       "  ('K-204', 'D-240', 0.52861712709044584),\n",
       "  ('Y-273', 'H-347', 0.43915160999482417),\n",
       "  ('Y-273', 'W-349', 0.44997519366096994),\n",
       "  ('D-311', 'V-315', -2.4429054617988504),\n",
       "  ('K-308', 'D-338', -0.92335096231540825)],\n",
       " [('A-255', 'Y-274', -0.48519049662502606),\n",
       "  ('Y-262', 'D-265', -0.93037025297854037),\n",
       "  ('Y-262', 'T-287', 0.72601592709102725),\n",
       "  ('S-194', 'E-197', 1.0888401345947014),\n",
       "  ('L-261', 'D-265', -0.78446428228598475),\n",
       "  ('Y-336', 'S-340', -0.64449759420804131),\n",
       "  ('E-201', 'R-205', -0.5086030205142551),\n",
       "  ('S-267', 'Y-271', -0.79564214030624714),\n",
       "  ('H-347', 'L-350', 0.78958624674377598),\n",
       "  ('A-263', 'P-266', -0.71519712938806557),\n",
       "  ('Q-276', 'S-343', -0.45142304005620554),\n",
       "  ('T-253', 'S-279', 0.53764979113937972),\n",
       "  ('L-309', 'R-339', -0.45683251519900803),\n",
       "  ('P-266', 'Y-271', 0.61785297606195411),\n",
       "  ('D-265', 'R-339', -0.82561902106282459),\n",
       "  ('R-203', 'E-211', 0.55446437822727468),\n",
       "  ('E-259', 'C-270', -0.52038236178898323),\n",
       "  ('Y-336', 'S-343', -0.5722526811226093),\n",
       "  ('Y-262', 'S-340', -0.27895595136264512),\n",
       "  ('E-215', 'R-292', 0.86152149211559803),\n",
       "  ('R-203', 'L-309', 0.39068731989133204),\n",
       "  ('E-215', 'V-243', 0.84554723900768591),\n",
       "  ('T-281', 'L-350', 0.22494064134011299),\n",
       "  ('Y-273', 'A-342', 1.060794383987316),\n",
       "  ('I-252', 'Y-262', 0.57443832597732647),\n",
       "  ('E-202', 'F-241', -0.83146759980716767),\n",
       "  ('T-268', 'I-297', -0.69407704863399422),\n",
       "  ('R-203', 'D-240', -0.49542664663931862),\n",
       "  ('S-200', 'I-321', 0.4619730671228271),\n",
       "  ('K-195', 'H-310', -0.75798097372630557),\n",
       "  ('T-268', 'R-339', 0.93692704738548804),\n",
       "  ('K-195', 'L-209', 0.93461794151304489),\n",
       "  ('Y-262', 'S-267', 1.034366336039132),\n",
       "  ('S-267', 'M-272', 0.83033130218828533)],\n",
       " [('R-203', 'D-311', 0.2655617988666244),\n",
       "  ('S-194', 'E-197', 0.39302011780308832),\n",
       "  ('S-300', 'Y-336', -1.0984145249787747),\n",
       "  ('T-268', 'M-272', 1.1926600629529933),\n",
       "  ('T-268', 'T-287', 0.41267088421870779),\n",
       "  ('Q-264', 'S-267', -0.93412907820004432),\n",
       "  ('Y-262', 'C-270', -0.85274769247674398),\n",
       "  ('F-275', 'S-343', -0.88886572217190696),\n",
       "  ('E-289', 'R-292', 2.2616873145686123),\n",
       "  ('R-203', 'E-211', -0.36892148135082087),\n",
       "  ('A-263', 'G-269', 0.60139063025139661),\n",
       "  ('I-297', 'Y-336', 1.6185857237725498),\n",
       "  ('D-265', 'T-268', 1.7059320423086353),\n",
       "  ('Y-336', 'S-343', 0.79486657521000159),\n",
       "  ('R-258', 'A-263', 0.72801530875936182),\n",
       "  ('G-269', 'W-349', -0.41475349579456955),\n",
       "  ('T-268', 'R-295', 0.61804680782288945),\n",
       "  ('F-275', 'A-346', 1.0898680153044815),\n",
       "  ('P-266', 'R-339', 0.61725019832273365),\n",
       "  ('Y-271', 'R-339', 0.90578849975736087),\n",
       "  ('G-269', 'S-343', 0.59821438582547848),\n",
       "  ('E-197', 'R-205', 0.67161955998530221),\n",
       "  ('I-252', 'I-344', -0.3824161871597247),\n",
       "  ('K-193', 'D-240', 0.21959442287831385),\n",
       "  ('G-269', 'L-296', -0.55367031371272979),\n",
       "  ('E-197', 'K-308', -0.4063583376922339),\n",
       "  ('D-311', 'V-315', -2.270744373519074),\n",
       "  ('C-270', 'S-340', -0.67416270686825519),\n",
       "  ('P-266', 'Y-334', 0.81939005963205813),\n",
       "  ('T-268', 'R-339', -1.413880329193177)],\n",
       " [('E-251', 'A-255', -1.8031998369392412),\n",
       "  ('Q-264', 'T-268', 0.85966543611720936),\n",
       "  ('A-255', 'Y-274', 1.2244891629923036),\n",
       "  ('E-202', 'R-205', 0.73565812989114376),\n",
       "  ('L-198', 'E-201', -1.0484643582715791),\n",
       "  ('S-200', 'K-204', -0.51749897863854522),\n",
       "  ('I-252', 'A-255', -1.0030591302822265),\n",
       "  ('A-342', 'A-346', -0.43000184210669923),\n",
       "  ('L-261', 'D-265', 0.51476220708870946),\n",
       "  ('K-341', 'E-345', -0.43495266967987295),\n",
       "  ('I-252', 'K-257', 0.87931504635142221),\n",
       "  ('E-201', 'R-205', -0.55925065143024344),\n",
       "  ('Y-273', 'Y-336', 0.75232880501449118),\n",
       "  ('K-256', 'A-260', 0.65392571557861467),\n",
       "  ('H-299', 'L-350', 0.22038057374140793),\n",
       "  ('T-253', 'S-279', -0.52226181759866031),\n",
       "  ('P-266', 'Y-336', -0.71406676472314967),\n",
       "  ('M-272', 'R-339', -0.35829571352018363),\n",
       "  ('Y-274', 'H-347', 0.41497617092212302),\n",
       "  ('I-210', 'I-319', 1.254255441412012),\n",
       "  ('I-206', 'F-241', -1.150150665974619),\n",
       "  ('D-254', 'K-257', 1.8728302118037723),\n",
       "  ('L-318', 'R-339', 0.32343430910118037),\n",
       "  ('E-197', 'R-203', -0.47742058881898719),\n",
       "  ('P-266', 'A-346', -0.32014960288773459),\n",
       "  ('A-263', 'M-272', -0.54507839404482206),\n",
       "  ('C-270', 'N-298', -0.36640774013988853),\n",
       "  ('Y-274', 'P-348', 0.54449263133629167),\n",
       "  ('Y-334', 'D-338', 0.75296787408431809),\n",
       "  ('Y-271', 'G-337', 0.80145544489450249),\n",
       "  ('G-269', 'S-343', -0.29606562125151314),\n",
       "  ('K-256', 'A-346', 0.36893593174987155),\n",
       "  ('I-252', 'Y-262', -0.94500156855307649),\n",
       "  ('Y-274', 'D-338', -0.90571488916306309),\n",
       "  ('A-196', 'R-205', 0.3679792746350703),\n",
       "  ('S-200', 'I-321', 0.59093383111408826),\n",
       "  ('P-266', 'G-337', 1.1174383362989571),\n",
       "  ('E-202', 'I-321', -0.64928926871827919),\n",
       "  ('S-200', 'I-206', 0.47572541649110994),\n",
       "  ('T-253', 'P-348', -0.5713565411553988)],\n",
       " [('S-194', 'L-198', 0.37205112199799373),\n",
       "  ('R-339', 'S-343', -0.61643715341485905),\n",
       "  ('R-339', 'A-342', -0.92178918970237356),\n",
       "  ('I-252', 'L-261', 0.43878326605184714),\n",
       "  ('C-270', 'Y-336', -0.35119688437756191),\n",
       "  ('H-347', 'L-350', 0.51585819683122625),\n",
       "  ('I-210', 'G-213', 0.96244322707697183),\n",
       "  ('I-210', 'I-319', 0.82790843416447613),\n",
       "  ('E-345', 'P-348', 0.53634333894407082),\n",
       "  ('D-207', 'E-211', 1.3648501299313092),\n",
       "  ('R-203', 'E-211', -0.80057592050830828),\n",
       "  ('G-213', 'F-241', -0.84457686846944247),\n",
       "  ('E-215', 'R-292', -1.506148831681946),\n",
       "  ('L-209', 'S-212', 1.3669097648463391),\n",
       "  ('A-346', 'L-350', 0.73581956009627225),\n",
       "  ('R-203', 'L-309', 0.40688173320761578),\n",
       "  ('L-209', 'I-319', -1.0221248257008961),\n",
       "  ('Y-273', 'A-342', 1.1267337547711114),\n",
       "  ('I-206', 'I-210', 1.4766879874529559),\n",
       "  ('E-215', 'H-246', -0.76879992766140359),\n",
       "  ('L-209', 'R-292', 0.73635841439634464),\n",
       "  ('S-212', 'F-241', -0.66185320203647324),\n",
       "  ('D-338', 'L-350', 0.39055825754077023),\n",
       "  ('H-299', 'D-338', 0.5155008591751401),\n",
       "  ('D-311', 'V-315', 0.72809790343947467),\n",
       "  ('K-256', 'I-344', -0.21065507472176595),\n",
       "  ('Y-282', 'L-309', 0.92731743950791568),\n",
       "  ('R-205', 'H-310', -0.80498498417164954),\n",
       "  ('R-339', 'A-346', -0.65092965685678938)],\n",
       " [('E-251', 'A-255', -0.8854858116174128),\n",
       "  ('Q-199', 'E-202', 0.93299925807250117),\n",
       "  ('D-207', 'H-310', 0.56661500386299501),\n",
       "  ('S-194', 'E-197', 0.55732124098392211),\n",
       "  ('S-300', 'Y-336', 0.9972432773800699),\n",
       "  ('Y-262', 'D-285', -0.49332646601446634),\n",
       "  ('C-270', 'Y-334', -0.76676201172177716),\n",
       "  ('S-340', 'S-343', -0.7987054273933416),\n",
       "  ('S-343', 'L-350', 0.65606462967558121),\n",
       "  ('Y-262', 'P-266', 0.62903291538793749),\n",
       "  ('Y-262', 'C-270', 0.7082577244839221),\n",
       "  ('T-253', 'S-279', -0.40640591315474806),\n",
       "  ('P-266', 'Y-336', 0.84252849599242474),\n",
       "  ('D-265', 'R-339', 0.5453650995725291),\n",
       "  ('E-289', 'R-292', -1.5091232147335887),\n",
       "  ('F-275', 'S-340', 0.97809606171338126),\n",
       "  ('Y-336', 'K-341', 0.50869892847418785),\n",
       "  ('G-213', 'E-216', 0.82653740296436407),\n",
       "  ('A-255', 'R-258', -1.1556506173613987),\n",
       "  ('P-266', 'S-340', -0.9138373882041636),\n",
       "  ('Q-276', 'P-348', -0.69107041216018528),\n",
       "  ('Y-271', 'W-349', 0.74942270824680457),\n",
       "  ('Y-262', 'L-350', -0.98237569091974297),\n",
       "  ('S-267', 'H-347', -0.55303121007954992),\n",
       "  ('H-299', 'I-344', 0.61897454792513606),\n",
       "  ('E-197', 'R-205', 0.40597564726824775),\n",
       "  ('L-209', 'V-243', -0.61163679324179954),\n",
       "  ('Y-274', 'D-338', -0.62067024296583684),\n",
       "  ('M-272', 'H-347', 0.87689622329982808),\n",
       "  ('I-252', 'P-348', 0.67939155030121201),\n",
       "  ('D-311', 'V-315', 2.6407396538371692),\n",
       "  ('F-275', 'H-347', -0.78066189825804577),\n",
       "  ('S-300', 'W-349', -1.2232670752125665),\n",
       "  ('S-200', 'D-207', 0.37326640526112992),\n",
       "  ('F-275', 'Y-336', -0.41655099201650819),\n",
       "  ('N-298', 'L-350', 0.43521440617771406)],\n",
       " [('R-203', 'D-311', -0.20146656089829421),\n",
       "  ('K-204', 'E-208', 0.68249155661723138),\n",
       "  ('E-202', 'I-206', 0.58880350990411601),\n",
       "  ('R-339', 'A-342', 2.4358523935445713),\n",
       "  ('Y-336', 'S-340', 0.94043716644239161),\n",
       "  ('D-338', 'A-342', 1.6058476534928552),\n",
       "  ('D-335', 'R-339', 1.2019885265829466),\n",
       "  ('T-307', 'Y-336', 0.89993114699612009),\n",
       "  ('S-340', 'S-343', -0.73067480813291386),\n",
       "  ('A-255', 'E-259', -0.68864626136862106),\n",
       "  ('Y-273', 'D-338', 1.6195036474158815),\n",
       "  ('Y-273', 'L-309', 0.59774449911381866),\n",
       "  ('Y-273', 'Y-334', -1.1413546858622063),\n",
       "  ('Y-245', 'C-270', 0.46235129819284582),\n",
       "  ('M-272', 'R-339', -0.29853982088787767),\n",
       "  ('N-304', 'D-335', -1.1505263855620986),\n",
       "  ('L-309', 'R-339', -0.60123632815872607),\n",
       "  ('D-338', 'S-343', -1.6604528399351344),\n",
       "  ('H-299', 'G-337', 1.1604110232262952),\n",
       "  ('A-263', 'G-269', 0.61201794822622535),\n",
       "  ('G-213', 'F-241', 0.32846686175072015),\n",
       "  ('G-213', 'E-216', 0.61514661710717411),\n",
       "  ('Y-273', 'D-335', 1.1063146718013455),\n",
       "  ('C-270', 'Y-273', -0.96842103369925392),\n",
       "  ('Y-274', 'L-350', 0.55249163094069065),\n",
       "  ('I-252', 'A-346', -0.61260171033079358),\n",
       "  ('Y-271', 'G-337', -1.1044336149074236),\n",
       "  ('T-307', 'Y-334', -0.93666032408967403),\n",
       "  ('Q-199', 'I-206', -0.47097829975953476),\n",
       "  ('F-275', 'T-307', -0.76185892662896326),\n",
       "  ('Y-273', 'H-299', -1.164617575536278),\n",
       "  ('A-342', 'L-350', 0.28690620521482585),\n",
       "  ('D-311', 'V-315', 1.805003864501908),\n",
       "  ('K-308', 'D-338', -0.58470162756249144),\n",
       "  ('F-275', 'Y-336', 0.74390816191721998),\n",
       "  ('P-266', 'G-337', 0.31142221238306828),\n",
       "  ('E-202', 'D-240', 0.2007456223438821),\n",
       "  ('I-210', 'H-246', -0.35611527722215297)],\n",
       " [('Q-199', 'E-202', 0.92086337434039478),\n",
       "  ('L-198', 'E-201', 1.5353331905386469),\n",
       "  ('R-339', 'S-343', 0.5890007918776361),\n",
       "  ('R-339', 'A-342', 1.3946509000116609),\n",
       "  ('S-194', 'E-197', -0.50766385202548392),\n",
       "  ('Y-336', 'S-340', 0.78767701698704906),\n",
       "  ('L-198', 'E-202', 0.95308930336716091),\n",
       "  ('Y-336', 'R-339', 1.1597345102155807),\n",
       "  ('H-347', 'L-350', -0.63972211339836083),\n",
       "  ('A-255', 'E-259', 1.0481926343057377),\n",
       "  ('I-210', 'I-319', 0.48570863002227077),\n",
       "  ('D-207', 'E-211', 0.73723025982111956),\n",
       "  ('R-203', 'E-211', -0.3735680163011606),\n",
       "  ('E-345', 'L-350', -0.38396057401627709),\n",
       "  ('E-197', 'R-203', -0.69348320999135959),\n",
       "  ('E-215', 'R-292', -0.82221014213593391),\n",
       "  ('T-268', 'Y-336', 0.94076802834805728),\n",
       "  ('R-205', 'E-216', -0.26786303695860714),\n",
       "  ('Y-262', 'L-350', 0.22766727741613951),\n",
       "  ('F-275', 'A-346', -0.74108599266786268),\n",
       "  ('Y-273', 'A-342', -0.58413339888932048),\n",
       "  ('I-206', 'I-210', 1.4250826299943966),\n",
       "  ('R-205', 'R-238', -0.33429881058181216),\n",
       "  ('R-258', 'A-346', -0.26868751268738811),\n",
       "  ('A-196', 'R-205', 0.32631478310815359),\n",
       "  ('I-252', 'I-344', 0.62379906851350697),\n",
       "  ('T-268', 'I-297', -0.43058691214552697),\n",
       "  ('S-194', 'R-205', 0.29588821970653334),\n",
       "  ('Q-199', 'L-309', 0.42311527459620191),\n",
       "  ('E-202', 'G-239', -0.44494533117931417),\n",
       "  ('M-272', 'S-340', -0.49008538822009262),\n",
       "  ('L-198', 'I-321', -0.47069751109457963),\n",
       "  ('C-270', 'S-340', -0.5183977979224853),\n",
       "  ('I-210', 'H-246', 0.51826104132922957)],\n",
       " [('Y-274', 'R-339', 0.96896584089200533),\n",
       "  ('I-344', 'K-351', 0.21786924002226676),\n",
       "  ('D-338', 'A-342', 1.1462483344969663),\n",
       "  ('H-347', 'L-350', 0.65679588188273808),\n",
       "  ('T-307', 'D-338', -1.2249043639824453),\n",
       "  ('M-272', 'Y-336', -0.62696488228778458),\n",
       "  ('Y-273', 'G-337', -1.3567939499986372),\n",
       "  ('P-266', 'Y-336', 0.49875128411393771),\n",
       "  ('R-203', 'E-211', -0.28110259025838635),\n",
       "  ('I-297', 'Y-336', 0.95747192630117617),\n",
       "  ('D-265', 'S-340', -1.034149965904446),\n",
       "  ('A-346', 'L-350', 0.68414632025393363),\n",
       "  ('D-338', 'I-344', -0.73022528825706956),\n",
       "  ('I-252', 'A-346', -1.068886315170847),\n",
       "  ('I-252', 'W-349', -0.71515531779063868),\n",
       "  ('L-209', 'I-319', 0.57109548022139345),\n",
       "  ('F-275', 'I-344', 1.6085330050097175),\n",
       "  ('I-252', 'Y-262', 0.50222927004410334),\n",
       "  ('E-259', 'R-339', 0.47903358121206063),\n",
       "  ('S-267', 'T-287', -0.53302774385268525),\n",
       "  ('Y-273', 'H-347', 0.93590551628895746),\n",
       "  ('H-299', 'D-338', -1.3913614323534864),\n",
       "  ('S-267', 'W-349', 0.17596889032682503),\n",
       "  ('A-263', 'A-346', 0.77973109304164701)],\n",
       " [('Y-245', 'T-307', -0.81295170392268457),\n",
       "  ('I-344', 'L-350', -0.90401650326553795),\n",
       "  ('H-246', 'G-294', -0.84967565927562105),\n",
       "  ('R-339', 'S-343', 0.80933128053547787),\n",
       "  ('G-337', 'K-341', 0.29796446517322051),\n",
       "  ('Y-271', 'L-296', 0.31307445619836305),\n",
       "  ('S-300', 'Y-336', 0.97405730350478337),\n",
       "  ('R-203', 'D-207', 0.62771528556604761),\n",
       "  ('T-307', 'Y-336', -1.1243579462985891),\n",
       "  ('T-307', 'D-338', -0.94459243250970315),\n",
       "  ('R-203', 'I-206', 1.2805021839610791),\n",
       "  ('Q-276', 'S-343', -0.74636305151266225),\n",
       "  ('K-193', 'E-201', 0.24511303271083959),\n",
       "  ('M-272', 'R-339', -0.90822720445966731),\n",
       "  ('R-203', 'D-313', -0.42497793963855007),\n",
       "  ('D-338', 'S-343', -1.0671576689998132),\n",
       "  ('Y-245', 'G-294', 1.1665748401863103),\n",
       "  ('D-265', 'Y-274', -0.56938560672585414),\n",
       "  ('R-339', 'L-350', 0.6808766720760121),\n",
       "  ('D-265', 'S-343', 1.2110866752741556),\n",
       "  ('G-247', 'E-289', -0.99397600819761411),\n",
       "  ('Y-336', 'W-349', 0.53309428338390819),\n",
       "  ('C-270', 'Y-273', -0.80297102432532463),\n",
       "  ('R-339', 'H-347', 0.25839108864097621),\n",
       "  ('T-268', 'R-295', -0.28336493428650594),\n",
       "  ('Y-271', 'W-349', -0.4246567209763723),\n",
       "  ('T-281', 'E-345', 0.76877134660250179),\n",
       "  ('Y-271', 'G-337', 1.2250953720366056),\n",
       "  ('Q-276', 'K-341', 0.68928111177257645),\n",
       "  ('I-252', 'I-344', -0.87987817038029259),\n",
       "  ('R-203', 'D-240', 0.46197644280770717),\n",
       "  ('H-299', 'D-338', -0.93997233617755271),\n",
       "  ('K-256', 'S-343', 0.50096152739551836),\n",
       "  ('D-311', 'V-315', 2.4528402584899029),\n",
       "  ('K-256', 'E-345', -0.50385106945410441),\n",
       "  ('D-265', 'K-341', -0.7692078013004584),\n",
       "  ('Y-262', 'E-345', -0.51066120309018059),\n",
       "  ('P-266', 'K-351', -0.1640532912625067),\n",
       "  ('I-252', 'S-343', 0.86911164696392029),\n",
       "  ('I-210', 'H-246', 0.21039719458498729),\n",
       "  ('D-285', 'R-295', 0.92133270109007881)],\n",
       " [('E-202', 'I-206', -0.5061844503079147),\n",
       "  ('S-200', 'K-204', -0.91012542717088918),\n",
       "  ('I-210', 'H-317', -0.84311712734675004),\n",
       "  ('Y-274', 'S-340', 0.45874890346017283),\n",
       "  ('I-206', 'I-312', 1.3631908862943678),\n",
       "  ('I-210', 'I-319', -1.2947456836961941),\n",
       "  ('R-203', 'D-313', 0.36581232782441375),\n",
       "  ('F-275', 'A-342', 0.42637221955917165),\n",
       "  ('I-297', 'Y-336', -0.53153503942621105),\n",
       "  ('Y-336', 'W-349', -0.66988906780912705),\n",
       "  ('A-255', 'R-258', 1.2582190234847348),\n",
       "  ('T-281', 'S-343', 0.47824213774362662),\n",
       "  ('N-304', 'R-324', -2.3706848749058405),\n",
       "  ('R-205', 'E-216', 0.37797754160143199),\n",
       "  ('L-209', 'I-319', 2.0739276931206678),\n",
       "  ('F-275', 'I-344', -1.0907379929342633),\n",
       "  ('K-193', 'R-205', 0.3448453234884668),\n",
       "  ('Y-271', 'R-339', 0.24928088519210342),\n",
       "  ('E-197', 'R-205', 0.73118166749012792),\n",
       "  ('E-259', 'R-339', 0.22286004244523142),\n",
       "  ('Y-334', 'W-349', 1.096525066331042),\n",
       "  ('D-338', 'L-350', 0.42900560720664654),\n",
       "  ('H-299', 'H-347', -0.34494604861761641),\n",
       "  ('R-192', 'D-325', -0.17309876586114437),\n",
       "  ('F-275', 'Y-336', 0.50463403241024896),\n",
       "  ('R-339', 'A-346', -1.0542749927989372)],\n",
       " [('H-246', 'G-294', 1.3900022991779362),\n",
       "  ('S-300', 'Y-336', 0.63242850460904487),\n",
       "  ('Y-274', 'S-340', -0.32685140953804354),\n",
       "  ('E-215', 'G-294', 1.3298134328604332),\n",
       "  ('Y-262', 'T-268', -0.28647699409897526),\n",
       "  ('E-202', 'K-308', 0.22134703770156916),\n",
       "  ('K-193', 'E-201', 0.17863317744301582),\n",
       "  ('I-210', 'I-319', -0.40462609619958173),\n",
       "  ('Y-274', 'Y-336', -0.53745572168886002),\n",
       "  ('Y-336', 'L-350', 0.50111920262003506),\n",
       "  ('Q-264', 'C-270', 0.40349125918832152),\n",
       "  ('Y-336', 'W-349', 0.65680661966258835),\n",
       "  ('G-269', 'W-349', -0.73227197883407091),\n",
       "  ('S-267', 'Y-336', 0.23954514021030696),\n",
       "  ('A-263', 'M-272', -0.39496492213186124),\n",
       "  ('C-305', 'D-335', 1.3278214404637003),\n",
       "  ('G-247', 'V-284', 1.2078534851873177),\n",
       "  ('G-269', 'Y-273', 0.86659992776515216),\n",
       "  ('G-247', 'A-286', 2.3590556478686331),\n",
       "  ('C-270', 'I-297', -1.2671992467095223),\n",
       "  ('T-268', 'L-296', -0.30055817139685481),\n",
       "  ('Y-273', 'H-347', -0.53607229054004168),\n",
       "  ('H-299', 'D-338', -0.34506079116088595),\n",
       "  ('E-259', 'A-346', 0.45353677359882527),\n",
       "  ('A-286', 'R-295', 1.7168481209914439),\n",
       "  ('S-200', 'I-321', -0.63587192345813714),\n",
       "  ('E-289', 'R-295', 1.4372501882732143),\n",
       "  ('G-247', 'D-285', 2.8233626168936947),\n",
       "  ('E-202', 'I-321', 0.4700316668099479),\n",
       "  ('R-203', 'L-209', -0.57826105264775485),\n",
       "  ('F-275', 'W-349', -0.22370324961812721),\n",
       "  ('D-285', 'R-295', -3.5948580359760398)],\n",
       " [('S-200', 'K-204', -0.48527967740179667),\n",
       "  ('G-269', 'M-272', -0.50959126866402915),\n",
       "  ('K-193', 'L-198', -0.21784073979581725),\n",
       "  ('S-343', 'H-347', 1.1186468663934208),\n",
       "  ('R-203', 'D-207', 0.32548651593522576),\n",
       "  ('S-343', 'A-346', 2.2679478743518033),\n",
       "  ('G-269', 'T-287', 0.3236036375600147),\n",
       "  ('Y-336', 'L-350', -0.59489170591537766),\n",
       "  ('I-206', 'F-241', 0.35506559264478826),\n",
       "  ('Q-264', 'C-270', 0.46649327784699418),\n",
       "  ('R-192', 'E-202', 0.23184366112030175),\n",
       "  ('T-281', 'H-347', -1.0531603987417733),\n",
       "  ('I-344', 'W-349', 0.62199093445418341),\n",
       "  ('Y-262', 'S-343', -0.61584024551840144),\n",
       "  ('S-194', 'E-201', 0.71225667629499745),\n",
       "  ('F-275', 'A-346', 0.93610896687061396),\n",
       "  ('Y-273', 'S-343', 0.30263060360798893),\n",
       "  ('Y-262', 'K-341', 0.79647560468281942),\n",
       "  ('H-299', 'I-344', -1.0966595793051885),\n",
       "  ('K-256', 'A-346', -0.45906236746440759),\n",
       "  ('A-196', 'R-205', 0.47856017461372813),\n",
       "  ('H-299', 'H-347', 1.1125295063889724),\n",
       "  ('R-192', 'D-325', -0.099001660501417579),\n",
       "  ('A-255', 'W-349', 0.54885206628600247),\n",
       "  ('D-311', 'V-315', 1.7890597455349453),\n",
       "  ('P-266', 'G-337', -0.55522456860032676),\n",
       "  ('Q-264', 'P-348', -0.26643573254273778)],\n",
       " [('D-207', 'H-310', -0.45425185453159889),\n",
       "  ('H-246', 'G-294', 0.85794384505691701),\n",
       "  ('Y-274', 'R-339', 0.61893383592685913),\n",
       "  ('E-201', 'R-205', -1.2104492004235645),\n",
       "  ('I-344', 'K-351', -0.27244232077752151),\n",
       "  ('S-340', 'I-344', 0.91020748258532014),\n",
       "  ('Y-274', 'S-340', -0.79547914717044765),\n",
       "  ('Y-273', 'Y-336', 0.60802372023640239),\n",
       "  ('R-203', 'D-207', 1.2878746929758458),\n",
       "  ('S-340', 'S-343', 0.86549671141359308),\n",
       "  ('I-210', 'H-310', -0.77404364124119374),\n",
       "  ('R-203', 'I-206', 1.3198324967088848),\n",
       "  ('K-214', 'F-241', -0.54768072971003323),\n",
       "  ('I-206', 'F-241', 1.080335883307715),\n",
       "  ('I-297', 'Y-336', 0.41444375674684064),\n",
       "  ('F-275', 'P-316', 0.56783694567908927),\n",
       "  ('H-246', 'L-318', -1.5766034430128362),\n",
       "  ('D-338', 'I-344', -0.67556194263753266),\n",
       "  ('Q-199', 'D-207', 0.90179110061148282),\n",
       "  ('E-202', 'D-207', -1.5166653898166513),\n",
       "  ('I-252', 'H-347', -0.22225958272248203),\n",
       "  ('F-275', 'A-346', -0.64341431557414042),\n",
       "  ('Y-271', 'G-337', -0.65776681911818113),\n",
       "  ('Y-277', 'P-316', 0.74123890918707713),\n",
       "  ('Y-262', 'T-281', -0.47568360841194229),\n",
       "  ('A-196', 'R-205', 0.25868968741065701),\n",
       "  ('I-252', 'I-344', 0.97878585890910508),\n",
       "  ('Q-276', 'K-351', 0.34572009777127932),\n",
       "  ('R-258', 'E-345', 0.67312952577952878),\n",
       "  ('Q-199', 'L-309', -0.51936255906453255),\n",
       "  ('D-311', 'V-315', 1.4872087017274156),\n",
       "  ('Y-282', 'L-309', -0.717741380999112),\n",
       "  ('I-252', 'S-343', -1.174984938814031),\n",
       "  ('S-200', 'D-240', 1.0225708163691063)],\n",
       " [('R-339', 'A-342', 0.79860599481977856),\n",
       "  ('I-252', 'L-261', 1.4121674099415251),\n",
       "  ('S-194', 'E-197', 0.30133503968651804),\n",
       "  ('L-261', 'M-272', 1.3570090641675889),\n",
       "  ('D-338', 'A-342', 0.62497212624331988),\n",
       "  ('T-268', 'T-287', 0.58300004847082987),\n",
       "  ('Y-336', 'R-339', -1.3091607713737625),\n",
       "  ('T-307', 'D-338', 0.45239610403295683),\n",
       "  ('M-272', 'Y-336', 0.4222119874225882),\n",
       "  ('F-275', 'R-339', 0.83937049011937659),\n",
       "  ('R-258', 'Y-274', 1.2730884682792161),\n",
       "  ('Y-274', 'H-347', 0.75837842047954829),\n",
       "  ('G-269', 'R-339', 0.81132452978724856),\n",
       "  ('F-275', 'A-342', -0.62045763664377718),\n",
       "  ('I-297', 'Y-336', -1.4102356338873832),\n",
       "  ('Y-336', 'S-343', -0.59927546970135559),\n",
       "  ('P-266', 'S-340', 0.48080778517375522),\n",
       "  ('F-275', 'P-316', -1.0795659953607106),\n",
       "  ('Y-262', 'Y-271', 1.1449464201663062),\n",
       "  ('R-258', 'Y-262', 1.4717675692797139),\n",
       "  ('A-263', 'W-349', -0.77666634701535453),\n",
       "  ('L-261', 'T-281', -1.0603360214105366),\n",
       "  ('P-266', 'R-339', -0.89333034100989217),\n",
       "  ('R-339', 'E-345', 0.95223326062681213),\n",
       "  ('E-215', 'H-246', -0.34371191226835285),\n",
       "  ('P-266', 'P-348', 0.55648192444302824),\n",
       "  ('E-259', 'R-339', -0.53126818613110682),\n",
       "  ('Y-271', 'S-340', -0.51957232650913976),\n",
       "  ('H-299', 'H-347', -0.73577197684801987),\n",
       "  ('R-203', 'D-240', -0.21593996359131201),\n",
       "  ('T-268', 'Y-274', -1.561944200164346),\n",
       "  ('K-195', 'L-209', 0.39063124484789002),\n",
       "  ('T-253', 'P-348', -0.48273585198093666),\n",
       "  ('A-263', 'A-346', 0.50728980734076734)],\n",
       " [('R-339', 'S-343', -0.99565388014744838),\n",
       "  ('R-339', 'A-342', -0.70795539976245758),\n",
       "  ('I-252', 'L-261', 0.63131673471129801),\n",
       "  ('K-193', 'L-198', -0.40995031898023959),\n",
       "  ('Y-336', 'S-340', 0.60246036499486255),\n",
       "  ('Y-262', 'D-285', 1.7136717855688088),\n",
       "  ('A-260', 'A-263', -0.81072999034013815),\n",
       "  ('Y-271', 'Y-336', 0.5004801818262935),\n",
       "  ('R-192', 'E-211', -0.13446704252917177),\n",
       "  ('S-340', 'S-343', 0.82124395892400603),\n",
       "  ('Y-273', 'G-337', -1.1155942498770299),\n",
       "  ('I-210', 'I-319', 0.27793786094632805),\n",
       "  ('R-203', 'D-313', -0.43825515558818384),\n",
       "  ('P-266', 'C-270', 0.77911929261690538),\n",
       "  ('Y-271', 'I-297', 0.671021428915483),\n",
       "  ('P-266', 'A-342', -0.53162665827753675),\n",
       "  ('R-258', 'H-347', 1.0545057488515617),\n",
       "  ('G-294', 'Y-334', -1.1840577965728061),\n",
       "  ('R-339', 'H-347', -0.92878405584173407),\n",
       "  ('R-258', 'Y-262', 1.1173684670322725),\n",
       "  ('L-198', 'G-239', -0.2585880594333787),\n",
       "  ('Y-271', 'G-337', -0.42095140656458174),\n",
       "  ('R-258', 'T-287', -1.0525708499272697),\n",
       "  ('H-299', 'I-344', 0.34290884416694156),\n",
       "  ('K-256', 'A-346', -0.33909439983176348),\n",
       "  ('E-215', 'H-246', 0.805763425874091),\n",
       "  ('E-259', 'R-339', 0.97589937345396693),\n",
       "  ('Q-199', 'L-309', 0.2205328930299022),\n",
       "  ('G-269', 'N-298', -0.48278110442096028),\n",
       "  ('F-275', 'H-347', 0.36662956626209164),\n",
       "  ('S-340', 'H-347', 0.8580341155154384),\n",
       "  ('I-252', 'E-345', -0.76313307235051064),\n",
       "  ('A-263', 'H-347', -0.89581408773437043),\n",
       "  ('F-275', 'Y-336', 0.71157454182268576),\n",
       "  ('Q-264', 'Y-336', 0.76938205693262018),\n",
       "  ('S-267', 'W-349', 0.3023160299378479),\n",
       "  ('S-200', 'I-206', 0.7311401228472254)],\n",
       " [('Y-262', 'D-265', -0.92053151342425532),\n",
       "  ('E-197', 'E-201', 1.0303913919593484),\n",
       "  ('E-215', 'G-294', 0.45346631724021258),\n",
       "  ('A-263', 'P-266', -0.39520519117274061),\n",
       "  ('R-192', 'E-211', 0.62176144436643443),\n",
       "  ('R-192', 'D-313', 0.46503435824030548),\n",
       "  ('D-265', 'Y-274', -0.16457347755339144),\n",
       "  ('R-192', 'R-203', -1.2248487472591385),\n",
       "  ('I-297', 'Y-336', 0.3808255382242885),\n",
       "  ('I-206', 'E-244', -0.77350706008205594),\n",
       "  ('D-311', 'V-315', -1.5770367379652774),\n",
       "  ('K-204', 'H-310', -0.70949135896740012),\n",
       "  ('L-198', 'I-321', 1.3206764519571619),\n",
       "  ('K-195', 'H-310', 0.69795564246264108),\n",
       "  ('Y-262', 'S-267', 0.58270495659772614),\n",
       "  ('S-267', 'M-272', 0.43359843438977774)],\n",
       " [('E-251', 'A-255', -1.3340354951618216),\n",
       "  ('H-246', 'G-294', 1.0237990350103778),\n",
       "  ('L-261', 'C-283', 0.69661540819000667),\n",
       "  ('D-338', 'A-342', -0.83005796626846851),\n",
       "  ('Y-271', 'Y-336', -0.68723069426219507),\n",
       "  ('Y-262', 'P-266', -1.5758837622489783),\n",
       "  ('R-258', 'Y-274', 1.060993088032494),\n",
       "  ('Q-264', 'Y-271', -1.064220748232394),\n",
       "  ('Q-276', 'E-345', -0.68041481185164732),\n",
       "  ('H-299', 'R-339', 0.59635664307274516),\n",
       "  ('Y-271', 'T-287', -0.84114492877590741),\n",
       "  ('C-270', 'W-349', 0.41103690728976366),\n",
       "  ('H-246', 'E-289', 0.5108534473541122),\n",
       "  ('D-265', 'R-339', -0.95476973377319041),\n",
       "  ('D-254', 'K-257', 1.6716009528197371),\n",
       "  ('Y-245', 'G-294', -1.4425821795713107),\n",
       "  ('D-265', 'Y-274', -0.8992667861899275),\n",
       "  ('I-297', 'Y-336', 0.60741578600047186),\n",
       "  ('Y-336', 'W-349', -1.3329710198473972),\n",
       "  ('D-265', 'C-270', 0.61004876886731541),\n",
       "  ('D-265', 'T-268', 1.4722179135597278),\n",
       "  ('D-265', 'S-340', -0.92453700902741942),\n",
       "  ('T-268', 'Y-336', 0.63981299500282041),\n",
       "  ('R-258', 'Y-262', 0.68549569343591787),\n",
       "  ('A-196', 'E-201', 0.47277550163676824),\n",
       "  ('Y-271', 'G-337', 0.58907845095640354),\n",
       "  ('K-195', 'D-240', -0.25610820494286596),\n",
       "  ('P-266', 'R-339', 0.49733283233982289),\n",
       "  ('L-209', 'R-292', 0.60548207155410927),\n",
       "  ('R-339', 'W-349', 1.0324769790847923),\n",
       "  ('I-252', 'I-344', 0.82903390464084337),\n",
       "  ('E-201', 'I-206', 0.89566760066148676),\n",
       "  ('S-200', 'I-321', -0.33699553983720243),\n",
       "  ('E-202', 'I-321', 0.7012313445405749),\n",
       "  ('L-198', 'D-207', -0.8165860708641226),\n",
       "  ('K-204', 'H-310', -0.48844672355650742),\n",
       "  ('K-195', 'H-310', 0.27007275267492498),\n",
       "  ('P-266', 'Y-334', 0.55810710505624683),\n",
       "  ('S-200', 'I-206', -1.1372451324856772),\n",
       "  ('Q-264', 'Y-273', 1.1699082340115503),\n",
       "  ('Y-262', 'S-267', 1.4631045446143338)],\n",
       " [('R-203', 'D-311', 0.39055821799833651),\n",
       "  ('H-246', 'G-294', -1.4760702828985879),\n",
       "  ('E-211', 'I-312', 0.5610647314044378),\n",
       "  ('E-197', 'S-200', 1.7985599967959967),\n",
       "  ('L-198', 'E-202', 1.3440106483169445),\n",
       "  ('Y-271', 'L-296', -0.47162388124871935),\n",
       "  ('D-338', 'A-342', 0.31683466375798314),\n",
       "  ('G-213', 'R-292', 0.57542888198562148),\n",
       "  ('M-272', 'Y-336', 0.48115333358588391),\n",
       "  ('I-210', 'R-292', -0.68061156818737611),\n",
       "  ('I-210', 'I-319', -0.53006573947860192),\n",
       "  ('G-269', 'R-339', 0.50317257003746219),\n",
       "  ('Y-336', 'L-350', 0.20013871012782491),\n",
       "  ('Y-245', 'G-294', 1.2979032429086632),\n",
       "  ('G-213', 'E-216', -0.9360598711749516),\n",
       "  ('D-265', 'T-268', -0.44793225773568679),\n",
       "  ('L-209', 'D-240', -0.44919373550289526),\n",
       "  ('R-205', 'E-216', 0.33034017123787029),\n",
       "  ('S-194', 'S-200', 0.67503085878442604),\n",
       "  ('K-193', 'E-211', 0.41611180762715111),\n",
       "  ('R-339', 'W-349', -0.75757006925520742),\n",
       "  ('S-200', 'G-239', 0.82068348966487881),\n",
       "  ('Y-334', 'W-349', 0.35997867264435657),\n",
       "  ('I-206', 'E-244', -1.5365568959421918),\n",
       "  ('C-270', 'S-343', -0.37172207260284218),\n",
       "  ('L-198', 'I-206', -2.1443081093721243)],\n",
       " [('E-202', 'R-205', -0.61839705286311797),\n",
       "  ('T-253', 'K-257', -0.88732572726650916),\n",
       "  ('H-246', 'G-294', 2.1405013423748009),\n",
       "  ('H-246', 'R-295', 1.0151582518276316),\n",
       "  ('D-335', 'D-338', 1.5051859730058783),\n",
       "  ('Y-274', 'R-339', 1.2569201728072195),\n",
       "  ('I-210', 'H-317', 0.3848515783284861),\n",
       "  ('D-335', 'R-339', 1.0937777640207975),\n",
       "  ('Y-245', 'R-295', -1.404303422940189),\n",
       "  ('Q-264', 'Y-271', -0.88813704922702341),\n",
       "  ('N-304', 'D-335', 1.0723826870349147),\n",
       "  ('Y-245', 'G-294', -2.3145591034081376),\n",
       "  ('Y-262', 'I-344', -1.5280415134024259),\n",
       "  ('A-255', 'R-258', 1.0997742174170959),\n",
       "  ('Y-262', 'S-340', 1.5036147708459828),\n",
       "  ('R-258', 'H-347', -0.19234648042121935),\n",
       "  ('T-307', 'G-337', -1.1004253014856833),\n",
       "  ('A-263', 'M-272', 0.3985093946775764),\n",
       "  ('E-259', 'P-348', -0.55462207410175557),\n",
       "  ('L-209', 'I-319', -0.83967178870324155),\n",
       "  ('Y-273', 'A-342', -0.44854403985428715),\n",
       "  ('S-267', 'H-347', -0.28278402090754429),\n",
       "  ('Y-271', 'R-339', -0.65129801150065059),\n",
       "  ('Y-262', 'T-281', 0.67614836691092506),\n",
       "  ('Y-271', 'S-340', -0.48278371217533989),\n",
       "  ('M-272', 'H-347', 0.48059608414067873),\n",
       "  ('H-299', 'D-338', 0.48346200240247744),\n",
       "  ('L-198', 'D-240', 0.11338434656519022),\n",
       "  ('D-311', 'V-315', 0.81724637175553805),\n",
       "  ('I-252', 'E-345', 0.89756790495693162),\n",
       "  ('Y-245', 'R-339', -1.4392167755269039),\n",
       "  ('C-270', 'P-348', 0.54100003169782396),\n",
       "  ('P-266', 'G-337', 0.57344909878966843),\n",
       "  ('T-253', 'P-348', 0.28736769773795273),\n",
       "  ('A-263', 'A-346', 0.70850233221814352)]]"
      ]
     },
     "execution_count": 114,
     "metadata": {},
     "output_type": "execute_result"
    }
   ],
   "source": [
    "residue_pairs"
   ]
  },
  {
   "cell_type": "code",
   "execution_count": 116,
   "metadata": {
    "collapsed": true
   },
   "outputs": [],
   "source": [
    "# now wanna see if any of these residues repeat between tics, and how many times - let's make a grand dictionary of all"
   ]
  },
  {
   "cell_type": "code",
   "execution_count": 117,
   "metadata": {
    "collapsed": true
   },
   "outputs": [],
   "source": [
    "residue_pairs = []\n",
    "residue_pairs_dict = dict()\n",
    "\n",
    "for j in range(50):\n",
    "    residue_pairs.append([])\n",
    "    tic = j\n",
    "    \n",
    "    for i in range(1000):\n",
    "        if sparse_eigenv[tic, i] != 0:\n",
    "            res1 = distances[i,0]\n",
    "            res2 = distances[i,1]\n",
    "            residue_pairs[-1].append(('%s-%d' % (sequence[res1], res1+191), '%s-%d' % (sequence[res2], res2+191), sparse_eigenv[tic, i]))\n",
    "            tuple_ = ('%s-%d' % (sequence[res1], res1+191), '%s-%d' % (sequence[res2], res2+191))\n",
    "            if tuple_ in residue_pairs_dict:\n",
    "                residue_pairs_dict[tuple_] += 1\n",
    "            else:\n",
    "                residue_pairs_dict[tuple_] = 1"
   ]
  },
  {
   "cell_type": "code",
   "execution_count": 118,
   "metadata": {
    "collapsed": false
   },
   "outputs": [
    {
     "data": {
      "text/plain": [
       "{('A-196', 'E-201'): 1,\n",
       " ('A-196', 'R-205'): 4,\n",
       " ('A-255', 'C-283'): 1,\n",
       " ('A-255', 'E-259'): 6,\n",
       " ('A-255', 'R-258'): 6,\n",
       " ('A-255', 'W-349'): 4,\n",
       " ('A-255', 'Y-274'): 4,\n",
       " ('A-260', 'A-263'): 2,\n",
       " ('A-263', 'A-346'): 5,\n",
       " ('A-263', 'G-269'): 4,\n",
       " ('A-263', 'H-347'): 2,\n",
       " ('A-263', 'M-272'): 4,\n",
       " ('A-263', 'P-266'): 2,\n",
       " ('A-263', 'T-287'): 1,\n",
       " ('A-263', 'W-349'): 2,\n",
       " ('A-286', 'E-289'): 1,\n",
       " ('A-286', 'R-295'): 2,\n",
       " ('A-342', 'A-346'): 2,\n",
       " ('A-342', 'L-350'): 1,\n",
       " ('A-346', 'L-350'): 3,\n",
       " ('A-346', 'W-349'): 1,\n",
       " ('C-270', 'A-286'): 1,\n",
       " ('C-270', 'A-346'): 2,\n",
       " ('C-270', 'I-297'): 2,\n",
       " ('C-270', 'N-298'): 2,\n",
       " ('C-270', 'P-348'): 2,\n",
       " ('C-270', 'R-339'): 4,\n",
       " ('C-270', 'S-340'): 7,\n",
       " ('C-270', 'S-343'): 3,\n",
       " ('C-270', 'W-349'): 3,\n",
       " ('C-270', 'Y-273'): 3,\n",
       " ('C-270', 'Y-334'): 3,\n",
       " ('C-270', 'Y-336'): 6,\n",
       " ('C-305', 'D-335'): 3,\n",
       " ('C-305', 'R-324'): 1,\n",
       " ('D-207', 'E-211'): 2,\n",
       " ('D-207', 'H-310'): 3,\n",
       " ('D-207', 'I-312'): 1,\n",
       " ('D-254', 'K-257'): 5,\n",
       " ('D-254', 'R-258'): 3,\n",
       " ('D-265', 'C-270'): 1,\n",
       " ('D-265', 'G-269'): 1,\n",
       " ('D-265', 'K-341'): 3,\n",
       " ('D-265', 'R-339'): 5,\n",
       " ('D-265', 'S-340'): 3,\n",
       " ('D-265', 'S-343'): 2,\n",
       " ('D-265', 'T-268'): 7,\n",
       " ('D-265', 'W-349'): 1,\n",
       " ('D-265', 'Y-271'): 1,\n",
       " ('D-265', 'Y-274'): 5,\n",
       " ('D-265', 'Y-336'): 1,\n",
       " ('D-285', 'R-295'): 3,\n",
       " ('D-311', 'V-315'): 24,\n",
       " ('D-335', 'D-338'): 3,\n",
       " ('D-335', 'R-339'): 5,\n",
       " ('D-338', 'A-342'): 6,\n",
       " ('D-338', 'I-344'): 2,\n",
       " ('D-338', 'L-350'): 2,\n",
       " ('D-338', 'S-343'): 4,\n",
       " ('E-197', 'E-201'): 1,\n",
       " ('E-197', 'K-308'): 1,\n",
       " ('E-197', 'R-203'): 2,\n",
       " ('E-197', 'R-205'): 3,\n",
       " ('E-197', 'R-238'): 1,\n",
       " ('E-197', 'S-200'): 2,\n",
       " ('E-201', 'I-206'): 1,\n",
       " ('E-201', 'K-204'): 2,\n",
       " ('E-201', 'K-308'): 1,\n",
       " ('E-201', 'R-205'): 5,\n",
       " ('E-202', 'D-207'): 2,\n",
       " ('E-202', 'D-240'): 1,\n",
       " ('E-202', 'F-241'): 1,\n",
       " ('E-202', 'G-239'): 1,\n",
       " ('E-202', 'H-310'): 1,\n",
       " ('E-202', 'I-206'): 5,\n",
       " ('E-202', 'I-321'): 3,\n",
       " ('E-202', 'K-308'): 1,\n",
       " ('E-202', 'R-205'): 3,\n",
       " ('E-211', 'I-312'): 1,\n",
       " ('E-215', 'G-294'): 3,\n",
       " ('E-215', 'H-246'): 3,\n",
       " ('E-215', 'N-291'): 1,\n",
       " ('E-215', 'R-292'): 5,\n",
       " ('E-215', 'V-243'): 1,\n",
       " ('E-251', 'A-255'): 6,\n",
       " ('E-251', 'D-254'): 4,\n",
       " ('E-251', 'K-257'): 2,\n",
       " ('E-259', 'A-263'): 2,\n",
       " ('E-259', 'A-346'): 1,\n",
       " ('E-259', 'C-270'): 1,\n",
       " ('E-259', 'K-341'): 4,\n",
       " ('E-259', 'L-350'): 1,\n",
       " ('E-259', 'P-348'): 2,\n",
       " ('E-259', 'R-339'): 8,\n",
       " ('E-289', 'R-292'): 5,\n",
       " ('E-289', 'R-295'): 1,\n",
       " ('E-345', 'L-350'): 2,\n",
       " ('E-345', 'P-348'): 1,\n",
       " ('F-241', 'A-322'): 2,\n",
       " ('F-275', 'A-342'): 5,\n",
       " ('F-275', 'A-346'): 6,\n",
       " ('F-275', 'H-347'): 2,\n",
       " ('F-275', 'I-344'): 2,\n",
       " ('F-275', 'P-316'): 6,\n",
       " ('F-275', 'R-339'): 3,\n",
       " ('F-275', 'S-340'): 6,\n",
       " ('F-275', 'S-343'): 2,\n",
       " ('F-275', 'T-307'): 4,\n",
       " ('F-275', 'W-349'): 3,\n",
       " ('F-275', 'Y-336'): 9,\n",
       " ('G-213', 'E-216'): 5,\n",
       " ('G-213', 'F-241'): 4,\n",
       " ('G-213', 'R-292'): 7,\n",
       " ('G-227', 'S-267'): 1,\n",
       " ('G-229', 'I-297'): 1,\n",
       " ('G-247', 'A-286'): 1,\n",
       " ('G-247', 'D-285'): 1,\n",
       " ('G-247', 'E-289'): 6,\n",
       " ('G-247', 'L-318'): 1,\n",
       " ('G-247', 'R-295'): 1,\n",
       " ('G-247', 'V-284'): 1,\n",
       " ('G-269', 'A-286'): 2,\n",
       " ('G-269', 'L-296'): 4,\n",
       " ('G-269', 'M-272'): 3,\n",
       " ('G-269', 'N-298'): 4,\n",
       " ('G-269', 'R-339'): 4,\n",
       " ('G-269', 'S-343'): 3,\n",
       " ('G-269', 'T-287'): 4,\n",
       " ('G-269', 'W-349'): 2,\n",
       " ('G-269', 'Y-273'): 6,\n",
       " ('G-269', 'Y-334'): 1,\n",
       " ('G-269', 'Y-336'): 1,\n",
       " ('G-294', 'Y-334'): 1,\n",
       " ('G-303', 'Y-336'): 2,\n",
       " ('G-337', 'K-341'): 3,\n",
       " ('G-337', 'S-340'): 2,\n",
       " ('H-246', 'E-289'): 5,\n",
       " ('H-246', 'G-294'): 7,\n",
       " ('H-246', 'L-318'): 2,\n",
       " ('H-246', 'R-295'): 2,\n",
       " ('H-246', 'T-290'): 4,\n",
       " ('H-299', 'D-335'): 1,\n",
       " ('H-299', 'D-338'): 6,\n",
       " ('H-299', 'G-337'): 2,\n",
       " ('H-299', 'H-347'): 4,\n",
       " ('H-299', 'I-344'): 5,\n",
       " ('H-299', 'L-350'): 1,\n",
       " ('H-299', 'R-339'): 3,\n",
       " ('H-347', 'L-350'): 5,\n",
       " ('I-206', 'D-240'): 2,\n",
       " ('I-206', 'E-244'): 2,\n",
       " ('I-206', 'F-241'): 6,\n",
       " ('I-206', 'I-210'): 2,\n",
       " ('I-206', 'I-312'): 1,\n",
       " ('I-206', 'I-319'): 1,\n",
       " ('I-210', 'E-244'): 1,\n",
       " ('I-210', 'G-213'): 1,\n",
       " ('I-210', 'H-246'): 4,\n",
       " ('I-210', 'H-310'): 1,\n",
       " ('I-210', 'H-317'): 2,\n",
       " ('I-210', 'I-312'): 1,\n",
       " ('I-210', 'I-319'): 11,\n",
       " ('I-210', 'R-292'): 2,\n",
       " ('I-220', 'I-231'): 1,\n",
       " ('I-252', 'A-255'): 1,\n",
       " ('I-252', 'A-346'): 3,\n",
       " ('I-252', 'E-345'): 2,\n",
       " ('I-252', 'H-347'): 2,\n",
       " ('I-252', 'I-344'): 8,\n",
       " ('I-252', 'K-257'): 1,\n",
       " ('I-252', 'L-261'): 6,\n",
       " ('I-252', 'P-348'): 1,\n",
       " ('I-252', 'S-343'): 2,\n",
       " ('I-252', 'W-349'): 4,\n",
       " ('I-252', 'Y-262'): 3,\n",
       " ('I-297', 'Y-336'): 12,\n",
       " ('I-344', 'K-351'): 4,\n",
       " ('I-344', 'L-350'): 2,\n",
       " ('I-344', 'W-349'): 2,\n",
       " ('K-193', 'D-240'): 2,\n",
       " ('K-193', 'D-311'): 1,\n",
       " ('K-193', 'E-201'): 3,\n",
       " ('K-193', 'E-211'): 2,\n",
       " ('K-193', 'L-198'): 2,\n",
       " ('K-193', 'R-205'): 1,\n",
       " ('K-193', 'S-237'): 1,\n",
       " ('K-195', 'D-240'): 1,\n",
       " ('K-195', 'H-310'): 4,\n",
       " ('K-195', 'L-198'): 1,\n",
       " ('K-195', 'L-209'): 3,\n",
       " ('K-195', 'S-237'): 1,\n",
       " ('K-204', 'D-207'): 2,\n",
       " ('K-204', 'D-240'): 2,\n",
       " ('K-204', 'E-208'): 1,\n",
       " ('K-204', 'H-310'): 2,\n",
       " ('K-214', 'F-241'): 1,\n",
       " ('K-219', 'G-229'): 1,\n",
       " ('K-256', 'A-260'): 1,\n",
       " ('K-256', 'A-346'): 3,\n",
       " ('K-256', 'E-345'): 1,\n",
       " ('K-256', 'I-344'): 1,\n",
       " ('K-256', 'S-343'): 1,\n",
       " ('K-308', 'D-338'): 2,\n",
       " ('K-341', 'E-345'): 2,\n",
       " ('K-341', 'I-344'): 1,\n",
       " ('L-198', 'D-207'): 1,\n",
       " ('L-198', 'D-240'): 1,\n",
       " ('L-198', 'E-201'): 2,\n",
       " ('L-198', 'E-202'): 4,\n",
       " ('L-198', 'G-239'): 1,\n",
       " ('L-198', 'I-206'): 1,\n",
       " ('L-198', 'I-321'): 3,\n",
       " ('L-209', 'D-240'): 1,\n",
       " ('L-209', 'F-241'): 1,\n",
       " ('L-209', 'I-319'): 5,\n",
       " ('L-209', 'R-292'): 4,\n",
       " ('L-209', 'S-212'): 1,\n",
       " ('L-209', 'V-243'): 1,\n",
       " ('L-261', 'C-283'): 2,\n",
       " ('L-261', 'D-265'): 4,\n",
       " ('L-261', 'M-272'): 1,\n",
       " ('L-261', 'Q-264'): 2,\n",
       " ('L-261', 'T-281'): 1,\n",
       " ('L-278', 'W-349'): 1,\n",
       " ('L-309', 'R-339'): 3,\n",
       " ('L-318', 'R-339'): 4,\n",
       " ('M-218', 'K-234'): 1,\n",
       " ('M-218', 'L-296'): 1,\n",
       " ('M-218', 'V-242'): 1,\n",
       " ('M-272', 'H-347'): 2,\n",
       " ('M-272', 'R-339'): 5,\n",
       " ('M-272', 'S-340'): 2,\n",
       " ('M-272', 'Y-334'): 1,\n",
       " ('M-272', 'Y-336'): 5,\n",
       " ('N-298', 'L-332'): 1,\n",
       " ('N-298', 'L-350'): 3,\n",
       " ('N-298', 'W-349'): 3,\n",
       " ('N-304', 'D-335'): 4,\n",
       " ('N-304', 'I-321'): 3,\n",
       " ('N-304', 'R-324'): 1,\n",
       " ('P-266', 'A-342'): 1,\n",
       " ('P-266', 'A-346'): 1,\n",
       " ('P-266', 'C-270'): 2,\n",
       " ('P-266', 'G-337'): 4,\n",
       " ('P-266', 'H-299'): 1,\n",
       " ('P-266', 'K-351'): 1,\n",
       " ('P-266', 'L-350'): 2,\n",
       " ('P-266', 'P-348'): 2,\n",
       " ('P-266', 'R-339'): 3,\n",
       " ('P-266', 'S-340'): 3,\n",
       " ('P-266', 'S-343'): 1,\n",
       " ('P-266', 'Y-271'): 1,\n",
       " ('P-266', 'Y-334'): 4,\n",
       " ('P-266', 'Y-336'): 3,\n",
       " ('Q-199', 'D-207'): 1,\n",
       " ('Q-199', 'E-202'): 4,\n",
       " ('Q-199', 'I-206'): 1,\n",
       " ('Q-199', 'I-312'): 1,\n",
       " ('Q-199', 'L-309'): 5,\n",
       " ('Q-199', 'R-203'): 1,\n",
       " ('Q-264', 'C-270'): 4,\n",
       " ('Q-264', 'M-272'): 3,\n",
       " ('Q-264', 'P-348'): 1,\n",
       " ('Q-264', 'S-267'): 5,\n",
       " ('Q-264', 'T-268'): 1,\n",
       " ('Q-264', 'Y-271'): 3,\n",
       " ('Q-264', 'Y-273'): 2,\n",
       " ('Q-264', 'Y-336'): 2,\n",
       " ('Q-276', 'E-345'): 1,\n",
       " ('Q-276', 'K-341'): 1,\n",
       " ('Q-276', 'K-351'): 1,\n",
       " ('Q-276', 'P-348'): 1,\n",
       " ('Q-276', 'S-343'): 3,\n",
       " ('Q-306', 'A-322'): 1,\n",
       " ('Q-306', 'G-337'): 2,\n",
       " ('Q-306', 'I-319'): 1,\n",
       " ('R-192', 'D-207'): 3,\n",
       " ('R-192', 'D-240'): 1,\n",
       " ('R-192', 'D-311'): 2,\n",
       " ('R-192', 'D-313'): 3,\n",
       " ('R-192', 'D-325'): 2,\n",
       " ('R-192', 'E-202'): 2,\n",
       " ('R-192', 'E-208'): 1,\n",
       " ('R-192', 'E-211'): 4,\n",
       " ('R-192', 'R-203'): 1,\n",
       " ('R-203', 'D-207'): 7,\n",
       " ('R-203', 'D-240'): 5,\n",
       " ('R-203', 'D-311'): 10,\n",
       " ('R-203', 'D-313'): 5,\n",
       " ('R-203', 'E-211'): 16,\n",
       " ('R-203', 'I-206'): 5,\n",
       " ('R-203', 'L-209'): 2,\n",
       " ('R-203', 'L-309'): 3,\n",
       " ('R-203', 'Y-277'): 2,\n",
       " ('R-205', 'E-216'): 3,\n",
       " ('R-205', 'G-239'): 1,\n",
       " ('R-205', 'H-310'): 2,\n",
       " ('R-205', 'R-238'): 1,\n",
       " ('R-205', 'S-237'): 1,\n",
       " ('R-258', 'A-263'): 1,\n",
       " ('R-258', 'A-346'): 5,\n",
       " ('R-258', 'D-285'): 3,\n",
       " ('R-258', 'E-345'): 1,\n",
       " ('R-258', 'H-347'): 3,\n",
       " ('R-258', 'I-344'): 2,\n",
       " ('R-258', 'T-287'): 3,\n",
       " ('R-258', 'Y-262'): 4,\n",
       " ('R-258', 'Y-274'): 2,\n",
       " ('R-339', 'A-342'): 7,\n",
       " ('R-339', 'A-346'): 2,\n",
       " ('R-339', 'E-345'): 1,\n",
       " ('R-339', 'H-347'): 2,\n",
       " ('R-339', 'L-350'): 4,\n",
       " ('R-339', 'S-343'): 4,\n",
       " ('R-339', 'W-349'): 2,\n",
       " ('S-194', 'E-197'): 13,\n",
       " ('S-194', 'E-201'): 1,\n",
       " ('S-194', 'I-312'): 1,\n",
       " ('S-194', 'L-198'): 4,\n",
       " ('S-194', 'R-205'): 1,\n",
       " ('S-194', 'R-238'): 1,\n",
       " ('S-194', 'S-200'): 1,\n",
       " ('S-200', 'D-207'): 1,\n",
       " ('S-200', 'D-240'): 1,\n",
       " ('S-200', 'G-239'): 1,\n",
       " ('S-200', 'I-206'): 3,\n",
       " ('S-200', 'I-321'): 5,\n",
       " ('S-200', 'K-204'): 10,\n",
       " ('S-200', 'K-308'): 1,\n",
       " ('S-200', 'R-203'): 1,\n",
       " ('S-212', 'F-241'): 1,\n",
       " ('S-267', 'C-270'): 7,\n",
       " ('S-267', 'H-299'): 1,\n",
       " ('S-267', 'H-347'): 3,\n",
       " ('S-267', 'M-272'): 2,\n",
       " ('S-267', 'T-287'): 1,\n",
       " ('S-267', 'W-349'): 2,\n",
       " ('S-267', 'Y-271'): 2,\n",
       " ('S-267', 'Y-336'): 1,\n",
       " ('S-300', 'W-349'): 2,\n",
       " ('S-300', 'Y-336'): 5,\n",
       " ('S-340', 'H-347'): 1,\n",
       " ('S-340', 'I-344'): 3,\n",
       " ('S-340', 'S-343'): 9,\n",
       " ('S-340', 'W-349'): 1,\n",
       " ('S-343', 'A-346'): 1,\n",
       " ('S-343', 'H-347'): 1,\n",
       " ('S-343', 'L-350'): 4,\n",
       " ('T-253', 'K-257'): 1,\n",
       " ('T-253', 'P-348'): 4,\n",
       " ('T-253', 'S-279'): 7,\n",
       " ('T-268', 'I-297'): 8,\n",
       " ('T-268', 'L-296'): 1,\n",
       " ('T-268', 'M-272'): 3,\n",
       " ('T-268', 'R-295'): 2,\n",
       " ('T-268', 'R-339'): 2,\n",
       " ('T-268', 'T-287'): 2,\n",
       " ('T-268', 'W-349'): 1,\n",
       " ('T-268', 'Y-271'): 5,\n",
       " ('T-268', 'Y-274'): 1,\n",
       " ('T-268', 'Y-336'): 3,\n",
       " ('T-281', 'E-345'): 1,\n",
       " ('T-281', 'H-347'): 1,\n",
       " ('T-281', 'I-344'): 2,\n",
       " ('T-281', 'L-350'): 3,\n",
       " ('T-281', 'S-343'): 2,\n",
       " ('T-307', 'D-335'): 1,\n",
       " ('T-307', 'D-338'): 8,\n",
       " ('T-307', 'G-337'): 2,\n",
       " ('T-307', 'I-321'): 1,\n",
       " ('T-307', 'Y-334'): 1,\n",
       " ('T-307', 'Y-336'): 3,\n",
       " ('V-242', 'I-319'): 1,\n",
       " ('Y-245', 'C-270'): 3,\n",
       " ('Y-245', 'G-294'): 5,\n",
       " ('Y-245', 'H-317'): 1,\n",
       " ('Y-245', 'R-295'): 1,\n",
       " ('Y-245', 'R-339'): 1,\n",
       " ('Y-245', 'T-307'): 1,\n",
       " ('Y-245', 'Y-336'): 2,\n",
       " ('Y-262', 'A-342'): 1,\n",
       " ('Y-262', 'C-270'): 3,\n",
       " ('Y-262', 'D-265'): 2,\n",
       " ('Y-262', 'D-285'): 2,\n",
       " ('Y-262', 'E-345'): 1,\n",
       " ('Y-262', 'G-269'): 2,\n",
       " ('Y-262', 'I-344'): 2,\n",
       " ('Y-262', 'K-341'): 1,\n",
       " ('Y-262', 'L-350'): 2,\n",
       " ('Y-262', 'P-266'): 2,\n",
       " ('Y-262', 'P-348'): 1,\n",
       " ('Y-262', 'S-267'): 7,\n",
       " ('Y-262', 'S-340'): 4,\n",
       " ('Y-262', 'S-343'): 1,\n",
       " ('Y-262', 'T-268'): 1,\n",
       " ('Y-262', 'T-281'): 3,\n",
       " ('Y-262', 'T-287'): 1,\n",
       " ('Y-262', 'Y-271'): 3,\n",
       " ('Y-262', 'Y-274'): 1,\n",
       " ('Y-271', 'G-337'): 11,\n",
       " ('Y-271', 'H-347'): 4,\n",
       " ('Y-271', 'I-297'): 4,\n",
       " ('Y-271', 'L-296'): 5,\n",
       " ('Y-271', 'R-295'): 1,\n",
       " ('Y-271', 'R-339'): 9,\n",
       " ('Y-271', 'S-340'): 6,\n",
       " ('Y-271', 'T-287'): 3,\n",
       " ('Y-271', 'W-349'): 4,\n",
       " ('Y-271', 'Y-334'): 1,\n",
       " ('Y-271', 'Y-336'): 3,\n",
       " ('Y-273', 'A-286'): 1,\n",
       " ('Y-273', 'A-342'): 5,\n",
       " ('Y-273', 'D-285'): 1,\n",
       " ('Y-273', 'D-335'): 1,\n",
       " ('Y-273', 'D-338'): 5,\n",
       " ('Y-273', 'G-337'): 2,\n",
       " ('Y-273', 'H-299'): 3,\n",
       " ('Y-273', 'H-347'): 4,\n",
       " ('Y-273', 'K-308'): 3,\n",
       " ('Y-273', 'L-309'): 3,\n",
       " ('Y-273', 'S-340'): 1,\n",
       " ('Y-273', 'S-343'): 3,\n",
       " ('Y-273', 'W-349'): 2,\n",
       " ('Y-273', 'Y-334'): 1,\n",
       " ('Y-273', 'Y-336'): 5,\n",
       " ('Y-274', 'A-346'): 1,\n",
       " ('Y-274', 'D-338'): 5,\n",
       " ('Y-274', 'H-347'): 3,\n",
       " ('Y-274', 'I-344'): 1,\n",
       " ('Y-274', 'K-341'): 1,\n",
       " ('Y-274', 'L-350'): 2,\n",
       " ('Y-274', 'P-348'): 1,\n",
       " ('Y-274', 'R-339'): 4,\n",
       " ('Y-274', 'S-340'): 3,\n",
       " ('Y-274', 'W-349'): 2,\n",
       " ('Y-274', 'Y-336'): 2,\n",
       " ('Y-277', 'D-311'): 1,\n",
       " ('Y-277', 'P-316'): 5,\n",
       " ('Y-282', 'L-309'): 3,\n",
       " ('Y-334', 'D-338'): 4,\n",
       " ('Y-334', 'G-337'): 2,\n",
       " ('Y-334', 'W-349'): 3,\n",
       " ('Y-336', 'H-347'): 1,\n",
       " ('Y-336', 'K-341'): 1,\n",
       " ('Y-336', 'L-350'): 6,\n",
       " ('Y-336', 'R-339'): 3,\n",
       " ('Y-336', 'S-340'): 7,\n",
       " ('Y-336', 'S-343'): 3,\n",
       " ('Y-336', 'W-349'): 5}"
      ]
     },
     "execution_count": 118,
     "metadata": {},
     "output_type": "execute_result"
    }
   ],
   "source": [
    "residue_pairs_dict"
   ]
  },
  {
   "cell_type": "code",
   "execution_count": 121,
   "metadata": {
    "collapsed": false
   },
   "outputs": [
    {
     "data": {
      "text/plain": [
       "[(('D-311', 'V-315'), 24),\n",
       " (('R-203', 'E-211'), 16),\n",
       " (('S-194', 'E-197'), 13),\n",
       " (('I-297', 'Y-336'), 12),\n",
       " (('I-210', 'I-319'), 11),\n",
       " (('Y-271', 'G-337'), 11),\n",
       " (('S-200', 'K-204'), 10),\n",
       " (('R-203', 'D-311'), 10),\n",
       " (('Y-271', 'R-339'), 9),\n",
       " (('S-340', 'S-343'), 9),\n",
       " (('F-275', 'Y-336'), 9),\n",
       " (('E-259', 'R-339'), 8),\n",
       " (('I-252', 'I-344'), 8),\n",
       " (('T-307', 'D-338'), 8),\n",
       " (('T-268', 'I-297'), 8),\n",
       " (('H-246', 'G-294'), 7),\n",
       " (('Y-262', 'S-267'), 7),\n",
       " (('T-253', 'S-279'), 7),\n",
       " (('Y-336', 'S-340'), 7),\n",
       " (('S-267', 'C-270'), 7),\n",
       " (('G-213', 'R-292'), 7),\n",
       " (('R-339', 'A-342'), 7),\n",
       " (('D-265', 'T-268'), 7),\n",
       " (('R-203', 'D-207'), 7),\n",
       " (('C-270', 'S-340'), 7),\n",
       " (('I-252', 'L-261'), 6),\n",
       " (('G-269', 'Y-273'), 6),\n",
       " (('F-275', 'A-346'), 6),\n",
       " (('G-247', 'E-289'), 6),\n",
       " (('A-255', 'R-258'), 6),\n",
       " (('Y-271', 'S-340'), 6),\n",
       " (('A-255', 'E-259'), 6),\n",
       " (('H-299', 'D-338'), 6),\n",
       " (('I-206', 'F-241'), 6),\n",
       " (('D-338', 'A-342'), 6),\n",
       " (('Y-336', 'L-350'), 6),\n",
       " (('E-251', 'A-255'), 6),\n",
       " (('C-270', 'Y-336'), 6),\n",
       " (('F-275', 'P-316'), 6),\n",
       " (('F-275', 'S-340'), 6),\n",
       " (('H-299', 'I-344'), 5),\n",
       " (('Q-199', 'L-309'), 5),\n",
       " (('M-272', 'Y-336'), 5),\n",
       " (('E-289', 'R-292'), 5),\n",
       " (('Y-273', 'D-338'), 5),\n",
       " (('H-246', 'E-289'), 5),\n",
       " (('R-203', 'I-206'), 5),\n",
       " (('R-203', 'D-240'), 5),\n",
       " (('E-202', 'I-206'), 5),\n",
       " (('Y-271', 'L-296'), 5),\n",
       " (('E-201', 'R-205'), 5),\n",
       " (('M-272', 'R-339'), 5),\n",
       " (('Y-277', 'P-316'), 5),\n",
       " (('Y-273', 'Y-336'), 5),\n",
       " (('D-254', 'K-257'), 5),\n",
       " (('D-265', 'Y-274'), 5),\n",
       " (('D-335', 'R-339'), 5),\n",
       " (('L-209', 'I-319'), 5),\n",
       " (('A-263', 'A-346'), 5),\n",
       " (('S-300', 'Y-336'), 5),\n",
       " (('H-347', 'L-350'), 5),\n",
       " (('R-203', 'D-313'), 5),\n",
       " (('Q-264', 'S-267'), 5),\n",
       " (('D-265', 'R-339'), 5),\n",
       " (('Y-273', 'A-342'), 5),\n",
       " (('Y-274', 'D-338'), 5),\n",
       " (('F-275', 'A-342'), 5),\n",
       " (('T-268', 'Y-271'), 5),\n",
       " (('Y-245', 'G-294'), 5),\n",
       " (('E-215', 'R-292'), 5),\n",
       " (('R-258', 'A-346'), 5),\n",
       " (('G-213', 'E-216'), 5),\n",
       " (('S-200', 'I-321'), 5),\n",
       " (('Y-336', 'W-349'), 5),\n",
       " (('N-304', 'D-335'), 4),\n",
       " (('A-263', 'G-269'), 4),\n",
       " (('R-258', 'Y-262'), 4),\n",
       " (('L-198', 'E-202'), 4),\n",
       " (('A-255', 'W-349'), 4),\n",
       " (('R-192', 'E-211'), 4),\n",
       " (('K-195', 'H-310'), 4),\n",
       " (('R-339', 'L-350'), 4),\n",
       " (('Y-271', 'W-349'), 4),\n",
       " (('P-266', 'G-337'), 4),\n",
       " (('C-270', 'R-339'), 4),\n",
       " (('S-194', 'L-198'), 4),\n",
       " (('Y-262', 'S-340'), 4),\n",
       " (('P-266', 'Y-334'), 4),\n",
       " (('R-339', 'S-343'), 4),\n",
       " (('A-255', 'Y-274'), 4),\n",
       " (('A-196', 'R-205'), 4),\n",
       " (('H-246', 'T-290'), 4),\n",
       " (('L-261', 'D-265'), 4),\n",
       " (('S-343', 'L-350'), 4),\n",
       " (('Q-264', 'C-270'), 4),\n",
       " (('G-213', 'F-241'), 4),\n",
       " (('F-275', 'T-307'), 4),\n",
       " (('L-209', 'R-292'), 4),\n",
       " (('I-252', 'W-349'), 4),\n",
       " (('E-259', 'K-341'), 4),\n",
       " (('L-318', 'R-339'), 4),\n",
       " (('Y-271', 'H-347'), 4),\n",
       " (('T-253', 'P-348'), 4),\n",
       " (('E-251', 'D-254'), 4),\n",
       " (('Y-334', 'D-338'), 4),\n",
       " (('I-344', 'K-351'), 4),\n",
       " (('G-269', 'R-339'), 4),\n",
       " (('D-338', 'S-343'), 4),\n",
       " (('G-269', 'N-298'), 4),\n",
       " (('I-210', 'H-246'), 4),\n",
       " (('A-263', 'M-272'), 4),\n",
       " (('H-299', 'H-347'), 4),\n",
       " (('Y-273', 'H-347'), 4),\n",
       " (('Y-271', 'I-297'), 4),\n",
       " (('Q-199', 'E-202'), 4),\n",
       " (('G-269', 'L-296'), 4),\n",
       " (('G-269', 'T-287'), 4),\n",
       " (('Y-274', 'R-339'), 4),\n",
       " (('S-267', 'H-347'), 3),\n",
       " (('Y-274', 'H-347'), 3),\n",
       " (('L-309', 'R-339'), 3),\n",
       " (('G-269', 'M-272'), 3),\n",
       " (('N-304', 'I-321'), 3),\n",
       " (('E-202', 'R-205'), 3),\n",
       " (('R-258', 'T-287'), 3),\n",
       " (('Y-245', 'C-270'), 3),\n",
       " (('P-266', 'Y-336'), 3),\n",
       " (('D-265', 'K-341'), 3),\n",
       " (('K-195', 'L-209'), 3),\n",
       " (('T-268', 'Y-336'), 3),\n",
       " (('Y-262', 'T-281'), 3),\n",
       " (('S-340', 'I-344'), 3),\n",
       " (('E-202', 'I-321'), 3),\n",
       " (('Y-273', 'L-309'), 3),\n",
       " (('T-268', 'M-272'), 3),\n",
       " (('P-266', 'S-340'), 3),\n",
       " (('Y-273', 'K-308'), 3),\n",
       " (('N-298', 'W-349'), 3),\n",
       " (('Y-271', 'T-287'), 3),\n",
       " (('N-298', 'L-350'), 3),\n",
       " (('Y-273', 'S-343'), 3),\n",
       " (('G-269', 'S-343'), 3),\n",
       " (('Y-262', 'Y-271'), 3),\n",
       " (('A-346', 'L-350'), 3),\n",
       " (('K-256', 'A-346'), 3),\n",
       " (('Q-264', 'Y-271'), 3),\n",
       " (('P-266', 'R-339'), 3),\n",
       " (('R-192', 'D-207'), 3),\n",
       " (('D-265', 'S-340'), 3),\n",
       " (('R-258', 'H-347'), 3),\n",
       " (('T-307', 'Y-336'), 3),\n",
       " (('C-270', 'W-349'), 3),\n",
       " (('Y-273', 'H-299'), 3),\n",
       " (('D-335', 'D-338'), 3),\n",
       " (('Q-276', 'S-343'), 3),\n",
       " (('R-192', 'D-313'), 3),\n",
       " (('I-252', 'Y-262'), 3),\n",
       " (('H-299', 'R-339'), 3),\n",
       " (('Y-282', 'L-309'), 3),\n",
       " (('Y-262', 'C-270'), 3),\n",
       " (('Y-274', 'S-340'), 3),\n",
       " (('Y-271', 'Y-336'), 3),\n",
       " (('Y-334', 'W-349'), 3),\n",
       " (('I-252', 'A-346'), 3),\n",
       " (('E-215', 'H-246'), 3),\n",
       " (('Y-336', 'S-343'), 3),\n",
       " (('L-198', 'I-321'), 3),\n",
       " (('D-254', 'R-258'), 3),\n",
       " (('C-305', 'D-335'), 3),\n",
       " (('S-200', 'I-206'), 3),\n",
       " (('E-197', 'R-205'), 3),\n",
       " (('R-205', 'E-216'), 3),\n",
       " (('F-275', 'R-339'), 3),\n",
       " (('E-215', 'G-294'), 3),\n",
       " (('C-270', 'Y-273'), 3),\n",
       " (('Q-264', 'M-272'), 3),\n",
       " (('Y-336', 'R-339'), 3),\n",
       " (('D-285', 'R-295'), 3),\n",
       " (('F-275', 'W-349'), 3),\n",
       " (('C-270', 'Y-334'), 3),\n",
       " (('K-193', 'E-201'), 3),\n",
       " (('G-337', 'K-341'), 3),\n",
       " (('T-281', 'L-350'), 3),\n",
       " (('R-258', 'D-285'), 3),\n",
       " (('C-270', 'S-343'), 3),\n",
       " (('R-203', 'L-309'), 3),\n",
       " (('D-207', 'H-310'), 3),\n",
       " (('F-241', 'A-322'), 2),\n",
       " (('E-345', 'L-350'), 2),\n",
       " (('R-339', 'W-349'), 2),\n",
       " (('I-206', 'I-210'), 2),\n",
       " (('M-272', 'H-347'), 2),\n",
       " (('E-201', 'K-204'), 2),\n",
       " (('I-210', 'R-292'), 2),\n",
       " (('R-339', 'A-346'), 2),\n",
       " (('P-266', 'C-270'), 2),\n",
       " (('G-269', 'W-349'), 2),\n",
       " (('D-338', 'I-344'), 2),\n",
       " (('H-246', 'R-295'), 2),\n",
       " (('G-269', 'A-286'), 2),\n",
       " (('A-342', 'A-346'), 2),\n",
       " (('A-263', 'W-349'), 2),\n",
       " (('C-270', 'P-348'), 2),\n",
       " (('T-268', 'R-295'), 2),\n",
       " (('R-192', 'E-202'), 2),\n",
       " (('Y-274', 'Y-336'), 2),\n",
       " (('R-339', 'H-347'), 2),\n",
       " (('Q-306', 'G-337'), 2),\n",
       " (('R-258', 'I-344'), 2),\n",
       " (('K-193', 'L-198'), 2),\n",
       " (('K-341', 'E-345'), 2),\n",
       " (('F-275', 'S-343'), 2),\n",
       " (('Y-262', 'G-269'), 2),\n",
       " (('P-266', 'P-348'), 2),\n",
       " (('K-193', 'D-240'), 2),\n",
       " (('A-263', 'H-347'), 2),\n",
       " (('S-300', 'W-349'), 2),\n",
       " (('Y-262', 'I-344'), 2),\n",
       " (('I-252', 'S-343'), 2),\n",
       " (('T-307', 'G-337'), 2),\n",
       " (('I-206', 'E-244'), 2),\n",
       " (('Y-262', 'L-350'), 2),\n",
       " (('I-206', 'D-240'), 2),\n",
       " (('I-252', 'E-345'), 2),\n",
       " (('I-344', 'L-350'), 2),\n",
       " (('R-258', 'Y-274'), 2),\n",
       " (('S-267', 'M-272'), 2),\n",
       " (('F-275', 'I-344'), 2),\n",
       " (('G-303', 'Y-336'), 2),\n",
       " (('L-261', 'C-283'), 2),\n",
       " (('Y-245', 'Y-336'), 2),\n",
       " (('R-203', 'L-209'), 2),\n",
       " (('K-193', 'E-211'), 2),\n",
       " (('R-192', 'D-325'), 2),\n",
       " (('Y-262', 'P-266'), 2),\n",
       " (('L-198', 'E-201'), 2),\n",
       " (('I-252', 'H-347'), 2),\n",
       " (('K-308', 'D-338'), 2),\n",
       " (('G-337', 'S-340'), 2),\n",
       " (('R-205', 'H-310'), 2),\n",
       " (('L-261', 'Q-264'), 2),\n",
       " (('D-207', 'E-211'), 2),\n",
       " (('K-204', 'H-310'), 2),\n",
       " (('Q-264', 'Y-336'), 2),\n",
       " (('H-299', 'G-337'), 2),\n",
       " (('T-268', 'T-287'), 2),\n",
       " (('K-204', 'D-240'), 2),\n",
       " (('Y-274', 'L-350'), 2),\n",
       " (('R-203', 'Y-277'), 2),\n",
       " (('E-259', 'A-263'), 2),\n",
       " (('C-270', 'I-297'), 2),\n",
       " (('S-267', 'W-349'), 2),\n",
       " (('D-338', 'L-350'), 2),\n",
       " (('Y-262', 'D-265'), 2),\n",
       " (('E-202', 'D-207'), 2),\n",
       " (('R-192', 'D-311'), 2),\n",
       " (('T-268', 'R-339'), 2),\n",
       " (('C-270', 'N-298'), 2),\n",
       " (('Q-264', 'Y-273'), 2),\n",
       " (('C-270', 'A-346'), 2),\n",
       " (('E-259', 'P-348'), 2),\n",
       " (('T-281', 'I-344'), 2),\n",
       " (('E-197', 'S-200'), 2),\n",
       " (('Y-274', 'W-349'), 2),\n",
       " (('P-266', 'L-350'), 2),\n",
       " (('E-251', 'K-257'), 2),\n",
       " (('Y-273', 'G-337'), 2),\n",
       " (('Y-262', 'D-285'), 2),\n",
       " (('A-263', 'P-266'), 2),\n",
       " (('F-275', 'H-347'), 2),\n",
       " (('Y-273', 'W-349'), 2),\n",
       " (('D-265', 'S-343'), 2),\n",
       " (('A-286', 'R-295'), 2),\n",
       " (('S-267', 'Y-271'), 2),\n",
       " (('H-246', 'L-318'), 2),\n",
       " (('Y-334', 'G-337'), 2),\n",
       " (('I-210', 'H-317'), 2),\n",
       " (('T-281', 'S-343'), 2),\n",
       " (('M-272', 'S-340'), 2),\n",
       " (('K-204', 'D-207'), 2),\n",
       " (('I-344', 'W-349'), 2),\n",
       " (('E-197', 'R-203'), 2),\n",
       " (('A-260', 'A-263'), 2),\n",
       " (('E-202', 'K-308'), 1),\n",
       " (('N-298', 'L-332'), 1),\n",
       " (('Y-245', 'R-295'), 1),\n",
       " (('Y-274', 'P-348'), 1),\n",
       " (('N-304', 'R-324'), 1),\n",
       " (('K-256', 'S-343'), 1),\n",
       " (('E-202', 'H-310'), 1),\n",
       " (('K-193', 'R-205'), 1),\n",
       " (('K-256', 'E-345'), 1),\n",
       " (('Y-336', 'K-341'), 1),\n",
       " (('E-345', 'P-348'), 1),\n",
       " (('H-299', 'L-350'), 1),\n",
       " (('D-265', 'G-269'), 1),\n",
       " (('S-194', 'S-200'), 1),\n",
       " (('M-218', 'L-296'), 1),\n",
       " (('Q-306', 'I-319'), 1),\n",
       " (('K-256', 'I-344'), 1),\n",
       " (('K-219', 'G-229'), 1),\n",
       " (('G-269', 'Y-336'), 1),\n",
       " (('T-307', 'D-335'), 1),\n",
       " (('I-206', 'I-312'), 1),\n",
       " (('T-281', 'E-345'), 1),\n",
       " (('S-200', 'D-240'), 1),\n",
       " (('V-242', 'I-319'), 1),\n",
       " (('Y-271', 'R-295'), 1),\n",
       " (('Y-273', 'D-285'), 1),\n",
       " (('E-215', 'V-243'), 1),\n",
       " (('G-247', 'R-295'), 1),\n",
       " (('L-198', 'G-239'), 1),\n",
       " (('K-193', 'D-311'), 1),\n",
       " (('G-294', 'Y-334'), 1),\n",
       " (('D-265', 'Y-271'), 1),\n",
       " (('Q-276', 'E-345'), 1),\n",
       " (('E-202', 'G-239'), 1),\n",
       " (('Q-276', 'K-341'), 1),\n",
       " (('P-266', 'A-342'), 1),\n",
       " (('S-343', 'H-347'), 1),\n",
       " (('Y-274', 'K-341'), 1),\n",
       " (('E-202', 'F-241'), 1),\n",
       " (('S-194', 'I-312'), 1),\n",
       " (('I-252', 'A-255'), 1),\n",
       " (('S-200', 'G-239'), 1),\n",
       " (('R-258', 'A-263'), 1),\n",
       " (('S-212', 'F-241'), 1),\n",
       " (('Y-274', 'I-344'), 1),\n",
       " (('D-265', 'C-270'), 1),\n",
       " (('D-207', 'I-312'), 1),\n",
       " (('T-268', 'Y-274'), 1),\n",
       " (('G-247', 'V-284'), 1),\n",
       " (('I-210', 'E-244'), 1),\n",
       " (('K-195', 'S-237'), 1),\n",
       " (('Q-264', 'P-348'), 1),\n",
       " (('A-196', 'E-201'), 1),\n",
       " (('P-266', 'H-299'), 1),\n",
       " (('E-289', 'R-295'), 1),\n",
       " (('R-205', 'G-239'), 1),\n",
       " (('K-204', 'E-208'), 1),\n",
       " (('L-278', 'W-349'), 1),\n",
       " (('Y-245', 'R-339'), 1),\n",
       " (('Y-273', 'A-286'), 1),\n",
       " (('G-247', 'D-285'), 1),\n",
       " (('P-266', 'S-343'), 1),\n",
       " (('G-247', 'A-286'), 1),\n",
       " (('E-259', 'L-350'), 1),\n",
       " (('S-267', 'H-299'), 1),\n",
       " (('T-281', 'H-347'), 1),\n",
       " (('P-266', 'K-351'), 1),\n",
       " (('E-197', 'K-308'), 1),\n",
       " (('Y-274', 'A-346'), 1),\n",
       " (('Y-262', 'A-342'), 1),\n",
       " (('Y-271', 'Y-334'), 1),\n",
       " (('Y-273', 'Y-334'), 1),\n",
       " (('S-194', 'E-201'), 1),\n",
       " (('S-200', 'R-203'), 1),\n",
       " (('S-194', 'R-205'), 1),\n",
       " (('T-268', 'L-296'), 1),\n",
       " (('Y-262', 'T-287'), 1),\n",
       " (('E-201', 'K-308'), 1),\n",
       " (('Q-199', 'R-203'), 1),\n",
       " (('R-205', 'S-237'), 1),\n",
       " (('L-209', 'D-240'), 1),\n",
       " (('Q-276', 'P-348'), 1),\n",
       " (('Q-199', 'D-207'), 1),\n",
       " (('E-215', 'N-291'), 1),\n",
       " (('Q-199', 'I-312'), 1),\n",
       " (('Y-262', 'P-348'), 1),\n",
       " (('L-261', 'M-272'), 1),\n",
       " (('S-343', 'A-346'), 1),\n",
       " (('C-305', 'R-324'), 1),\n",
       " (('S-200', 'D-207'), 1),\n",
       " (('I-210', 'H-310'), 1),\n",
       " (('G-229', 'I-297'), 1),\n",
       " (('R-205', 'R-238'), 1),\n",
       " (('M-272', 'Y-334'), 1),\n",
       " (('P-266', 'Y-271'), 1),\n",
       " (('L-209', 'S-212'), 1),\n",
       " (('C-270', 'A-286'), 1),\n",
       " (('R-192', 'E-208'), 1),\n",
       " (('K-195', 'L-198'), 1),\n",
       " (('D-265', 'W-349'), 1),\n",
       " (('I-206', 'I-319'), 1),\n",
       " (('Q-306', 'A-322'), 1),\n",
       " (('Q-276', 'K-351'), 1),\n",
       " (('E-202', 'D-240'), 1),\n",
       " (('Q-199', 'I-206'), 1),\n",
       " (('A-255', 'C-283'), 1),\n",
       " (('Y-245', 'T-307'), 1),\n",
       " (('E-259', 'C-270'), 1),\n",
       " (('G-227', 'S-267'), 1),\n",
       " (('E-197', 'E-201'), 1),\n",
       " (('K-341', 'I-344'), 1),\n",
       " (('R-339', 'E-345'), 1),\n",
       " (('S-194', 'R-238'), 1),\n",
       " (('S-340', 'H-347'), 1),\n",
       " (('D-265', 'Y-336'), 1),\n",
       " (('P-266', 'A-346'), 1),\n",
       " (('T-268', 'W-349'), 1),\n",
       " (('I-220', 'I-231'), 1),\n",
       " (('S-267', 'Y-336'), 1),\n",
       " (('Y-336', 'H-347'), 1),\n",
       " (('S-340', 'W-349'), 1),\n",
       " (('E-211', 'I-312'), 1),\n",
       " (('Y-262', 'Y-274'), 1),\n",
       " (('Y-273', 'D-335'), 1),\n",
       " (('E-197', 'R-238'), 1),\n",
       " (('Y-277', 'D-311'), 1),\n",
       " (('Y-273', 'S-340'), 1),\n",
       " (('L-198', 'I-206'), 1),\n",
       " (('L-198', 'D-207'), 1),\n",
       " (('I-252', 'K-257'), 1),\n",
       " (('M-218', 'K-234'), 1),\n",
       " (('I-252', 'P-348'), 1),\n",
       " (('H-299', 'D-335'), 1),\n",
       " (('I-210', 'I-312'), 1),\n",
       " (('Q-264', 'T-268'), 1),\n",
       " (('K-256', 'A-260'), 1),\n",
       " (('T-307', 'I-321'), 1),\n",
       " (('I-210', 'G-213'), 1),\n",
       " (('K-214', 'F-241'), 1),\n",
       " (('E-201', 'I-206'), 1),\n",
       " (('L-209', 'V-243'), 1),\n",
       " (('R-192', 'R-203'), 1),\n",
       " (('A-286', 'E-289'), 1),\n",
       " (('A-342', 'L-350'), 1),\n",
       " (('L-198', 'D-240'), 1),\n",
       " (('G-269', 'Y-334'), 1),\n",
       " (('L-261', 'T-281'), 1),\n",
       " (('Y-262', 'E-345'), 1),\n",
       " (('A-263', 'T-287'), 1),\n",
       " (('T-307', 'Y-334'), 1),\n",
       " (('Y-245', 'H-317'), 1),\n",
       " (('M-218', 'V-242'), 1),\n",
       " (('G-247', 'L-318'), 1),\n",
       " (('S-200', 'K-308'), 1),\n",
       " (('L-209', 'F-241'), 1),\n",
       " (('K-195', 'D-240'), 1),\n",
       " (('E-259', 'A-346'), 1),\n",
       " (('K-193', 'S-237'), 1),\n",
       " (('S-267', 'T-287'), 1),\n",
       " (('Y-262', 'S-343'), 1),\n",
       " (('Y-262', 'K-341'), 1),\n",
       " (('R-192', 'D-240'), 1),\n",
       " (('A-346', 'W-349'), 1),\n",
       " (('T-253', 'K-257'), 1),\n",
       " (('Y-262', 'T-268'), 1),\n",
       " (('R-258', 'E-345'), 1)]"
      ]
     },
     "execution_count": 121,
     "metadata": {},
     "output_type": "execute_result"
    }
   ],
   "source": [
    "sorted(residue_pairs_dict.items(), key = lambda x: x[1], reverse=True)"
   ]
  },
  {
   "cell_type": "code",
   "execution_count": 122,
   "metadata": {
    "collapsed": false
   },
   "outputs": [
    {
     "data": {
      "text/plain": [
       "449"
      ]
     },
     "execution_count": 122,
     "metadata": {},
     "output_type": "execute_result"
    }
   ],
   "source": [
    "len(sorted(residue_pairs_dict.items(), key = lambda x: x[1], reverse=True))"
   ]
  },
  {
   "cell_type": "code",
   "execution_count": 123,
   "metadata": {
    "collapsed": true
   },
   "outputs": [],
   "source": [
    "# now rank individual residues"
   ]
  },
  {
   "cell_type": "code",
   "execution_count": 124,
   "metadata": {
    "collapsed": true
   },
   "outputs": [],
   "source": [
    "residue_pairs = []\n",
    "residue_pairs_dict = dict()\n",
    "residue_dict = dict()\n",
    "\n",
    "for j in range(50):\n",
    "    residue_pairs.append([])\n",
    "    tic = j\n",
    "    \n",
    "    for i in range(1000):\n",
    "        if sparse_eigenv[tic, i] != 0:\n",
    "            res1 = distances[i,0]\n",
    "            res2 = distances[i,1]\n",
    "            residue_pairs[-1].append(('%s-%d' % (sequence[res1], res1+191), '%s-%d' % (sequence[res2], res2+191), sparse_eigenv[tic, i]))\n",
    "            tuple_ = ('%s-%d' % (sequence[res1], res1+191), '%s-%d' % (sequence[res2], res2+191))\n",
    "            if tuple_ in residue_pairs_dict:\n",
    "                residue_pairs_dict[tuple_] += 1\n",
    "            else:\n",
    "                residue_pairs_dict[tuple_] = 1\n",
    "            res1_string = '%s-%d' % (sequence[res1], res1+191)\n",
    "            res2_string = '%s-%d' % (sequence[res2], res2+191)\n",
    "            if res1_string in residue_dict:\n",
    "                residue_dict[res1_string] += 1\n",
    "            else:\n",
    "                residue_dict[res1_string] = 1\n",
    "            if res2_string in residue_dict:\n",
    "                residue_dict[res2_string] += 1\n",
    "            else:\n",
    "                residue_dict[res2_string] = 1    "
   ]
  },
  {
   "cell_type": "code",
   "execution_count": 125,
   "metadata": {
    "collapsed": false
   },
   "outputs": [
    {
     "data": {
      "text/plain": [
       "[('Y-336', 91),\n",
       " ('R-339', 88),\n",
       " ('Y-271', 66),\n",
       " ('R-203', 60),\n",
       " ('C-270', 59),\n",
       " ('S-340', 58),\n",
       " ('Y-273', 51),\n",
       " ('W-349', 50),\n",
       " ('S-343', 49),\n",
       " ('F-275', 48),\n",
       " ('D-338', 47),\n",
       " ('Y-262', 47),\n",
       " ('L-350', 43),\n",
       " ('G-269', 41),\n",
       " ('H-347', 40),\n",
       " ('Y-274', 38),\n",
       " ('D-311', 38),\n",
       " ('I-344', 37),\n",
       " ('T-268', 37),\n",
       " ('D-265', 36),\n",
       " ('A-346', 36),\n",
       " ('I-252', 33),\n",
       " ('P-266', 33),\n",
       " ('R-258', 33),\n",
       " ('S-267', 32),\n",
       " ('M-272', 31),\n",
       " ('G-337', 30),\n",
       " ('I-206', 30),\n",
       " ('A-342', 28),\n",
       " ('A-255', 28),\n",
       " ('E-202', 28),\n",
       " ('I-297', 27),\n",
       " ('H-299', 27),\n",
       " ('H-246', 27),\n",
       " ('S-200', 26),\n",
       " ('I-210', 25),\n",
       " ('E-211', 25),\n",
       " ('A-263', 25),\n",
       " ('R-205', 25),\n",
       " ('E-259', 25),\n",
       " ('V-315', 24),\n",
       " ('D-207', 23),\n",
       " ('Q-264', 23),\n",
       " ('E-197', 23),\n",
       " ('R-292', 23),\n",
       " ('S-194', 22),\n",
       " ('Y-334', 22),\n",
       " ('T-307', 21),\n",
       " ('L-198', 20),\n",
       " ('I-319', 19),\n",
       " ('K-204', 19),\n",
       " ('R-192', 19),\n",
       " ('D-335', 18),\n",
       " ('E-289', 18),\n",
       " ('L-209', 18),\n",
       " ('K-341', 17),\n",
       " ('G-213', 17),\n",
       " ('L-309', 17),\n",
       " ('D-240', 17),\n",
       " ('E-201', 17),\n",
       " ('G-294', 16),\n",
       " ('P-348', 16),\n",
       " ('F-241', 16),\n",
       " ('L-261', 16),\n",
       " ('T-287', 15),\n",
       " ('I-321', 15),\n",
       " ('Y-245', 14),\n",
       " ('R-295', 13),\n",
       " ('T-281', 13),\n",
       " ('H-310', 13),\n",
       " ('N-298', 13),\n",
       " ('E-345', 13),\n",
       " ('E-215', 13),\n",
       " ('Q-199', 13),\n",
       " ('T-253', 12),\n",
       " ('K-193', 12),\n",
       " ('E-251', 12),\n",
       " ('D-254', 12),\n",
       " ('L-296', 11),\n",
       " ('G-247', 11),\n",
       " ('P-316', 11),\n",
       " ('K-195', 10),\n",
       " ('D-285', 10),\n",
       " ('K-257', 9),\n",
       " ('K-308', 9),\n",
       " ('Y-277', 8),\n",
       " ('N-304', 8),\n",
       " ('A-286', 8),\n",
       " ('E-216', 8),\n",
       " ('D-313', 8),\n",
       " ('S-300', 7),\n",
       " ('L-318', 7),\n",
       " ('K-256', 7),\n",
       " ('S-279', 7),\n",
       " ('Q-276', 7),\n",
       " ('I-312', 6),\n",
       " ('K-351', 6),\n",
       " ('A-196', 5),\n",
       " ('G-239', 4),\n",
       " ('Q-306', 4),\n",
       " ('C-305', 4),\n",
       " ('T-290', 4),\n",
       " ('R-238', 3),\n",
       " ('C-283', 3),\n",
       " ('Y-282', 3),\n",
       " ('S-237', 3),\n",
       " ('A-322', 3),\n",
       " ('A-260', 3),\n",
       " ('M-218', 3),\n",
       " ('E-244', 3),\n",
       " ('H-317', 3),\n",
       " ('R-324', 2),\n",
       " ('S-212', 2),\n",
       " ('V-243', 2),\n",
       " ('G-303', 2),\n",
       " ('D-325', 2),\n",
       " ('E-208', 2),\n",
       " ('G-229', 2),\n",
       " ('V-242', 2),\n",
       " ('I-231', 1),\n",
       " ('K-219', 1),\n",
       " ('I-220', 1),\n",
       " ('L-278', 1),\n",
       " ('K-214', 1),\n",
       " ('V-284', 1),\n",
       " ('N-291', 1),\n",
       " ('K-234', 1),\n",
       " ('L-332', 1),\n",
       " ('G-227', 1)]"
      ]
     },
     "execution_count": 125,
     "metadata": {},
     "output_type": "execute_result"
    }
   ],
   "source": [
    "sorted(residue_dict.items(), key = lambda x: x[1], reverse=True)"
   ]
  },
  {
   "cell_type": "code",
   "execution_count": null,
   "metadata": {
    "collapsed": true
   },
   "outputs": [],
   "source": []
  }
 ],
 "metadata": {
  "anaconda-cloud": {},
  "kernelspec": {
   "display_name": "Python [conda root]",
   "language": "python",
   "name": "conda-root-py"
  },
  "language_info": {
   "codemirror_mode": {
    "name": "ipython",
    "version": 3
   },
   "file_extension": ".py",
   "mimetype": "text/x-python",
   "name": "python",
   "nbconvert_exporter": "python",
   "pygments_lexer": "ipython3",
   "version": "3.5.2"
  }
 },
 "nbformat": 4,
 "nbformat_minor": 1
}
